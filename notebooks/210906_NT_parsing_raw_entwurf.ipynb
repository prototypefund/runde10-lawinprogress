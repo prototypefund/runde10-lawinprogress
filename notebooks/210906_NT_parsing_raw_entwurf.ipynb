{
 "cells": [
  {
   "cell_type": "code",
   "execution_count": 129,
   "id": "98f4b408-1142-413d-8f45-40de914a6db4",
   "metadata": {},
   "outputs": [],
   "source": [
    "import pdfplumber\n",
    "import regex as re\n",
    "import pyawk # so far not used\n",
    "import spacy\n",
    "import glob\n",
    "\n",
    "nlp = spacy.load(\"de_core_news_sm\")\n",
    "from typing import List, Tuple"
   ]
  },
  {
   "cell_type": "code",
   "execution_count": 594,
   "id": "87e2f780-8196-44ca-91d0-32cfbfa3e5b1",
   "metadata": {},
   "outputs": [],
   "source": [
    "pdfs = glob.glob(\"../data/*.pdf\")\n",
    "#print(pdfs)\n",
    "pdf_file = open(pdfs[4], 'rb')\n",
    "### imported pyawk but haven't set it up yet\n",
    "\n",
    "### Goal:\n",
    "# input: raw PDF of antwurf\n",
    "# output: list of (law title, change request text) pairs\n",
    "\n",
    "# next wishful steps:\n",
    "# Analyse entwurf patterns, common, less common etc.\n",
    "# API to grab law text using that damn title\n",
    "# API to grab entwurfs"
   ]
  },
  {
   "cell_type": "code",
   "execution_count": 595,
   "id": "5f0bcda4-cd0d-45e9-97d2-7cb44972489e",
   "metadata": {},
   "outputs": [],
   "source": [
    "def read_pdf_law(filename: str) -> str:\n",
    "    \"\"\"Get the raw text from the pdfs.\"\"\"\n",
    "    # read all pages from provided pdf\n",
    "    pdf_file_obj = pdfplumber.open(filename)\n",
    "\n",
    "    # join the pages \n",
    "    return \"\".join([page for page in [page.extract_text() for page in pdf_file_obj.pages] if page])\n",
    "\n",
    "change_law_raw = read_pdf_law(pdf_file)"
   ]
  },
  {
   "cell_type": "code",
   "execution_count": 596,
   "id": "96b98649-29bb-4c64-aa3d-4f16820e6207",
   "metadata": {},
   "outputs": [],
   "source": [
    "def extract_raw_proposal(text: str) -> str:\n",
    "    text = re.split('\\nArtikel 1.*?\\n', text ,maxsplit=1)[1].split('Begründung')[0]\n",
    "    return text\n",
    "\n",
    "change_law_extract = extract_raw_proposal(change_law_raw)"
   ]
  },
  {
   "cell_type": "code",
   "execution_count": 597,
   "id": "27c3f282-3ef1-454e-baf4-a801553523da",
   "metadata": {},
   "outputs": [
    {
     "name": "stdout",
     "output_type": "stream",
     "text": [
      "437 449.5\n"
     ]
    }
   ],
   "source": [
    "def extract_seperate_change_proposals(text: str) -> List[str]:\n",
    "    proposals = []\n",
    "    proposals.extend(re.split('Artikel\\s{1,2}([1-9]|[1-9][0-9]|100)\\s{0,2}\\n',text))\n",
    "    \n",
    "    artikels = re.findall('Artikel\\s{1,2}([1-9]|[1-9][0-9]|100)\\s{0,2}\\n',text)\n",
    "    artikels_int = [int(artikel) for artikel in artikels]\n",
    "    # compute the sum of the artikel numbers using the formula for an arithmetic series\n",
    "    # using only the first and last artikel numbers, and the length of the list\n",
    "    math_sum_artikels = len(artikels_int)*(artikels_int[0]+artikels_int[-1])/2\n",
    "    # compute the sum of the artikel numbers directly \n",
    "    raw_sum_artikels = sum(artikels_int)\n",
    "    \n",
    "    # uncomment next line to see if see if the next condition is met or not\n",
    "    ## print(int(raw_sum_artikels), int(math_sum_artikels))\n",
    "    \n",
    "    # if the direct sum is larger than the arithmetic series, then we had an artikel from some paragraph \n",
    "    # sneak into the titel list, by mentioned as \"Artikel [1-100]\" just before a line break :(((\n",
    "    # in this case we need to go through the list and check that the artikel numbers are regularly increasing by 1 \n",
    "    if int(raw_sum_artikels) != int(math_sum_artikels):\n",
    "        proposal_list = []\n",
    "        proposal_list.append(proposals[0])\n",
    "        artikel_number = 2\n",
    "        for prop_index, proposal in enumerate(proposals):\n",
    "            try: \n",
    "                if int(proposal) == artikel_number:\n",
    "                    artikel_number += artikel_number\n",
    "                    proposal_list.append(proposals[prop_index+1])\n",
    "            except:\n",
    "                pass\n",
    "    else:\n",
    "        proposal_list = proposals[0::2] # remove odd indexed items since they contain the artikel number only and we don't need it\n",
    "\n",
    "    return proposal_list\n",
    "\n",
    "proposals_list = extract_seperate_change_proposals(change_law_extract)"
   ]
  },
  {
   "cell_type": "code",
   "execution_count": 598,
   "id": "25fef662-8401-4502-b6c4-3aace392a8ae",
   "metadata": {},
   "outputs": [],
   "source": [
    "def extract_law_titles(props: List[str]) -> List[str]:\n",
    "    raw_titles_list = [list(nlp(proposal.replace('\\n',' ')).sents)[0].text for proposal in proposals_list]\n",
    "    titles_clean_par_sign = [re.split('§',title)[0] for title in raw_titles_list]\n",
    "    titles_clean_aenderung = []\n",
    "    for title in titles_clean_par_sign:\n",
    "        if re.search(r'Änderung \\b(de[rs])\\b ',title) is not None:\n",
    "            titles_clean_aenderung.append(re.split(r'Änderung \\b(de[rs])\\b ',title)[2].strip())\n",
    "        else:\n",
    "            titles_clean_aenderung.append(title.strip())\n",
    "    return titles_clean_aenderung\n",
    "law_titles = extract_law_titles(proposals_list)"
   ]
  },
  {
   "cell_type": "code",
   "execution_count": 599,
   "id": "ffb51832-8ae1-4029-ab89-41cd5b6f718d",
   "metadata": {},
   "outputs": [],
   "source": [
    "def remove_inkrafttreten(titles: List[str],props: List[str]) -> Tuple[List,List]:\n",
    "    if re.search('^Inkrafttreten', titles[-1]) is not None:\n",
    "        titles = titles[:-1]\n",
    "        props = props[:-1]\n",
    "\n",
    "    return titles, props\n",
    "\n",
    "law_titles,proposals_list = remove_inkrafttreten(law_titles,proposals_list)"
   ]
  },
  {
   "cell_type": "code",
   "execution_count": 600,
   "id": "b04ca743-8056-4547-991c-941387c8b046",
   "metadata": {},
   "outputs": [
    {
     "data": {
      "text/plain": [
       "(<_io.BufferedReader name='../data/0145-21.pdf'>,\n",
       " ['Zivilprozessordnung',\n",
       "  'Strafprozessordnung',\n",
       "  'Elektronischer-Rechtsverkehr-Verordnung',\n",
       "  'Arbeitsgerichtsgesetzes zum 1. Januar  2026',\n",
       "  'Finanzgerichtsordnung zum 1. Januar 2022'],\n",
       " ['Änderung der Zivilprozessordnung \\nDie Zivilprozessordnung in der Fassung der Bekanntmachung vom 5. Dezember 2005 \\n(BGBl. I S. 3202; 2006 I S. 431; 2007 I S. 1781), die zuletzt durch Artikel 8 des Gesetzes \\nvom 22. Dezember 2020 (BGBl. I S. 3320) geändert worden ist, wird wie folgt geändert: \\n1. Die Inhaltsübersicht wird wie folgt geändert:\\na) Der Angabe zu § 130a werden ein Semikolon und das Wort „Verordnungsermäch-\\ntigung“ angefügt.\\nb) Die Angaben zu den §§ 173 bis 176 werden wie folgt gefasst:\\n„§ 173 Zustellung elektronischer Dokumente\\n§174 Zustellung durch Aushändigung an der Amtsstelle\\n§175 Zustellung eines Schriftstücks gegen Empfangsbekenntnis\\n§176 Zustellung durch Einschreiben mit Rückschein; Zustellungsauftrag“.\\n2. § 130a wird wie folgt geändert:\\na) Der Überschrift werden ein Semikolon und das Wort „Verordnungsermächtigung“\\nangefügt.\\nb) Absatz 2 Satz 2 wird wie folgt gefasst:\\n„Die Bundesregierung bestimmt durch Rechtsverordnung mit Zustimmung des\\nBundesrates technische Rahmenbedingungen für die Übermittlung und Eignung\\nzur Bearbeitung durch das Gericht.“\\nc) Absatz 4 wird wie folgt geändert:\\naa) In Nummer 3 werden nach dem Wort „Gerichts“ das Semikolon und die Wörter\\n„das Nähere regelt die Verordnung nach Absatz 2 Satz 2“ gestrichen. \\nbb) Nach Nummer 3 werden die folgenden Nummern 4 und 5 eingefügt: \\n1) Notifiziert gemäß der Richtlinie (EU) 2015/1535 des Europäischen Parlaments und des Rates vom\\n9.September 2015 über ein Informationsverfahren auf dem Gebiet der technischen Vorschriften und\\nder Vorschriften für die Dienste der Informationsgesellschaft (ABl. L 241 vom 17.9.2015, S. 1).Drucksache 145/21 - 2 -\\n„ 4.  der Übermittlungsweg zwischen einem nach Durchführung eines Identi-\\nfizierungsverfahrens eingerichteten elektronischen Postfach einer natür-\\nlichen oder juristischen Person oder einer sonstigen Vereinigung und der \\nelektronischen Poststelle des Gerichts, \\n5. der Übermittlungsweg zwischen einem nach Durchführung eines Identi-\\nfizierungsverfahrens genutzten Postfach- und Versanddienst eines Nut-\\nzerkontos im Sinne des § 2 Absatz 5 des Onlinezugangsgesetzes und\\nder elektronischen Poststelle des Gerichts,“.\\ncc) Die bisherige Nummer 4 wird Nummer 6.\\ndd) Folgender Satz wird angefügt:\\n„Das Nähere zu den Übermittlungswegen gemäß Satz 1 Nummer 3 bis 5 re-\\ngelt die Rechtsverordnung nach Absatz 2 Satz 2.“\\nd) In Absatz 6 Satz 1 werden die Wörter „und auf die geltenden technischen Rah-\\nmenbedingungen“ gestrichen.\\n3. In § 168 Absatz 1 Satz 1 wird die Angabe „175“ durch die Angabe „176 Absatz 1“ er-\\nsetzt.\\n4. Nach § 172 wird folgender § 173 eingefügt:\\n„§ 173 \\nZustellung elektronischer Dokumente \\n(1) Ein elektronisches Dokument kann elektronisch nur auf einem sicheren Über-\\nmittlungsweg zugestellt werden. \\n(2) Einen sicheren Übermittlungsweg für die elektronische Zustellung eines elekt-\\nronischen Dokuments haben zu eröffnen: \\n1. Rechtsanwälte, Notare, Gerichtsvollzieher, Steuerberater sowie sonstige in pro-\\nfessioneller Eigenschaft am Prozess beteiligte Personen, Vereinigungen und Or-\\nganisationen, bei denen von einer erhöhten Zuverlässigkeit ausgegangen werden\\nkann, sowie\\n2. Behörden, Körperschaften oder Anstalten des öffentlichen Rechts.\\n(3) Die elektronische Zustellung an die in Absatz 2 Genannten wird durch ein\\nelektronisches Empfangsbekenntnis nachgewiesen, das an das Gericht zu übermitteln \\nist. Für die Übermittlung ist der vom Gericht mit der Zustellung zur Verfügung gestellte \\nstrukturierte Datensatz zu verwenden. Stellt das Gericht keinen strukturierten Daten-\\nsatz zur Verfügung, so ist dem Gericht das elektronische Empfangsbekenntnis als \\nelektronisches Dokument (§ 130a) zu übermitteln. \\n(4) An andere als die in Absatz 2 Genannten kann ein elektronisches Dokument\\nelektronisch nur zugestellt werden, wenn sie der Zustellung elektronischer Dokumente \\nfür das jeweilige Verfahren zugestimmt haben. Die Zustimmung gilt mit der Einreichung \\neines elektronischen Dokuments im jeweiligen Verfahren auf einem sicheren Übermitt-\\nlungsweg als erteilt. Andere als natürliche Personen können die Zustimmung auch all-\\ngemein erteilen. Ein elektronisches Dokument gilt am dritten Tag nach dem auf der \\nautomatisierten Eingangsbestätigung ausgewiesenen Tag des Eingangs in dem vom - 3 - Drucksache 145/21\\nEmpfänger eröffneten elektronischen Postfach als zugestellt. Satz 4 gilt nicht, wenn der \\nEmpfänger nachweist, dass das Dokument nicht oder zu einem späteren Zeitpunkt zu-\\ngegangen ist.“ \\n5. Der bisherige § 173 wird § 174.\\n6. Der bisherige § 174 wird aufgehoben.\\n7. Die §§ 175 und 176 werden wie folgt gefasst:\\n„§ 175 \\nZustellung eines Schriftstücks gegen Empfangsbekenntnis \\n(1) Ein Schriftstück kann den in § 173 Absatz 2 Genannten gegen Empfangsbe-\\nkenntnis zugestellt werden. \\n(2) Eine Zustellung gegen Empfangsbekenntnis kann auch durch Telekopie erfol-\\ngen. Die Übermittlung soll mit dem Hinweis „Zustellung gegen Empfangsbekenntnis“ \\neingeleitet werden und die absendende Stelle, den Namen und die Anschrift des Zu-\\nstellungsadressaten sowie den Namen des Justizbediensteten erkennen lassen, der \\ndas Dokument zur Übermittlung aufgegeben hat.  \\n(3) Die Zustellung nach den Absätzen 1 und 2 wird durch das mit Datum und\\nUnterschrift des Adressaten versehene Empfangsbekenntnis nachgewiesen. \\n(4) Das Empfangsbekenntnis muss schriftlich, durch Telekopie oder als elektroni-\\nsches Dokument (§ 130a) an das Gericht gesandt werden. \\n§ 176\\nZustellung durch Einschreiben mit Rückschein; Zustellungsauftrag \\n(1) Ein Schriftstück kann durch Einschreiben mit Rückschein zugestellt werden.\\nZum Nachweis der Zustellung genügt der Rückschein. \\n(2) Wird zur Zustellung eines Schriftstücks der Post, einem Justizbediensteten\\noder einem Gerichtsvollzieher ein Zustellungsauftrag erteilt oder wird eine andere Be-\\nhörde um die Ausführung der Zustellung ersucht, so übergibt die Geschäftsstelle das \\nzuzustellende Schriftstück in einem verschlossenen Umschlag und ein vorbereitetes \\nFormular einer Zustellungsurkunde. Die Ausführung der Zustellung erfolgt nach den \\n§§ 177 bis 181.“\\n8. § 183 wird wie folgt geändert:\\na) Absatz 2 Satz 2 wird wie folgt gefasst:\\n„Wenn Schriftstücke aufgrund solcher Vereinbarungen unmittelbar durch die Post\\nzugestellt werden dürfen, dann soll dies durch Einschreiben mit Rückschein oder\\nmittels eines gleichwertigen Nachweises bewirkt werden, anderenfalls soll die Zu-\\nstellung auf Ersuchen des Vorsitzenden des Prozessgerichts unmittelbar durch die\\nBehörden des fremden Staates erfolgen.“\\nb) In Absatz 5 Satz 1 werden nach dem Wort „Rückschein“ die Wörter „oder ein\\ngleichwertiger Nachweis“ eingefügt.Drucksache 145/21 - 4 -\\n9. § 195 wird wie folgt geändert:\\na) Absatz 1 Satz 5 wird wie folgt gefasst:\\n„Für die Zustellung von Anwalt zu Anwalt gelten § 173 Absatz 1 und § 175 Ab-\\nsatz 2 Satz 1 entsprechend.“\\nb) Absatz 2 wird wie folgt geändert:\\naa) Satz 1 wird wie folgt gefasst:\\n„Zum Nachweis der Zustellung eines Schriftstücks genügt das mit Datum und \\nUnterschrift versehene Empfangsbekenntnis desjenigen Anwalts, dem zuge-\\nstellt worden ist“. \\nbb) In Satz 2 werden die Wörter „§ 174 Absatz 4 Satz 2 bis 4“ durch die Angabe \\n„§ 175 Absatz 4“ ersetzt. \\ncc) Nach Satz 2 wird folgender Satz eingefügt:\\n„Die Zustellung eines elektronischen Dokuments ist durch ein elektronisches\\nEmpfangsbekenntnis in Form eines strukturierten Datensatzes nachzuwei-\\nsen.“\\n10. Dem § 278 Absatz 2 wird folgender Satz angefügt:\\n„§ 128a Absatz 1 und 3 gilt entsprechend.“\\n11. § 753 Absatz 4 Satz 4 wird wie folgt gefasst:\\n„Die nach Satz 1 elektronisch eingereichten Dokumente kann der Gerichtsvollzieher\\nelektronisch zustellen; § 173 ist entsprechend anzuwenden.“\\n',\n",
       "  'Änderung der Strafprozessordnung \\nDie Strafprozessordnung in der Fassung der Bekanntmachung vom 7. April 1987 \\n(BGBl. I S. 1074, 1319), die zuletzt durch … geändert worden ist, wird wie folgt geändert: \\n1. § 32a wird wie folgt geändert:\\na) Absatz 2 Satz 2 wird wie folgt gefasst:\\n„Die Bundesregierung bestimmt durch Rechtsverordnung mit Zustimmung des\\nBundesrates technische Rahmenbedingungen für die Übermittlung und Eignung\\nzur Bearbeitung durch die Strafverfolgungsbehörde oder das Gericht.“\\nb) Absatz 4 wird wie folgt geändert:\\naa) In Nummer 3 werden nach dem Wort „Gerichts“ das Semikolon und die Wörter\\n„das Nähere regelt die Verordnung nach Absatz 2 Satz 2“ gestrichen. \\nbb) Nach Nummer 3 werden die folgenden Nummern 4 und 5 eingefügt: - 5 - Drucksache 145/21\\n„ 4.  der Übermittlungsweg zwischen einem nach Durchführung eines Identi-\\nfizierungsverfahrens eingerichteten elektronischen Postfach einer natür-\\nlichen oder juristischen Person oder einer sonstigen Vereinigung und der \\nelektronischen Poststelle der Behörde oder des Gerichts, \\n5. der Übermittlungsweg zwischen einem nach Durchführung eines Identi-\\nfizierungsverfahrens genutzten Postfach- und Versanddienst eines Nut-\\nzerkontos im Sinne des § 2 Absatz 5 des Onlinezugangsgesetzes und\\nder elektronischen Poststelle der Behörde oder des Gerichts,“.\\ncc) Die bisherige Nummer 4 wird Nummer 6.\\ndd) Folgender Satz wird angefügt:\\n„Das Nähere zu den Übermittlungswegen gemäß Satz 1 Nummer 3 bis 5 re-\\ngelt die Rechtsverordnung nach Absatz 2 Satz 2.“\\nc) In Absatz 6 Satz 1 werden die Wörter „und auf die geltenden technischen Rah-\\nmenbedingungen“ gestrichen.\\n2. In § 111k Absatz 2 Satz 2 wird die Angabe „gilt § 174“ durch die Wörter „gelten die\\n§§ 173 und 175“ ersetzt.\\n',\n",
       "  'Änderung der Elektronischer-Rechtsverkehr-Verordnung \\nDie  Elektronischer-Rechtsverkehr-Verordnung  vom  24.  November  2017  (BGBl. I \\nS. 3803), die durch Artikel 1 der Verordnung vom 9. Februar 2018 (BGBl. I S. 200) geändert\\nworden ist, wird wie folgt geändert:\\n1. In § 1 Absatz 1 Satz 2 wird die Angabe „Kapitels 4“ durch „Kapitels 5“ ersetzt.\\n2. § 2 wird wie folgt geändert:\\na) In Absatz 1 Satz 1 werden die Wörter „in druckbarer, kopierbarer und, soweit tech-\\nnisch möglich, durchsuchbarer Form“ gestrichen.\\nb) Absatz 2 wird wie folgt gefasst:\\n„(2) Das elektronische Dokument soll den nach § 5 Absatz 1 Nummer 1 und 6 \\nbekanntgemachten technischen Standards entsprechen.“ \\n3. § 5 wird wie folgt geändert:\\na) In der Überschrift wird das Wort „Anforderungen“ durch das Wort „Standards“ er-\\nsetzt.\\nb) Absatz 1 wird wie folgt geändert:\\naa) In dem Satzteil vor Nummer 1 werden die Wörter „Anforderungen an“ durch\\ndie Wörter „Standards für“ ersetzt und werden vor dem Wort „Bearbeitung“ die \\nWörter „Eignung zur“ eingefügt. \\nbb) In Nummer 5 wird der Punkt am Ende durch das Wort „und“ ersetzt. \\ncc) Folgende Nummer 6 wird angefügt:\\n„6.  die technischen Eigenschaften der elektronischen Dokumente.“\\nc) In Absatz 2 werden jeweils die Wörter „Anforderungen“ durch das Wort „Stan-\\ndards“ ersetzt.\\n4. § 6 wird wie folgt geändert:\\na) In Absatz 1 in dem Satzteil vor Nummer 1 wird das Wort „(Postfachinhaber)“ ge-\\nstrichen.\\nb) In Absatz 2 Nummer 3 werden die Wörter „vom 12. September 2011 (BGBl. I\\nS. 1843), die zuletzt durch Artikel 4 der Verordnung vom 25. November 2016\\n(BGBl. I S. 2659) geändert worden ist, in der jeweils geltenden Fassung“ gestri-\\nchen.\\n5. Nach § 9 wird folgendes Kapitel 4 eingefügt:- 7 - Drucksache 145/21\\n„Kapitel 4 \\nBesonderes elektronisches Bürger- und Organisationenpostfach; Post-\\nfach- und Versanddienst eines Nutzerkontos \\n§ 10\\nBesonderes elektronisches Bürger- und Organisationenpostfach \\n(1) Natürliche Personen, juristische Personen sowie sonstige Vereinigungen kön-\\nnen zur Übermittlung elektronischer Dokumente auf einem sicheren Übermittlungsweg \\nein besonderes elektronisches Bürger- und Organisationenpostfach verwenden,  \\n1. das auf dem Protokollstandard OSCI oder einem diesen ersetzenden, dem jewei-\\nligen Stand der Technik entsprechenden Protokollstandard beruht,\\n2. bei dem die Identität des Postfachinhabers festgestellt worden ist,\\n3. bei dem der Postfachinhaber in ein sicheres elektronisches Verzeichnis eingetra-\\ngen ist,\\n4. bei dem sich der Postfachinhaber beim Versand eines elektronischen Dokuments\\nauthentisiert und\\n5. bei dem feststellbar ist, dass das elektronische Dokument vom Postfachinhaber\\nversandt wurde.\\n(2) Das besondere elektronische Bürger- und Organisationenpostfach muss\\n1. über eine Suchfunktion verfügen, die es ermöglicht, Inhaber eines besonderen\\nelektronischen  Anwaltspostfachs,  eines  besonderen  elektronischen Notarpost-\\nfachs oder eines besonderen elektronischen Behördenpostfachs aufzufinden,\\n2. für Inhaber besonderer elektronischer Anwaltspostfächer, besonderer elektroni-\\nscher Notarpostfächer oder besonderer elektronischer Behördenpostfächer adres-\\nsierbar sein und\\n3. barrierefrei sein im Sinne der Barrierefreie-Informationstechnik-Verordnung.\\n§ 11\\nIdentifizierung und Authentisierung des Postfachinhabers \\n(1) Die Länder oder mehrere Länder gemeinsam bestimmen jeweils für ihren Be-\\nreich eine öffentlich-rechtliche Stelle, die die Freischaltung eines besonderen elektro-\\nnischen Bürger- und Organisationenpostfachs veranlasst.  \\n(2) Der Postfachinhaber hat im Rahmen der Identitätsfeststellung seinen Namen\\nund seine Anschrift nachzuweisen. Der Nachweis kann nur durch eines der folgenden \\nIdentifizierungsmittel erfolgen:  \\n1. den elektronischen Identitätsnachweis nach § 18 des Personalausweisgesetzes,\\nnach § 12 des eID-Karte-Gesetzes oder nach § 78 Absatz 5 des Aufenthaltsgeset-\\nzes,Drucksache 145/21 - 8 -\\n2. ein  qualifiziertes  elektronisches  Siegel  nach  Artikel 38  der  Verordnung  (EU)\\nNr. 910/2014 des Europäischen Parlaments und des Rates vom 23. Juli 2014 über\\nelektronische Identifizierung und Vertrauensdienste für elektronische Transaktio-\\nnen im Binnenmarkt und zur Aufhebung der Richtlinie 1999/93/EG (ABl. L 257 vom\\n28.8.2014, S. 73; L 23 vom 29.1.2015, S. 19; L 155 vom 14.6.2016, S. 44),\\n3. bei öffentlich bestellten oder beeidigten Personen, die Dolmetscher- oder Überset-\\nzungsleistungen erbringen, eine Bestätigung der nach dem Gerichtsdolmetscher-\\ngesetz oder dem jeweiligen Landesrecht für die öffentliche Bestellung und Beeidi-\\ngung dieser Personen zuständigen Stelle, auch hinsichtlich der Angaben zu Be-\\nrufsbezeichnung sowie zur Sprache, für die die Bestellung erfolgt,\\n4. bei  Gerichtsvollziehern  eine  Bestätigung  der  für  ihre  Ernennung  zuständigen\\nStelle, auch hinsichtlich der Dienstbezeichnung, oder\\n5. eine in öffentlich beglaubigter Form abgegebene Erklärung über den Namen und\\ndie Anschrift des Postfachinhabers sowie die eindeutige Bezeichnung des Post-\\nfachs.\\nEine nach Satz 2 Nummer 5 angegebene geschäftliche Anschrift ist durch eine Be-\\nscheinigung nach § 21 Absatz 1 der Bundesnotarordnung, einen amtlichen Register-\\nausdruck oder eine beglaubigte Registerabschrift nachzuweisen. Geht eine angege-\\nbene geschäftliche Anschrift nicht aus einem öffentlichen Register hervor, so stellt die \\nStelle nach Absatz 1 diese durch geeignete Maßnahmen fest. Die Übermittlung von \\nDaten nach Satz 2 Nummer 3 bis 5 an die in Absatz 1 genannte öffentlich-rechtliche \\nStelle erfolgt in strukturierter maschinenlesbarer Form. Im Fall des Satzes 2 Nummer 5 \\nist der öffentlich-rechtlichen Stelle zusätzlich eine öffentlich beglaubigte elektronische \\nAbschrift der Erklärung zu übermitteln. \\n(3) Der Postfachinhaber hat sich beim Versand eines elektronischen Dokuments\\nzu authentisieren durch \\n1. den elektronischen Identitätsnachweis nach § 18 des Personalausweisgesetzes,\\nnach § 12 des eID-Karte-Gesetzes oder nach § 78 Absatz 5 des Aufenthaltsgeset-\\nzes,\\n2. ein Authentisierungszertifikat, das auf einer qualifizierten elektronischen Signatur-\\nerstellungseinheit nach dem Anhang II der Verordnung (EU) Nr. 910/2014 gespei-\\nchert ist, oder\\n3. ein nichtqualifiziertes Authentisierungszertifikat, das über Dienste validierbar ist,\\ndie über das Internet erreichbar sind.\\n§ 12\\nÄnderung von Angaben und Löschung des Postfachs \\n(1) Bei Änderung seiner Daten hat der Postfachinhaber unverzüglich die Anpas-\\nsung seines Postfachs bei der nach § 11 Absatz 1 bestimmten Stelle zu veranlassen. \\nDas betrifft insbesondere die Änderung seines Namens oder seiner Anschrift, bei juris-\\ntischen Personen oder sonstigen Vereinigungen auch bei der Änderung des Sitzes. \\n(2) Der Postfachinhaber kann jederzeit die Löschung seines besonderen elektro-\\nnischen Bürger- und Organisationenpostfachs veranlassen. - 9 - Drucksache 145/21\\n§ 13 \\nElektronische Kommunikation über den Postfach- und Versanddienst eines Nutzer-\\nkontos \\n(1) Zur Übermittlung elektronischer Dokumente auf einem sicheren Übermitt-\\nlungsweg kann der Postfach- und Versanddienst eines Nutzerkontos im Sinne des § 2 \\nAbsatz 5 des Onlinezugangsgesetzes genutzt werden, wenn bei diesem Postfach- und \\nVersanddienst \\n1. eine technische Vorrichtung besteht, die auf dem Protokollstandard OSCI oder ei-\\nnem diesen ersetzenden, dem jeweiligen Stand der Technik entsprechenden Pro-\\ntokollstandard beruht,\\n2. die Identität des Nutzers des Postfach- und Versanddienstes durch ein Identifizie-\\nrungsmittel nach § 11 Absatz 2 Satz 2 Nummer 1 oder 2 festgestellt ist,\\n3. der Nutzer des Postfach- und Versanddienstes sich beim Versand eines elektroni-\\nschen Dokuments entsprechend § 11 Absatz 3 authentisiert und\\n4. feststellbar ist, dass das elektronische Dokument von dem Nutzer des Postfach- \\nund Versanddienstes versandt wurde.\\n(2) Der Postfach- und Versanddienst muss barrierefrei sein im Sinne der Barrie-\\nrefreie-Informationstechnik-Verordnung.“ \\n6. Das bisherige Kapitel 4 wird Kapitel 5.\\n7. Der bisherige § 10 wird § 14 und in dem Satzteil vor Nummer 1 werden die Wörter\\n„Kapitel 2 und 3“ durch die Wörter „Kapitel 2 bis 4“ ersetzt.\\n8. Der bisherige § 11 wird § 15.\\n9. Das bisherige Kapitel 5 wird aufgehoben.\\n',\n",
       "  'Weitere Änderung des Arbeitsgerichtsgesetzes zum 1. Januar \\n2026 \\n§ 46g des Arbeitsgerichtsgesetzes, das zuletzt durch Artikel 7 dieses Gesetzes geän-\\ndert worden ist, wird wie folgt geändert: \\n1. Die Überschrift wird wie folgt gefasst:\\n„§ 46g \\nNutzungspflicht für Rechtsanwälte, Behörden und vertretungsberechtigte Bevollmäch-\\ntigte“. \\n2. Satz 2 wird wie folgt gefasst:\\n„Gleiches gilt für die nach diesem Gesetz vertretungsberechtigten Personen und Be-\\nvollmächtigten, für die ein sicherer Übermittlungsweg nach § 46c Absatz 4 Satz 1 Num-\\nmer 2 oder Nummer 4 zur Verfügung steht; ausgenommen sind nach § 11 Absatz 2\\nSatz 2 Nummer 1 Halbsatz 1 oder Nummer 2 vertretungsbefugte Personen.“Drucksache 145/21 - 12 -\\n',\n",
       "  'Weitere Änderung der Finanzgerichtsordnung zum 1. Januar 2022 \\nIn § 52d Satz 2 der Finanzgerichtsordnung, die zuletzt durch Artikel 15 dieses Geset-\\nzes geändert worden ist, wird nach der Angabe „Absatz 4“ die Angabe „Satz 1“ eingefügt. Drucksache 145/21 - 16 -\\n'])"
      ]
     },
     "execution_count": 600,
     "metadata": {},
     "output_type": "execute_result"
    }
   ],
   "source": [
    "pdf_file, law_titles, proposals_list"
   ]
  },
  {
   "cell_type": "code",
   "execution_count": null,
   "id": "9f411ee8-d896-41ac-9818-567f3043402e",
   "metadata": {},
   "outputs": [],
   "source": []
  },
  {
   "cell_type": "code",
   "execution_count": null,
   "id": "bd636860-9b85-4a35-8083-f8a29b69752d",
   "metadata": {},
   "outputs": [],
   "source": []
  },
  {
   "cell_type": "code",
   "execution_count": null,
   "id": "96b45677-9a95-40f3-a71b-8e251082a265",
   "metadata": {},
   "outputs": [],
   "source": []
  },
  {
   "cell_type": "code",
   "execution_count": null,
   "id": "14a0dbb5-8cc8-4989-a1d7-36f274f62d29",
   "metadata": {},
   "outputs": [],
   "source": []
  },
  {
   "cell_type": "code",
   "execution_count": null,
   "id": "6b02d6fe-666e-4b09-b51e-2be9187e6e88",
   "metadata": {},
   "outputs": [],
   "source": []
  },
  {
   "cell_type": "code",
   "execution_count": null,
   "id": "212d9db6-7138-41a2-b56e-af4b6bfa237a",
   "metadata": {},
   "outputs": [],
   "source": [
    "### following code is old and will get cleaned up soon"
   ]
  },
  {
   "cell_type": "code",
   "execution_count": 121,
   "id": "b6afbf1d-eb73-4e41-9f19-915054e18b6f",
   "metadata": {},
   "outputs": [],
   "source": [
    "with pdfplumber.open(pdf_file) as pdf:\n",
    "    text_of_change = [page.extract_text() for page in pdf.pages]"
   ]
  },
  {
   "cell_type": "code",
   "execution_count": 21,
   "id": "44f17d17-760c-4f4d-a086-5a3097003e4a",
   "metadata": {},
   "outputs": [
    {
     "name": "stdout",
     "output_type": "stream",
     "text": [
      "4 5\n"
     ]
    }
   ],
   "source": [
    "#quirky mehtod to find the first page where the Entwurf starts in the PDF\n",
    "#it picks the first page that has the a stand alone title \"Artikel 1\" on it's own line, \n",
    "#no matter how many spaces it has before the line break at the end\n",
    "for pagenum, page in enumerate(text_of_change):\n",
    "    if len(re.split(\"\\nArtikel 1.+\\n\", page, maxsplit=1)) == 2:\n",
    "        first_page=pagenum\n",
    "        break\n",
    "\n",
    "last_page=len(text_of_change)\n",
    "\n",
    "#quirky mehtod to find the last page where the Entwurf ends in the PDF\n",
    "#it picks the last page before a page that has the word \"Begründung\" in it\n",
    "for page in range(first_page,last_page):\n",
    "    if len(text_of_change[page].split('Begründung')) > 1:\n",
    "        last_page=page-1\n",
    "        break\n",
    "\n",
    "# uncomment next line to manually check if the fist and last page were identified correctly\n",
    "print(first_page,last_page)"
   ]
  },
  {
   "cell_type": "code",
   "execution_count": 5,
   "id": "ec855c66-1abe-42ce-841e-52164d67002d",
   "metadata": {},
   "outputs": [],
   "source": [
    "# goes over the entwurf pages, and makes a list of all the 2 lines of text after the patten \"Artikel [number] \\n\", \n",
    "# also in case there is more than one change in a page\n",
    "\n",
    "title_change_of_this_law = []\n",
    "for page in range(first_page,last_page+1):\n",
    "    has_artikel = len(re.split('Artikel [0-9]+ +\\n',text_of_change[page]))  # the len() of the split is 1 is there are no artikles, 2, if there is 1, and \n",
    "                                                                            # increases by 2 (odds) for every additional artikel\n",
    "    #print(page,has_artikel) # used for debugging only, can be removed\n",
    "    if has_artikel >= 2:\n",
    "        for artikel in range(1,has_artikel,2): \n",
    "            title_change_of_this_law.extend(re.search('.+\\n.+\\n',re.split('Artikel [0-9]+ +\\n',text_of_change[page])[artikel]).captures())\n",
    "\n",
    "# the logic for this funciton is as follows:\n",
    "# in each page, each time the pattern \"Artikel [number] \\n\" appears, \n",
    "# note that number regexed any number of digits, this could be limited in the future to only 1-2 or 3?! which is more reasonable,\n",
    "# we split the string and take the part that is after the split (if there is only one split that's 1, if there is more we loop on the odd numbers to \n",
    "# always take the part after the split), we then use re.search to take the first two scentences using a pattern that take any number of charcters \n",
    "# before a new line (twice). Since re.search() returns an object we use .capture to to grab the match of that pattern from the returned object.\n",
    "# since that that match is a list with one string in it, we use .extend() so that our final input is one flat list with all the strings we recovered.\n",
    "# huzzah."
   ]
  },
  {
   "cell_type": "code",
   "execution_count": 6,
   "id": "d18639ab-edc4-429e-956b-5f503f681260",
   "metadata": {},
   "outputs": [
    {
     "data": {
      "text/plain": [
       "['Änderung des Bürgerlichen Gesetzbuchs\\nDas Bürgerliche Gesetzbuch in der Fassung der Bekanntmachung vom 2. Januar 2002 (BGBl. \\n',\n",
       " 'Änderung des Einführungsgesetzes zum Bürgerlichen Gesetzbuche\\nDem Artikel 229 des Einführungsgesetzes zum Bürgerlichen Gesetzbuche in der Fassung der \\n']"
      ]
     },
     "execution_count": 6,
     "metadata": {},
     "output_type": "execute_result"
    }
   ],
   "source": [
    "title_change_of_this_law"
   ]
  },
  {
   "cell_type": "code",
   "execution_count": 7,
   "id": "e7a46679-0609-4df2-ace2-4549fb8779eb",
   "metadata": {},
   "outputs": [
    {
     "data": {
      "text/plain": [
       "['Änderung des Bürgerlichen Gesetzbuchs\\nDas Bürgerliche Gesetzbuch in der Fassung der Bekanntmachung vom 2. Januar 2002 (BGBl.',\n",
       " 'Änderung des Einführungsgesetzes zum Bürgerlichen Gesetzbuche\\nDem Artikel 229 des Einführungsgesetzes zum Bürgerlichen Gesetzbuche in der Fassung der']"
      ]
     },
     "execution_count": 7,
     "metadata": {},
     "output_type": "execute_result"
    }
   ],
   "source": [
    "# this is an unfinished code chunk\n",
    "# the following 2 lines only remove the last line break from teh end of the 2nd scentence\n",
    "[change_title.rstrip() for change_title in title_change_of_this_law]\n",
    "\n",
    "# the goal is to add a simple logic that capture a second line when it is relevant, e.g. if it start with \"und \" or if it is no longer than 3 words.\n",
    "# this won't catch all cases, but it's a start\n",
    "# more logic to consider: don't take a 2nd line that starts with \"§\" or \"In\"\n",
    "\n",
    "# strip the begining from \"Änderung des\" or \"Weitere Änderung des\""
   ]
  },
  {
   "cell_type": "code",
   "execution_count": 8,
   "id": "674c9f59-caff-49b9-b033-1fc9e3d6e1fa",
   "metadata": {},
   "outputs": [
    {
     "data": {
      "text/plain": [
       "['- 3 - Drucksache 683/21\\nBegründung: \\nA.  Allgemeiner Teil \\nI.  Anlass und Ziel des Gesetzesentwurfs\\nZiel des Gesetzesentwurfes ist es, die Position von Mieterinnen und Mietern zu stär-\\nken, indem der Möblierungszuschlag in Gebieten mit einem angespannten Wohnungs-\\nmarkt transparent geregelt wird, wodurch eine Umgehung der Mietpreisbremse verhin-\\ndert werden soll. Zusätzlich wird die Position für Mieterinnen und Mieter bei der Ver-\\nmietung von Wohnraum zum vorübergehenden Gebrauch in Gebieten mit einem an-\\ngespannten Wohnungsmarkt dadurch gestärkt, dass bei Vermietungen über einen Zeit-\\nraum von sechs Monaten oder mehr nunmehr regelmäßig die in § 549 Abs. 2 BGB \\ngenannten Mieterschutzvorschriften gelten. Sofern die Vermieterinnen und Vermieter \\nsich auf den Ausschlusstatbestand des § 549 Abs. 2 Nr. 1 BGB berufen möchten, \\nmüssten diese die Regelvermutung durch Erbringung eines Nachweises entkräften, \\nder trotz dieses langen Zeitraums ausnahmsweise die Annahme einer Vermietung zum \\nvorübergehenden Gebrauch im Sinne des § 549 Abs. 2 Nr. 1 BGB begründet.\\nDie Vermietung von möbliertem Wohnraum birgt derzeit das Risiko, dass die Mietpreis-\\nbremse im Sinne des § 556 d BGB umgangen werden kann, da der zusätzlich zu der \\nNettokaltmiete erhobene Möblierungszuschlag von Vermieterinnen und Vermietern \\nnicht gesondert ausgewiesen werden muss. Dies führt zu Intransparenz, und es ist \\nMieterinnen und Mietern erschwert bis unmöglich nachzuvollziehen, ob die Mietpreis-\\nbremse, die auch bei möbliertem Wohnraum gilt, eingehalten wurde. Auch ein etwaiges \\nMieterhöhungsverlangen können sie im Hinblick auf die ortsübliche Vergleichsmiete \\nnicht nachvollziehen. Da ferner die Art und Weise der vertraglichen Ausgestaltung des \\nMöblierungszuschlags gesetzlich nicht geregelt ist, besteht zudem Rechtsunsicherheit \\nüber die zulässige Höhe des Zuschlags. Für Vermieterinnen und Vermieter besteht \\ndadurch die Möglichkeit, die Mietpreisbremse zu umgehen, da der Möblierungszu-\\nschlag nach eigenem Ermessen ausgestaltet werden kann. Um zu verdeutlichen, dass \\ndie Mietpreisbremse auch für möblierten Wohnraum gilt, ist eine zusätzliche Regelung \\naufzunehmen, die festlegt, dass ein Zuschlag für die von Vermieterinnen und Vermie-\\ntern bereitgestellte Möblierung zwar grundsätzlich neben der ortsüblichen Vergleichs-\\nmiete verlangt werden kann, dieser jedoch separat auszuweisen ist. Für die Nettokalt-\\nmiete ohne den Möblierungszuschlag gilt § 556d Abs. 1 S. 1 BGB. Die Höhe des Möb-\\nlierungszuschlags ist auf einen angemessenen Betrag, ein Prozent des Zeitwertes mo-\\nnatlich begrenzt. Der Zeitwert ist zum Zeitpunkt der erstmaligen Überlassung der Möbel \\nan die jeweiligen Mieterinnen und Mieter zu bestimmen. Für die Festlegung des Zeit-\\nwertes tragen die Vermieterinnen und Vermieter die Darlegungs- und Beweislast. Wei-\\nsen Vermieterinnen und Vermieter den Möblierungszuschlag nicht aus, so gilt die Woh-\\nnung nach dem Entwurf im Hinblick auf die zulässige Miethöhe als unmöbliert vermie-\\ntet. In diesem Fall kann die Möblierung keine höhere Miete als die in § 556d Abs. 1 S. \\n1 BGB zulässige begründen. Dies schafft einen starken Anreiz für die Vermieterinnen \\nund Vermieter, den Möblierungszuschlag tatsächlich auszuweisen.\\nDaneben wird in der Praxis deutlich, dass Mieterinnen und Mieter hinsichtlich der in \\nden  letzten  Jahren  vermehrt  angebotenen  Kurzzeitvermietung  einen  zusätzlichen']"
      ]
     },
     "execution_count": 8,
     "metadata": {},
     "output_type": "execute_result"
    }
   ],
   "source": [
    "#re.search('.+\\n.+\\n',re.split('Artikel [0-9]+  \\n',text_of_change[6])[1]).captures()\n",
    "#re.split('Artikel [0-9]+ \\n',text_of_change[6])[1]\n",
    "re.split('Artikel [0-9]+  \\n',text_of_change[6])"
   ]
  },
  {
   "cell_type": "code",
   "execution_count": 269,
   "id": "2a8b7486-6364-4fdc-abd5-92af6267ff93",
   "metadata": {},
   "outputs": [
    {
     "data": {
      "text/plain": [
       "[['Änderung der Zivilprozessordnung',\n",
       "  'Die Zivilprozessordnung in der Fassung der Bekanntmachung vom 5. Dezember 2005'],\n",
       " ['Änderung des Gesetzes über das Verfahren in Familiensachen',\n",
       "  'und in Angelegenheiten der freiwilligen Gerichtsbarkeit'],\n",
       " ['Änderung der Elektronischer-Rechtsverkehr-Verordnung',\n",
       "  'Die  Elektronischer-Rechtsverkehr-Verordnung  vom  24.  November  2017  (BGBl. I'],\n",
       " ['Änderung des Arbeitsgerichtsgesetzes',\n",
       "  'Das Arbeitsgerichtsgesetz in der Fassung der Bekanntmachung vom 2. Juli 1979'],\n",
       " ['Weitere Änderung des Arbeitsgerichtsgesetzes',\n",
       "  'Das Arbeitsgerichtsgesetz, das zuletzt durch '],\n",
       " ['Weitere Änderung des Arbeitsgerichtsgesetzes zum 1. Januar', '2022'],\n",
       " ['Weitere Änderung des Arbeitsgerichtsgesetzes zum 1. Januar', '2026'],\n",
       " ['Änderung des Sozialgerichtsgesetzes',\n",
       "  'Das Sozialgerichtsgesetz in der Fassung der Bekanntmachung vom 23. September'],\n",
       " ['Weitere Änderung des Sozialgerichtsgesetzes zum 1. Januar 2022',\n",
       "  'In § 65d Satz 2 des Sozialgerichtsgesetzes, das zuletzt durch '],\n",
       " ['Weitere Änderung des Sozialgerichtsgesetzes zum 1. Januar 2026',\n",
       "  '§ 65d des Sozialgerichtsgesetzes, das zuletzt durch '],\n",
       " ['Änderung der Verwaltungsgerichtsordnung',\n",
       "  '§ 55a der Verwaltungsgerichtsordnung in der Fassung der Bekanntmachung vom 19.\\nMärz 1991 (BGBl. I S. 686), die zuletzt durch '],\n",
       " ['Weitere Änderung der Verwaltungsgerichtsordnung zum 1. Ja-\\nnuar 2022',\n",
       "  'In § 55d Satz 2 der Verwaltungsgerichtsordnung, die zuletzt durch '],\n",
       " ['Weitere Änderung der Verwaltungsgerichtsordnung zum 1. Ja-\\nnuar 2026',\n",
       "  '§ 55d der Verwaltungsgerichtsordnung, die zuletzt durch '],\n",
       " ['Änderung der Finanzgerichtsordnung',\n",
       "  '§ 52a der Finanzgerichtsordnung in der Fassung der Bekanntmachung vom 28. März\\n2001 (BGBl. I S. 442, 2262; 2002 I S. 679), die zuletzt durch '],\n",
       " ['Weitere Änderung der Finanzgerichtsordnung zum 1. Januar 2022',\n",
       "  'In § 52d Satz 2 der Finanzgerichtsordnung, die zuletzt durch '],\n",
       " ['Weitere Änderung der Finanzgerichtsordnung zum 1. Januar 2026',\n",
       "  '§ 52d der Finanzgerichtsordnung, die zuletzt durch '],\n",
       " ['Änderung der Bundesrechtsanwaltsordnung',\n",
       "  'In § 30 Absatz 2 der Bundesrechtsanwaltsordnung in der im Bundesgesetzblatt Teil III,'],\n",
       " ['Änderung des Beurkundungsgesetzes',\n",
       "  'In § 67 Absatz 2 des Beurkundungsgesetzes vom 28. August 1969 (BGBl. I S. 1513),'],\n",
       " ['Änderung des Gesetzes über die Tätigkeit europäischer Rechts-\\nanwälte in Deutschland',\n",
       "  'In § 31 Absatz 1 Satz 4 des Gesetzes über die Tätigkeit europäischer Rechtsanwälte'],\n",
       " ['Änderung der Verordnung zur Einführung von Vordrucken für',\n",
       "  'das Mahnverfahren'],\n",
       " ['Änderung der Zustellungsvordruckverordnung',\n",
       "  'In § 1 Nummer 2 der Zustellungsvordruckverordnung vom 12. Februar 2002 (BGBl. I'],\n",
       " ['Änderung des Strafvollzugsgesetzes',\n",
       "  'In § 120 Absatz 1 Satz 2 des Strafvollzugsgesetzes vom 16. März 1976 (BGBl. I'],\n",
       " ['Änderung der Grundbuchordnung',\n",
       "  'In § 140 Absatz 2 Satz 1 der Grundbuchordnung in der Fassung der Bekanntmachung'],\n",
       " ['Änderung des Gesetzes über die internationale Rechtshilfe in',\n",
       "  'Strafsachen'],\n",
       " ['Änderung der Patentanwaltsordnung',\n",
       "  'In § 28 Absatz 2 der Patentanwaltsordnung vom 7. September 1966 (BGBl. I S. 557),'],\n",
       " ['Änderung des Gesetzes über Ordnungswidrigkeiten',\n",
       "  'In § 110c Satz 1 des Gesetzes über Ordnungswidrigkeiten in der Fassung der Bekannt-\\nmachung vom 19. Februar 1987 (BGBl. I S. 602), das zuletzt durch '],\n",
       " ['Änderung des Achten Buches Sozialgesetzbuch',\n",
       "  'In § 60 Satz 2 des Achten Buches Sozialgesetzbuch – Kinder- und Jugendhilfe – in der'],\n",
       " ['Inkrafttreten',\n",
       "  'Dieses Gesetz tritt vorbehaltlich der Sätze 2 bis 4 am … [einsetzen: Datum des ersten'],\n",
       " ['Die ']]"
      ]
     },
     "execution_count": 269,
     "metadata": {},
     "output_type": "execute_result"
    }
   ],
   "source": [
    "title_change_of_this_law = []\n",
    "for page in range(first_page,last_page+1):\n",
    "    has_artikel = len(text_of_change[page].split('Artikel '))\n",
    "    if has_artikel >= 2:\n",
    "        for artikel in range(1,has_artikel-1,2): # consider using re.split('Artikel [0-9]+ \\n') instead\n",
    "            title_change_of_this_law.append(text_of_change[page].split('Artikel ')[artikel].split(' \\n')[1:3])\n",
    "title_change_of_this_law"
   ]
  },
  {
   "cell_type": "code",
   "execution_count": 17,
   "id": "c66d2502-8d3d-4943-985f-58ff9d48813a",
   "metadata": {},
   "outputs": [
    {
     "name": "stdout",
     "output_type": "stream",
     "text": [
      "Änderung der Zivilprozessordnung \n"
     ]
    }
   ],
   "source": [
    "with pdfplumber.open(pdfFileObj) as pdf:\n",
    "    for pageNum in pdf.pages()\n",
    "\tname_of_law_to_change = pdf.pages[6].extract_text().split('Artikel 1')[1].split('\\n')[1]\n",
    "    print(name_of_law_to_change)"
   ]
  },
  {
   "cell_type": "code",
   "execution_count": 179,
   "id": "8b5cd231-acb0-4fb0-a369-096a481b4409",
   "metadata": {},
   "outputs": [
    {
     "data": {
      "text/plain": [
       "'Inkrafttreten '"
      ]
     },
     "execution_count": 179,
     "metadata": {},
     "output_type": "execute_result"
    }
   ],
   "source": [
    "text_of_change[24].split('Artikel ')[1].split('\\n')[1]"
   ]
  },
  {
   "cell_type": "code",
   "execution_count": 167,
   "id": "ccb6b9b8-a087-48ae-b3c5-335282097a83",
   "metadata": {},
   "outputs": [
    {
     "data": {
      "text/plain": [
       "3"
      ]
     },
     "execution_count": 167,
     "metadata": {},
     "output_type": "execute_result"
    }
   ],
   "source": [
    "len(text_of_change[6].split('Artikel '))\n",
    "    \n",
    "    "
   ]
  },
  {
   "cell_type": "code",
   "execution_count": 188,
   "id": "3e12e5b5-a975-4fda-8b03-6f33239728a9",
   "metadata": {},
   "outputs": [
    {
     "data": {
      "text/plain": [
       "2"
      ]
     },
     "execution_count": 188,
     "metadata": {},
     "output_type": "execute_result"
    }
   ],
   "source": [
    "len(title_change_of_this_law[3])\n"
   ]
  },
  {
   "cell_type": "code",
   "execution_count": 73,
   "id": "0343961e-0bb0-48da-a352-0677266fcc41",
   "metadata": {},
   "outputs": [
    {
     "data": {
      "text/plain": [
       "'Bundesrat  Drucksache   145/21  \\n  \\n  \\n \\n  12.02.21 \\n  R - AIS - Fz - In \\n \\nB\\nGesetzentwurf  R\\nFu\\nder Bundesregierung \\nss \\nEntwurf  eines  Gesetzes  zum  Ausbau  des  elektronischen \\nRechtsverkehrs  mit  den  Gerichten  und  zur  Änderung  weiterer \\nprozessrechtlicher Vorschriften \\nBundesrepublik Deutschland             Berlin, 12. Februar 2021 \\n      Die Bundeskanzlerin \\n \\nAn den \\nPräsidenten des Bundesrates \\nHerrn Ministerpräsidenten \\nDr. Reiner Haseloff \\n \\nSehr geehrter Herr Präsident, \\n \\nhiermit übersende ich gemäß Artikel 76 Absatz 2 des Grundgesetzes den von der \\nBundesregierung beschlossenen \\n \\nEntwurf eines Gesetzes zum Ausbau des elektronischen \\nRechtsverkehrs mit den Gerichten und zur Änderung \\nweiterer prozessrechtlicher Vorschriften  \\n \\nmit Begründung und Vorblatt. \\n \\nFederführend ist das Bundesministerium der Justiz und für Verbraucherschutz. \\n \\nDie  Stellungnahme  des  Nationalen  Normenkontrollrates  gemäß  § 6  Absatz 1 \\nNKRG ist als Anlage beigefügt. \\n \\nMit freundlichen Grüßen \\nDr. Angela Merkel \\n                                              \\nFristablauf: 26.03.21 \\n '"
      ]
     },
     "execution_count": 73,
     "metadata": {},
     "output_type": "execute_result"
    }
   ],
   "source": [
    "text_of_change[4]"
   ]
  },
  {
   "cell_type": "code",
   "execution_count": 89,
   "id": "0acb9f3a-f6bf-48b4-a661-eb5700c213b0",
   "metadata": {},
   "outputs": [
    {
     "data": {
      "text/plain": [
       "True"
      ]
     },
     "execution_count": 89,
     "metadata": {},
     "output_type": "execute_result"
    }
   ],
   "source": [
    "text_of_change[5] is None"
   ]
  },
  {
   "cell_type": "code",
   "execution_count": null,
   "id": "9ee0d932-645d-4d59-9719-1ad521146937",
   "metadata": {},
   "outputs": [],
   "source": []
  }
 ],
 "metadata": {
  "kernelspec": {
   "display_name": "Python 3 (ipykernel)",
   "language": "python",
   "name": "python3"
  },
  "language_info": {
   "codemirror_mode": {
    "name": "ipython",
    "version": 3
   },
   "file_extension": ".py",
   "mimetype": "text/x-python",
   "name": "python",
   "nbconvert_exporter": "python",
   "pygments_lexer": "ipython3",
   "version": "3.9.5"
  }
 },
 "nbformat": 4,
 "nbformat_minor": 5
}
