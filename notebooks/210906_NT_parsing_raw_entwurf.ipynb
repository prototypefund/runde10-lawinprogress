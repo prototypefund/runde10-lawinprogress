{
 "cells": [
  {
   "cell_type": "code",
   "execution_count": 129,
   "id": "98f4b408-1142-413d-8f45-40de914a6db4",
   "metadata": {},
   "outputs": [],
   "source": [
    "import pdfplumber\n",
    "import regex as re\n",
    "import pyawk  # so far not used\n",
    "import spacy\n",
    "import glob\n",
    "\n",
    "nlp = spacy.load(\"de_core_news_sm\")\n",
    "from typing import List, Tuple"
   ]
  },
  {
   "cell_type": "code",
   "execution_count": 617,
   "id": "87e2f780-8196-44ca-91d0-32cfbfa3e5b1",
   "metadata": {},
   "outputs": [],
   "source": [
    "pdfs = glob.glob(\"../data/*.pdf\")\n",
    "# print(pdfs)\n",
    "pdf_file = open(pdfs[4], \"rb\")\n",
    "### imported pyawk but haven't set it up yet\n",
    "\n",
    "### Goal:\n",
    "# input: raw PDF of antwurf\n",
    "# output: list of (law title, change request text) pairs\n",
    "\n",
    "## TODO:\n",
    "# Spacy is messing up some of the scentences (cutting them too short)\n",
    "# consider going back to manually taking first two lines unles second line start with \"In\" or \"§\"\n",
    "\n",
    "# next wishful steps:\n",
    "# Analyse entwurf patterns, common, less common etc.\n",
    "# API to grab law text using that damn title\n",
    "# API to grab entwurfs"
   ]
  },
  {
   "cell_type": "code",
   "execution_count": 618,
   "id": "5f0bcda4-cd0d-45e9-97d2-7cb44972489e",
   "metadata": {},
   "outputs": [],
   "source": [
    "def read_pdf_law(filename: str) -> str:\n",
    "    \"\"\"Get the raw text from the pdfs.\"\"\"\n",
    "    # read all pages from provided pdf\n",
    "    pdf_file_obj = pdfplumber.open(filename)\n",
    "\n",
    "    # join the pages\n",
    "    return \"\".join(\n",
    "        [page for page in [page.extract_text() for page in pdf_file_obj.pages] if page]\n",
    "    )\n",
    "\n",
    "\n",
    "change_law_raw = read_pdf_law(pdf_file)"
   ]
  },
  {
   "cell_type": "code",
   "execution_count": 619,
   "id": "96b98649-29bb-4c64-aa3d-4f16820e6207",
   "metadata": {},
   "outputs": [],
   "source": [
    "def extract_raw_proposal(text: str) -> str:\n",
    "    text = re.split(\"\\nArtikel 1.*?\\n\", text, maxsplit=1)[1].split(\"Begründung\")[0]\n",
    "    return text\n",
    "\n",
    "\n",
    "change_law_extract = extract_raw_proposal(change_law_raw)"
   ]
  },
  {
   "cell_type": "code",
   "execution_count": 620,
   "id": "27c3f282-3ef1-454e-baf4-a801553523da",
   "metadata": {},
   "outputs": [],
   "source": [
    "def extract_seperate_change_proposals(text: str) -> List[str]:\n",
    "    proposals = []\n",
    "    proposals.extend(re.split(\"Artikel\\s{1,2}([1-9]|[1-9][0-9]|100)\\s{0,2}\\n\", text))\n",
    "\n",
    "    artikels = re.findall(\"Artikel\\s{1,2}([1-9]|[1-9][0-9]|100)\\s{0,2}\\n\", text)\n",
    "    artikels_int = [int(artikel) for artikel in artikels]\n",
    "    # compute the sum of the artikel numbers using the formula for an arithmetic series\n",
    "    # using only the first and last artikel numbers, and the length of the list\n",
    "    math_sum_artikels = len(artikels_int) * (artikels_int[0] + artikels_int[-1]) / 2\n",
    "    # compute the sum of the artikel numbers directly\n",
    "    raw_sum_artikels = sum(artikels_int)\n",
    "\n",
    "    # uncomment next line to see if see if the next condition is met or not\n",
    "    ## print(int(raw_sum_artikels), int(math_sum_artikels))\n",
    "\n",
    "    # if the direct sum is larger than the arithmetic series, then we had an artikel from some paragraph\n",
    "    # sneak into the titel list, by mentioned as \"Artikel [1-100]\" just before a line break :(((\n",
    "    # in this case we need to go through the list and check that the artikel numbers are regularly increasing by 1\n",
    "    if int(raw_sum_artikels) != int(math_sum_artikels):\n",
    "        proposal_list = []\n",
    "        proposal_list.append(proposals[0])\n",
    "        artikel_number = 2\n",
    "        for prop_index, proposal in enumerate(proposals):\n",
    "            try:\n",
    "                if int(proposal) == artikel_number:\n",
    "                    artikel_number += artikel_number\n",
    "                    proposal_list.append(proposals[prop_index + 1])\n",
    "            except:\n",
    "                pass\n",
    "    else:\n",
    "        proposal_list = proposals[\n",
    "            0::2\n",
    "        ]  # remove odd indexed items since they contain the artikel number only and we don't need it\n",
    "\n",
    "    return proposal_list\n",
    "\n",
    "\n",
    "proposals_list = extract_seperate_change_proposals(change_law_extract)"
   ]
  },
  {
   "cell_type": "code",
   "execution_count": 621,
   "id": "25fef662-8401-4502-b6c4-3aace392a8ae",
   "metadata": {},
   "outputs": [],
   "source": [
    "def extract_law_titles(props: List[str]) -> List[str]:\n",
    "    raw_titles_list = [\n",
    "        list(nlp(proposal.replace(\"\\n\", \" \")).sents)[0].text\n",
    "        for proposal in proposals_list\n",
    "    ]\n",
    "    titles_clean_par_sign = [re.split(\"§\", title)[0] for title in raw_titles_list]\n",
    "    titles_clean_aenderung = []\n",
    "    for title in titles_clean_par_sign:\n",
    "        if re.search(r\"Änderung \\b(de[rs])\\b \", title) is not None:\n",
    "            titles_clean_aenderung.append(\n",
    "                re.split(r\"Änderung \\b(de[rs])\\b \", title)[2].strip()\n",
    "            )\n",
    "        else:\n",
    "            titles_clean_aenderung.append(title.strip())\n",
    "    return titles_clean_aenderung\n",
    "\n",
    "\n",
    "law_titles = extract_law_titles(proposals_list)"
   ]
  },
  {
   "cell_type": "code",
   "execution_count": 622,
   "id": "ffb51832-8ae1-4029-ab89-41cd5b6f718d",
   "metadata": {},
   "outputs": [],
   "source": [
    "def remove_inkrafttreten(titles: List[str], props: List[str]) -> Tuple[List, List]:\n",
    "    if re.search(\"^Inkrafttreten\", titles[-1]) is not None:\n",
    "        titles = titles[:-1]\n",
    "        props = props[:-1]\n",
    "\n",
    "    return titles, props\n",
    "\n",
    "\n",
    "law_titles, proposals_list = remove_inkrafttreten(law_titles, proposals_list)"
   ]
  },
  {
   "cell_type": "code",
   "execution_count": 623,
   "id": "b04ca743-8056-4547-991c-941387c8b046",
   "metadata": {},
   "outputs": [
    {
     "data": {
      "text/plain": [
       "(<_io.BufferedReader name='../data/1928399.pdf'>,\n",
       " ['Zivilprozessordnung',\n",
       "  'Strafprozessordnung',\n",
       "  'Gesetzes  über  das Verfahren  in Familiensachen und in  Angelegenheiten der   freiwilligen Gerichtsbarkeit',\n",
       "  'Elektronischer-Rechtsverkehr-Verordnung',\n",
       "  'Arbeitsgerichtsgesetzes',\n",
       "  'Arbeitsgerichtsgesetzes',\n",
       "  'Arbeitsgerichtsgesetzes zum  1. Januar 2022',\n",
       "  'Arbeitsgerichtsgesetzes zum  1. Januar 2026',\n",
       "  'Sozialgerichtsgesetzes',\n",
       "  'Sozialgerichtsgesetzes zum  1. Januar 2022',\n",
       "  'Sozialgerichtsgesetzes zum  1. Januar 2026',\n",
       "  'Verwaltungsgerichtsordnung',\n",
       "  'Verwaltungsgerichtsordnung zum  1. Januar 2022',\n",
       "  'Verwaltungsgerichtsordnung zum  1. Januar 2026',\n",
       "  'Finanzgerichtsordnung',\n",
       "  'Finanzgerichtsordnung zum  1. Januar 2022',\n",
       "  'Finanzgerichtsordnung zum  1. Januar 2026',\n",
       "  'Bundesrechtsanwaltsordnung',\n",
       "  'Beurkundungsgesetzes',\n",
       "  'Gesetzes  über die  Tätigkeit  europäischer Rechtsanwälte in Deutschland',\n",
       "  'Verordnung zur Einführung von Vordrucken für das Mahnverfahren',\n",
       "  'Zustellungsvordruckverordnung',\n",
       "  'Strafvollzugsgesetzes',\n",
       "  'Grundbuchordnung',\n",
       "  'Gesetzes über  die internationale  Rechtshilfe  in  Strafsachen',\n",
       "  'Patentanwaltsordnung',\n",
       "  'Gesetzes  über Ordnungswidrigkeiten',\n",
       "  'Achten'],\n",
       " ['Änderung der Zivilprozessordnung  \\nDie Zivilprozessordnung in der  Fassung der  Bekanntmachung vom  5. Dezember  2005 (BGBl. I  S. 3202;  \\n2006 I  S. 431;  2007 I  S. 1781), die zuletzt  durch  Artikel 8 des  Gesetzes  vom  22. Dezember  2020  (BGBl. I  S. 3320)  \\ngeändert worden ist, wird wie folgt geändert:  \\n1.  Die Inhaltsübersicht wird wie folgt geändert:  \\na)  Der  Angabe zu  § 130a werden ein Semikolon und das Wort „Verordnungsermächtigung“ angefügt.  \\nb)  Die  Angaben zu den §§ 173 bis 176 werden wie folgt gefasst:  \\n„§ 173   Zustellung elektronischer Dokumente \\n§ 174   Zustellung durch Aushändigung an der  Amtsstelle  \\n§ 175   Zustellung eines  Schriftstücks gegen Empfangsbekenntnis  \\n§ 176   Zustellung durch Einschreiben mit  Rückschein; Zustellungsauftrag“.  \\n2.  § 130a wird wie folgt geändert:  \\na)  Der  Überschrift  werden ein Semikolon und das  Wort „Verordnungsermächtigung“ angefügt.  \\nb)  Absatz 2 Satz 2 wird wie folgt gefasst:  \\n„Die Bundesregierung bestimmt  durch Rechtsverordnung mit  Zustimmung des  Bundesrates  technische \\nRahmenbedingungen für die Übermittlung und Eignung zur  Bearbeitung durch  das  Gericht.“ \\nc)  Absatz 4 wird wie folgt  geändert:  \\naa)  In Nummer 3 werden  nach dem  Wort  „Gerichts“ das  Semikolon und  die Wörter  „das  Nähere regelt  \\ndie Verordnung nach  Absatz 2 Satz 2“ gestrichen.  \\nbb)  Nach  Nummer  3 werden die  folgenden Nummern 4 und 5  eingefügt:  \\n„4.  der  Übermittlungsweg zwischen  einem  nach  Durchführung eines  Identifizierungsverfahrens  \\neingerichteten elektronischen Postfach einer natürlichen  oder juristischen  Person oder  einer  \\nsonstigen Vereinigung und der elektronischen Poststelle des Gerichts,  \\n5.  der  Übermittlungsweg zwischen  einem  nach  Durchführung eines  Identifizierungsverfahrens  \\ngenutzten  Postfach- und  Versanddienst  eines  Nutzerkontos  im  Sinne des  § 2  Absatz 5 des  \\nOnlinezugangsgesetzes  und  der  elektronischen Poststelle des Gerichts,“.  \\n*   Notifiziert  gemäß  der  Richtlinie  (EU)  2015/1535  des  Europäischen  Parlaments  und  des Rates vom  9.  September  2015  über  ein  Informationsver-\\nfahren  auf  dem Gebiet  der  technischen  Vorschriften  und  der  Vorschriften  für  die  Dienste  der  Informati-onsgesellschaft  (ABl.  L  241  vom  \\n17.9.2015,  S.  1).  Drucksache  19/28399  – 8 –   Deutscher  Bundestag – 19. Wahlperiode \\ncc)  Die bisherige Nummer 4 wird Nummer 6. \\ndd)  Folgender Satz wird angefügt:   \\n„Das  Nähere  zu den  Übermittlungswegen  gemäß  Satz 1 Nummer 3  bis  5 regelt  die Rechtsverord-\\nnung nach Absatz 2 Satz 2.“  \\nd)  In Absatz 6  Satz 1  werden  die Wörter  „und  auf  die geltenden  technischen  Rahmenbedingungen“ gestri-\\nchen.  \\n3.  In § 168 Absatz 1 Satz 1 wird die Angabe „175“  durch die Angabe „176  Absatz 1“ ersetzt. \\n4.  Nach  § 172 wird folgender  § 173 eingefügt:  \\n„§ 173  \\nZustellung elektronischer Dokumente \\n(1)  Ein  elektronisches  Dokument  kann  elektronisch  nur  auf  einem  sicheren  Übermittlungsweg  zuge-\\nstellt werden.  \\n(2)  Einen sicheren Übermittlungsweg für  die elektronische  Zustellung eines  elektronischen Doku-\\nments haben zu eröffnen:  \\n1.  Rechtsanwälte, Notare,  Gerichtsvollzieher, Steuerberater  sowie sonstige in professioneller Eigenschaft  \\nam  Prozess  beteiligte Personen, Vereinigungen und  Organisationen, bei  denen  von einer  erhöhten Zu-\\nverlässigkeit  ausgegangen werden kann, sowie  \\n2.  Behörden, Körperschaften oder Anstalten des öffentlichen Rechts. \\n(3)  Die elektronische Zustellung an  die  in Absatz 2  Genannten wird durch  ein elektronisches  Emp-\\nfangsbekenntnis  nachgewiesen, das  an  das  Gericht  zu  übermitteln ist. Für  die Übermittlung ist  der  vom  Ge-\\nricht  mit  der  Zustellung zur  Verfügung  gestellte  strukturierte Datensatz zu verwenden. Stellt  das  Gericht  \\nkeinen strukturierten Datensatz zur  Verfügung, so  ist  dem  Gericht  das  elektronische  Empfangsbekenntnis  \\nals  elektronisches Dokument  (§ 130a) zu übermitteln.  \\n(4)  An  andere als  die in Absatz 2 Genannten  kann ein elektronisches  Dokument  elektronisch  nur  zu-\\ngestellt werden, wenn sie der Zustellung elektronischer  Dokumente für das jeweilige Verfahren zugestimmt  \\nhaben. Die Zustimmung  gilt  mit  der  Einreichung eines  elektronischen  Dokuments  im  jeweiligen  Verfahren  \\nauf  einem  sicheren  Übermittlungsweg als  erteilt.  Andere  als  natürliche Personen  können die Zustimmung \\nauch  allgemein  erteilen. Ein elektronisches Dokument  gilt  am  dritten  Tag nach dem  auf  der  automatisierten \\nEingangsbestätigung ausgewiesenen  Tag des  Eingangs  in dem  vom  Empfänger  eröffneten  elektronischen  \\nPostfach als  zugestellt. Satz 4 gilt  nicht, wenn der  Empfänger  nachweist, dass  das  Dokument  nicht  oder  zu  \\neinem späteren Zeitpunkt zugegangen ist.“ \\n5.  Der bisherige § 173  wird § 174.  \\n6.  Der bisherige § 174  wird aufgehoben.  \\n7.  Die §§  175  und 176 werden  wie  folgt gefasst:  \\n„§ 175  \\nZustellung eines Schriftstücks  gegen Empfangsbekenntnis  \\n(1)  Ein  Schriftstück kann  den  in  § 173  Absatz 2 Genannten  gegen Empfangsbekenntnis  zugestellt  wer-\\nden.  \\n(2)  Eine Zustellung gegen Empfangsbekenntnis  kann auch  durch Telekopie  erfolgen.  Die  Übermitt-\\nlung soll  mit dem Hinweis  „Zustellung gegen Empfangsbekenntnis“ eingeleitet werden und die absendende  Deutscher  Bundestag – 19. Wahlperiode   – 9 –   Drucksache  19/28399 \\nStelle, den  Namen und  die Anschrift  des  Zustellungsadressaten sowie den  Namen  des  Justizbediensteten  \\nerkennen lassen, der das  Dokument zur Übermittlung aufgegeben  hat.  \\n(3)  Die Zustellung  nach  den Absätzen 1 und 2  wird durch  das  mit  Datum  und  Unterschrift des  Adres-\\nsaten versehene Empfangsbekenntnis nachgewiesen.  \\n(4)  Das  Empfangsbekenntnis  muss  schriftlich, durch Telekopie oder  als  elektronisches  Dokument  \\n(§ 130a) an das  Gericht  gesandt  werden.  \\n§ 176  \\nZustellung durch Einschreiben mit Rückschein; Zustellungsauftrag  \\n(1)  Ein  Schriftstück kann  durch  Einschreiben  mit  Rückschein zugestellt  werden.  Zum  Nachweis  der  \\nZustellung genügt der  Rückschein.  \\n(2)  Wird zur  Zustellung eines  Schriftstücks  der  Post, einem  Justizbediensteten  oder  einem  Gerichts-\\nvollzieher  ein Zustellungsauftrag erteilt  oder  wird  eine andere Behörde um  die Ausführung  der  Zustellung  \\nersucht, so übergibt  die Geschäftsstelle das  zuzustellende Schriftstück  in  einem  verschlossenen Umschlag  \\nund ein  vorbereitetes  Formular  einer  Zustellungsurkunde. Die  Ausführung der  Zustellung erfolgt  nach  den  \\n§§ 177 bis 181.“  \\n8.  § 183 wird wie folgt geändert:  \\na)  Absatz 2 Satz 2 wird wie folgt gefasst:  \\n„Wenn  Schriftstücke aufgrund  solcher  Vereinbarungen unmittelbar  durch die Post  zugestellt  werden  \\ndürfen, dann soll  dies  durch Einschreiben  mit  Rückschein  oder  mittels  eines gleichwertigen Nachweises  \\nbewirkt  werden,  anderenfalls  soll  die  Zustellung  auf  Ersuchen des  Vorsitzenden des  Prozessgerichts  \\nunmittelbar durch die Behörden des fremden Staates erfolgen.“  \\nb)  In Absatz  5 Satz 1  werden nach dem  Wort  „Rückschein“ die Wörter  „oder  ein gleichwertiger  Nach-\\nweis“ eingefügt.  \\n9.  § 195 wird wie folgt geändert:  \\na)  Absatz 1 Satz 5 wird wie folgt gefasst:   \\n„Für  die Zustellung von Anwalt  zu Anwalt  gelten § 173  Absatz 1 und § 175 Absatz 2 Satz 1 entspre-\\nchend.“  \\nb)  Absatz 2 wird wie folgt  geändert:  \\naa)  Satz 1 wird wie folgt gefasst:  \\n„Zum Nachweis der Zustellung eines Schriftstücks genügt  das  mit Datum und Unterschrift verse-\\nhene Empfangsbekenntnis desjenigen Anwalts, dem zugestellt worden ist“.  \\nbb)  In Satz 2 werden die Wörter  „§ 174 Absatz 4 Satz 2  bis  4“ durch  die Angabe „§ 175  Absatz 4“  \\nersetzt.  \\ncc)  Nach  Satz 2 wird folgender  Satz eingefügt:  \\n„Die Zustellung  eines  elektronischen  Dokuments  ist  durch ein elektronisches  Empfangsbekenntnis  \\nin  Form eines  strukturierten Datensatzes nachzuweisen.“  Drucksache  19/28399  – 10 –   Deutscher  Bundestag – 19. Wahlperiode \\n10.  Dem § 278 Absatz 2 wird folgender Satz angefügt:  \\n„§ 128a Absatz 1 und 3 gilt entsprechend.“  \\n11.  § 753  Absatz 4 Satz 4 wird wie folgt gefasst:  \\n„Die nach Satz 1 elektronisch eingereichten Dokumente kann der  Gerichtsvollzieher  elektronisch zustellen;  \\n§ 173 ist entsprechend anzuwenden.“  \\n',\n",
       "  'Änderung der Strafprozessordnung  \\nDie Strafprozessordnung in der  Fassung der  Bekanntmachung vom  7. April  1987 (BGBl. I  S. 1074, 1319),  \\ndie zuletzt durch … geändert worden ist, wird wie folgt geändert:  \\n1.  § 32a wird wie folgt geändert:  \\na)  Absatz 2 Satz 2 wird wie folgt gefasst:  \\n„Die Bundesregierung bestimmt  durch Rechtsverordnung mit  Zustimmung des  Bundesrates  technische \\nRahmenbedingungen  für  die Übermittlung  und Eignung zur  Bearbeitung  durch  die  Strafverfolgungsbe-\\nhörde oder das  Gericht.“  \\nb)  Absatz 4 wird wie folgt  geändert:  \\naa)  In Nummer 3 werden  nach dem  Wort  „Gerichts“ das  Semikolon und  die Wörter  „das  Nähere regelt  \\ndie Verordnung nach  Absatz 2 Satz 2“ gestrichen.  \\nbb)  Nach  Nummer  3 werden die  folgenden Nummern 4 und 5  eingefügt:  \\n„4.  der  Übermittlungsweg zwischen  einem  nach  Durchführung eines  Identifizierungsverfahrens  \\neingerichteten elektronischen Postfach einer natürlichen  oder juristischen  Person oder  einer  \\nsonstigen Vereinigung und der elektronischen Poststelle der Behörde oder  des  Gerichts,  \\n5.  der  Übermittlungsweg zwischen  einem  nach  Durchführung eines  Identifizierungsverfahrens  \\ngenutzten  Postfach- und  Versanddienst  eines  Nutzerkontos  im  Sinne des  § 2  Absatz 5 des  \\nOnlinezugangsgesetzes  und  der  elektronischen Poststelle der Behörde oder des  Gerichts,“. \\ncc)  Die bisherige Nummer 4 wird Nummer 6. \\ndd)  Folgender Satz wird angefügt:   \\n„Das  Nähere  zu den  Übermittlungswegen  gemäß  Satz 1 Nummer 3  bis  5 regelt  die Rechtsverord-\\nnung nach Absatz 2 Satz 2.“  \\nc)  In Absatz 6  Satz 1  werden  die Wörter  „und  auf  die geltenden  technischen  Rahmenbedingungen“ gestri-\\nchen.   \\n2.  In § 111k Absatz 2 Satz 2  wird die Angabe „gilt  § 174“ durch  die Wörter  „gelten die §§ 173  und  175“ ersetzt.  Deutscher  Bundestag – 19. Wahlperiode   – 11 –   Drucksache  19/28399 \\n',\n",
       "  'Änderung des  Gesetzes  über  das Verfahren  in Familiensachen und in  Angelegenheiten der  \\nfreiwilligen Gerichtsbarkeit  \\n§ 14b  des  Gesetzes  über  das  Verfahren  in  Familiensachen  und  in den Angelegenheiten  der  freiwilligen Ge-\\nrichtsbarkeit vom 17. Dezember 2008 (BGBl. I S. 2586, 2587), das zuletzt durch Artikel 4 des Gesetzes vom 19.  \\nMärz 2020 (BGBl. I S. 541)  geändert worden ist, wird wie folgt gefasst:   \\n„§ 14b  \\nNutzungspflicht für Rechtsanwälte, Notare und Behörden \\n(1)  Werden  schriftlich einzureichende Anträge und  Erklärungen durch  einen Rechtsanwalt, einen  Notar,  \\ndurch  eine  Behörde  oder  durch  eine juristische  Person des  öffentlichen  Rechts  einschließlich der  von ihr  zur  Er-\\nfüllung  ihrer  öffentlichen Aufgaben  gebildeten Zusammenschlüsse eingereicht,  so sind sie  als  elektronisches  Do-\\nkument  zu übermitteln. Ist  dies  aus  technischen  Gründen  vorübergehend  nicht  möglich, bleibt  die Übermittlung  \\nnach  den allgemeinen  Vorschriften zulässig. Die vorübergehende  Unmöglichkeit  ist  mit  der  Ersatzeinreichung \\noder  unverzüglich danach glaubhaft  zu machen;  auf  Anforderung ist  ein  elektronisches  Dokument  nachzureichen.  \\n(2)  Andere  Anträge und Erklärungen, die  durch  einen  Rechtsanwalt, einen Notar, durch eine Behörde oder  \\ndurch  eine juristische Person  des  öffentlichen Rechts  einschließlich der  von ihr  zur  Erfüllung ihrer  öffentlichen  \\nAufgaben  gebildeten Zusammenschlüsse eingereicht  werden, sollen als  elektronisches  Dokument  übermittelt  wer-\\nden. Werden sie nach  den  allgemeinen Vorschriften übermittelt, ist  auf  Anforderung ein elektronisches  Dokument  \\nnachzureichen.“  \\n',\n",
       "  'Änderung der  Elektronischer-Rechtsverkehr-Verordnung  \\nDie Elektronischer-Rechtsverkehr-Verordnung  vom  24. November  2017  (BGBl. I  S. 3803), die durch Arti-\\nkel 1 der  Verordnung vom 9. Februar 2018 (BGBl. I S. 200) geändert worden ist, wird wie  folgt geändert:  \\n1.  In § 1 Absatz 1 Satz 2 wird die Angabe „Kapitels 4“ durch „Kapitels 5“ ersetzt.  \\n2.  § 2 wird wie folgt geändert:  \\na)  In Absatz 1 Satz 1  werden die Wörter  „in druckbarer,  kopierbarer  und, soweit  technisch  möglich,  durch-\\nsuchbarer  Form“ gestrichen. \\nb)  Absatz 2 wird wie folgt  gefasst:  \\n„(2)   Das  elektronische Dokument  soll  den nach § 5 Absatz 1 Nummer 1  und 6 bekanntgemachten \\ntechnischen  Standards entsprechen.“  \\n3.  § 5 wird wie folgt geändert:  \\na)  In der Überschrift wird das Wort „Anforderungen“ durch das Wort „Standards“ ersetzt. \\nb)  Absatz 1 wird wie folgt  geändert:  \\naa)  In dem  Satzteil  vor  Nummer 1 werden die Wörter  „Anforderungen an“ durch die Wörter  „Stan-\\ndards für“ ersetzt und werden vor dem Wort „Bearbeitung“ die Wörter  „Eignung zur“ eingefügt.  Drucksache  19/28399  – 12 –   Deutscher  Bundestag – 19. Wahlperiode \\nbb)  In Nummer 5 wird der Punkt  am Ende durch das Wort „und“ ersetzt.  \\ncc)  Folgende Nummer 6 wird angefügt:  \\n„6.   die technischen Eigenschaften der elektronischen Dokumente.“  \\nc)  In Absatz 2 werden jeweils die Wörter „Anforderungen“ durch das  Wort „Standards“ ersetzt.  \\n4.  § 6 wird wie folgt geändert:  \\na)  In Absatz 1 in dem Satzteil vor Nummer 1 wird das Wort „(Postfachinhaber)“ gestrichen.  \\nb)  In Absatz 2 Nummer 3  werden die Wörter  „vom  12. September  2011 (BGBl. I  S.  1843), die zuletzt  \\ndurch Artikel 4 der  Verordnung vom  25.  November  2016  (BGBl. I  S. 2659)  geändert  worden  ist, in der  \\njeweils geltenden Fassung“ gestrichen.  \\n5.  Nach  § 9 wird folgendes  Kapitel 4 eingefügt:   \\n„Kapitel 4 \\nBesonderes elektronisches Bürger- und Organisationenpostfach; Postfach- und Versanddienst  \\neines Nutzerkontos \\n§ 10  \\nBesonderes elektronisches  Bürger- und Organisationenpostfach  \\n(1)  Natürliche  Personen, juristische Personen sowie sonstige Vereinigungen können  zur  Übermittlung \\nelektronischer  Dokumente auf  einem  sicheren Übermittlungsweg  ein  besonderes  elektronisches  Bürger- und  \\nOrganisationenpostfach verwenden,  \\n1.  das  auf  dem  Protokollstandard OSCI  oder  einem  diesen ersetzenden,  dem  jeweiligen  Stand der  Technik  \\nentsprechenden Protokollstandard beruht,  \\n2.  bei dem die Identität des Postfachinhabers festgestellt worden ist,   \\n3.  bei dem der Postfachinhaber  in ein sicheres elektronisches Verzeichnis  eingetragen ist,  \\n4.  bei dem sich der  Postfachinhaber beim Versand eines elektronischen  Dokuments authentisiert und \\n5.  bei dem feststellbar  ist, dass  das elektronische Dokument  vom Postfachinhaber  versandt wurde. \\n(2)  Das besondere elektronische Bürger- und Organisationenpostfach muss   \\n1.  über  eine Suchfunktion verfügen, die es  ermöglicht, Inhaber  eines besonderen elektronischen  Anwalts-\\npostfachs, eines  besonderen elektronischen  Notarpostfachs  oder  eines  besonderen elektronischen Be-\\nhördenpostfachs aufzufinden,  \\n2.  für  Inhaber  besonderer  elektronischer  Anwaltspostfächer, besonderer  elektronischer  Notarpostfächer  \\noder besonderer elektronischer Behördenpostfächer adressierbar sein und  \\n3.  barrierefrei sein im Sinne der Barrierefreie-Informationstechnik-Verordnung.  \\n§ 11  \\nIdentifizierung und Authentisierung des  Postfachinhabers  \\n(1)  Die Länder  oder  mehrere Länder  gemeinsam  bestimmen jeweils  für  ihren Bereich eine öffentlich-\\nrechtliche Stelle, die die Freischaltung eines  besonderen  elektronischen  Bürger- und Organisationenpost-\\nfachs veranlasst.  Deutscher  Bundestag – 19. Wahlperiode   – 13 –   Drucksache  19/28399 \\n(2)  Der  Postfachinhaber  hat  im  Rahmen der  Identitätsfeststellung seinen Namen und seine  Anschrift  \\nnachzuweisen. Der  Nachweis kann nur durch eines der folgenden Identifizierungsmittel  erfolgen:   \\n1.  den elektronischen  Identitätsnachweis  nach  § 18  des  Personalausweisgesetzes, nach § 12 des  eID-\\nKarte-Gesetzes  oder nach  § 78 Absatz 5 des Aufenthaltsgesetzes,  \\n2.  ein qualifiziertes  elektronisches  Siegel  nach Artikel 38 der  Verordnung  (EU)  Nr. 910/2014 des  Euro-\\npäischen  Parlaments  und des  Rates  vom  23. Juli  2014 über  elektronische  Identifizierung und  Vertrau-\\nensdienste  für   elektronische  Transaktionen   im   Binnenmarkt   und  zur   Aufhebung   der   Richtlinie \\n1999/93/EG  (ABl. L  257 vom  28.8.2014,  S. 73;  L  23 vom  29.1.2015, S. 19;  L  155 vom  14.6.2016,  \\nS. 44),  \\n3.  bei  öffentlich bestellten oder  beeidigten  Personen, die Dolmetscher- oder  Übersetzungsleistungen er-\\nbringen, eine Bestätigung der  nach  dem  Gerichtsdolmetschergesetz oder  dem  jeweiligen Landesrecht  \\nfür  die öffentliche Bestellung  und  Beeidigung dieser  Personen  zuständigen Stelle, auch  hinsichtlich der  \\nAngaben zu Berufsbezeichnung sowie zur  Sprache, für  die die Bestellung erfolgt,  \\n4.  bei  Gerichtsvollziehern eine  Bestätigung  der  für  ihre Ernennung  zuständigen Stelle,  auch hinsichtlich  \\nder Dienstbezeichnung, oder   \\n5.  eine in öffentlich beglaubigter  Form  abgegebene Erklärung  über  den Namen und die Anschrift  des  \\nPostfachinhabers sowie die eindeutige Bezeichnung des  Postfachs.  \\nEine nach Satz 2 Nummer  5 angegebene  geschäftliche  Anschrift  ist  durch  eine  Bescheinigung  nach  § 21  \\nAbsatz 1  der  Bundesnotarordnung,  einen  amtlichen Registerausdruck oder  eine  beglaubigte  Registerab-\\nschrift  nachzuweisen.  Geht  eine angegebene  geschäftliche  Anschrift  nicht  aus  einem  öffentlichen Register  \\nhervor, so stellt  die Stelle nach Absatz 1 diese durch geeignete Maßnahmen  fest. Die Übermittlung  von Daten  \\nnach Satz 2 Nummer  3 bis 5 an die in Absatz 1 genannte öffentlich-rechtliche Stelle erfolgt in strukturierter  \\nmaschinenlesbarer  Form. Im  Fall  des  Satzes  2 Nummer 5 ist  der  öffentlich-rechtlichen  Stelle zusätzlich eine \\nöffentlich beglaubigte elektronische Abschrift  der Erklärung zu übermitteln.  \\n(3)  Der  Postfachinhaber  hat  sich  beim  Versand eines  elektronischen  Dokuments  zu authentisieren  \\ndurch  \\n1.  den elektronischen  Identitätsnachweis  nach  § 18  des  Personalausweisgesetzes, nach § 12 des  eID-\\nKarte-Gesetzes  oder nach  § 78 Absatz 5 des Aufenthaltsgesetzes,  \\n2.  ein Authentisierungszertifikat, das  auf  einer  qualifizierten elektronischen  Signaturerstellungseinheit  \\nnach dem Anhang II  der Verordnung (EU) Nr. 910/2014 gespeichert ist, oder  \\n3.  ein nichtqualifiziertes Authentisierungszertifikat, das über Dienste validierbar ist, die über  das Internet  \\nerreichbar sind.  \\n§ 12  \\nÄnderung von Angaben und Löschung des  Postfachs  \\n(1)  Bei Änderung seiner  Daten hat der  Postfachinhaber unverzüglich die Anpassung seines Postfachs \\nbei  der  nach  § 11  Absatz 1 bestimmten Stelle  zu veranlassen. Das  betrifft  insbesondere die Änderung  seines  \\nNamens  oder  seiner  Anschrift, bei  juristischen  Personen oder  sonstigen Vereinigungen  auch bei  der  Ände-\\nrung des  Sitzes. \\n(2)  Der  Postfachinhaber  kann jederzeit  die Löschung seines  besonderen elektronischen Bürger- und \\nOrganisationenpostfachs veranlassen.  Drucksache  19/28399  – 14 –   Deutscher  Bundestag – 19. Wahlperiode \\n§ 13  \\nElektronische Kommunikation über den  Postfach- und Versanddienst eines  Nutzerkontos  \\n(1)  Zur  Übermittlung  elektronischer  Dokumente auf  einem  sicheren Übermittlungsweg kann der  Post-\\nfach- und Versanddienst  eines  Nutzerkontos  im  Sinne  des  § 2 Absatz 5  des  Onlinezugangsgesetzes  genutzt  \\nwerden, wenn bei diesem Postfach- und Versanddienst  \\n1.  eine technische Vorrichtung besteht, die auf  dem  Protokollstandard  OSCI  oder  einem  diesen ersetzen-\\nden, dem jeweiligen Stand der Technik entsprechenden Protokollstandard beruht,  \\n2.  die Identität  des  Nutzers  des Postfach- und Versanddienstes  durch  ein  Identifizierungsmittel  nach § 11 \\nAbsatz 2 Satz 2  Nummer 1 oder 2 festgestellt ist,  \\n3.  der  Nutzer  des  Postfach- und  Versanddienstes  sich  beim Versand  eines  elektronischen  Dokuments  ent-\\nsprechend  § 11  Absatz 3 authentisiert und \\n4.  feststellbar  ist, dass  das  elektronische Dokument  von dem  Nutzer  des  Postfach- und Versanddienstes  \\nversandt wurde. \\n(2)  Der  Postfach- und Versanddienst  muss  barrierefrei  sein im  Sinne der  Barrierefreie-Informations-\\ntechnik-Verordnung.“  \\n6.  Das bisherige Kapitel 4 wird Kapitel 5.  \\n7.  Der  bisherige  § 10  wird § 14  und in dem  Satzteil  vor  Nummer 1  werden die Wörter  „Kapitel  2 und  3“  durch  \\ndie Wörter „Kapitel 2 bis 4“ ersetzt.  \\n8.  Der bisherige § 11 wird § 15. \\n9.  Das bisherige Kapitel 5 wird aufgehoben.  \\n',\n",
       "  'Änderung des  Arbeitsgerichtsgesetzes  \\nDas  Arbeitsgerichtsgesetz in der  Fassung  der  Bekanntmachung  vom  2. Juli  1979  (BGBl. I  S. 853, 1036),  das  \\nzuletzt  durch Artikel 12 des Gesetzes  vom  12.  Juni  2020  (BGBl. I  S. 1248)  geändert  worden ist, wird wie folgt  \\ngeändert:  \\n1.  In § 64 Absatz 7  werden  die Wörter  „Die Vorschriften  des  §“ durch die Wörter  „Die  Vorschriften der  §§ 46c  \\nbis 46f,“ ersetzt  und  werden nach den Wörtern „und der §§ 62  und 63 über“  die Wörter „den elektronischen  \\nRechtsverkehr,“ eingefügt.  \\n2.  In § 72 Absatz 6  werden  die Wörter  „Die Vorschriften  des  §“ durch die Wörter  „Die  Vorschriften der  §§ 46c  \\nbis  46f,“  ersetzt  und werden  nach  den Wörtern „und des  § 63  dieses  Gesetzes  über“  die Wörter  „den  elekt-\\nronischen  Rechtsverkehr,“  eingefügt.  \\n3.  § 80 Absatz 2  Satz 1 wird wie folgt gefasst:   \\n„Für  das  Beschlussverfahren des  ersten  Rechtszugs  gelten  die für  das  Urteilsverfahren des  ersten Rechtszugs  \\nmaßgebenden Vorschriften entsprechend, soweit sich aus  den §§ 81 bis 84 nichts anderes ergibt.“  \\n4.  § 87 Absatz 2  Satz 1 wird wie folgt gefasst:  \\n„Für  das  Beschwerdeverfahren gelten  die für  das Berufungsverfahren  maßgebenden  Vorschriften sowie die  \\nVorschrift  des  §  85 über  die  Zwangsvollstreckung entsprechend, soweit  sich aus  den §§ 88 bis  91  nichts  \\nanderes  ergibt.“  \\n5.  § 90 Absatz 3 wird aufgehoben.  Deutscher  Bundestag – 19. Wahlperiode   – 15 –   Drucksache  19/28399 \\n6.  § 92 Absatz 2  Satz 1 wird wie folgt gefasst:  \\n„Für  das Rechtsbeschwerdeverfahren  gelten  die für  das  Revisionsverfahren maßgebenden Vorschriften so-\\nwie die Vorschrift  des § 85 über  die Zwangsvollstreckung entsprechend, soweit  sich aus  den §§ 93  bis  96  \\nnichts anderes ergibt.“  \\n7.  In § 97 Absatz 2a Satz 1 und § 98 Absatz 3 Satz 1 wird jeweils  die Angabe „§ 90 Absatz 3,“ gestrichen.  \\n',\n",
       "  'Weitere Änderung des Arbeitsgerichtsgesetzes  \\nDas  Arbeitsgerichtsgesetz, das  zuletzt  durch Artikel  5 dieses  Gesetzes  geändert  worden ist, wird wie folgt  \\ngeändert:  \\n1.  § 46c wird wie folgt geändert:  \\na)  Der  Überschrift  werden ein Semikolon und das  Wort „Verordnungsermächtigung“ angefügt.  \\nb)  Absatz 2 Satz 2 wird wie folgt gefasst:  \\n„Die Bundesregierung bestimmt  durch Rechtsverordnung mit  Zustimmung des  Bundesrates  technische \\nRahmenbedingungen für die Übermittlung und Eignung zur  Bearbeitung durch  das  Gericht.“ \\nc)  Absatz 4 wird wie folgt  geändert:  \\naa)  In Nummer 3 werden  nach dem  Wort  „Gerichts“ das  Semikolon und  die Wörter  „das  Nähere regelt  \\ndie Verordnung nach  Absatz 2 Satz 2“ gestrichen.  \\nbb)  Nach  Nummer  3 werden die  folgenden Nummern 4 und 5  eingefügt:  \\n„4.  der  Übermittlungsweg zwischen  einem  nach  Durchführung eines  Identifizierungsverfahrens  \\neingerichteten elektronischen Postfach einer natürlichen  oder juristischen  Person oder  einer  \\nsonstigen Vereinigung und der elektronischen Poststelle des Gerichts,  \\n5.  der  Übermittlungsweg zwischen  einem  nach  Durchführung eines  Identifizierungsverfahrens  \\ngenutzten  Postfach- und  Versanddienst  eines  Nutzerkontos  im  Sinne des  § 2  Absatz 5 des  \\nOnlinezugangsgesetzes  und  der  elektronischen Poststelle des Gerichts,“.  \\ncc)  Die bisherige Nummer 4 wird Nummer 6. \\ndd)  Folgender Satz wird angefügt:  \\n„Das  Nähere  zu den  Übermittlungswegen  gemäß  Satz 1 Nummer 3  bis  5 regelt  die Rechtsverord-\\nnung nach Absatz 2 Satz 2.“  \\nd)  In Absatz 6 Satz 1  werden die Wörter  „und die geltenden  technischen Rahmenbedingungen“  gestrichen.  \\n2.  In § 50  Absatz 2 wird die Angabe „§§ 174, 178 Abs. 1 Nr. 2“ durch die Wörter  „§§  173,  175  und 178  Ab-\\nsatz 1 Nummer 2“ ersetzt. Drucksache  19/28399  – 16 –   Deutscher  Bundestag – 19. Wahlperiode \\n',\n",
       "  'Weitere  Änderung des Arbeitsgerichtsgesetzes zum  1. Januar 2022  \\nDas  Arbeitsgerichtsgesetz, das  zuletzt  durch Artikel  6 dieses  Gesetzes  geändert  worden ist, wird wie folgt  \\ngeändert:  \\n1.  In § 46g Satz 2 wird nach der Angabe „Absatz 4“ die Angabe „Satz 1“ eingefügt.  \\n2.  In § 64 Absatz 7 wird die Angabe „46f“ durch die Angabe „46g“ ersetzt. \\n3.  In § 72 Absatz 6 wird die Angabe „46f“ durch die Angabe „46g“ ersetzt. \\n',\n",
       "  'Weitere  Änderung des Arbeitsgerichtsgesetzes zum  1. Januar 2026  \\n§ 46g  des  Arbeitsgerichtsgesetzes, das  zuletzt  durch Artikel 7 dieses  Gesetzes  geändert  worden ist, wird wie \\nfolgt geändert:  \\n1.  Die Überschrift wird wie folgt gefasst:  \\n„§ 46g  \\nNutzungspflicht  für Rechtsanwälte, Behörden und vertretungsberechtigte Bevollmächtigte“. \\n2.  Satz 2 wird wie folgt gefasst:  \\n„Gleiches  gilt  für  die nach  diesem  Gesetz  vertretungsberechtigten Personen und  Bevollmächtigten, für  die \\nein sicherer Übermittlungsweg nach § 46c Absatz 4 Satz 1 Nummer 2 oder Nummer 4 zur Verfügung steht;  \\nausgenommen sind nach  § 11 Absatz 2  Satz 2  Nummer 1 Halbsatz 1  oder  Nummer 2  vertretungsbefugte  \\nPersonen.“  \\n',\n",
       "  'Änderung des Sozialgerichtsgesetzes  \\nDas  Sozialgerichtsgesetz in der  Fassung  der  Bekanntmachung  vom  23. September  1975 (BGBl. I  S. 2535),  \\ndas  zuletzt  durch Artikel 5 des  Gesetzes  vom  18. Januar  2021  (BGBl. I  S. 2)  geändert  worden  ist, wird wie  folgt  \\ngeändert:  \\n1.  In § 63 Absatz 2 Satz 2 wird die Angabe „§§ 174,“ durch die Angabe „§§ 173, 175 und“  ersetzt.  \\n2.  § 65a wird wie folgt geändert:  \\na)  Absatz 2 Satz 2 wird wie folgt gefasst:  \\n„Die Bundesregierung bestimmt  durch Rechtsverordnung mit  Zustimmung des  Bundesrates  technische \\nRahmenbedingungen für die Übermittlung und Eignung zur  Bearbeitung durch  das  Gericht.“ \\nb)  Absatz 4 wird wie folgt  geändert:  \\naa)  In Nummer 3 werden  nach dem  Wort  „Gerichts“ das  Semikolon und  die Wörter  „das  Nähere regelt  \\ndie Verordnung nach  Absatz 2 Satz 2“ gestrichen.  Deutscher  Bundestag – 19. Wahlperiode   – 17 –   Drucksache  19/28399 \\nbb)  Nach  Nummer  3 werden die  folgenden Nummern 4 und 5  eingefügt:  \\n„4.  der  Übermittlungsweg zwischen  einem  nach  Durchführung eines  Identifizierungsverfahrens  \\neingerichteten elektronischen Postfach einer natürlichen  oder juristischen  Person oder  einer  \\nsonstigen Vereinigung und der elektronischen Poststelle des Gerichts,  \\n5.  der  Übermittlungsweg zwischen  einem  nach  Durchführung eines  Identifizierungsverfahrens  \\ngenutzten  Postfach- und  Versanddienst  eines  Nutzerkontos  im  Sinne des  § 2  Absatz 5 des  \\nOnlinezugangsgesetzes  und  der  elektronischen Poststelle des Gerichts,“.  \\ncc)  Die bisherige Nummer 4 wird Nummer 6. \\ndd)  Folgender Satz wird angefügt:   \\n„Das  Nähere  zu den  Übermittlungswegen  gemäß  Satz 1 Nummer 3  bis  5 regelt  die Rechtsverord-\\nnung nach Absatz 2 Satz 2.“  \\nc)  In Absatz 6 Satz 1  werden die Wörter  „und die geltenden  technischen Rahmenbedingungen“  gestrichen.  \\n',\n",
       "  'Weitere Änderung des Sozialgerichtsgesetzes zum  1. Januar 2022  \\nIn § 65d Satz 2 des  Sozialgerichtsgesetzes, das zuletzt  durch  Artikel 9 dieses  Gesetzes  geändert  worden ist,  \\nwird nach der  Angabe „Absatz 4“ die Angabe „Satz 1“ eingefügt.  \\n',\n",
       "  'Weitere Änderung des Sozialgerichtsgesetzes zum  1. Januar 2026  \\n§ 65d  des  Sozialgerichtsgesetzes, das  zuletzt  durch  Artikel 10 dieses  Gesetzes  geändert  worden  ist, wird  wie  \\nfolgt geändert:  \\n1.  Die Überschrift wird wie folgt gefasst:   \\n„§ 65d  \\nNutzungspflicht  für Rechtsanwälte, Behörden und vertretungsberechtigte Bevollmächtigte“. \\n2.  Satz 2 wird wie folgt gefasst:  \\n„Gleiches  gilt  für  die nach  diesem  Gesetz  vertretungsberechtigten Personen und  Bevollmächtigten, für  die \\nein sicherer Übermittlungsweg nach § 65a Absatz 4 Satz 1 Nummer 2 oder Nummer 4 zur Verfügung steht;  \\nausgenommen sind nach  § 73 Absatz 2  Satz 2  Nummer 1 Halbsatz 1  oder  Nummer 2  vertretungsbefugte  \\nPersonen.“  Drucksache  19/28399  – 18 –   Deutscher  Bundestag – 19. Wahlperiode \\n',\n",
       "  'Änderung der  Verwaltungsgerichtsordnung  \\n§ 55a der  Verwaltungsgerichtsordnung in der  Fassung der  Bekanntmachung  vom  19. März 1991 (BGBl. I  \\nS.686),  die  zuletzt  durch Artikel 1  des  Gesetzes  vom  3. Dezember  2020  (BGBl. I  S. 2694)  geändert  worden  ist,  \\nwird wie folgt  geändert:  \\n1.  Absatz 2  Satz 2 wird wie folgt gefasst:  \\n„Die Bundesregierung bestimmt  durch  Rechtsverordnung mit  Zustimmung  des Bundesrates  technische Rah-\\nmenbedingungen für die Übermittlung und Eignung zur  Bearbeitung durch das  Gericht.“ \\n2.  Absatz 4 wird wie folgt geändert:  \\na)  In Nummer 3 werden  nach  dem  Wort  „Gerichts“ das  Semikolon und die Wörter  „das  Nähere regelt  die \\nVerordnung  nach  Absatz 2 Satz 2“ gestrichen.  \\nb)  Nach  Nummer 3 werden die folgenden  Nummern 4 und 5 eingefügt:  \\n„4.   der  Übermittlungsweg zwischen einem nach  Durchführung eines Identifizierungsverfahrens ein-\\ngerichteten elektronischen  Postfach  einer  natürlichen  oder  juristischen Person oder  einer  sonsti-\\ngen  Vereinigung und der elektronischen Poststelle des  Gerichts, \\n5.   der  Übermittlungsweg zwischen einem  nach Durchführung  eines  Identifizierungsverfahrens  ge-\\nnutzten Postfach- und  Versanddienst  eines Nutzerkontos  im  Sinne des  § 2  Absatz 5  des  Online-\\nzugangsgesetzes und der elektronischen  Poststelle  des  Gerichts,“. \\nc)  Die bisherige  Nummer 4 wird Nummer 6. \\nd)  Folgender Satz wird angefügt:  \\n„Das  Nähere zu den Übermittlungswegen  gemäß Satz 1 Nummer 3 bis  5 regelt  die Rechtsverordnung  \\nnach Absatz 2  Satz 2.“  \\n3.  In Absatz 6 Satz 1 werden die Wörter „und die geltenden technischen  Rahmenbedingungen“ gestrichen.  \\n',\n",
       "  'Weitere Änderung der Verwaltungsgerichtsordnung zum  1. Januar 2022  \\nIn § 55d  Satz 2  der  Verwaltungsgerichtsordnung, die zuletzt  durch Artikel 12  dieses  Gesetzes  geändert  wor-\\nden ist, wird nach der  Angabe „Absatz 4“ die Angabe „Satz 1“ eingefügt.  Deutscher  Bundestag – 19. Wahlperiode   – 19 –   Drucksache  19/28399 \\n',\n",
       "  'Weitere Änderung der Verwaltungsgerichtsordnung zum  1. Januar 2026  \\n§ 55d  der  Verwaltungsgerichtsordnung,  die zuletzt  durch  Artikel 13 dieses  Gesetzes  geändert  worden ist,  \\nwird wie folgt  geändert:  \\n1.  Die Überschrift wird wie folgt gefasst:   \\n„§ 55d  \\nNutzungspflicht  für Rechtsanwälte, Behörden und vertretungsberechtigte Bevollmächtigte“. \\n2.  Satz 2 wird wie folgt gefasst:  \\n„Gleiches  gilt  für  die nach  diesem  Gesetz  vertretungsberechtigten Personen und  Bevollmächtigten, für  die \\nein sicherer Übermittlungsweg nach § 55a Absatz 4 Satz 1 Nummer 2 oder Nummer 4 zur Verfügung steht;  \\nausgenommen sind nach  § 67 Absatz 2  Satz 2  Nummer 1 Halbsatz 1  oder  Nummer 2  vertretungsbefugte  \\nPersonen.“  \\n',\n",
       "  'Änderung der  Finanzgerichtsordnung  \\n§ 52a der Finanzgerichtsordnung in der  Fassung der Bekanntmachung vom 28. März 2001 (BGBl. I S. 442, \\n2262;  2002  I  S. 679), die zuletzt  durch Artikel 7 des  Gesetzes  vom  12.  Dezember  2019  (BGBl. I  S. 2633)  geändert  \\nworden ist, wird wie folgt  geändert:  \\n1.  Absatz 2  Satz 2 wird wie folgt gefasst:  \\n„Die Bundesregierung bestimmt  durch  Rechtsverordnung mit  Zustimmung  des Bundesrates  technische Rah-\\nmenbedingungen für die Übermittlung und Eignung zur  Bearbeitung durch das  Gericht.“ \\n2.  Absatz 4 wird wie folgt geändert:  \\na)  In Nummer 3 werden  nach  dem  Wort  „Gerichts“ das  Semikolon und die Wörter  „das  Nähere regelt  die \\nVerordnung  nach  Absatz 2 Satz 2“ gestrichen.  \\nb)  Nach  Nummer 3 werden die folgenden  Nummern 4 und 5 eingefügt:  \\n„4.  der  Übermittlungsweg zwischen einem nach  Durchführung eines Identifizierungsverfahrens ein-\\ngerichteten elektronischen  Postfach  einer  natürlichen  oder  juristischen Person oder  einer  sonsti-\\ngen  Vereinigung und der elektronischen Poststelle des  Gerichts, \\n5.  der  Übermittlungsweg zwischen einem  nach Durchführung  eines  Identifizierungsverfahrens  ge-\\nnutzten Postfach- und  Versanddienst  eines Nutzerkontos  im  Sinne des  § 2  Absatz 5  des  Online-\\nzugangsgesetzes und der elektronischen  Poststelle  des  Gerichts,“. \\nc)  Die bisherige  Nummer 4 wird Nummer 6. \\nd)  Folgender Satz wird angefügt:   \\n„Das  Nähere zu den Übermittlungswegen  gemäß Satz 1 Nummer 3 bis  5 regelt  die Rechtsverordnung  \\nnach Absatz 2  Satz 2.“  \\n3.  In Absatz 6 Satz 1 werden die Wörter „und die geltenden technischen  Rahmenbedingungen“ gestrichen.  Drucksache  19/28399  – 20 –   Deutscher  Bundestag – 19. Wahlperiode \\n',\n",
       "  'Weitere Änderung der  Finanzgerichtsordnung zum  1. Januar 2022  \\nIn § 52d  Satz 2  der  Finanzgerichtsordnung,  die zuletzt  durch Artikel 15 dieses  Gesetzes  geändert  worden  ist,  \\nwird nach der  Angabe „Absatz 4“ die Angabe „Satz 1“ eingefügt.  \\n',\n",
       "  'Weitere Änderung der  Finanzgerichtsordnung zum  1. Januar 2026  \\n§ 52d  der  Finanzgerichtsordnung,  die zuletzt  durch Artikel 16 dieses  Gesetzes  geändert  worden  ist, wird  wie  \\nfolgt geändert:  \\n1.  Die Überschrift wird wie folgt gefasst:   \\n„§ 52d  \\nNutzungspflicht  für Rechtsanwälte, Behörden und vertretungsberechtigte Bevollmächtigte“. \\n2.  Satz 2 wird wie folgt gefasst:  \\n„Gleiches  gilt  für  die nach  diesem  Gesetz  vertretungsberechtigten Personen und  Bevollmächtigten, für  die \\nein sicherer Übermittlungsweg nach § 52a Absatz 4 Satz 1 Nummer 2 oder Nummer 4 zur Verfügung steht;  \\nausgenommen sind nach  § 62 Absatz 2  Satz 2  Nummer 1 Halbsatz 1  oder  Nummer 2  vertretungsbefugte  \\nPersonen.“  \\n',\n",
       "  'Änderung der  Bundesrechtsanwaltsordnung  \\nIn § 30 Absatz 2 der  Bundesrechtsanwaltsordnung  in der  im  Bundesgesetzblatt  Teil  III,  Gliederungsnummer  \\n303-8, veröffentlichten bereinigten  Fassung, die zuletzt  durch Artikel 3 des  Gesetzes  vom  22. Dezember  2020  \\n(BGBl. I  S. 3320)  geändert worden ist, wird  die Angabe „§§ 174, 195“ durch die Wörter  „§ 173 Absatz 1  und 2,  \\n§§ 175,  195“ ersetzt. \\n',\n",
       "  'Änderung des  Beurkundungsgesetzes  \\nIn § 67 Absatz 2  des  Beurkundungsgesetzes  vom  28. August  1969  (BGBl. I  S. 1513),  das zuletzt  durch  Ar-\\ntikel 13 des Gesetzes vom  30. November 2019 (BGBl. I S. 1924)  geändert worden ist, werden die Wörter „§ 173  \\nSatz 2 und 3“ durch die Wörter „§ 174 Satz  2 und 3“ ersetzt.  Deutscher  Bundestag – 19. Wahlperiode   – 21 –   Drucksache  19/28399 \\n',\n",
       "  'Änderung des  Gesetzes  über die  Tätigkeit  europäischer Rechtsanwälte in Deutschland  \\nIn § 31  Absatz 1 Satz 4 des  Gesetzes  über  die Tätigkeit  europäischer  Rechtsanwälte in  Deutschland  vom  9.  \\nMärz 2000 (BGBl. I  S. 182,  1349), das  zuletzt  durch  Artikel 4 des  Gesetzes  vom  22.  Dezember  2020 (BGBl. I  \\nS.3320)  geändert  worden ist,  wird  die Angabe „§§ 174 und 195“  durch die Wörter  „§ 173  Absatz 1  und 2, §§ 175,  \\n195“ ersetzt.  \\n',\n",
       "  'Änderung der Verordnung zur Einführung von Vordrucken für das Mahnverfahren  \\nIn § 1a Absatz 1  Satz 1  der  Verordnung  zur  Einführung von  Vordrucken  für  das  Mahnverfahren vom  6. Mai  \\n1977 (BGBl. I  S. 693), die zuletzt  durch  Artikel 4  des  Gesetzes  vom  11. März 2016 (BGBl. I  S. 396)  geändert  \\nworden ist, wird die Angabe „§ 174  Abs. 1“ durch die Wörter „§ 173 Absatz 2  Nummer 1“ ersetzt. \\n',\n",
       "  'Änderung der Zustellungsvordruckverordnung  \\nIn § 1 Nummer 2 der  Zustellungsvordruckverordnung vom  12. Februar  2002 (BGBl. I  S. 671, 1017), die  \\ndurch  Artikel 1 der  Verordnung vom  23. April  2004 (BGBl. I  S. 619)  geändert  worden  ist, wird  die  Angabe  „§ 176  \\nAbs. 1“ durch die Angabe „§ 176 Absatz 2“ ersetzt. \\n',\n",
       "  'Änderung des  Strafvollzugsgesetzes   \\nIn § 120 Absatz 1 Satz 2  des  Strafvollzugsgesetzes  vom  16. März 1976 (BGBl. I  S. 581,  2088;  1977 I  \\nS.436),  das  zuletzt  durch  Artikel 7  des  Gesetzes  vom  9. Dezember  2019 (BGBl. I  S. 2146)  geändert  worden ist,  \\nwerden die Wörter „Absatz 4 Nummer 4“ durch die Wörter „Absatz 4 Satz 1  Nummer 6“ ersetzt. \\n',\n",
       "  'Änderung der  Grundbuchordnung  \\nIn § 140 Absatz  2  Satz 1  der  Grundbuchordnung  in der  Fassung  der  Bekanntmachung vom  26. Mai  1994  \\n(BGBl. I  S. 1114), die zuletzt  durch Artikel 6 des  Gesetzes  vom  16.  Oktober  2020 (BGBl. I  S. 2187)  geändert  \\nworden ist, wird die Angabe „§ 174  Absatz 1“ durch die Angabe „§  173 Absatz 2“ ersetzt. Drucksache  19/28399  – 22 –   Deutscher  Bundestag – 19. Wahlperiode \\n',\n",
       "  'Änderung des Gesetzes über  die internationale  Rechtshilfe  in  Strafsachen  \\nIn § 77a Absatz 7  Satz 1  des  Gesetzes  über  die internationale Rechtshilfe  in Strafsachen  in der  Fassung  der  \\nBekanntmachung vom  27. Juni  1994 (BGBl. I  S. 1537), das  zuletzt  durch  Artikel 1 des  Gesetzes  vom  23.  Novem-\\nber  2020  (BGBl. I  S. 2474)  geändert  worden ist, werden  die Wörter  „Absatz  4  Nummer 1  bis  3“  durch  die  Wörter  \\n„Absatz 4 Satz 1  Nummer 1 bis 5“ ersetzt. \\n',\n",
       "  'Änderung der  Patentanwaltsordnung  \\nIn § 28  Absatz 2 der  Patentanwaltsordnung vom  7. September  1966 (BGBl. I  S. 557),  die zuletzt  durch  Ar-\\ntikel 2  des  Gesetzes  vom  19. Juni  2020  (BGBl. I  S. 1403)  geändert  worden ist, wird die Angabe „§§ 174,  195“  \\ndurch die Wörter „§ 173 Absatz 1 und 2, §§ 175, 195“ ersetzt. \\n',\n",
       "  'Änderung des Gesetzes  über Ordnungswidrigkeiten  \\nIn § 110c Satz 1 des  Gesetzes  über  Ordnungswidrigkeiten  in  der  Fassung der  Bekanntmachung vom  19. Feb-\\nruar  1987 (BGBl. I  S. 602), das  zuletzt  durch Artikel  3 des  Gesetzes  vom  30. November  2020 (BGBl. I  S. 2600)  \\ngeändert  worden  ist, werden  die Wörter  „Absatz 4 Nummer 4“ durch die  Wörter  „Absatz 4 Satz 1 Nummer 6“  \\nersetzt. \\n',\n",
       "  'Änderung des  Achten  Buches Sozialgesetzbuch  \\nIn § 60  Satz 2 des  Achten Buches  Sozialgesetzbuch – Kinder- und Jugendhilfe – in der  Fassung der  Bekannt-\\nmachung vom  11. September  2012 (BGBl. I  S. 2022), das  zuletzt  durch  Artikel 3 Absatz 5 des Gesetzes  vom  \\n9. Oktober  2020 (BGBl. I  S. 2075)  geändert  worden ist, werden  die Wörter  „§ 173  Satz 2 und 3“ durch die  Wörter  \\n„§ 174 Satz 2 und 3“ ersetzt. \\n'])"
      ]
     },
     "execution_count": 623,
     "metadata": {},
     "output_type": "execute_result"
    }
   ],
   "source": [
    "pdf_file, law_titles, proposals_list"
   ]
  },
  {
   "cell_type": "code",
   "execution_count": null,
   "id": "9f411ee8-d896-41ac-9818-567f3043402e",
   "metadata": {},
   "outputs": [],
   "source": []
  },
  {
   "cell_type": "code",
   "execution_count": null,
   "id": "bd636860-9b85-4a35-8083-f8a29b69752d",
   "metadata": {},
   "outputs": [],
   "source": []
  },
  {
   "cell_type": "code",
   "execution_count": null,
   "id": "96b45677-9a95-40f3-a71b-8e251082a265",
   "metadata": {},
   "outputs": [],
   "source": []
  },
  {
   "cell_type": "code",
   "execution_count": null,
   "id": "14a0dbb5-8cc8-4989-a1d7-36f274f62d29",
   "metadata": {},
   "outputs": [],
   "source": []
  },
  {
   "cell_type": "code",
   "execution_count": null,
   "id": "6b02d6fe-666e-4b09-b51e-2be9187e6e88",
   "metadata": {},
   "outputs": [],
   "source": []
  },
  {
   "cell_type": "code",
   "execution_count": null,
   "id": "212d9db6-7138-41a2-b56e-af4b6bfa237a",
   "metadata": {},
   "outputs": [],
   "source": [
    "### following code is old and will get cleaned up soon"
   ]
  },
  {
   "cell_type": "code",
   "execution_count": 121,
   "id": "b6afbf1d-eb73-4e41-9f19-915054e18b6f",
   "metadata": {},
   "outputs": [],
   "source": [
    "with pdfplumber.open(pdf_file) as pdf:\n",
    "    text_of_change = [page.extract_text() for page in pdf.pages]"
   ]
  },
  {
   "cell_type": "code",
   "execution_count": 21,
   "id": "44f17d17-760c-4f4d-a086-5a3097003e4a",
   "metadata": {},
   "outputs": [
    {
     "name": "stdout",
     "output_type": "stream",
     "text": [
      "4 5\n"
     ]
    }
   ],
   "source": [
    "# quirky mehtod to find the first page where the Entwurf starts in the PDF\n",
    "# it picks the first page that has the a stand alone title \"Artikel 1\" on it's own line,\n",
    "# no matter how many spaces it has before the line break at the end\n",
    "for pagenum, page in enumerate(text_of_change):\n",
    "    if len(re.split(\"\\nArtikel 1.+\\n\", page, maxsplit=1)) == 2:\n",
    "        first_page = pagenum\n",
    "        break\n",
    "\n",
    "last_page = len(text_of_change)\n",
    "\n",
    "# quirky mehtod to find the last page where the Entwurf ends in the PDF\n",
    "# it picks the last page before a page that has the word \"Begründung\" in it\n",
    "for page in range(first_page, last_page):\n",
    "    if len(text_of_change[page].split(\"Begründung\")) > 1:\n",
    "        last_page = page - 1\n",
    "        break\n",
    "\n",
    "# uncomment next line to manually check if the fist and last page were identified correctly\n",
    "print(first_page, last_page)"
   ]
  },
  {
   "cell_type": "code",
   "execution_count": 5,
   "id": "ec855c66-1abe-42ce-841e-52164d67002d",
   "metadata": {},
   "outputs": [],
   "source": [
    "# goes over the entwurf pages, and makes a list of all the 2 lines of text after the patten \"Artikel [number] \\n\",\n",
    "# also in case there is more than one change in a page\n",
    "\n",
    "title_change_of_this_law = []\n",
    "for page in range(first_page, last_page + 1):\n",
    "    has_artikel = len(\n",
    "        re.split(\"Artikel [0-9]+ +\\n\", text_of_change[page])\n",
    "    )  # the len() of the split is 1 is there are no artikles, 2, if there is 1, and\n",
    "    # increases by 2 (odds) for every additional artikel\n",
    "    # print(page,has_artikel) # used for debugging only, can be removed\n",
    "    if has_artikel >= 2:\n",
    "        for artikel in range(1, has_artikel, 2):\n",
    "            title_change_of_this_law.extend(\n",
    "                re.search(\n",
    "                    \".+\\n.+\\n\",\n",
    "                    re.split(\"Artikel [0-9]+ +\\n\", text_of_change[page])[artikel],\n",
    "                ).captures()\n",
    "            )\n",
    "\n",
    "# the logic for this funciton is as follows:\n",
    "# in each page, each time the pattern \"Artikel [number] \\n\" appears,\n",
    "# note that number regexed any number of digits, this could be limited in the future to only 1-2 or 3?! which is more reasonable,\n",
    "# we split the string and take the part that is after the split (if there is only one split that's 1, if there is more we loop on the odd numbers to\n",
    "# always take the part after the split), we then use re.search to take the first two scentences using a pattern that take any number of charcters\n",
    "# before a new line (twice). Since re.search() returns an object we use .capture to to grab the match of that pattern from the returned object.\n",
    "# since that that match is a list with one string in it, we use .extend() so that our final input is one flat list with all the strings we recovered.\n",
    "# huzzah."
   ]
  },
  {
   "cell_type": "code",
   "execution_count": 6,
   "id": "d18639ab-edc4-429e-956b-5f503f681260",
   "metadata": {},
   "outputs": [
    {
     "data": {
      "text/plain": [
       "['Änderung des Bürgerlichen Gesetzbuchs\\nDas Bürgerliche Gesetzbuch in der Fassung der Bekanntmachung vom 2. Januar 2002 (BGBl. \\n',\n",
       " 'Änderung des Einführungsgesetzes zum Bürgerlichen Gesetzbuche\\nDem Artikel 229 des Einführungsgesetzes zum Bürgerlichen Gesetzbuche in der Fassung der \\n']"
      ]
     },
     "execution_count": 6,
     "metadata": {},
     "output_type": "execute_result"
    }
   ],
   "source": [
    "title_change_of_this_law"
   ]
  },
  {
   "cell_type": "code",
   "execution_count": 7,
   "id": "e7a46679-0609-4df2-ace2-4549fb8779eb",
   "metadata": {},
   "outputs": [
    {
     "data": {
      "text/plain": [
       "['Änderung des Bürgerlichen Gesetzbuchs\\nDas Bürgerliche Gesetzbuch in der Fassung der Bekanntmachung vom 2. Januar 2002 (BGBl.',\n",
       " 'Änderung des Einführungsgesetzes zum Bürgerlichen Gesetzbuche\\nDem Artikel 229 des Einführungsgesetzes zum Bürgerlichen Gesetzbuche in der Fassung der']"
      ]
     },
     "execution_count": 7,
     "metadata": {},
     "output_type": "execute_result"
    }
   ],
   "source": [
    "# this is an unfinished code chunk\n",
    "# the following 2 lines only remove the last line break from teh end of the 2nd scentence\n",
    "[change_title.rstrip() for change_title in title_change_of_this_law]\n",
    "\n",
    "# the goal is to add a simple logic that capture a second line when it is relevant, e.g. if it start with \"und \" or if it is no longer than 3 words.\n",
    "# this won't catch all cases, but it's a start\n",
    "# more logic to consider: don't take a 2nd line that starts with \"§\" or \"In\"\n",
    "\n",
    "# strip the begining from \"Änderung des\" or \"Weitere Änderung des\""
   ]
  },
  {
   "cell_type": "code",
   "execution_count": 8,
   "id": "674c9f59-caff-49b9-b033-1fc9e3d6e1fa",
   "metadata": {},
   "outputs": [
    {
     "data": {
      "text/plain": [
       "['- 3 - Drucksache 683/21\\nBegründung: \\nA.  Allgemeiner Teil \\nI.  Anlass und Ziel des Gesetzesentwurfs\\nZiel des Gesetzesentwurfes ist es, die Position von Mieterinnen und Mietern zu stär-\\nken, indem der Möblierungszuschlag in Gebieten mit einem angespannten Wohnungs-\\nmarkt transparent geregelt wird, wodurch eine Umgehung der Mietpreisbremse verhin-\\ndert werden soll. Zusätzlich wird die Position für Mieterinnen und Mieter bei der Ver-\\nmietung von Wohnraum zum vorübergehenden Gebrauch in Gebieten mit einem an-\\ngespannten Wohnungsmarkt dadurch gestärkt, dass bei Vermietungen über einen Zeit-\\nraum von sechs Monaten oder mehr nunmehr regelmäßig die in § 549 Abs. 2 BGB \\ngenannten Mieterschutzvorschriften gelten. Sofern die Vermieterinnen und Vermieter \\nsich auf den Ausschlusstatbestand des § 549 Abs. 2 Nr. 1 BGB berufen möchten, \\nmüssten diese die Regelvermutung durch Erbringung eines Nachweises entkräften, \\nder trotz dieses langen Zeitraums ausnahmsweise die Annahme einer Vermietung zum \\nvorübergehenden Gebrauch im Sinne des § 549 Abs. 2 Nr. 1 BGB begründet.\\nDie Vermietung von möbliertem Wohnraum birgt derzeit das Risiko, dass die Mietpreis-\\nbremse im Sinne des § 556 d BGB umgangen werden kann, da der zusätzlich zu der \\nNettokaltmiete erhobene Möblierungszuschlag von Vermieterinnen und Vermietern \\nnicht gesondert ausgewiesen werden muss. Dies führt zu Intransparenz, und es ist \\nMieterinnen und Mietern erschwert bis unmöglich nachzuvollziehen, ob die Mietpreis-\\nbremse, die auch bei möbliertem Wohnraum gilt, eingehalten wurde. Auch ein etwaiges \\nMieterhöhungsverlangen können sie im Hinblick auf die ortsübliche Vergleichsmiete \\nnicht nachvollziehen. Da ferner die Art und Weise der vertraglichen Ausgestaltung des \\nMöblierungszuschlags gesetzlich nicht geregelt ist, besteht zudem Rechtsunsicherheit \\nüber die zulässige Höhe des Zuschlags. Für Vermieterinnen und Vermieter besteht \\ndadurch die Möglichkeit, die Mietpreisbremse zu umgehen, da der Möblierungszu-\\nschlag nach eigenem Ermessen ausgestaltet werden kann. Um zu verdeutlichen, dass \\ndie Mietpreisbremse auch für möblierten Wohnraum gilt, ist eine zusätzliche Regelung \\naufzunehmen, die festlegt, dass ein Zuschlag für die von Vermieterinnen und Vermie-\\ntern bereitgestellte Möblierung zwar grundsätzlich neben der ortsüblichen Vergleichs-\\nmiete verlangt werden kann, dieser jedoch separat auszuweisen ist. Für die Nettokalt-\\nmiete ohne den Möblierungszuschlag gilt § 556d Abs. 1 S. 1 BGB. Die Höhe des Möb-\\nlierungszuschlags ist auf einen angemessenen Betrag, ein Prozent des Zeitwertes mo-\\nnatlich begrenzt. Der Zeitwert ist zum Zeitpunkt der erstmaligen Überlassung der Möbel \\nan die jeweiligen Mieterinnen und Mieter zu bestimmen. Für die Festlegung des Zeit-\\nwertes tragen die Vermieterinnen und Vermieter die Darlegungs- und Beweislast. Wei-\\nsen Vermieterinnen und Vermieter den Möblierungszuschlag nicht aus, so gilt die Woh-\\nnung nach dem Entwurf im Hinblick auf die zulässige Miethöhe als unmöbliert vermie-\\ntet. In diesem Fall kann die Möblierung keine höhere Miete als die in § 556d Abs. 1 S. \\n1 BGB zulässige begründen. Dies schafft einen starken Anreiz für die Vermieterinnen \\nund Vermieter, den Möblierungszuschlag tatsächlich auszuweisen.\\nDaneben wird in der Praxis deutlich, dass Mieterinnen und Mieter hinsichtlich der in \\nden  letzten  Jahren  vermehrt  angebotenen  Kurzzeitvermietung  einen  zusätzlichen']"
      ]
     },
     "execution_count": 8,
     "metadata": {},
     "output_type": "execute_result"
    }
   ],
   "source": [
    "# re.search('.+\\n.+\\n',re.split('Artikel [0-9]+  \\n',text_of_change[6])[1]).captures()\n",
    "# re.split('Artikel [0-9]+ \\n',text_of_change[6])[1]\n",
    "re.split(\"Artikel [0-9]+  \\n\", text_of_change[6])"
   ]
  },
  {
   "cell_type": "code",
   "execution_count": 269,
   "id": "2a8b7486-6364-4fdc-abd5-92af6267ff93",
   "metadata": {},
   "outputs": [
    {
     "data": {
      "text/plain": [
       "[['Änderung der Zivilprozessordnung',\n",
       "  'Die Zivilprozessordnung in der Fassung der Bekanntmachung vom 5. Dezember 2005'],\n",
       " ['Änderung des Gesetzes über das Verfahren in Familiensachen',\n",
       "  'und in Angelegenheiten der freiwilligen Gerichtsbarkeit'],\n",
       " ['Änderung der Elektronischer-Rechtsverkehr-Verordnung',\n",
       "  'Die  Elektronischer-Rechtsverkehr-Verordnung  vom  24.  November  2017  (BGBl. I'],\n",
       " ['Änderung des Arbeitsgerichtsgesetzes',\n",
       "  'Das Arbeitsgerichtsgesetz in der Fassung der Bekanntmachung vom 2. Juli 1979'],\n",
       " ['Weitere Änderung des Arbeitsgerichtsgesetzes',\n",
       "  'Das Arbeitsgerichtsgesetz, das zuletzt durch '],\n",
       " ['Weitere Änderung des Arbeitsgerichtsgesetzes zum 1. Januar', '2022'],\n",
       " ['Weitere Änderung des Arbeitsgerichtsgesetzes zum 1. Januar', '2026'],\n",
       " ['Änderung des Sozialgerichtsgesetzes',\n",
       "  'Das Sozialgerichtsgesetz in der Fassung der Bekanntmachung vom 23. September'],\n",
       " ['Weitere Änderung des Sozialgerichtsgesetzes zum 1. Januar 2022',\n",
       "  'In § 65d Satz 2 des Sozialgerichtsgesetzes, das zuletzt durch '],\n",
       " ['Weitere Änderung des Sozialgerichtsgesetzes zum 1. Januar 2026',\n",
       "  '§ 65d des Sozialgerichtsgesetzes, das zuletzt durch '],\n",
       " ['Änderung der Verwaltungsgerichtsordnung',\n",
       "  '§ 55a der Verwaltungsgerichtsordnung in der Fassung der Bekanntmachung vom 19.\\nMärz 1991 (BGBl. I S. 686), die zuletzt durch '],\n",
       " ['Weitere Änderung der Verwaltungsgerichtsordnung zum 1. Ja-\\nnuar 2022',\n",
       "  'In § 55d Satz 2 der Verwaltungsgerichtsordnung, die zuletzt durch '],\n",
       " ['Weitere Änderung der Verwaltungsgerichtsordnung zum 1. Ja-\\nnuar 2026',\n",
       "  '§ 55d der Verwaltungsgerichtsordnung, die zuletzt durch '],\n",
       " ['Änderung der Finanzgerichtsordnung',\n",
       "  '§ 52a der Finanzgerichtsordnung in der Fassung der Bekanntmachung vom 28. März\\n2001 (BGBl. I S. 442, 2262; 2002 I S. 679), die zuletzt durch '],\n",
       " ['Weitere Änderung der Finanzgerichtsordnung zum 1. Januar 2022',\n",
       "  'In § 52d Satz 2 der Finanzgerichtsordnung, die zuletzt durch '],\n",
       " ['Weitere Änderung der Finanzgerichtsordnung zum 1. Januar 2026',\n",
       "  '§ 52d der Finanzgerichtsordnung, die zuletzt durch '],\n",
       " ['Änderung der Bundesrechtsanwaltsordnung',\n",
       "  'In § 30 Absatz 2 der Bundesrechtsanwaltsordnung in der im Bundesgesetzblatt Teil III,'],\n",
       " ['Änderung des Beurkundungsgesetzes',\n",
       "  'In § 67 Absatz 2 des Beurkundungsgesetzes vom 28. August 1969 (BGBl. I S. 1513),'],\n",
       " ['Änderung des Gesetzes über die Tätigkeit europäischer Rechts-\\nanwälte in Deutschland',\n",
       "  'In § 31 Absatz 1 Satz 4 des Gesetzes über die Tätigkeit europäischer Rechtsanwälte'],\n",
       " ['Änderung der Verordnung zur Einführung von Vordrucken für',\n",
       "  'das Mahnverfahren'],\n",
       " ['Änderung der Zustellungsvordruckverordnung',\n",
       "  'In § 1 Nummer 2 der Zustellungsvordruckverordnung vom 12. Februar 2002 (BGBl. I'],\n",
       " ['Änderung des Strafvollzugsgesetzes',\n",
       "  'In § 120 Absatz 1 Satz 2 des Strafvollzugsgesetzes vom 16. März 1976 (BGBl. I'],\n",
       " ['Änderung der Grundbuchordnung',\n",
       "  'In § 140 Absatz 2 Satz 1 der Grundbuchordnung in der Fassung der Bekanntmachung'],\n",
       " ['Änderung des Gesetzes über die internationale Rechtshilfe in',\n",
       "  'Strafsachen'],\n",
       " ['Änderung der Patentanwaltsordnung',\n",
       "  'In § 28 Absatz 2 der Patentanwaltsordnung vom 7. September 1966 (BGBl. I S. 557),'],\n",
       " ['Änderung des Gesetzes über Ordnungswidrigkeiten',\n",
       "  'In § 110c Satz 1 des Gesetzes über Ordnungswidrigkeiten in der Fassung der Bekannt-\\nmachung vom 19. Februar 1987 (BGBl. I S. 602), das zuletzt durch '],\n",
       " ['Änderung des Achten Buches Sozialgesetzbuch',\n",
       "  'In § 60 Satz 2 des Achten Buches Sozialgesetzbuch – Kinder- und Jugendhilfe – in der'],\n",
       " ['Inkrafttreten',\n",
       "  'Dieses Gesetz tritt vorbehaltlich der Sätze 2 bis 4 am … [einsetzen: Datum des ersten'],\n",
       " ['Die ']]"
      ]
     },
     "execution_count": 269,
     "metadata": {},
     "output_type": "execute_result"
    }
   ],
   "source": [
    "title_change_of_this_law = []\n",
    "for page in range(first_page, last_page + 1):\n",
    "    has_artikel = len(text_of_change[page].split(\"Artikel \"))\n",
    "    if has_artikel >= 2:\n",
    "        for artikel in range(\n",
    "            1, has_artikel - 1, 2\n",
    "        ):  # consider using re.split('Artikel [0-9]+ \\n') instead\n",
    "            title_change_of_this_law.append(\n",
    "                text_of_change[page].split(\"Artikel \")[artikel].split(\" \\n\")[1:3]\n",
    "            )\n",
    "title_change_of_this_law"
   ]
  },
  {
   "cell_type": "code",
   "execution_count": 17,
   "id": "c66d2502-8d3d-4943-985f-58ff9d48813a",
   "metadata": {},
   "outputs": [
    {
     "name": "stdout",
     "output_type": "stream",
     "text": [
      "Änderung der Zivilprozessordnung \n"
     ]
    }
   ],
   "source": [
    "with pdfplumber.open(pdfFileObj) as pdf:\n",
    "    for pageNum in pdf.pages()\n",
    "\tname_of_law_to_change = pdf.pages[6].extract_text().split('Artikel 1')[1].split('\\n')[1]\n",
    "    print(name_of_law_to_change)"
   ]
  },
  {
   "cell_type": "code",
   "execution_count": 179,
   "id": "8b5cd231-acb0-4fb0-a369-096a481b4409",
   "metadata": {},
   "outputs": [
    {
     "data": {
      "text/plain": [
       "'Inkrafttreten '"
      ]
     },
     "execution_count": 179,
     "metadata": {},
     "output_type": "execute_result"
    }
   ],
   "source": [
    "text_of_change[24].split(\"Artikel \")[1].split(\"\\n\")[1]"
   ]
  },
  {
   "cell_type": "code",
   "execution_count": 167,
   "id": "ccb6b9b8-a087-48ae-b3c5-335282097a83",
   "metadata": {},
   "outputs": [
    {
     "data": {
      "text/plain": [
       "3"
      ]
     },
     "execution_count": 167,
     "metadata": {},
     "output_type": "execute_result"
    }
   ],
   "source": [
    "len(text_of_change[6].split(\"Artikel \"))"
   ]
  },
  {
   "cell_type": "code",
   "execution_count": 188,
   "id": "3e12e5b5-a975-4fda-8b03-6f33239728a9",
   "metadata": {},
   "outputs": [
    {
     "data": {
      "text/plain": [
       "2"
      ]
     },
     "execution_count": 188,
     "metadata": {},
     "output_type": "execute_result"
    }
   ],
   "source": [
    "len(title_change_of_this_law[3])"
   ]
  },
  {
   "cell_type": "code",
   "execution_count": 73,
   "id": "0343961e-0bb0-48da-a352-0677266fcc41",
   "metadata": {},
   "outputs": [
    {
     "data": {
      "text/plain": [
       "'Bundesrat  Drucksache   145/21  \\n  \\n  \\n \\n  12.02.21 \\n  R - AIS - Fz - In \\n \\nB\\nGesetzentwurf  R\\nFu\\nder Bundesregierung \\nss \\nEntwurf  eines  Gesetzes  zum  Ausbau  des  elektronischen \\nRechtsverkehrs  mit  den  Gerichten  und  zur  Änderung  weiterer \\nprozessrechtlicher Vorschriften \\nBundesrepublik Deutschland             Berlin, 12. Februar 2021 \\n      Die Bundeskanzlerin \\n \\nAn den \\nPräsidenten des Bundesrates \\nHerrn Ministerpräsidenten \\nDr. Reiner Haseloff \\n \\nSehr geehrter Herr Präsident, \\n \\nhiermit übersende ich gemäß Artikel 76 Absatz 2 des Grundgesetzes den von der \\nBundesregierung beschlossenen \\n \\nEntwurf eines Gesetzes zum Ausbau des elektronischen \\nRechtsverkehrs mit den Gerichten und zur Änderung \\nweiterer prozessrechtlicher Vorschriften  \\n \\nmit Begründung und Vorblatt. \\n \\nFederführend ist das Bundesministerium der Justiz und für Verbraucherschutz. \\n \\nDie  Stellungnahme  des  Nationalen  Normenkontrollrates  gemäß  § 6  Absatz 1 \\nNKRG ist als Anlage beigefügt. \\n \\nMit freundlichen Grüßen \\nDr. Angela Merkel \\n                                              \\nFristablauf: 26.03.21 \\n '"
      ]
     },
     "execution_count": 73,
     "metadata": {},
     "output_type": "execute_result"
    }
   ],
   "source": [
    "text_of_change[4]"
   ]
  },
  {
   "cell_type": "code",
   "execution_count": 89,
   "id": "0acb9f3a-f6bf-48b4-a661-eb5700c213b0",
   "metadata": {},
   "outputs": [
    {
     "data": {
      "text/plain": [
       "True"
      ]
     },
     "execution_count": 89,
     "metadata": {},
     "output_type": "execute_result"
    }
   ],
   "source": [
    "text_of_change[5] is None"
   ]
  },
  {
   "cell_type": "code",
   "execution_count": null,
   "id": "9ee0d932-645d-4d59-9719-1ad521146937",
   "metadata": {},
   "outputs": [],
   "source": []
  }
 ],
 "metadata": {
  "kernelspec": {
   "display_name": "Python 3 (ipykernel)",
   "language": "python",
   "name": "python3"
  },
  "language_info": {
   "codemirror_mode": {
    "name": "ipython",
    "version": 3
   },
   "file_extension": ".py",
   "mimetype": "text/x-python",
   "name": "python",
   "nbconvert_exporter": "python",
   "pygments_lexer": "ipython3",
   "version": "3.9.5"
  }
 },
 "nbformat": 4,
 "nbformat_minor": 5
}
