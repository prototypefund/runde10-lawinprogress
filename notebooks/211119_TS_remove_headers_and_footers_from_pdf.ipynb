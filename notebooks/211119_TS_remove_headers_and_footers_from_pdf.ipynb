{
 "cells": [
  {
   "cell_type": "markdown",
   "id": "47bb18c2-5bf2-41e0-a5c9-47238f546638",
   "metadata": {},
   "source": [
    "# Try to remove headers and footers with pdfplumbner"
   ]
  },
  {
   "cell_type": "code",
   "execution_count": 1,
   "id": "ab740dc7-f723-4808-88d0-ddf25db17793",
   "metadata": {},
   "outputs": [],
   "source": [
    "import pdfplumber\n",
    "import regex as re\n",
    "import glob\n",
    "\n",
    "from typing import List, Tuple"
   ]
  },
  {
   "cell_type": "code",
   "execution_count": 85,
   "id": "1461fd33-0a46-4667-9798-032aa015e118",
   "metadata": {},
   "outputs": [],
   "source": [
    "pdfs = glob.glob(\"../data/*.pdf\")\n",
    "# print(pdfs)\n",
    "pdf_file = open(pdfs[5], \"rb\")"
   ]
  },
  {
   "cell_type": "code",
   "execution_count": 86,
   "id": "643b68db-1b6e-4b6d-8344-3a82a98763b7",
   "metadata": {},
   "outputs": [],
   "source": [
    "def read_pdf_law(filename: str) -> str:\n",
    "    \"\"\"Get the raw text from the pdfs.\"\"\"\n",
    "    # read all pages from provided pdf\n",
    "    pdf_file_obj = pdfplumber.open(filename)\n",
    "\n",
    "    # join the pages\n",
    "    return \"\".join(\n",
    "        [page for page in [page.extract_text() for page in pdf_file_obj.pages] if page]\n",
    "    )\n",
    "\n",
    "\n",
    "change_law_raw = read_pdf_law(pdf_file)"
   ]
  },
  {
   "cell_type": "markdown",
   "id": "56b8bfec-0d3d-45a8-b6cc-e4af02345c00",
   "metadata": {},
   "source": [
    "## Experimenatl stuff"
   ]
  },
  {
   "cell_type": "code",
   "execution_count": 87,
   "id": "4b27dc1b-6545-4ddf-9b93-8f0fdbbb4326",
   "metadata": {},
   "outputs": [],
   "source": [
    "from decimal import Decimal"
   ]
  },
  {
   "cell_type": "code",
   "execution_count": 88,
   "id": "37138f5c-ebf8-4e3b-81b3-f0a847a9e2ff",
   "metadata": {},
   "outputs": [],
   "source": [
    "pdf_file_obj = pdfplumber.open(pdf_file)"
   ]
  },
  {
   "cell_type": "code",
   "execution_count": 100,
   "id": "6228f49f-e6aa-44fd-9a9c-4179f599aa3e",
   "metadata": {},
   "outputs": [
    {
     "data": {
      "text/plain": [
       "{'CreationDate': \"D:20210609131952+02'00'\",\n",
       " 'Creator': 'PDF-XChange Editor 7.0.326.1',\n",
       " 'ModDate': \"D:20210609132039+02'00'\",\n",
       " 'Producer': 'PDF-XChange Core API SDK (7.0.326.1)'}"
      ]
     },
     "execution_count": 100,
     "metadata": {},
     "output_type": "execute_result"
    }
   ],
   "source": [
    "pdf_file_obj.metadata"
   ]
  },
  {
   "cell_type": "code",
   "execution_count": 89,
   "id": "b85df613-4d1e-4b91-a029-29855b69004e",
   "metadata": {},
   "outputs": [
    {
     "data": {
      "text/plain": [
       "'Haltestellenbereiche  für  den  Linienverkehr.  Der  Träger  der  Straßenbaulast  kann \\nangemessene  Vorauszahlungen  oder  Sicherheitsleistungen  verlangen.  §  9  bleibt \\nunberührt.“ \\n \\n     b)    Der bisherige Absatz 7 wird Absatz 8. \\n \\n5. § 9 wird wie folgt geändert: \\n \\na)  In Absatz 1 wird das Wort „befahrbaren“ durch die Wörter „zum Befahren \\nbestimmten“ ersetzt.   \\n \\nb)  In Absatz 4 werden die Sätze 5 bis 7 aufgehoben. \\n \\n6. § 11 wird wie folgt geändert:  \\n \\na)  Absatz 2 wird wie folgt geändert: \\n \\naa) In Satz 1 werden das Wort „überwiegende“ und die Wörter „oder ihnen durch                \\nNebenbestimmungen zur Erlaubnis entsprochen werden kann“ gestrichen.  \\n \\nbb) In Satz 3 werden die Wörter „eines Monats“ durch die Wörter „von drei Monaten“ \\nersetzt. \\n \\nb)  Folgender Absatz 14 wird angefügt: \\n„(14)  Mehrere  einheitlich  auszuübende  Sondernutzungen  können  für  einen  oder \\nmehrere Sondernutzende, auch ausschließlich, allgemein zugelassen werden. Die \\njeweiligen Erlaubnisse der von der Zulassung erfassten Sondernutzungen sind auf die \\nDauer und den Umfang der allgemeinen Zulassung beschränkt. In den Erlaubnissen \\nsoll auf die allgemeine Zulassung verwiesen werden. In der allgemeinen Zulassung \\nkönnen auch die Sondernutzungsgebühren festgesetzt oder, wenn die Zulassung \\ndurch öffentlich-rechtlichen Vertrag erfolgt, hiervon abweichende Zahlungspflichten \\nvereinbart werden, die dem wirtschaftlichen Vorteil der Sondernutzung entsprechen.“ \\n \\n7. Nach § 11 wird folgender § 11a eingefügt:  \\n„§ 11a Sondernutzung für das gewerbliche Anbieten von Mietfahrzeugen \\n \\n(1)  Für  die  Sondernutzung  öffentlicher  Straßen  für  das  gewerbliche  Anbieten  von \\nMietfahrzeugen, die selbstständig reserviert und genutzt werden können, einschließlich des \\nAnbietens von Carsharingfahrzeugen im Sinne des § 2 Nummer 1 des Carsharinggesetzes \\nvom 5. Juli 2017 (BGBl. I S. 2230), das zuletzt durch Artikel 328 der Verordnung vom 19. \\nJuni 2020 (BGBl. I S. 1328) geändert worden ist, in der jeweils geltenden Fassung, gilt § 11 \\nnach Maßgabe der folgenden Absätze.  \\n \\n(2) Die Erlaubnis nach § 11 Absatz 1 und die allgemeine Zulassung nach § 11 Absatz 14 \\nkönnen  erteilt  werden,  wenn  öffentliche  Interessen  der  Sondernutzung  nicht \\nentgegenstehen.  Bei  der  Entscheidung  sind  insbesondere  die \\nverkehrsmittelübergreifenden Ziele des Berliner Mobilitätsgesetzes, das als Artikel 1 des \\nGesetzes vom 5. Juli 2018 (GVBl. S. 464) verkündet und zuletzt durch Artikel 3 des \\nGesetzes vom 22. März 2021 (GVBl. S. 318) geändert worden ist, zu berücksichtigen. \\nErlaubnis  und  allgemeine  Zulassung  werden  nur  zuverlässigen  Unternehmen  erteilt; \\nunzuverlässig ist ein Unternehmen, das wiederholt in schwerwiegender Weise gegen \\nPflichten  aus  der  Straßenverkehrs-Zulassungs-Ordnung  oder  anderen \\nzulassungsrechtlichen Vorschriften oder gegen Nebenbestimmungen der Erlaubnis nach § \\n11 Absatz 1 oder der allgemeinen Zulassung nach § 11 Absatz 14 verstoßen hat, sowie in \\n  5 '"
      ]
     },
     "execution_count": 89,
     "metadata": {},
     "output_type": "execute_result"
    }
   ],
   "source": [
    "pdf_file_obj.pages[6].extract_text()"
   ]
  },
  {
   "cell_type": "code",
   "execution_count": 90,
   "id": "effc4bef-6c5f-446e-a6fb-5a54de22fbc7",
   "metadata": {},
   "outputs": [
    {
     "data": {
      "text/plain": [
       "Decimal('595.320')"
      ]
     },
     "execution_count": 90,
     "metadata": {},
     "output_type": "execute_result"
    }
   ],
   "source": [
    "pdf_file_obj.pages[6].width"
   ]
  },
  {
   "cell_type": "code",
   "execution_count": 91,
   "id": "f6b156ab-c3af-44c3-be08-10305d31925a",
   "metadata": {},
   "outputs": [
    {
     "data": {
      "text/plain": [
       "Decimal('841.920')"
      ]
     },
     "execution_count": 91,
     "metadata": {},
     "output_type": "execute_result"
    }
   ],
   "source": [
    "pdf_file_obj.pages[6].height"
   ]
  },
  {
   "cell_type": "code",
   "execution_count": 94,
   "id": "0b954e2c-2707-460b-a826-d6605bee0f40",
   "metadata": {},
   "outputs": [
    {
     "data": {
      "text/plain": [
       "'Haltestellenbereiche  für  den  Linienverkehr.  Der  Träger  der  Straßenbaulast  kann \\nangemessene  Vorauszahlungen  oder  Sicherheitsleistungen  verlangen.  §  9  bleibt \\nunberührt.“ \\n \\n     b)    Der bisherige Absatz 7 wird Absatz 8. \\n \\n5. § 9 wird wie folgt geändert: \\n \\na)  In Absatz 1 wird das Wort „befahrbaren“ durch die Wörter „zum Befahren \\nbestimmten“ ersetzt.   \\n \\nb)  In Absatz 4 werden die Sätze 5 bis 7 aufgehoben. \\n \\n6. § 11 wird wie folgt geändert:  \\n \\na)  Absatz 2 wird wie folgt geändert: \\n \\naa) In Satz 1 werden das Wort „überwiegende“ und die Wörter „oder ihnen durch                \\nNebenbestimmungen zur Erlaubnis entsprochen werden kann“ gestrichen.  \\n \\nbb) In Satz 3 werden die Wörter „eines Monats“ durch die Wörter „von drei Monaten“ \\nersetzt. \\n \\nb)  Folgender Absatz 14 wird angefügt: \\n„(14)  Mehrere  einheitlich  auszuübende  Sondernutzungen  können  für  einen  oder \\nmehrere Sondernutzende, auch ausschließlich, allgemein zugelassen werden. Die \\njeweiligen Erlaubnisse der von der Zulassung erfassten Sondernutzungen sind auf die \\nDauer und den Umfang der allgemeinen Zulassung beschränkt. In den Erlaubnissen \\nsoll auf die allgemeine Zulassung verwiesen werden. In der allgemeinen Zulassung \\nkönnen auch die Sondernutzungsgebühren festgesetzt oder, wenn die Zulassung \\ndurch öffentlich-rechtlichen Vertrag erfolgt, hiervon abweichende Zahlungspflichten \\nvereinbart werden, die dem wirtschaftlichen Vorteil der Sondernutzung entsprechen.“ \\n \\n7. Nach § 11 wird folgender § 11a eingefügt:  \\n„§ 11a Sondernutzung für das gewerbliche Anbieten von Mietfahrzeugen \\n \\n(1)  Für  die  Sondernutzung  öffentlicher  Straßen  für  das  gewerbliche  Anbieten  von \\nMietfahrzeugen, die selbstständig reserviert und genutzt werden können, einschließlich des \\nAnbietens von Carsharingfahrzeugen im Sinne des § 2 Nummer 1 des Carsharinggesetzes \\nvom 5. Juli 2017 (BGBl. I S. 2230), das zuletzt durch Artikel 328 der Verordnung vom 19. \\nJuni 2020 (BGBl. I S. 1328) geändert worden ist, in der jeweils geltenden Fassung, gilt § 11 \\nnach Maßgabe der folgenden Absätze.  \\n \\n(2) Die Erlaubnis nach § 11 Absatz 1 und die allgemeine Zulassung nach § 11 Absatz 14 \\nkönnen  erteilt  werden,  wenn  öffentliche  Interessen  der  Sondernutzung  nicht \\nentgegenstehen.  Bei  der  Entscheidung  sind  insbesondere  die \\nverkehrsmittelübergreifenden Ziele des Berliner Mobilitätsgesetzes, das als Artikel 1 des \\nGesetzes vom 5. Juli 2018 (GVBl. S. 464) verkündet und zuletzt durch Artikel 3 des \\nGesetzes vom 22. März 2021 (GVBl. S. 318) geändert worden ist, zu berücksichtigen. '"
      ]
     },
     "execution_count": 94,
     "metadata": {},
     "output_type": "execute_result"
    }
   ],
   "source": [
    "# try to crop pages\n",
    "bounding_box = (0, 80, 595, 700)  # (x0, top, x1, bottom)\n",
    "bounding_box = (0, 80, pdf_file_obj.pages[6].width, Decimal(0.85)*pdf_file_obj.pages[6].height)\n",
    "pdf_file_obj.pages[6].crop(bounding_box, relative=False).extract_text()\n",
    "# does that generalize? --> no..."
   ]
  },
  {
   "cell_type": "code",
   "execution_count": 95,
   "id": "3b3c2ea6-32ef-4012-b0db-632aaf96ebe7",
   "metadata": {},
   "outputs": [],
   "source": [
    "#for page in pdf_file_obj.pages:\n",
    "#    print(\"Page before:\\n{}\".format(page.extract_text()))\n",
    "#    print(\"\\n\"+\"#\"*50+\"\\n\")\n",
    "#    bounding_box = (0, 80, page.width, Decimal(0.85)*page.height)\n",
    "#    print(\"Page after:\\n{}\".format(page.crop(bounding_box, relative=False).extract_text()))\n",
    "#    print(\"\\n\"+\"#\"*80+\"\\n\")"
   ]
  },
  {
   "cell_type": "markdown",
   "id": "c46f87b0-786b-4275-831a-f19aadde608e",
   "metadata": {},
   "source": [
    "### more experiments"
   ]
  },
  {
   "cell_type": "code",
   "execution_count": null,
   "id": "ddd43183-5b4e-4cbc-9ab2-daaf4cef30f3",
   "metadata": {},
   "outputs": [],
   "source": []
  }
 ],
 "metadata": {
  "kernelspec": {
   "display_name": "Python 3 (ipykernel)",
   "language": "python",
   "name": "python3"
  },
  "language_info": {
   "codemirror_mode": {
    "name": "ipython",
    "version": 3
   },
   "file_extension": ".py",
   "mimetype": "text/x-python",
   "name": "python",
   "nbconvert_exporter": "python",
   "pygments_lexer": "ipython3",
   "version": "3.9.5"
  }
 },
 "nbformat": 4,
 "nbformat_minor": 5
}
