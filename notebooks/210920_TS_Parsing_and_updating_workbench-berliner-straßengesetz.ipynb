{
 "cells": [
  {
   "cell_type": "markdown",
   "id": "b5285e81-81e1-4b32-97d2-3333e2348655",
   "metadata": {},
   "source": [
    "## Work bench to improve parsing and updating laws\n",
    "This notebook is targeted to \"d18-3823.pdf\" and the change to the Berliner Straßengesetz."
   ]
  },
  {
   "cell_type": "markdown",
   "id": "f37a4ed9-0cab-483e-962a-16839910cef6",
   "metadata": {},
   "source": [
    "### Setup"
   ]
  },
  {
   "cell_type": "code",
   "execution_count": 1,
   "id": "f932086b-97fd-42a3-8b97-9a26f8dbecc6",
   "metadata": {},
   "outputs": [],
   "source": [
    "%load_ext autoreload\n",
    "%autoreload 2"
   ]
  },
  {
   "cell_type": "code",
   "execution_count": 2,
   "id": "94370222-73b1-4c55-9404-cbc27d046519",
   "metadata": {},
   "outputs": [],
   "source": [
    "from lawinprogress.apply_changes.apply_changes import apply_changes\n",
    "from lawinprogress.parsing.change_law_utils import preprocess_raw_law\n",
    "from lawinprogress.parsing.parse_change_law import (\n",
    "    parse_change_request_line,\n",
    "    parse_change_law_tree,\n",
    ")\n",
    "from lawinprogress.parsing.parse_source_law import parse_source_law_tree\n",
    "from lawinprogress.parsing.lawtree import LawTextNode\n",
    "from lawinprogress.parsing.proposal_pdf_to_artikles import (\n",
    "    extract_law_titles,\n",
    "    extract_raw_proposal,\n",
    "    extract_seperate_change_proposals,\n",
    "    read_pdf_law,\n",
    "    remove_inkrafttreten,\n",
    ")"
   ]
  },
  {
   "cell_type": "markdown",
   "id": "6ca3d319-dac0-4ccb-8d4b-00e08a667988",
   "metadata": {},
   "source": [
    "### Read and process the change law"
   ]
  },
  {
   "cell_type": "code",
   "execution_count": 3,
   "id": "62b15762-63a4-475e-9d84-6f58a148708e",
   "metadata": {},
   "outputs": [],
   "source": [
    "change_law_path = \"../data/0145-21.pdf\"  # \"../data/0483-21.pdf\"  # \"../data/d18-3823.pdf\""
   ]
  },
  {
   "cell_type": "code",
   "execution_count": 4,
   "id": "de80489f-7df7-4b0d-b60e-d3a79ee289e1",
   "metadata": {},
   "outputs": [],
   "source": [
    "change_law_raw_pages = read_pdf_law(change_law_path)\n",
    "\n",
    "# idenfify the different laws affected\n",
    "change_law_extract = extract_raw_proposal(change_law_raw_pages)\n",
    "proposals_list = extract_seperate_change_proposals(change_law_extract)\n",
    "law_titles = extract_law_titles(proposals_list)\n",
    "law_titles, proposals_list = remove_inkrafttreten(law_titles, proposals_list)"
   ]
  },
  {
   "cell_type": "code",
   "execution_count": 5,
   "id": "cc172044-6f5c-4a4d-b364-731a493408b2",
   "metadata": {},
   "outputs": [
    {
     "data": {
      "text/plain": [
       "['Zivilprozessordnung',\n",
       " 'Strafprozessordnung',\n",
       " 'Elektronischer-Rechtsverkehr-Verordnung',\n",
       " 'Arbeitsgerichtsgesetzes zum 1. Januar  2026',\n",
       " 'Finanzgerichtsordnung zum 1. Januar 2022']"
      ]
     },
     "execution_count": 5,
     "metadata": {},
     "output_type": "execute_result"
    }
   ],
   "source": [
    "law_titles"
   ]
  },
  {
   "cell_type": "code",
   "execution_count": 27,
   "id": "2b7e229a-a375-4ce3-bb9f-d80816a4b294",
   "metadata": {
    "scrolled": true,
    "tags": []
   },
   "outputs": [
    {
     "name": "stdout",
     "output_type": "stream",
     "text": [
      "Änderung der Elektronischer-Rechtsverkehr-Verordnung \n",
      "Die  Elektronischer-Rechtsverkehr-Verordnung  vom  24.  November  2017  (BGBl. I \n",
      "S. 3803), die durch Artikel 1 der Verordnung vom 9. Februar 2018 (BGBl. I S. 200) geändert\n",
      "worden ist, wird wie folgt geändert:\n",
      "1. In § 1 Absatz 1 Satz 2 wird die Angabe „Kapitels 4“ durch „Kapitels 5“ ersetzt.\n",
      "2. § 2 wird wie folgt geändert:\n",
      "a) In Absatz 1 Satz 1 werden die Wörter „in druckbarer, kopierbarer und, soweit tech-\n",
      "nisch möglich, durchsuchbarer Form“ gestrichen.\n",
      "b) Absatz 2 wird wie folgt gefasst:\n",
      "„(2) Das elektronische Dokument soll den nach § 5 Absatz 1 Nummer 1 und 6 \n",
      "bekanntgemachten technischen Standards entsprechen.“ \n",
      "3. § 5 wird wie folgt geändert:\n",
      "a) In der Überschrift wird das Wort „Anforderungen“ durch das Wort „Standards“ er-\n",
      "setzt.\n",
      "b) Absatz 1 wird wie folgt geändert:\n",
      "aa) In dem Satzteil vor Nummer 1 werden die Wörter „Anforderungen an“ durch\n",
      "die Wörter „Standards für“ ersetzt und werden vor dem Wort „Bearbeitung“ die \n",
      "Wörter „Eignung zur“ eingefügt. \n",
      "bb) In Nummer 5 wird der Punkt am Ende durch das Wort „und“ ersetzt. \n",
      "cc) Folgende Nummer 6 wird angefügt:\n",
      "„6.  die technischen Eigenschaften der elektronischen Dokumente.“\n",
      "c) In Absatz 2 werden jeweils die Wörter „Anforderungen“ durch das Wort „Stan-\n",
      "dards“ ersetzt.\n",
      "4. § 6 wird wie folgt geändert:\n",
      "a) In Absatz 1 in dem Satzteil vor Nummer 1 wird das Wort „(Postfachinhaber)“ ge-\n",
      "strichen.\n",
      "b) In Absatz 2 Nummer 3 werden die Wörter „vom 12. September 2011 (BGBl. I\n",
      "S. 1843), die zuletzt durch Artikel 4 der Verordnung vom 25. November 2016\n",
      "(BGBl. I S. 2659) geändert worden ist, in der jeweils geltenden Fassung“ gestri-\n",
      "chen.\n",
      "5. Nach § 9 wird folgendes Kapitel 4 eingefügt:\n",
      "- 7 - Drucksache 145/21\n",
      "„Kapitel 4 \n",
      "Besonderes elektronisches Bürger- und Organisationenpostfach; Post-\n",
      "fach- und Versanddienst eines Nutzerkontos \n",
      "§ 10\n",
      "Besonderes elektronisches Bürger- und Organisationenpostfach \n",
      "(1) Natürliche Personen, juristische Personen sowie sonstige Vereinigungen kön-\n",
      "nen zur Übermittlung elektronischer Dokumente auf einem sicheren Übermittlungsweg \n",
      "ein besonderes elektronisches Bürger- und Organisationenpostfach verwenden,  \n",
      "1. das auf dem Protokollstandard OSCI oder einem diesen ersetzenden, dem jewei-\n",
      "ligen Stand der Technik entsprechenden Protokollstandard beruht,\n",
      "2. bei dem die Identität des Postfachinhabers festgestellt worden ist,\n",
      "3. bei dem der Postfachinhaber in ein sicheres elektronisches Verzeichnis eingetra-\n",
      "gen ist,\n",
      "4. bei dem sich der Postfachinhaber beim Versand eines elektronischen Dokuments\n",
      "authentisiert und\n",
      "5. bei dem feststellbar ist, dass das elektronische Dokument vom Postfachinhaber\n",
      "versandt wurde.\n",
      "(2) Das besondere elektronische Bürger- und Organisationenpostfach muss\n",
      "1. über eine Suchfunktion verfügen, die es ermöglicht, Inhaber eines besonderen\n",
      "elektronischen  Anwaltspostfachs,  eines  besonderen  elektronischen Notarpost-\n",
      "fachs oder eines besonderen elektronischen Behördenpostfachs aufzufinden,\n",
      "2. für Inhaber besonderer elektronischer Anwaltspostfächer, besonderer elektroni-\n",
      "scher Notarpostfächer oder besonderer elektronischer Behördenpostfächer adres-\n",
      "sierbar sein und\n",
      "3. barrierefrei sein im Sinne der Barrierefreie-Informationstechnik-Verordnung.\n",
      "§ 11\n",
      "Identifizierung und Authentisierung des Postfachinhabers \n",
      "(1) Die Länder oder mehrere Länder gemeinsam bestimmen jeweils für ihren Be-\n",
      "reich eine öffentlich-rechtliche Stelle, die die Freischaltung eines besonderen elektro-\n",
      "nischen Bürger- und Organisationenpostfachs veranlasst.  \n",
      "(2) Der Postfachinhaber hat im Rahmen der Identitätsfeststellung seinen Namen\n",
      "und seine Anschrift nachzuweisen. Der Nachweis kann nur durch eines der folgenden \n",
      "Identifizierungsmittel erfolgen:  \n",
      "1. den elektronischen Identitätsnachweis nach § 18 des Personalausweisgesetzes,\n",
      "nach § 12 des eID-Karte-Gesetzes oder nach § 78 Absatz 5 des Aufenthaltsgeset-\n",
      "zes,\n",
      "Drucksache 145/21 - 8 -\n",
      "2. ein  qualifiziertes  elektronisches  Siegel  nach  Artikel 38  der  Verordnung  (EU)\n",
      "Nr. 910/2014 des Europäischen Parlaments und des Rates vom 23. Juli 2014 über\n",
      "elektronische Identifizierung und Vertrauensdienste für elektronische Transaktio-\n",
      "nen im Binnenmarkt und zur Aufhebung der Richtlinie 1999/93/EG (ABl. L 257 vom\n",
      "28.8.2014, S. 73; L 23 vom 29.1.2015, S. 19; L 155 vom 14.6.2016, S. 44),\n",
      "3. bei öffentlich bestellten oder beeidigten Personen, die Dolmetscher- oder Überset-\n",
      "zungsleistungen erbringen, eine Bestätigung der nach dem Gerichtsdolmetscher-\n",
      "gesetz oder dem jeweiligen Landesrecht für die öffentliche Bestellung und Beeidi-\n",
      "gung dieser Personen zuständigen Stelle, auch hinsichtlich der Angaben zu Be-\n",
      "rufsbezeichnung sowie zur Sprache, für die die Bestellung erfolgt,\n",
      "4. bei  Gerichtsvollziehern  eine  Bestätigung  der  für  ihre  Ernennung  zuständigen\n",
      "Stelle, auch hinsichtlich der Dienstbezeichnung, oder\n",
      "5. eine in öffentlich beglaubigter Form abgegebene Erklärung über den Namen und\n",
      "die Anschrift des Postfachinhabers sowie die eindeutige Bezeichnung des Post-\n",
      "fachs.\n",
      "Eine nach Satz 2 Nummer 5 angegebene geschäftliche Anschrift ist durch eine Be-\n",
      "scheinigung nach § 21 Absatz 1 der Bundesnotarordnung, einen amtlichen Register-\n",
      "ausdruck oder eine beglaubigte Registerabschrift nachzuweisen. Geht eine angege-\n",
      "bene geschäftliche Anschrift nicht aus einem öffentlichen Register hervor, so stellt die \n",
      "Stelle nach Absatz 1 diese durch geeignete Maßnahmen fest. Die Übermittlung von \n",
      "Daten nach Satz 2 Nummer 3 bis 5 an die in Absatz 1 genannte öffentlich-rechtliche \n",
      "Stelle erfolgt in strukturierter maschinenlesbarer Form. Im Fall des Satzes 2 Nummer 5 \n",
      "ist der öffentlich-rechtlichen Stelle zusätzlich eine öffentlich beglaubigte elektronische \n",
      "Abschrift der Erklärung zu übermitteln. \n",
      "(3) Der Postfachinhaber hat sich beim Versand eines elektronischen Dokuments\n",
      "zu authentisieren durch \n",
      "1. den elektronischen Identitätsnachweis nach § 18 des Personalausweisgesetzes,\n",
      "nach § 12 des eID-Karte-Gesetzes oder nach § 78 Absatz 5 des Aufenthaltsgeset-\n",
      "zes,\n",
      "2. ein Authentisierungszertifikat, das auf einer qualifizierten elektronischen Signatur-\n",
      "erstellungseinheit nach dem Anhang II der Verordnung (EU) Nr. 910/2014 gespei-\n",
      "chert ist, oder\n",
      "3. ein nichtqualifiziertes Authentisierungszertifikat, das über Dienste validierbar ist,\n",
      "die über das Internet erreichbar sind.\n",
      "§ 12\n",
      "Änderung von Angaben und Löschung des Postfachs \n",
      "(1) Bei Änderung seiner Daten hat der Postfachinhaber unverzüglich die Anpas-\n",
      "sung seines Postfachs bei der nach § 11 Absatz 1 bestimmten Stelle zu veranlassen. \n",
      "Das betrifft insbesondere die Änderung seines Namens oder seiner Anschrift, bei juris-\n",
      "tischen Personen oder sonstigen Vereinigungen auch bei der Änderung des Sitzes. \n",
      "(2) Der Postfachinhaber kann jederzeit die Löschung seines besonderen elektro-\n",
      "nischen Bürger- und Organisationenpostfachs veranlassen. \n",
      "- 9 - Drucksache 145/21\n",
      "§ 13 \n",
      "Elektronische Kommunikation über den Postfach- und Versanddienst eines Nutzer-\n",
      "kontos \n",
      "(1) Zur Übermittlung elektronischer Dokumente auf einem sicheren Übermitt-\n",
      "lungsweg kann der Postfach- und Versanddienst eines Nutzerkontos im Sinne des § 2 \n",
      "Absatz 5 des Onlinezugangsgesetzes genutzt werden, wenn bei diesem Postfach- und \n",
      "Versanddienst \n",
      "1. eine technische Vorrichtung besteht, die auf dem Protokollstandard OSCI oder ei-\n",
      "nem diesen ersetzenden, dem jeweiligen Stand der Technik entsprechenden Pro-\n",
      "tokollstandard beruht,\n",
      "2. die Identität des Nutzers des Postfach- und Versanddienstes durch ein Identifizie-\n",
      "rungsmittel nach § 11 Absatz 2 Satz 2 Nummer 1 oder 2 festgestellt ist,\n",
      "3. der Nutzer des Postfach- und Versanddienstes sich beim Versand eines elektroni-\n",
      "schen Dokuments entsprechend § 11 Absatz 3 authentisiert und\n",
      "4. feststellbar ist, dass das elektronische Dokument von dem Nutzer des Postfach- \n",
      "und Versanddienstes versandt wurde.\n",
      "(2) Der Postfach- und Versanddienst muss barrierefrei sein im Sinne der Barrie-\n",
      "refreie-Informationstechnik-Verordnung.“ \n",
      "6. Das bisherige Kapitel 4 wird Kapitel 5.\n",
      "7. Der bisherige § 10 wird § 14 und in dem Satzteil vor Nummer 1 werden die Wörter\n",
      "„Kapitel 2 und 3“ durch die Wörter „Kapitel 2 bis 4“ ersetzt.\n",
      "8. Der bisherige § 11 wird § 15.\n",
      "9. Das bisherige Kapitel 5 wird aufgehoben.\n",
      "\n"
     ]
    }
   ],
   "source": [
    "# we only work with the first one here\n",
    "change_law = proposals_list[2]\n",
    "# << do some dirty fix here, since someone forgot to add '' to the change law...\n",
    "change_law = \"Stelle abgewickelt werden.“\".join(\n",
    "    change_law.split(\"Stelle abgewickelt werden.\")\n",
    ")\n",
    "print(change_law)"
   ]
  },
  {
   "cell_type": "code",
   "execution_count": 28,
   "id": "2948e713-7467-4118-a7ab-59e42e982159",
   "metadata": {},
   "outputs": [],
   "source": [
    "# parse source law\n",
    "clean_change_law = preprocess_raw_law(change_law)\n",
    "parsed_change_law_tree = LawTextNode(text=law_titles[0], bulletpoint=\"change\")\n",
    "parsed_change_law_tree = parse_change_law_tree(\n",
    "    text=clean_change_law, source_node=parsed_change_law_tree\n",
    ")"
   ]
  },
  {
   "cell_type": "code",
   "execution_count": 29,
   "id": "54f03c7f-fdfb-4e03-b83b-e1316f112bff",
   "metadata": {},
   "outputs": [
    {
     "name": "stdout",
     "output_type": "stream",
     "text": [
      "1. In § 1 Absatz 1 Satz 2 wird die Angabe „Kapitels 4“ durch „Kapitels 5“ ersetzt.\n",
      "2. § 2 wird wie folgt geändert:\n",
      "a) In Absatz 1 Satz 1 werden die Wörter „in druckbarer, kopierbarer und, soweit technisch möglich, durchsuchbarer Form“ gestrichen.\n",
      "b) Absatz 2 wird wie folgt gefasst:„(2) Das elektronische Dokument soll den nach § 5 Absatz 1 Nummer 1 und 6 bekanntgemachten technischen Standards entsprechen.“\n",
      "3. § 5 wird wie folgt geändert:\n",
      "a) In der Überschrift wird das Wort „Anforderungen“ durch das Wort „Standards“ ersetzt.\n",
      "b) Absatz 1 wird wie folgt geändert:\n",
      "aa) In dem Satzteil vor Nummer 1 werden die Wörter „Anforderungen an“ durchdie Wörter „Standards für“ ersetzt und werden vor dem Wort „Bearbeitung“ dieWörter „Eignung zur“ eingefügt.\n",
      "bb) In Nummer 5 wird der Punkt am Ende durch das Wort „und“ ersetzt.\n",
      "cc) Folgende Nummer 6 wird angefügt:„6.  die technischen Eigenschaften der elektronischen Dokumente.“\n",
      "c) In Absatz 2 werden jeweils die Wörter „Anforderungen“ durch das Wort „Standards“ ersetzt.\n",
      "4. § 6 wird wie folgt geändert:\n",
      "a) In Absatz 1 in dem Satzteil vor Nummer 1 wird das Wort „(Postfachinhaber)“ gestrichen.\n",
      "b) In Absatz 2 Nummer 3 werden die Wörter „vom 12. September 2011 (BGBl. I S. 1843), die zuletzt durch Artikel 4 der Verordnung vom 25. November 2016 (BGBl. I S. 2659) geändert worden ist, in der jeweils geltenden Fassung“ gestrichen.\n",
      "5. Nach § 9 wird folgendes Kapitel 4 eingefügt:„Kapitel 4 Besonderes elektronisches Bürger- und Organisationenpostfach; Postfach- und Versanddienst eines Nutzerkontos § 10 Besonderes elektronisches Bürger- und Organisationenpostfach (1) Natürliche Personen, juristische Personen sowie sonstige Vereinigungen können zur Übermittlung elektronischer Dokumente auf einem sicheren Übermittlungsweg ein besonderes elektronisches Bürger- und Organisationenpostfach verwenden, 1. das auf dem Protokollstandard OSCI oder einem diesen ersetzenden, dem jeweiligen Stand der Technik entsprechenden Protokollstandard beruht, 2. bei dem die Identität des Postfachinhabers festgestellt worden ist, 3. bei dem der Postfachinhaber in ein sicheres elektronisches Verzeichnis eingetragen ist, 4. bei dem sich der Postfachinhaber beim Versand eines elektronischen Dokuments authentisiert und 5. bei dem feststellbar ist, dass das elektronische Dokument vom Postfachinhaber versandt wurde. (2) Das besondere elektronische Bürger- und Organisationenpostfach muss 1. über eine Suchfunktion verfügen, die es ermöglicht, Inhaber eines besonderen elektronischen  Anwaltspostfachs,  eines  besonderen  elektronischen Notarpostfachs oder eines besonderen elektronischen Behördenpostfachs aufzufinden, 2. für Inhaber besonderer elektronischer Anwaltspostfächer, besonderer elektronischer Notarpostfächer oder besonderer elektronischer Behördenpostfächer adressierbar sein und 3. barrierefrei sein im Sinne der Barrierefreie-Informationstechnik-Verordnung. § 11 Identifizierung und Authentisierung des Postfachinhabers (1) Die Länder oder mehrere Länder gemeinsam bestimmen jeweils für ihren Bereich eine öffentlich-rechtliche Stelle, die die Freischaltung eines besonderen elektronischen Bürger- und Organisationenpostfachs veranlasst. (2) Der Postfachinhaber hat im Rahmen der Identitätsfeststellung seinen Namen und seine Anschrift nachzuweisen. Der Nachweis kann nur durch eines der folgenden Identifizierungsmittel erfolgen: 1. den elektronischen Identitätsnachweis nach § 18 des Personalausweisgesetzes, nach § 12 des eID-Karte-Gesetzes oder nach § 78 Absatz 5 des Aufenthaltsgesetzes,   2. ein  qualifiziertes  elektronisches  Siegel  nach  Artikel 38  der  Verordnung  (EU) Nr. 910/2014 des Europäischen Parlaments und des Rates vom 23. Juli 2014 über elektronische Identifizierung und Vertrauensdienste für elektronische Transaktionen im Binnenmarkt und zur Aufhebung der Richtlinie 1999/93/EG (ABl. L 257 vom 28.8.2014, S. 73; L 23 vom 29.1.2015, S. 19; L 155 vom 14.6.2016, S. 44), 3. bei öffentlich bestellten oder beeidigten Personen, die Dolmetscher- oder Übersetzungsleistungen erbringen, eine Bestätigung der nach dem Gerichtsdolmetschergesetz oder dem jeweiligen Landesrecht für die öffentliche Bestellung und Beeidigung dieser Personen zuständigen Stelle, auch hinsichtlich der Angaben zu Berufsbezeichnung sowie zur Sprache, für die die Bestellung erfolgt, 4. bei  Gerichtsvollziehern  eine  Bestätigung  der  für  ihre  Ernennung  zuständigen Stelle, auch hinsichtlich der Dienstbezeichnung, oder 5. eine in öffentlich beglaubigter Form abgegebene Erklärung über den Namen und die Anschrift des Postfachinhabers sowie die eindeutige Bezeichnung des Postfachs. Eine nach Satz 2 Nummer 5 angegebene geschäftliche Anschrift ist durch eine Bescheinigung nach § 21 Absatz 1 der Bundesnotarordnung, einen amtlichen Registerausdruck oder eine beglaubigte Registerabschrift nachzuweisen. Geht eine angegebene geschäftliche Anschrift nicht aus einem öffentlichen Register hervor, so stellt die Stelle nach Absatz 1 diese durch geeignete Maßnahmen fest. Die Übermittlung von Daten nach Satz 2 Nummer 3 bis 5 an die in Absatz 1 genannte öffentlich-rechtliche Stelle erfolgt in strukturierter maschinenlesbarer Form. Im Fall des Satzes 2 Nummer 5 ist der öffentlich-rechtlichen Stelle zusätzlich eine öffentlich beglaubigte elektronische Abschrift der Erklärung zu übermitteln. (3) Der Postfachinhaber hat sich beim Versand eines elektronischen Dokuments zu authentisieren durch 1. den elektronischen Identitätsnachweis nach § 18 des Personalausweisgesetzes, nach § 12 des eID-Karte-Gesetzes oder nach § 78 Absatz 5 des Aufenthaltsgesetzes, 2. ein Authentisierungszertifikat, das auf einer qualifizierten elektronischen Signaturerstellungseinheit nach dem Anhang II der Verordnung (EU) Nr. 910/2014 gespeichert ist, oder 3. ein nichtqualifiziertes Authentisierungszertifikat, das über Dienste validierbar ist, die über das Internet erreichbar sind. § 12 Änderung von Angaben und Löschung des Postfachs (1) Bei Änderung seiner Daten hat der Postfachinhaber unverzüglich die Anpassung seines Postfachs bei der nach § 11 Absatz 1 bestimmten Stelle zu veranlassen. Das betrifft insbesondere die Änderung seines Namens oder seiner Anschrift, bei juristischen Personen oder sonstigen Vereinigungen auch bei der Änderung des Sitzes. (2) Der Postfachinhaber kann jederzeit die Löschung seines besonderen elektronischen Bürger- und Organisationenpostfachs veranlassen.   § 13 Elektronische Kommunikation über den Postfach- und Versanddienst eines Nutzerkontos (1) Zur Übermittlung elektronischer Dokumente auf einem sicheren Übermittlungsweg kann der Postfach- und Versanddienst eines Nutzerkontos im Sinne des § 2 Absatz 5 des Onlinezugangsgesetzes genutzt werden, wenn bei diesem Postfach- und Versanddienst 1. eine technische Vorrichtung besteht, die auf dem Protokollstandard OSCI oder einem diesen ersetzenden, dem jeweiligen Stand der Technik entsprechenden Protokollstandard beruht, 2. die Identität des Nutzers des Postfach- und Versanddienstes durch ein Identifizierungsmittel nach § 11 Absatz 2 Satz 2 Nummer 1 oder 2 festgestellt ist, 3. der Nutzer des Postfach- und Versanddienstes sich beim Versand eines elektronischen Dokuments entsprechend § 11 Absatz 3 authentisiert und 4. feststellbar ist, dass das elektronische Dokument von dem Nutzer des Postfach- und Versanddienstes versandt wurde. (2) Der Postfach- und Versanddienst muss barrierefrei sein im Sinne der Barrierefreie-Informationstechnik-Verordnung.“\n",
      "6. Das bisherige Kapitel 4 wird Kapitel 5.\n",
      "7. Der bisherige § 10 wird § 14 und in dem Satzteil vor Nummer 1 werden die Wörter„Kapitel 2 und 3“ durch die Wörter „Kapitel 2 bis 4“ ersetzt.\n",
      "8. Der bisherige § 11 wird § 15.\n",
      "9. Das bisherige Kapitel 5 wird aufgehoben.\n"
     ]
    }
   ],
   "source": [
    "print(clean_change_law)"
   ]
  },
  {
   "cell_type": "code",
   "execution_count": 30,
   "id": "1bb28248-890f-4181-8544-4975673d09a9",
   "metadata": {},
   "outputs": [
    {
     "name": "stdout",
     "output_type": "stream",
     "text": [
      "change - Zivilprozessordnung\n",
      "├── 1. - In § 1 Absatz 1 Satz 2 wird die Angabe „Kapitels 4“ durch „Kapitels 5“ ersetzt.\n",
      "├── 2. - § 2 wird wie folgt geändert:\n",
      "│   ├── a) - In Absatz 1 Satz 1 werden die Wörter „in druckbarer, kopierbarer und, soweit technisch möglich, durchsuchbarer Form“ gestrichen.\n",
      "│   └── b) - Absatz 2 wird wie folgt gefasst:„(2) Das elektronische Dokument soll den nach § 5 Absatz 1 Nummer 1 und 6 bekanntgemachten technischen Standards entsprechen.“\n",
      "├── 3. - § 5 wird wie folgt geändert:\n",
      "│   ├── a) - In der Überschrift wird das Wort „Anforderungen“ durch das Wort „Standards“ ersetzt.\n",
      "│   ├── b) - Absatz 1 wird wie folgt geändert:\n",
      "│   │   ├── aa) - In dem Satzteil vor Nummer 1 werden die Wörter „Anforderungen an“ durchdie Wörter „Standards für“ ersetzt und werden vor dem Wort „Bearbeitung“ dieWörter „Eignung zur“ eingefügt.\n",
      "│   │   ├── bb) - In Nummer 5 wird der Punkt am Ende durch das Wort „und“ ersetzt.\n",
      "│   │   └── cc) - Folgende Nummer 6 wird angefügt:„6.  die technischen Eigenschaften der elektronischen Dokumente.“\n",
      "│   └── c) - In Absatz 2 werden jeweils die Wörter „Anforderungen“ durch das Wort „Standards“ ersetzt.\n",
      "├── 4. - § 6 wird wie folgt geändert:\n",
      "│   ├── a) - In Absatz 1 in dem Satzteil vor Nummer 1 wird das Wort „(Postfachinhaber)“ gestrichen.\n",
      "│   └── b) - In Absatz 2 Nummer 3 werden die Wörter „vom 12. September 2011 (BGBl. I S. 1843), die zuletzt durch Artikel 4 der Verordnung vom 25. November 2016 (BGBl. I S. 2659) geändert worden ist, in der jeweils geltenden Fassung“ gestrichen.\n",
      "├── 5. - Nach § 9 wird folgendes Kapitel 4 eingefügt:„Kapitel 4 Besonderes elektronisches Bürger- und Organisationenpostfach; Postfach- und Versanddienst eines Nutzerkontos § 10 Besonderes elektronisches Bürger- und Organisationenpostfach (1) Natürliche Personen, juristische Personen sowie sonstige Vereinigungen können zur Übermittlung elektronischer Dokumente auf einem sicheren Übermittlungsweg ein besonderes elektronisches Bürger- und Organisationenpostfach verwenden, 1. das auf dem Protokollstandard OSCI oder einem diesen ersetzenden, dem jeweiligen Stand der Technik entsprechenden Protokollstandard beruht, 2. bei dem die Identität des Postfachinhabers festgestellt worden ist, 3. bei dem der Postfachinhaber in ein sicheres elektronisches Verzeichnis eingetragen ist, 4. bei dem sich der Postfachinhaber beim Versand eines elektronischen Dokuments authentisiert und 5. bei dem feststellbar ist, dass das elektronische Dokument vom Postfachinhaber versandt wurde. (2) Das besondere elektronische Bürger- und Organisationenpostfach muss 1. über eine Suchfunktion verfügen, die es ermöglicht, Inhaber eines besonderen elektronischen  Anwaltspostfachs,  eines  besonderen  elektronischen Notarpostfachs oder eines besonderen elektronischen Behördenpostfachs aufzufinden, 2. für Inhaber besonderer elektronischer Anwaltspostfächer, besonderer elektronischer Notarpostfächer oder besonderer elektronischer Behördenpostfächer adressierbar sein und 3. barrierefrei sein im Sinne der Barrierefreie-Informationstechnik-Verordnung. § 11 Identifizierung und Authentisierung des Postfachinhabers (1) Die Länder oder mehrere Länder gemeinsam bestimmen jeweils für ihren Bereich eine öffentlich-rechtliche Stelle, die die Freischaltung eines besonderen elektronischen Bürger- und Organisationenpostfachs veranlasst. (2) Der Postfachinhaber hat im Rahmen der Identitätsfeststellung seinen Namen und seine Anschrift nachzuweisen. Der Nachweis kann nur durch eines der folgenden Identifizierungsmittel erfolgen: 1. den elektronischen Identitätsnachweis nach § 18 des Personalausweisgesetzes, nach § 12 des eID-Karte-Gesetzes oder nach § 78 Absatz 5 des Aufenthaltsgesetzes,   2. ein  qualifiziertes  elektronisches  Siegel  nach  Artikel 38  der  Verordnung  (EU) Nr. 910/2014 des Europäischen Parlaments und des Rates vom 23. Juli 2014 über elektronische Identifizierung und Vertrauensdienste für elektronische Transaktionen im Binnenmarkt und zur Aufhebung der Richtlinie 1999/93/EG (ABl. L 257 vom 28.8.2014, S. 73; L 23 vom 29.1.2015, S. 19; L 155 vom 14.6.2016, S. 44), 3. bei öffentlich bestellten oder beeidigten Personen, die Dolmetscher- oder Übersetzungsleistungen erbringen, eine Bestätigung der nach dem Gerichtsdolmetschergesetz oder dem jeweiligen Landesrecht für die öffentliche Bestellung und Beeidigung dieser Personen zuständigen Stelle, auch hinsichtlich der Angaben zu Berufsbezeichnung sowie zur Sprache, für die die Bestellung erfolgt, 4. bei  Gerichtsvollziehern  eine  Bestätigung  der  für  ihre  Ernennung  zuständigen Stelle, auch hinsichtlich der Dienstbezeichnung, oder 5. eine in öffentlich beglaubigter Form abgegebene Erklärung über den Namen und die Anschrift des Postfachinhabers sowie die eindeutige Bezeichnung des Postfachs. Eine nach Satz 2 Nummer 5 angegebene geschäftliche Anschrift ist durch eine Bescheinigung nach § 21 Absatz 1 der Bundesnotarordnung, einen amtlichen Registerausdruck oder eine beglaubigte Registerabschrift nachzuweisen. Geht eine angegebene geschäftliche Anschrift nicht aus einem öffentlichen Register hervor, so stellt die Stelle nach Absatz 1 diese durch geeignete Maßnahmen fest. Die Übermittlung von Daten nach Satz 2 Nummer 3 bis 5 an die in Absatz 1 genannte öffentlich-rechtliche Stelle erfolgt in strukturierter maschinenlesbarer Form. Im Fall des Satzes 2 Nummer 5 ist der öffentlich-rechtlichen Stelle zusätzlich eine öffentlich beglaubigte elektronische Abschrift der Erklärung zu übermitteln. (3) Der Postfachinhaber hat sich beim Versand eines elektronischen Dokuments zu authentisieren durch 1. den elektronischen Identitätsnachweis nach § 18 des Personalausweisgesetzes, nach § 12 des eID-Karte-Gesetzes oder nach § 78 Absatz 5 des Aufenthaltsgesetzes, 2. ein Authentisierungszertifikat, das auf einer qualifizierten elektronischen Signaturerstellungseinheit nach dem Anhang II der Verordnung (EU) Nr. 910/2014 gespeichert ist, oder 3. ein nichtqualifiziertes Authentisierungszertifikat, das über Dienste validierbar ist, die über das Internet erreichbar sind. § 12 Änderung von Angaben und Löschung des Postfachs (1) Bei Änderung seiner Daten hat der Postfachinhaber unverzüglich die Anpassung seines Postfachs bei der nach § 11 Absatz 1 bestimmten Stelle zu veranlassen. Das betrifft insbesondere die Änderung seines Namens oder seiner Anschrift, bei juristischen Personen oder sonstigen Vereinigungen auch bei der Änderung des Sitzes. (2) Der Postfachinhaber kann jederzeit die Löschung seines besonderen elektronischen Bürger- und Organisationenpostfachs veranlassen.   § 13 Elektronische Kommunikation über den Postfach- und Versanddienst eines Nutzerkontos (1) Zur Übermittlung elektronischer Dokumente auf einem sicheren Übermittlungsweg kann der Postfach- und Versanddienst eines Nutzerkontos im Sinne des § 2 Absatz 5 des Onlinezugangsgesetzes genutzt werden, wenn bei diesem Postfach- und Versanddienst 1. eine technische Vorrichtung besteht, die auf dem Protokollstandard OSCI oder einem diesen ersetzenden, dem jeweiligen Stand der Technik entsprechenden Protokollstandard beruht, 2. die Identität des Nutzers des Postfach- und Versanddienstes durch ein Identifizierungsmittel nach § 11 Absatz 2 Satz 2 Nummer 1 oder 2 festgestellt ist, 3. der Nutzer des Postfach- und Versanddienstes sich beim Versand eines elektronischen Dokuments entsprechend § 11 Absatz 3 authentisiert und 4. feststellbar ist, dass das elektronische Dokument von dem Nutzer des Postfach- und Versanddienstes versandt wurde. (2) Der Postfach- und Versanddienst muss barrierefrei sein im Sinne der Barrierefreie-Informationstechnik-Verordnung.“\n",
      "├── 6. - Das bisherige Kapitel 4 wird Kapitel 5.\n",
      "├── 7. - Der bisherige § 10 wird § 14 und in dem Satzteil vor Nummer 1 werden die Wörter„Kapitel 2 und 3“ durch die Wörter „Kapitel 2 bis 4“ ersetzt.\n",
      "├── 8. - Der bisherige § 11 wird § 15.\n",
      "└── 9. - Das bisherige Kapitel 5 wird aufgehoben.\n"
     ]
    }
   ],
   "source": [
    "parsed_change_law_tree._print()"
   ]
  },
  {
   "cell_type": "code",
   "execution_count": 31,
   "id": "005f2f36-6afe-46dd-873e-5b5b98fa32c1",
   "metadata": {},
   "outputs": [],
   "source": [
    "# build up a list of texts that describe a single change\n",
    "all_change_lines = []\n",
    "for l in parsed_change_law_tree.leaves:\n",
    "    path = [str(l)]\n",
    "    node = l\n",
    "    while node.parent:\n",
    "        node = node.parent\n",
    "        path.append(str(node))\n",
    "    change_line = \" \".join(path[::-1][1:])\n",
    "    all_change_lines.append(change_line)"
   ]
  },
  {
   "cell_type": "code",
   "execution_count": 32,
   "id": "cece82ea-9cc3-4b07-9283-7d6a9642ee19",
   "metadata": {},
   "outputs": [],
   "source": [
    "# parse the change requests in a structured format\n",
    "change_requests = []\n",
    "for change_request_line in all_change_lines:\n",
    "    res = parse_change_request_line(change_request_line)\n",
    "    if res:\n",
    "        change_requests.extend(res)"
   ]
  },
  {
   "cell_type": "code",
   "execution_count": 33,
   "id": "90ff3f71-64c9-481e-9142-ca0f5cf24eca",
   "metadata": {},
   "outputs": [
    {
     "data": {
      "text/plain": [
       "'8. - Der bisherige § 11 wird § 15.'"
      ]
     },
     "execution_count": 33,
     "metadata": {},
     "output_type": "execute_result"
    }
   ],
   "source": [
    "all_change_lines[-2]"
   ]
  },
  {
   "cell_type": "code",
   "execution_count": 34,
   "id": "a41121d1-5518-4bac-adb1-9d0e6ca8f254",
   "metadata": {},
   "outputs": [
    {
     "data": {
      "text/plain": [
       "[Change(location=['§ 1', 'Absatz 1'], sentences=['Satz 2'], text=['Kapitels 4', 'Kapitels 5'], change_type='replace'),\n",
       " Change(location=['§ 2', 'Absatz 1'], sentences=['Satz 1'], text=['in druckbarer, kopierbarer und, soweit technisch möglich, durchsuchbarer Form'], change_type='delete_after'),\n",
       " Change(location=['§ 2', 'Absatz 2'], sentences=[], text=['(2) Das elektronische Dokument soll den nach § 5 Absatz 1 Nummer 1 und 6 bekanntgemachten technischen Standards entsprechen.'], change_type='rephrase'),\n",
       " Change(location=['§ 5', 'Überschrift'], sentences=[], text=['Anforderungen', 'Standards'], change_type='replace'),\n",
       " Change(location=['§ 5', 'Absatz 1', 'Nummer 1'], sentences=[], text=['Anforderungen an', 'Standards für', 'Bearbeitung', 'Eignung zur'], change_type='MULTIPLE_CHANGES'),\n",
       " Change(location=['§ 5', 'Absatz 1', 'Nummer 5'], sentences=[], text=['und'], change_type='replace'),\n",
       " Change(location=['§ 5', 'Absatz 1', 'Nummer 6'], sentences=[], text=['6.  die technischen Eigenschaften der elektronischen Dokumente.'], change_type='append'),\n",
       " Change(location=['§ 5', 'Absatz 2'], sentences=[], text=['Anforderungen', 'Standards'], change_type='replace'),\n",
       " Change(location=['§ 6', 'Absatz 1', 'Nummer 1'], sentences=[], text=['(Postfachinhaber)'], change_type='delete_after'),\n",
       " Change(location=['§ 6', 'Absatz 2', 'Nummer 3'], sentences=[], text=['vom 12. September 2011 (BGBl. I S. 1843), die zuletzt durch Artikel 4 der Verordnung vom 25. November 2016 (BGBl. I S. 2659) geändert worden ist, in der jeweils geltenden Fassung'], change_type='delete_after'),\n",
       " Change(location=['§ 9'], sentences=[], text=['Kapitel 4 Besonderes elektronisches Bürger- und Organisationenpostfach; Postfach- und Versanddienst eines Nutzerkontos § 10 Besonderes elektronisches Bürger- und Organisationenpostfach (1) Natürliche Personen, juristische Personen sowie sonstige Vereinigungen können zur Übermittlung elektronischer Dokumente auf einem sicheren Übermittlungsweg ein besonderes elektronisches Bürger- und Organisationenpostfach verwenden, 1. das auf dem Protokollstandard OSCI oder einem diesen ersetzenden, dem jeweiligen Stand der Technik entsprechenden Protokollstandard beruht, 2. bei dem die Identität des Postfachinhabers festgestellt worden ist, 3. bei dem der Postfachinhaber in ein sicheres elektronisches Verzeichnis eingetragen ist, 4. bei dem sich der Postfachinhaber beim Versand eines elektronischen Dokuments authentisiert und 5. bei dem feststellbar ist, dass das elektronische Dokument vom Postfachinhaber versandt wurde. (2) Das besondere elektronische Bürger- und Organisationenpostfach muss 1. über eine Suchfunktion verfügen, die es ermöglicht, Inhaber eines besonderen elektronischen  Anwaltspostfachs,  eines  besonderen  elektronischen Notarpostfachs oder eines besonderen elektronischen Behördenpostfachs aufzufinden, 2. für Inhaber besonderer elektronischer Anwaltspostfächer, besonderer elektronischer Notarpostfächer oder besonderer elektronischer Behördenpostfächer adressierbar sein und 3. barrierefrei sein im Sinne der Barrierefreie-Informationstechnik-Verordnung. § 11 Identifizierung und Authentisierung des Postfachinhabers (1) Die Länder oder mehrere Länder gemeinsam bestimmen jeweils für ihren Bereich eine öffentlich-rechtliche Stelle, die die Freischaltung eines besonderen elektronischen Bürger- und Organisationenpostfachs veranlasst. (2) Der Postfachinhaber hat im Rahmen der Identitätsfeststellung seinen Namen und seine Anschrift nachzuweisen. Der Nachweis kann nur durch eines der folgenden Identifizierungsmittel erfolgen: 1. den elektronischen Identitätsnachweis nach § 18 des Personalausweisgesetzes, nach § 12 des eID-Karte-Gesetzes oder nach § 78 Absatz 5 des Aufenthaltsgesetzes,   2. ein  qualifiziertes  elektronisches  Siegel  nach  Artikel 38  der  Verordnung  (EU) Nr. 910/2014 des Europäischen Parlaments und des Rates vom 23. Juli 2014 über elektronische Identifizierung und Vertrauensdienste für elektronische Transaktionen im Binnenmarkt und zur Aufhebung der Richtlinie 1999/93/EG (ABl. L 257 vom 28.8.2014, S. 73; L 23 vom 29.1.2015, S. 19; L 155 vom 14.6.2016, S. 44), 3. bei öffentlich bestellten oder beeidigten Personen, die Dolmetscher- oder Übersetzungsleistungen erbringen, eine Bestätigung der nach dem Gerichtsdolmetschergesetz oder dem jeweiligen Landesrecht für die öffentliche Bestellung und Beeidigung dieser Personen zuständigen Stelle, auch hinsichtlich der Angaben zu Berufsbezeichnung sowie zur Sprache, für die die Bestellung erfolgt, 4. bei  Gerichtsvollziehern  eine  Bestätigung  der  für  ihre  Ernennung  zuständigen Stelle, auch hinsichtlich der Dienstbezeichnung, oder 5. eine in öffentlich beglaubigter Form abgegebene Erklärung über den Namen und die Anschrift des Postfachinhabers sowie die eindeutige Bezeichnung des Postfachs. Eine nach Satz 2 Nummer 5 angegebene geschäftliche Anschrift ist durch eine Bescheinigung nach § 21 Absatz 1 der Bundesnotarordnung, einen amtlichen Registerausdruck oder eine beglaubigte Registerabschrift nachzuweisen. Geht eine angegebene geschäftliche Anschrift nicht aus einem öffentlichen Register hervor, so stellt die Stelle nach Absatz 1 diese durch geeignete Maßnahmen fest. Die Übermittlung von Daten nach Satz 2 Nummer 3 bis 5 an die in Absatz 1 genannte öffentlich-rechtliche Stelle erfolgt in strukturierter maschinenlesbarer Form. Im Fall des Satzes 2 Nummer 5 ist der öffentlich-rechtlichen Stelle zusätzlich eine öffentlich beglaubigte elektronische Abschrift der Erklärung zu übermitteln. (3) Der Postfachinhaber hat sich beim Versand eines elektronischen Dokuments zu authentisieren durch 1. den elektronischen Identitätsnachweis nach § 18 des Personalausweisgesetzes, nach § 12 des eID-Karte-Gesetzes oder nach § 78 Absatz 5 des Aufenthaltsgesetzes, 2. ein Authentisierungszertifikat, das auf einer qualifizierten elektronischen Signaturerstellungseinheit nach dem Anhang II der Verordnung (EU) Nr. 910/2014 gespeichert ist, oder 3. ein nichtqualifiziertes Authentisierungszertifikat, das über Dienste validierbar ist, die über das Internet erreichbar sind. § 12 Änderung von Angaben und Löschung des Postfachs (1) Bei Änderung seiner Daten hat der Postfachinhaber unverzüglich die Anpassung seines Postfachs bei der nach § 11 Absatz 1 bestimmten Stelle zu veranlassen. Das betrifft insbesondere die Änderung seines Namens oder seiner Anschrift, bei juristischen Personen oder sonstigen Vereinigungen auch bei der Änderung des Sitzes. (2) Der Postfachinhaber kann jederzeit die Löschung seines besonderen elektronischen Bürger- und Organisationenpostfachs veranlassen.   § 13 Elektronische Kommunikation über den Postfach- und Versanddienst eines Nutzerkontos (1) Zur Übermittlung elektronischer Dokumente auf einem sicheren Übermittlungsweg kann der Postfach- und Versanddienst eines Nutzerkontos im Sinne des § 2 Absatz 5 des Onlinezugangsgesetzes genutzt werden, wenn bei diesem Postfach- und Versanddienst 1. eine technische Vorrichtung besteht, die auf dem Protokollstandard OSCI oder einem diesen ersetzenden, dem jeweiligen Stand der Technik entsprechenden Protokollstandard beruht, 2. die Identität des Nutzers des Postfach- und Versanddienstes durch ein Identifizierungsmittel nach § 11 Absatz 2 Satz 2 Nummer 1 oder 2 festgestellt ist, 3. der Nutzer des Postfach- und Versanddienstes sich beim Versand eines elektronischen Dokuments entsprechend § 11 Absatz 3 authentisiert und 4. feststellbar ist, dass das elektronische Dokument von dem Nutzer des Postfach- und Versanddienstes versandt wurde. (2) Der Postfach- und Versanddienst muss barrierefrei sein im Sinne der Barrierefreie-Informationstechnik-Verordnung.'], change_type='insert_after'),\n",
       " Change(location=[], sentences=[], text=[], change_type='UNKNOWN'),\n",
       " Change(location=['§ 10', 'Nummer 1'], sentences=[], text=['Kapitel 2 und 3', 'Kapitel 2 bis 4'], change_type='replace'),\n",
       " Change(location=['§ 11'], sentences=[], text=[], change_type='UNKNOWN'),\n",
       " Change(location=[], sentences=[], text=[], change_type='cancelled')]"
      ]
     },
     "execution_count": 34,
     "metadata": {},
     "output_type": "execute_result"
    }
   ],
   "source": [
    "change_requests"
   ]
  },
  {
   "cell_type": "markdown",
   "id": "8601c6e4-f7c6-4cf7-89a6-3238d0b3cdfc",
   "metadata": {},
   "source": [
    "### Process the source law"
   ]
  },
  {
   "cell_type": "code",
   "execution_count": 35,
   "id": "611e8178-08cb-4925-9538-5a4918d2c30a",
   "metadata": {},
   "outputs": [],
   "source": [
    "law_name = \"Elektronischer-Rechtsverkehr-Verordnung\"  # \"Berliner Straßengesetz\"\n",
    "source_law_path = \"../data/source_laws/{}.txt\".format(law_name)"
   ]
  },
  {
   "cell_type": "code",
   "execution_count": 36,
   "id": "26afbf46-74a1-4adf-80a6-dd0a95b645d5",
   "metadata": {},
   "outputs": [],
   "source": [
    "# read the source law\n",
    "with open(source_law_path, \"r\") as file:\n",
    "    source_law_text = file.read()"
   ]
  },
  {
   "cell_type": "code",
   "execution_count": 43,
   "id": "e18a76d6-94c6-416c-8edc-e2a711de1ef6",
   "metadata": {},
   "outputs": [],
   "source": [
    "# parse source law\n",
    "parsed_law_tree = LawTextNode(text=law_name, bulletpoint=\"source\")\n",
    "parsed_law_tree = parse_source_law_tree(\n",
    "    text=source_law_text, source_node=parsed_law_tree\n",
    ")"
   ]
  },
  {
   "cell_type": "code",
   "execution_count": 44,
   "id": "22a450d4-6969-4435-aebb-e21c255a748f",
   "metadata": {
    "scrolled": true,
    "tags": []
   },
   "outputs": [
    {
     "name": "stdout",
     "output_type": "stream",
     "text": [
      "source - Elektronischer-Rechtsverkehr-Verordnung\n",
      "├── § 1 - Anwendungsbereich\n",
      "│   ├── (1) - Diese Verordnung gilt für die Übermittlung elektronischer Dokumente an die Gerichte der Länder und des Bundes sowie die Bearbeitung elektronischer Dokumente durch diese Gerichte nach § 130a der Zivilprozessordnung, § 46c des Arbeitsgerichtsgesetzes, § 65a des Sozialgerichtsgesetzes, § 55a der Verwaltungsgerichtsordnung und § 52a der Finanzgerichtsordnung. Sie gilt ferner nach Maßgabe des Kapitels 4 für die Übermittlung elektronischer Dokumente an Strafverfolgungsbehörden und Strafgerichte der Länder und des Bundes nach § 32a der Strafprozessordnung sowie die Bearbeitung elektronischer Dokumente.\n",
      "│   └── (2) - Besondere bundesrechtliche Vorschriften über die Übermittlung elektronischer Dokumente und strukturierter maschinenlesbarer Datensätze bleiben unberührt.\n",
      "Kapitel 2\n",
      "Technische Rahmenbedingungen des elektronischen Rechtsverkehrs\n",
      "Nichtamtliches Inhaltsverzeichnis\n",
      "├── § 2 - Anforderungen an elektronische Dokumente\n",
      "│   ├── (1) - Das elektronische Dokument ist in druckbarer, kopierbarer und, soweit technisch möglich, durchsuchbarer Form im Dateiformat PDF zu übermitteln. Wenn bildliche Darstellungen im Dateiformat PDF nicht verlustfrei wiedergegeben werden können, darf das elektronische Dokument zusätzlich im Dateiformat TIFF übermittelt werden. Die Dateiformate PDF und TIFF müssen den nach § 5 Absatz 1 Nummer 1 bekanntgemachten Versionen entsprechen.\n",
      "│   ├── (2) - Der Dateiname soll den Inhalt des elektronischen Dokuments schlagwortartig umschreiben und bei der Übermittlung mehrerer elektronischer Dokumente eine logische Nummerierung enthalten.\n",
      "│   └── (3) - Dem elektronischen Dokument soll ein strukturierter maschinenlesbarer Datensatz im Dateiformat XML beigefügt werden, der den nach § 5 Absatz 1 Nummer 2 bekanntgemachten Definitions- oder Schemadateien entspricht und mindestens enthält:\n",
      "│       ├── 1. - die Bezeichnung des Gerichts;\n",
      "│       ├── 2. - sofern bekannt, das Aktenzeichen des Verfahrens;\n",
      "│       ├── 3. - die Bezeichnung der Parteien oder Verfahrensbeteiligten;\n",
      "│       ├── 4. - die Angabe des Verfahrensgegenstandes;\n",
      "│       └── 5. - sofern bekannt, das Aktenzeichen eines denselben Verfahrensgegenstand betreffenden Verfahrens und die Bezeichnung der die Akten führenden Stelle.\n",
      "\n",
      "Nichtamtliches Inhaltsverzeichnis\n",
      "├── § 3 - Überschreitung der Höchstgrenzen\n",
      "Wird glaubhaft gemacht, dass die nach § 5 Absatz 1 Nummer 3 bekanntgemachten Höchstgrenzen für die Anzahl oder das Volumen elektronischer Dokumente nicht eingehalten werden können, kann die Übermittlung als Schriftsatz nach den allgemeinen Vorschriften erfolgen, möglichst unter Beifügung des Schriftsatzes und der Anlagen als elektronische Dokumente auf einem nach § 5 Absatz 1 Nummer 4 bekanntgemachten zulässigen physischen Datenträger.\n",
      "Nichtamtliches Inhaltsverzeichnis\n",
      "├── § 4 - Übermittlung elektronischer Dokumente mit qualifizierter elektronischer Signatur\n",
      "│   ├── (1) - Ein elektronisches Dokument, das mit einer qualifizierten elektronischen Signatur der verantwortenden Person versehen ist, darf wie folgt übermittelt werden:\n",
      "│   │   ├── 1. - auf einem sicheren Übermittlungsweg oder\n",
      "│   │   └── 2. - an das für den Empfang elektronischer Dokumente eingerichtete Elektronische Gerichts- und Verwaltungspostfach des Gerichts über eine Anwendung, die auf OSCI oder einem diesen ersetzenden, dem jeweiligen Stand der Technik entsprechenden Protokollstandard beruht.\n",
      "│   └── (2) - Mehrere elektronische Dokumente dürfen nicht mit einer gemeinsamen qualifizierten elektronischen Signatur übermittelt werden.\n",
      "Nichtamtliches Inhaltsverzeichnis\n",
      "├── § 5 - Bekanntmachung technischer Anforderungen\n",
      "│   ├── (1) - Die Bundesregierung macht folgende technische Anforderungen an die Übermittlung und Bearbeitung elektronischer Dokumente im Bundesanzeiger und auf der Internetseite www.justiz.de bekannt:\n",
      "│   │   ├── 1. - die Versionen der Dateiformate PDF und TIFF;\n",
      "│   │   ├── 2. - die Definitions- oder Schemadateien, die bei der Übermittlung eines strukturierten maschinenlesbaren Datensatzes im Format XML genutzt werden sollen;\n",
      "│   │   ├── 3. - die Höchstgrenzen für die Anzahl und das Volumen elektronischer Dokumente;\n",
      "│   │   ├── 4. - die zulässigen physischen Datenträger;\n",
      "│   │   └── 5. - die Einzelheiten der Anbringung der qualifizierten elektronischen Signatur am elektronischen Dokument.\n",
      "│   └── (2) - Die technischen Anforderungen müssen den aktuellen Stand der Technik und die Barrierefreiheit im Sinne der Barrierefreie-Informationstechnik-Verordnung vom 12. September 2011 (BGBl. I S. 1843), die zuletzt durch Artikel 4 der Verordnung vom 25. November 2016 (BGBl. I S. 2659) geändert worden ist, in der jeweils geltenden Fassung, berücksichtigen und mit einer Mindestgültigkeitsdauer bekanntgemacht werden. Die technischen Anforderungen können mit einem Ablaufdatum nach der Mindestgültigkeitsdauer versehen werden, ab dem sie voraussichtlich durch neue bekanntgegebene Anforderungen abgelöst sein müssen.\n",
      "Kapitel 3\n",
      "Besonderes elektronisches Behördenpostfach\n",
      "Nichtamtliches Inhaltsverzeichnis\n",
      "├── § 6 - Besonderes elektronisches Behördenpostfach; Anforderungen\n",
      "│   ├── (1) - Die Behörden sowie juristischen Personen des öffentlichen Rechts (Postfachinhaber) können zur Übermittlung elektronischer Dokumente auf einem sicheren Übermittlungsweg ein besonderes elektronisches Behördenpostfach verwenden,\n",
      "│   │   ├── 1. - das auf dem Protokollstandard OSCI oder einem diesen ersetzenden, dem jeweiligen Stand der Technik entsprechenden Protokollstandard beruht,\n",
      "│   │   ├── 2. - bei dem die Identität des Postfachinhabers in einem Identifizierungsverfahren geprüft und bestätigt wurde,\n",
      "│   │   ├── 3. - bei dem der Postfachinhaber in ein sicheres elektronisches Verzeichnis eingetragen ist und\n",
      "│   │   └── 4. - bei dem feststellbar ist, dass das elektronische Dokument vom Postfachinhaber versandt wurde.\n",
      "│   └── (2) - Das besondere elektronische Behördenpostfach muss\n",
      "│       ├── 1. - über eine Suchfunktion verfügen, die es ermöglicht, andere Inhaber von besonderen elektronischen Postfächern aufzufinden,\n",
      "│       ├── 2. - für andere Inhaber von besonderen elektronischen Postfächern adressierbar sein und\n",
      "│       └── 3. - barrierefrei sein im Sinne der Barrierefreie-Informationstechnik-Verordnung vom 12. September 2011 (BGBl. I S. 1843), die zuletzt durch Artikel 4 der Verordnung vom 25. November 2016 (BGBl. I S. 2659) geändert worden ist, in der jeweils geltenden Fassung.\n",
      "\n",
      "Nichtamtliches Inhaltsverzeichnis\n",
      "├── § 7 - Identifizierungsverfahren\n",
      "│   ├── (1) - Die von den obersten Behörden des Bundes oder den Landesregierungen für ihren Bereich bestimmten öffentlich-rechtlichen Stellen prüfen die Identität der Behörden oder juristischen Personen des öffentlichen Rechts und bestätigen dies in einem sicheren elektronischen Verzeichnis. Die obersten Behörden des Bundes oder mehrere Landesregierungen können auch eine öffentlich-rechtliche Stelle gemeinsam für ihre Bereiche bestimmen.\n",
      "│   └── (2) - Bei der Prüfung der Identität ist zu ermitteln, ob\n",
      "│       ├── 1. - der Postfachinhaber eine inländische Behörde oder juristische Person des öffentlichen Rechts ist und\n",
      "│       └── 2. - Name und Sitz des Postfachinhabers zutreffend bezeichnet sind.\n",
      "\n",
      "Nichtamtliches Inhaltsverzeichnis\n",
      "├── § 8 - Zugang und Zugangsberechtigung; Verwaltung\n",
      "│   ├── (1) - Der Postfachinhaber bestimmt die natürlichen Personen, die Zugang zum besonderen elektronischen Behördenpostfach erhalten sollen, und stellt ihnen das Zertifikat und das Zertifikats-Passwort zur Verfügung.\n",
      "│   ├── (2) - Der Zugang zum besonderen elektronischen Behördenpostfach erfolgt ausschließlich mithilfe des Zertifikats und des Zertifikats-Passworts des Postfachinhabers. Die Zugangsberechtigten dürfen das Zertifikat nicht an Unbefugte weitergeben und haben das Zertifikats-Passwort geheim zu halten.\n",
      "│   ├── (3) - Der Postfachinhaber kann die Zugangsberechtigungen zum besonderen elektronischen Behördenpostfach jederzeit aufheben oder einschränken.\n",
      "│   ├── (4) - Der Postfachinhaber hat zu dokumentieren, wer zugangsberechtigt ist, wann das Zertifikat und das Zertifikats-Passwort zur Verfügung gestellt wurden und wann die Zugangsberechtigung aufgehoben wurde. Er stellt zugleich sicher, dass der Zugang zu seinem besonderen elektronischen Behördenpostfach nur den von ihm bestimmten Zugangsberechtigten möglich ist.\n",
      "│   └── (5) - Unbeschadet der Absätze 1, 3 und 4 kann die Verwaltung des besonderen elektronischen Behördenpostfachs behördenübergreifend automatisiert und an zentraler Stelle erfolgen.\n",
      "Nichtamtliches Inhaltsverzeichnis\n",
      "├── § 9 - Änderung und Löschung\n",
      "│   ├── (1) - Der Postfachinhaber hat Änderungen seines Namens oder Sitzes unverzüglich der nach § 7 Absatz 1 bestimmten Stelle anzuzeigen.\n",
      "│   └── (2) - Der Postfachinhaber kann jederzeit die Löschung seines besonderen elektronischen Behördenpostfachs veranlassen. Er hat die Löschung seines besonderen elektronischen Behördenpostfachs zu veranlassen, wenn seine Berechtigung zur Nutzung des besonderen elektronischen Behördenpostfachs endet.\n",
      "Kapitel 4\n",
      "Elektronischer Rechtsverkehr mit Strafverfolgungsbehörden und Strafgerichten\n",
      "Nichtamtliches Inhaltsverzeichnis\n",
      "├── § 10 - Schriftlich abzufassende, zu unterschreibende oder zu unterzeichnende Dokumente\n",
      "Die Kapitel 2 und 3 gelten im Bereich des elektronischen Rechtsverkehrs mit Strafverfolgungsbehörden und Strafgerichten für schriftlich abzufassende, zu unterschreibende oder zu unterzeichnende Dokumente, die gemäß § 32a Absatz 3 der Strafprozessordnung elektronisch eingereicht werden, mit der Maßgabe, dass der Datensatz nach § 2 Absatz 3 mindestens folgende Angaben enthält:\n",
      "│   ├── 1. - die Bezeichnung der Strafverfolgungsbehörde oder des Gerichts;\n",
      "│   ├── 2. - sofern bekannt, das Aktenzeichen des Verfahrens oder die Vorgangsnummer;\n",
      "│   ├── 3. - die Bezeichnung der beschuldigten Personen oder der Verfahrensbeteiligten; bei Verfahren gegen Unbekannt enthält der Datensatz anstelle der Bezeichnung der beschuldigten Personen die Bezeichnung „Unbekannt“ sowie, sofern bekannt, die Bezeichnung der geschädigten Personen;\n",
      "│   ├── 4. - die Angabe der den beschuldigten Personen zur Last gelegten Straftat oder des Verfahrensgegenstandes;\n",
      "│   └── 5. - sofern bekannt, das Aktenzeichen eines denselben Verfahrensgegenstand betreffenden Verfahrens und die Bezeichnung der die Akten führenden Stelle.\n",
      "\n",
      "Nichtamtliches Inhaltsverzeichnis\n",
      "├── § 11 - Sonstige verfahrensbezogene elektronische Dokumente\n",
      "│   ├── (1) - Sonstige verfahrensbezogene elektronische Dokumente, die an Strafverfolgungsbehörden oder Strafgerichte übermittelt werden, sollen den Anforderungen des § 2 entsprechen. Entsprechen sie diesen Anforderungen nicht und sind sie zur Bearbeitung durch die Behörde oder das Gericht aufgrund der dortigen technischen Ausstattung oder der dort einzuhaltenden Sicherheitsstandards nicht geeignet, so liegt ein wirksamer Eingang nicht vor. In der Mitteilung nach § 32a Absatz 6 Satz 1 der Strafprozessordnung ist auf die in § 2 geregelten technischen Rahmenbedingungen hinzuweisen.\n",
      "│   └── (2) - Die Übermittlung kann auch auf anderen als den in § 32a Absatz 4 der Strafprozessordnung genannten Übermittlungswegen erfolgen, wenn ein solcher Übermittlungsweg für die Entgegennahme verfahrensbezogener elektronischer Dokumente generell und ausdrücklich eröffnet ist.\n",
      "Kapitel 5\n",
      "Schlussvorschrift\n",
      "Nichtamtliches Inhaltsverzeichnis\n",
      "└── § 12 - Inkrafttreten, Außerkrafttreten\n",
      "    ├── (1) - Diese Verordnung tritt am 1. Januar 2018 in Kraft.\n",
      "    ├── (2) - Mit Ablauf des 31. Dezember 2017 treten außer Kraft:\n",
      "    │   ├── 1. - Anlage Nummer 1 bis 4 der Verordnung über den elektronischen Rechtsverkehr beim Bundesgerichtshof und Bundespatentgericht vom 24. August 2007 (BGBl. I S. 2130), die zuletzt durch Artikel 11 Absatz 16 des Gesetzes vom 18. Juli 2017 (BGBl. I S. 2745) geändert worden ist;\n",
      "    │   ├── 2. - die Verordnung über den elektronischen Rechtsverkehr beim Bundesarbeitsgericht vom 9. März 2006 (BGBl. I S. 519), die durch Artikel 1 der Verordnung vom 14. Dezember 2015 (BGBl. I S. 2338) geändert worden ist;\n",
      "    │   ├── 3. - die Verordnung über den elektronischen Rechtsverkehr beim Bundessozialgericht vom 18. Dezember 2006 (BGBl. I S. 3219), die durch Artikel 1 der Verordnung vom 14. Dezember 2015 (BGBl. I S. 2339) geändert worden ist;\n",
      "    │   └── 4. - die Verordnung über den elektronischen Rechtsverkehr beim Bundesverwaltungsgericht und beim Bundesfinanzhof vom 26. November 2004 (BGBl. I S. 3091), die zuletzt durch Artikel 11 Absatz 25 des Gesetzes vom 18. Juli 2017 (BGBl. I S. 2745) geändert worden ist.\n",
      "    └── (3) - § 2 Absatz 1 Satz 4 dieser Verordnung tritt mit Ablauf des 30. Juni 2019 außer Kraft.\n",
      "Nichtamtliches Inhaltsverzeichnis\n",
      "Schlussformel \n",
      "Der Bundesrat hat zugestimmt.\n"
     ]
    }
   ],
   "source": [
    "parsed_law_tree._print()"
   ]
  },
  {
   "cell_type": "code",
   "execution_count": 45,
   "id": "fc8e792b-abac-4fe9-8f3a-52de2dd0fb2a",
   "metadata": {
    "scrolled": true,
    "tags": []
   },
   "outputs": [
    {
     "name": "stdout",
     "output_type": "stream",
     "text": [
      "source Elektronischer-Rechtsverkehr-Verordnung\n",
      "    § 1 Anwendungsbereich\n",
      "        (1) Diese Verordnung gilt für die Übermittlung elektronischer Dokumente an die Gerichte der Länder und des Bundes sowie die Bearbeitung elektronischer Dokumente durch diese Gerichte nach § 130a der Zivilprozessordnung, § 46c des Arbeitsgerichtsgesetzes, § 65a des Sozialgerichtsgesetzes, § 55a der Verwaltungsgerichtsordnung und § 52a der Finanzgerichtsordnung. Sie gilt ferner nach Maßgabe des Kapitels 4 für die Übermittlung elektronischer Dokumente an Strafverfolgungsbehörden und Strafgerichte der Länder und des Bundes nach § 32a der Strafprozessordnung sowie die Bearbeitung elektronischer Dokumente.\n",
      "        (2) Besondere bundesrechtliche Vorschriften über die Übermittlung elektronischer Dokumente und strukturierter maschinenlesbarer Datensätze bleiben unberührt.\n",
      "Kapitel 2\n",
      "Technische Rahmenbedingungen des elektronischen Rechtsverkehrs\n",
      "Nichtamtliches Inhaltsverzeichnis\n",
      "    § 2 Anforderungen an elektronische Dokumente\n",
      "        (1) Das elektronische Dokument ist in druckbarer, kopierbarer und, soweit technisch möglich, durchsuchbarer Form im Dateiformat PDF zu übermitteln. Wenn bildliche Darstellungen im Dateiformat PDF nicht verlustfrei wiedergegeben werden können, darf das elektronische Dokument zusätzlich im Dateiformat TIFF übermittelt werden. Die Dateiformate PDF und TIFF müssen den nach § 5 Absatz 1 Nummer 1 bekanntgemachten Versionen entsprechen.\n",
      "        (2) Der Dateiname soll den Inhalt des elektronischen Dokuments schlagwortartig umschreiben und bei der Übermittlung mehrerer elektronischer Dokumente eine logische Nummerierung enthalten.\n",
      "        (3) Dem elektronischen Dokument soll ein strukturierter maschinenlesbarer Datensatz im Dateiformat XML beigefügt werden, der den nach § 5 Absatz 1 Nummer 2 bekanntgemachten Definitions- oder Schemadateien entspricht und mindestens enthält:\n",
      "            1. die Bezeichnung des Gerichts;\n",
      "            2. sofern bekannt, das Aktenzeichen des Verfahrens;\n",
      "            3. die Bezeichnung der Parteien oder Verfahrensbeteiligten;\n",
      "            4. die Angabe des Verfahrensgegenstandes;\n",
      "            5. sofern bekannt, das Aktenzeichen eines denselben Verfahrensgegenstand betreffenden Verfahrens und die Bezeichnung der die Akten führenden Stelle.\n",
      "\n",
      "Nichtamtliches Inhaltsverzeichnis\n",
      "    § 3 Überschreitung der Höchstgrenzen\n",
      "Wird glaubhaft gemacht, dass die nach § 5 Absatz 1 Nummer 3 bekanntgemachten Höchstgrenzen für die Anzahl oder das Volumen elektronischer Dokumente nicht eingehalten werden können, kann die Übermittlung als Schriftsatz nach den allgemeinen Vorschriften erfolgen, möglichst unter Beifügung des Schriftsatzes und der Anlagen als elektronische Dokumente auf einem nach § 5 Absatz 1 Nummer 4 bekanntgemachten zulässigen physischen Datenträger.\n",
      "Nichtamtliches Inhaltsverzeichnis\n",
      "    § 4 Übermittlung elektronischer Dokumente mit qualifizierter elektronischer Signatur\n",
      "        (1) Ein elektronisches Dokument, das mit einer qualifizierten elektronischen Signatur der verantwortenden Person versehen ist, darf wie folgt übermittelt werden:\n",
      "            1. auf einem sicheren Übermittlungsweg oder\n",
      "            2. an das für den Empfang elektronischer Dokumente eingerichtete Elektronische Gerichts- und Verwaltungspostfach des Gerichts über eine Anwendung, die auf OSCI oder einem diesen ersetzenden, dem jeweiligen Stand der Technik entsprechenden Protokollstandard beruht.\n",
      "        (2) Mehrere elektronische Dokumente dürfen nicht mit einer gemeinsamen qualifizierten elektronischen Signatur übermittelt werden.\n",
      "Nichtamtliches Inhaltsverzeichnis\n",
      "    § 5 Bekanntmachung technischer Anforderungen\n",
      "        (1) Die Bundesregierung macht folgende technische Anforderungen an die Übermittlung und Bearbeitung elektronischer Dokumente im Bundesanzeiger und auf der Internetseite www.justiz.de bekannt:\n",
      "            1. die Versionen der Dateiformate PDF und TIFF;\n",
      "            2. die Definitions- oder Schemadateien, die bei der Übermittlung eines strukturierten maschinenlesbaren Datensatzes im Format XML genutzt werden sollen;\n",
      "            3. die Höchstgrenzen für die Anzahl und das Volumen elektronischer Dokumente;\n",
      "            4. die zulässigen physischen Datenträger;\n",
      "            5. die Einzelheiten der Anbringung der qualifizierten elektronischen Signatur am elektronischen Dokument.\n",
      "        (2) Die technischen Anforderungen müssen den aktuellen Stand der Technik und die Barrierefreiheit im Sinne der Barrierefreie-Informationstechnik-Verordnung vom 12. September 2011 (BGBl. I S. 1843), die zuletzt durch Artikel 4 der Verordnung vom 25. November 2016 (BGBl. I S. 2659) geändert worden ist, in der jeweils geltenden Fassung, berücksichtigen und mit einer Mindestgültigkeitsdauer bekanntgemacht werden. Die technischen Anforderungen können mit einem Ablaufdatum nach der Mindestgültigkeitsdauer versehen werden, ab dem sie voraussichtlich durch neue bekanntgegebene Anforderungen abgelöst sein müssen.\n",
      "Kapitel 3\n",
      "Besonderes elektronisches Behördenpostfach\n",
      "Nichtamtliches Inhaltsverzeichnis\n",
      "    § 6 Besonderes elektronisches Behördenpostfach; Anforderungen\n",
      "        (1) Die Behörden sowie juristischen Personen des öffentlichen Rechts (Postfachinhaber) können zur Übermittlung elektronischer Dokumente auf einem sicheren Übermittlungsweg ein besonderes elektronisches Behördenpostfach verwenden,\n",
      "            1. das auf dem Protokollstandard OSCI oder einem diesen ersetzenden, dem jeweiligen Stand der Technik entsprechenden Protokollstandard beruht,\n",
      "            2. bei dem die Identität des Postfachinhabers in einem Identifizierungsverfahren geprüft und bestätigt wurde,\n",
      "            3. bei dem der Postfachinhaber in ein sicheres elektronisches Verzeichnis eingetragen ist und\n",
      "            4. bei dem feststellbar ist, dass das elektronische Dokument vom Postfachinhaber versandt wurde.\n",
      "        (2) Das besondere elektronische Behördenpostfach muss\n",
      "            1. über eine Suchfunktion verfügen, die es ermöglicht, andere Inhaber von besonderen elektronischen Postfächern aufzufinden,\n",
      "            2. für andere Inhaber von besonderen elektronischen Postfächern adressierbar sein und\n",
      "            3. barrierefrei sein im Sinne der Barrierefreie-Informationstechnik-Verordnung vom 12. September 2011 (BGBl. I S. 1843), die zuletzt durch Artikel 4 der Verordnung vom 25. November 2016 (BGBl. I S. 2659) geändert worden ist, in der jeweils geltenden Fassung.\n",
      "\n",
      "Nichtamtliches Inhaltsverzeichnis\n",
      "    § 7 Identifizierungsverfahren\n",
      "        (1) Die von den obersten Behörden des Bundes oder den Landesregierungen für ihren Bereich bestimmten öffentlich-rechtlichen Stellen prüfen die Identität der Behörden oder juristischen Personen des öffentlichen Rechts und bestätigen dies in einem sicheren elektronischen Verzeichnis. Die obersten Behörden des Bundes oder mehrere Landesregierungen können auch eine öffentlich-rechtliche Stelle gemeinsam für ihre Bereiche bestimmen.\n",
      "        (2) Bei der Prüfung der Identität ist zu ermitteln, ob\n",
      "            1. der Postfachinhaber eine inländische Behörde oder juristische Person des öffentlichen Rechts ist und\n",
      "            2. Name und Sitz des Postfachinhabers zutreffend bezeichnet sind.\n",
      "\n",
      "Nichtamtliches Inhaltsverzeichnis\n",
      "    § 8 Zugang und Zugangsberechtigung; Verwaltung\n",
      "        (1) Der Postfachinhaber bestimmt die natürlichen Personen, die Zugang zum besonderen elektronischen Behördenpostfach erhalten sollen, und stellt ihnen das Zertifikat und das Zertifikats-Passwort zur Verfügung.\n",
      "        (2) Der Zugang zum besonderen elektronischen Behördenpostfach erfolgt ausschließlich mithilfe des Zertifikats und des Zertifikats-Passworts des Postfachinhabers. Die Zugangsberechtigten dürfen das Zertifikat nicht an Unbefugte weitergeben und haben das Zertifikats-Passwort geheim zu halten.\n",
      "        (3) Der Postfachinhaber kann die Zugangsberechtigungen zum besonderen elektronischen Behördenpostfach jederzeit aufheben oder einschränken.\n",
      "        (4) Der Postfachinhaber hat zu dokumentieren, wer zugangsberechtigt ist, wann das Zertifikat und das Zertifikats-Passwort zur Verfügung gestellt wurden und wann die Zugangsberechtigung aufgehoben wurde. Er stellt zugleich sicher, dass der Zugang zu seinem besonderen elektronischen Behördenpostfach nur den von ihm bestimmten Zugangsberechtigten möglich ist.\n",
      "        (5) Unbeschadet der Absätze 1, 3 und 4 kann die Verwaltung des besonderen elektronischen Behördenpostfachs behördenübergreifend automatisiert und an zentraler Stelle erfolgen.\n",
      "Nichtamtliches Inhaltsverzeichnis\n",
      "    § 9 Änderung und Löschung\n",
      "        (1) Der Postfachinhaber hat Änderungen seines Namens oder Sitzes unverzüglich der nach § 7 Absatz 1 bestimmten Stelle anzuzeigen.\n",
      "        (2) Der Postfachinhaber kann jederzeit die Löschung seines besonderen elektronischen Behördenpostfachs veranlassen. Er hat die Löschung seines besonderen elektronischen Behördenpostfachs zu veranlassen, wenn seine Berechtigung zur Nutzung des besonderen elektronischen Behördenpostfachs endet.\n",
      "Kapitel 4\n",
      "Elektronischer Rechtsverkehr mit Strafverfolgungsbehörden und Strafgerichten\n",
      "Nichtamtliches Inhaltsverzeichnis\n",
      "    § 10 Schriftlich abzufassende, zu unterschreibende oder zu unterzeichnende Dokumente\n",
      "Die Kapitel 2 und 3 gelten im Bereich des elektronischen Rechtsverkehrs mit Strafverfolgungsbehörden und Strafgerichten für schriftlich abzufassende, zu unterschreibende oder zu unterzeichnende Dokumente, die gemäß § 32a Absatz 3 der Strafprozessordnung elektronisch eingereicht werden, mit der Maßgabe, dass der Datensatz nach § 2 Absatz 3 mindestens folgende Angaben enthält:\n",
      "        1. die Bezeichnung der Strafverfolgungsbehörde oder des Gerichts;\n",
      "        2. sofern bekannt, das Aktenzeichen des Verfahrens oder die Vorgangsnummer;\n",
      "        3. die Bezeichnung der beschuldigten Personen oder der Verfahrensbeteiligten; bei Verfahren gegen Unbekannt enthält der Datensatz anstelle der Bezeichnung der beschuldigten Personen die Bezeichnung „Unbekannt“ sowie, sofern bekannt, die Bezeichnung der geschädigten Personen;\n",
      "        4. die Angabe der den beschuldigten Personen zur Last gelegten Straftat oder des Verfahrensgegenstandes;\n",
      "        5. sofern bekannt, das Aktenzeichen eines denselben Verfahrensgegenstand betreffenden Verfahrens und die Bezeichnung der die Akten führenden Stelle.\n",
      "\n",
      "Nichtamtliches Inhaltsverzeichnis\n",
      "    § 11 Sonstige verfahrensbezogene elektronische Dokumente\n",
      "        (1) Sonstige verfahrensbezogene elektronische Dokumente, die an Strafverfolgungsbehörden oder Strafgerichte übermittelt werden, sollen den Anforderungen des § 2 entsprechen. Entsprechen sie diesen Anforderungen nicht und sind sie zur Bearbeitung durch die Behörde oder das Gericht aufgrund der dortigen technischen Ausstattung oder der dort einzuhaltenden Sicherheitsstandards nicht geeignet, so liegt ein wirksamer Eingang nicht vor. In der Mitteilung nach § 32a Absatz 6 Satz 1 der Strafprozessordnung ist auf die in § 2 geregelten technischen Rahmenbedingungen hinzuweisen.\n",
      "        (2) Die Übermittlung kann auch auf anderen als den in § 32a Absatz 4 der Strafprozessordnung genannten Übermittlungswegen erfolgen, wenn ein solcher Übermittlungsweg für die Entgegennahme verfahrensbezogener elektronischer Dokumente generell und ausdrücklich eröffnet ist.\n",
      "Kapitel 5\n",
      "Schlussvorschrift\n",
      "Nichtamtliches Inhaltsverzeichnis\n",
      "    § 12 Inkrafttreten, Außerkrafttreten\n",
      "        (1) Diese Verordnung tritt am 1. Januar 2018 in Kraft.\n",
      "        (2) Mit Ablauf des 31. Dezember 2017 treten außer Kraft:\n",
      "            1. Anlage Nummer 1 bis 4 der Verordnung über den elektronischen Rechtsverkehr beim Bundesgerichtshof und Bundespatentgericht vom 24. August 2007 (BGBl. I S. 2130), die zuletzt durch Artikel 11 Absatz 16 des Gesetzes vom 18. Juli 2017 (BGBl. I S. 2745) geändert worden ist;\n",
      "            2. die Verordnung über den elektronischen Rechtsverkehr beim Bundesarbeitsgericht vom 9. März 2006 (BGBl. I S. 519), die durch Artikel 1 der Verordnung vom 14. Dezember 2015 (BGBl. I S. 2338) geändert worden ist;\n",
      "            3. die Verordnung über den elektronischen Rechtsverkehr beim Bundessozialgericht vom 18. Dezember 2006 (BGBl. I S. 3219), die durch Artikel 1 der Verordnung vom 14. Dezember 2015 (BGBl. I S. 2339) geändert worden ist;\n",
      "            4. die Verordnung über den elektronischen Rechtsverkehr beim Bundesverwaltungsgericht und beim Bundesfinanzhof vom 26. November 2004 (BGBl. I S. 3091), die zuletzt durch Artikel 11 Absatz 25 des Gesetzes vom 18. Juli 2017 (BGBl. I S. 2745) geändert worden ist.\n",
      "        (3) § 2 Absatz 1 Satz 4 dieser Verordnung tritt mit Ablauf des 30. Juni 2019 außer Kraft.\n",
      "Nichtamtliches Inhaltsverzeichnis\n",
      "Schlussformel \n",
      "Der Bundesrat hat zugestimmt.\n",
      "\n"
     ]
    }
   ],
   "source": [
    "print(parsed_law_tree.to_text())"
   ]
  },
  {
   "cell_type": "markdown",
   "id": "913cb495-ad0f-4a79-8f8c-d988e35cdc31",
   "metadata": {},
   "source": [
    "### Update the source law"
   ]
  },
  {
   "cell_type": "code",
   "execution_count": 46,
   "id": "2a34a736-5185-4d01-b9cc-a15cb07ae516",
   "metadata": {
    "scrolled": true,
    "tags": []
   },
   "outputs": [
    {
     "name": "stdout",
     "output_type": "stream",
     "text": [
      "APPLIED replace: Change(location=['§ 1', 'Absatz 1'], sentences=['Satz 2'], text=['Kapitels 4', 'Kapitels 5'], change_type='replace')\n",
      "APPLIED delete_after: Change(location=['§ 2', 'Absatz 1'], sentences=['Satz 1'], text=['in druckbarer, kopierbarer und, soweit technisch möglich, durchsuchbarer Form'], change_type='delete_after')\n",
      "APPLIED rephrase: Change(location=['§ 2', 'Absatz 2'], sentences=[], text=['(2) Das elektronische Dokument soll den nach § 5 Absatz 1 Nummer 1 und 6 bekanntgemachten technischen Standards entsprechen.'], change_type='rephrase')\n",
      "Location Überschrift not found.\n",
      "No path found in Change(location=['§ 5', 'Überschrift'], sentences=[], text=['Anforderungen', 'Standards'], change_type='replace'). SKIPPING\n",
      "SKIPPED MULTIPLE_CHANGES: Change(location=['§ 5', 'Absatz 1', 'Nummer 1'], sentences=[], text=['Anforderungen an', 'Standards für', 'Bearbeitung', 'Eignung zur'], change_type='MULTIPLE_CHANGES')\n",
      "not enougth text to replace\n",
      "WITHOUT CHANGE replace: Change(location=['§ 5', 'Absatz 1', 'Nummer 5'], sentences=[], text=['und'], change_type='replace')\n",
      "Location 6. not found.\n",
      "No path found in Change(location=['§ 5', 'Absatz 1', 'Nummer 6'], sentences=[], text=['6.  die technischen Eigenschaften der elektronischen Dokumente.'], change_type='append'). SKIPPING\n",
      "APPLIED replace: Change(location=['§ 5', 'Absatz 2'], sentences=[], text=['Anforderungen', 'Standards'], change_type='replace')\n",
      "WITHOUT CHANGE delete_after: Change(location=['§ 6', 'Absatz 1', 'Nummer 1'], sentences=[], text=['(Postfachinhaber)'], change_type='delete_after')\n",
      "APPLIED delete_after: Change(location=['§ 6', 'Absatz 2', 'Nummer 3'], sentences=[], text=['vom 12. September 2011 (BGBl. I S. 1843), die zuletzt durch Artikel 4 der Verordnung vom 25. November 2016 (BGBl. I S. 2659) geändert worden ist, in der jeweils geltenden Fassung'], change_type='delete_after')\n",
      "Failed to insert after! Unknown reason!\n",
      "WITHOUT CHANGE insert_after: Change(location=['§ 9'], sentences=[], text=['Kapitel 4 Besonderes elektronisches Bürger- und Organisationenpostfach; Postfach- und Versanddienst eines Nutzerkontos § 10 Besonderes elektronisches Bürger- und Organisationenpostfach (1) Natürliche Personen, juristische Personen sowie sonstige Vereinigungen können zur Übermittlung elektronischer Dokumente auf einem sicheren Übermittlungsweg ein besonderes elektronisches Bürger- und Organisationenpostfach verwenden, 1. das auf dem Protokollstandard OSCI oder einem diesen ersetzenden, dem jeweiligen Stand der Technik entsprechenden Protokollstandard beruht, 2. bei dem die Identität des Postfachinhabers festgestellt worden ist, 3. bei dem der Postfachinhaber in ein sicheres elektronisches Verzeichnis eingetragen ist, 4. bei dem sich der Postfachinhaber beim Versand eines elektronischen Dokuments authentisiert und 5. bei dem feststellbar ist, dass das elektronische Dokument vom Postfachinhaber versandt wurde. (2) Das besondere elektronische Bürger- und Organisationenpostfach muss 1. über eine Suchfunktion verfügen, die es ermöglicht, Inhaber eines besonderen elektronischen  Anwaltspostfachs,  eines  besonderen  elektronischen Notarpostfachs oder eines besonderen elektronischen Behördenpostfachs aufzufinden, 2. für Inhaber besonderer elektronischer Anwaltspostfächer, besonderer elektronischer Notarpostfächer oder besonderer elektronischer Behördenpostfächer adressierbar sein und 3. barrierefrei sein im Sinne der Barrierefreie-Informationstechnik-Verordnung. § 11 Identifizierung und Authentisierung des Postfachinhabers (1) Die Länder oder mehrere Länder gemeinsam bestimmen jeweils für ihren Bereich eine öffentlich-rechtliche Stelle, die die Freischaltung eines besonderen elektronischen Bürger- und Organisationenpostfachs veranlasst. (2) Der Postfachinhaber hat im Rahmen der Identitätsfeststellung seinen Namen und seine Anschrift nachzuweisen. Der Nachweis kann nur durch eines der folgenden Identifizierungsmittel erfolgen: 1. den elektronischen Identitätsnachweis nach § 18 des Personalausweisgesetzes, nach § 12 des eID-Karte-Gesetzes oder nach § 78 Absatz 5 des Aufenthaltsgesetzes,   2. ein  qualifiziertes  elektronisches  Siegel  nach  Artikel 38  der  Verordnung  (EU) Nr. 910/2014 des Europäischen Parlaments und des Rates vom 23. Juli 2014 über elektronische Identifizierung und Vertrauensdienste für elektronische Transaktionen im Binnenmarkt und zur Aufhebung der Richtlinie 1999/93/EG (ABl. L 257 vom 28.8.2014, S. 73; L 23 vom 29.1.2015, S. 19; L 155 vom 14.6.2016, S. 44), 3. bei öffentlich bestellten oder beeidigten Personen, die Dolmetscher- oder Übersetzungsleistungen erbringen, eine Bestätigung der nach dem Gerichtsdolmetschergesetz oder dem jeweiligen Landesrecht für die öffentliche Bestellung und Beeidigung dieser Personen zuständigen Stelle, auch hinsichtlich der Angaben zu Berufsbezeichnung sowie zur Sprache, für die die Bestellung erfolgt, 4. bei  Gerichtsvollziehern  eine  Bestätigung  der  für  ihre  Ernennung  zuständigen Stelle, auch hinsichtlich der Dienstbezeichnung, oder 5. eine in öffentlich beglaubigter Form abgegebene Erklärung über den Namen und die Anschrift des Postfachinhabers sowie die eindeutige Bezeichnung des Postfachs. Eine nach Satz 2 Nummer 5 angegebene geschäftliche Anschrift ist durch eine Bescheinigung nach § 21 Absatz 1 der Bundesnotarordnung, einen amtlichen Registerausdruck oder eine beglaubigte Registerabschrift nachzuweisen. Geht eine angegebene geschäftliche Anschrift nicht aus einem öffentlichen Register hervor, so stellt die Stelle nach Absatz 1 diese durch geeignete Maßnahmen fest. Die Übermittlung von Daten nach Satz 2 Nummer 3 bis 5 an die in Absatz 1 genannte öffentlich-rechtliche Stelle erfolgt in strukturierter maschinenlesbarer Form. Im Fall des Satzes 2 Nummer 5 ist der öffentlich-rechtlichen Stelle zusätzlich eine öffentlich beglaubigte elektronische Abschrift der Erklärung zu übermitteln. (3) Der Postfachinhaber hat sich beim Versand eines elektronischen Dokuments zu authentisieren durch 1. den elektronischen Identitätsnachweis nach § 18 des Personalausweisgesetzes, nach § 12 des eID-Karte-Gesetzes oder nach § 78 Absatz 5 des Aufenthaltsgesetzes, 2. ein Authentisierungszertifikat, das auf einer qualifizierten elektronischen Signaturerstellungseinheit nach dem Anhang II der Verordnung (EU) Nr. 910/2014 gespeichert ist, oder 3. ein nichtqualifiziertes Authentisierungszertifikat, das über Dienste validierbar ist, die über das Internet erreichbar sind. § 12 Änderung von Angaben und Löschung des Postfachs (1) Bei Änderung seiner Daten hat der Postfachinhaber unverzüglich die Anpassung seines Postfachs bei der nach § 11 Absatz 1 bestimmten Stelle zu veranlassen. Das betrifft insbesondere die Änderung seines Namens oder seiner Anschrift, bei juristischen Personen oder sonstigen Vereinigungen auch bei der Änderung des Sitzes. (2) Der Postfachinhaber kann jederzeit die Löschung seines besonderen elektronischen Bürger- und Organisationenpostfachs veranlassen.   § 13 Elektronische Kommunikation über den Postfach- und Versanddienst eines Nutzerkontos (1) Zur Übermittlung elektronischer Dokumente auf einem sicheren Übermittlungsweg kann der Postfach- und Versanddienst eines Nutzerkontos im Sinne des § 2 Absatz 5 des Onlinezugangsgesetzes genutzt werden, wenn bei diesem Postfach- und Versanddienst 1. eine technische Vorrichtung besteht, die auf dem Protokollstandard OSCI oder einem diesen ersetzenden, dem jeweiligen Stand der Technik entsprechenden Protokollstandard beruht, 2. die Identität des Nutzers des Postfach- und Versanddienstes durch ein Identifizierungsmittel nach § 11 Absatz 2 Satz 2 Nummer 1 oder 2 festgestellt ist, 3. der Nutzer des Postfach- und Versanddienstes sich beim Versand eines elektronischen Dokuments entsprechend § 11 Absatz 3 authentisiert und 4. feststellbar ist, dass das elektronische Dokument von dem Nutzer des Postfach- und Versanddienstes versandt wurde. (2) Der Postfach- und Versanddienst muss barrierefrei sein im Sinne der Barrierefreie-Informationstechnik-Verordnung.'], change_type='insert_after')\n",
      "SKIPPED UNKNOWN: Change(location=[], sentences=[], text=[], change_type='UNKNOWN')\n",
      "WITHOUT CHANGE replace: Change(location=['§ 10', 'Nummer 1'], sentences=[], text=['Kapitel 2 und 3', 'Kapitel 2 bis 4'], change_type='replace')\n",
      "SKIPPED UNKNOWN: Change(location=['§ 11'], sentences=[], text=[], change_type='UNKNOWN')\n"
     ]
    },
    {
     "ename": "AttributeError",
     "evalue": "'NoneType' object has no attribute 'remove_child'",
     "output_type": "error",
     "traceback": [
      "\u001b[0;31m---------------------------------------------------------------------------\u001b[0m",
      "\u001b[0;31mAttributeError\u001b[0m                            Traceback (most recent call last)",
      "\u001b[0;32m/tmp/ipykernel_2994679/2285272833.py\u001b[0m in \u001b[0;36m<module>\u001b[0;34m\u001b[0m\n\u001b[0;32m----> 1\u001b[0;31m \u001b[0mres_law_tree\u001b[0m \u001b[0;34m=\u001b[0m \u001b[0mapply_changes\u001b[0m\u001b[0;34m(\u001b[0m\u001b[0mparsed_law_tree\u001b[0m\u001b[0;34m,\u001b[0m \u001b[0mchange_requests\u001b[0m\u001b[0;34m)\u001b[0m\u001b[0;34m\u001b[0m\u001b[0;34m\u001b[0m\u001b[0m\n\u001b[0m",
      "\u001b[0;32m~/Repositories/lawinprogress/lawinprogress/apply_changes/apply_changes.py\u001b[0m in \u001b[0;36mapply_changes\u001b[0;34m(law_tree, changes)\u001b[0m\n\u001b[1;32m    107\u001b[0m             \u001b[0mstatus\u001b[0m \u001b[0;34m=\u001b[0m \u001b[0m_delete_after\u001b[0m\u001b[0;34m(\u001b[0m\u001b[0mnode\u001b[0m\u001b[0;34m,\u001b[0m \u001b[0mchange\u001b[0m\u001b[0;34m)\u001b[0m\u001b[0;34m\u001b[0m\u001b[0;34m\u001b[0m\u001b[0m\n\u001b[1;32m    108\u001b[0m         \u001b[0;32melif\u001b[0m \u001b[0mchange_type\u001b[0m \u001b[0;34m==\u001b[0m \u001b[0;34m\"cancelled\"\u001b[0m\u001b[0;34m:\u001b[0m\u001b[0;34m\u001b[0m\u001b[0;34m\u001b[0m\u001b[0m\n\u001b[0;32m--> 109\u001b[0;31m             \u001b[0mstatus\u001b[0m \u001b[0;34m=\u001b[0m \u001b[0m_cancelled\u001b[0m\u001b[0;34m(\u001b[0m\u001b[0mnode\u001b[0m\u001b[0;34m,\u001b[0m \u001b[0mchange\u001b[0m\u001b[0;34m)\u001b[0m\u001b[0;34m\u001b[0m\u001b[0;34m\u001b[0m\u001b[0m\n\u001b[0m\u001b[1;32m    110\u001b[0m         \u001b[0;32melif\u001b[0m \u001b[0mchange_type\u001b[0m \u001b[0;34m==\u001b[0m \u001b[0;34m\"RENUMBERING\"\u001b[0m\u001b[0;34m:\u001b[0m\u001b[0;34m\u001b[0m\u001b[0;34m\u001b[0m\u001b[0m\n\u001b[1;32m    111\u001b[0m             \u001b[0mprint\u001b[0m\u001b[0;34m(\u001b[0m\u001b[0;34m\"SKIPPED {}: {}\"\u001b[0m\u001b[0;34m.\u001b[0m\u001b[0mformat\u001b[0m\u001b[0;34m(\u001b[0m\u001b[0mchange_type\u001b[0m\u001b[0;34m,\u001b[0m \u001b[0mchange\u001b[0m\u001b[0;34m)\u001b[0m\u001b[0;34m)\u001b[0m\u001b[0;34m\u001b[0m\u001b[0;34m\u001b[0m\u001b[0m\n",
      "\u001b[0;32m~/Repositories/lawinprogress/lawinprogress/apply_changes/edit_functions.py\u001b[0m in \u001b[0;36m_cancelled\u001b[0;34m(node, change)\u001b[0m\n\u001b[1;32m    196\u001b[0m     \u001b[0mstatus\u001b[0m \u001b[0;34m=\u001b[0m \u001b[0;36m1\u001b[0m\u001b[0;34m\u001b[0m\u001b[0;34m\u001b[0m\u001b[0m\n\u001b[1;32m    197\u001b[0m     \u001b[0;32mif\u001b[0m \u001b[0mlen\u001b[0m\u001b[0;34m(\u001b[0m\u001b[0mchange\u001b[0m\u001b[0;34m.\u001b[0m\u001b[0mtext\u001b[0m\u001b[0;34m)\u001b[0m \u001b[0;34m==\u001b[0m \u001b[0;36m0\u001b[0m \u001b[0;32mand\u001b[0m \u001b[0mlen\u001b[0m\u001b[0;34m(\u001b[0m\u001b[0mchange\u001b[0m\u001b[0;34m.\u001b[0m\u001b[0msentences\u001b[0m\u001b[0;34m)\u001b[0m \u001b[0;34m==\u001b[0m \u001b[0;36m0\u001b[0m\u001b[0;34m:\u001b[0m\u001b[0;34m\u001b[0m\u001b[0;34m\u001b[0m\u001b[0m\n\u001b[0;32m--> 198\u001b[0;31m         \u001b[0mnode\u001b[0m\u001b[0;34m.\u001b[0m\u001b[0mparent\u001b[0m\u001b[0;34m.\u001b[0m\u001b[0mremove_child\u001b[0m\u001b[0;34m(\u001b[0m\u001b[0mbulletpoint\u001b[0m\u001b[0;34m=\u001b[0m\u001b[0mnode\u001b[0m\u001b[0;34m.\u001b[0m\u001b[0mbulletpoint\u001b[0m\u001b[0;34m)\u001b[0m\u001b[0;34m\u001b[0m\u001b[0;34m\u001b[0m\u001b[0m\n\u001b[0m\u001b[1;32m    199\u001b[0m     \u001b[0;32melif\u001b[0m \u001b[0mlen\u001b[0m\u001b[0;34m(\u001b[0m\u001b[0mchange\u001b[0m\u001b[0;34m.\u001b[0m\u001b[0mtext\u001b[0m\u001b[0;34m)\u001b[0m \u001b[0;34m==\u001b[0m \u001b[0;36m0\u001b[0m \u001b[0;32mand\u001b[0m \u001b[0mlen\u001b[0m\u001b[0;34m(\u001b[0m\u001b[0mchange\u001b[0m\u001b[0;34m.\u001b[0m\u001b[0msentences\u001b[0m\u001b[0;34m)\u001b[0m \u001b[0;34m==\u001b[0m \u001b[0;36m1\u001b[0m\u001b[0;34m:\u001b[0m\u001b[0;34m\u001b[0m\u001b[0;34m\u001b[0m\u001b[0m\n\u001b[1;32m    200\u001b[0m         \u001b[0;31m# remove the sentences in question\u001b[0m\u001b[0;34m\u001b[0m\u001b[0;34m\u001b[0m\u001b[0;34m\u001b[0m\u001b[0m\n",
      "\u001b[0;31mAttributeError\u001b[0m: 'NoneType' object has no attribute 'remove_child'"
     ]
    }
   ],
   "source": [
    "res_law_tree = apply_changes(parsed_law_tree, change_requests)"
   ]
  },
  {
   "cell_type": "code",
   "execution_count": 41,
   "id": "726de230-9aea-4818-98cb-66e909480042",
   "metadata": {
    "scrolled": true,
    "tags": []
   },
   "outputs": [
    {
     "ename": "NameError",
     "evalue": "name 'res_law_tree' is not defined",
     "output_type": "error",
     "traceback": [
      "\u001b[0;31m---------------------------------------------------------------------------\u001b[0m",
      "\u001b[0;31mNameError\u001b[0m                                 Traceback (most recent call last)",
      "\u001b[0;32m/tmp/ipykernel_2994679/1015991939.py\u001b[0m in \u001b[0;36m<module>\u001b[0;34m\u001b[0m\n\u001b[0;32m----> 1\u001b[0;31m \u001b[0mprint\u001b[0m\u001b[0;34m(\u001b[0m\u001b[0mres_law_tree\u001b[0m\u001b[0;34m.\u001b[0m\u001b[0mto_text\u001b[0m\u001b[0;34m(\u001b[0m\u001b[0;34m)\u001b[0m\u001b[0;34m)\u001b[0m\u001b[0;34m\u001b[0m\u001b[0;34m\u001b[0m\u001b[0m\n\u001b[0m",
      "\u001b[0;31mNameError\u001b[0m: name 'res_law_tree' is not defined"
     ]
    }
   ],
   "source": [
    "print(res_law_tree.to_text())"
   ]
  },
  {
   "cell_type": "code",
   "execution_count": null,
   "id": "c349fda5-884d-47f6-9d41-fd697e3e95bf",
   "metadata": {},
   "outputs": [],
   "source": []
  }
 ],
 "metadata": {
  "kernelspec": {
   "display_name": "Python 3 (ipykernel)",
   "language": "python",
   "name": "python3"
  },
  "language_info": {
   "codemirror_mode": {
    "name": "ipython",
    "version": 3
   },
   "file_extension": ".py",
   "mimetype": "text/x-python",
   "name": "python",
   "nbconvert_exporter": "python",
   "pygments_lexer": "ipython3",
   "version": "3.9.5"
  }
 },
 "nbformat": 4,
 "nbformat_minor": 5
}
