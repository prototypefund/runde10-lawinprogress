{
 "cells": [
  {
   "cell_type": "markdown",
   "id": "6efd76ab-4a39-4496-b167-d6df4440ab2e",
   "metadata": {},
   "source": [
    "# Exploratory stuff"
   ]
  },
  {
   "cell_type": "markdown",
   "id": "c3aab46e-ed86-4257-b5cc-d43664df000a",
   "metadata": {},
   "source": [
    "Data source: \n",
    "- Änderungsgesetz: https://dip.bundestag.de/experten-suche?term=NOT%20zusatzmerkmal:E%20AND%20vorgangstyp_notation:100&f.wahlperiode=19&f.typ=Vorgang&rows=25&sort=datum_ab\n",
    "- Source law: https://www.gesetze-im-internet.de/wregg/BJNR273910017.html"
   ]
  },
  {
   "cell_type": "markdown",
   "id": "4599ce91-286f-46d8-afa9-634acf076bb1",
   "metadata": {},
   "source": [
    "## Read data"
   ]
  },
  {
   "cell_type": "code",
   "execution_count": null,
   "id": "d405b9a2-6e3f-4f9f-a742-73205150814c",
   "metadata": {},
   "outputs": [],
   "source": []
  }
 ],
 "metadata": {
  "kernelspec": {
   "display_name": "Python 3 (ipykernel)",
   "language": "python",
   "name": "python3"
  },
  "language_info": {
   "codemirror_mode": {
    "name": "ipython",
    "version": 3
   },
   "file_extension": ".py",
   "mimetype": "text/x-python",
   "name": "python",
   "nbconvert_exporter": "python",
   "pygments_lexer": "ipython3",
   "version": "3.9.5"
  }
 },
 "nbformat": 4,
 "nbformat_minor": 5
}
