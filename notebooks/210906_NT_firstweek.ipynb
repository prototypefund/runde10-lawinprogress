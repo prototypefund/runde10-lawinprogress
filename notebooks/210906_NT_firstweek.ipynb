{
 "cells": [
  {
   "cell_type": "code",
   "execution_count": 80,
   "id": "98f4b408-1142-413d-8f45-40de914a6db4",
   "metadata": {},
   "outputs": [],
   "source": [
    "import pdfplumber\n",
    "import regex as re\n",
    "import pyawk # so far not used"
   ]
  },
  {
   "cell_type": "code",
   "execution_count": 64,
   "id": "87e2f780-8196-44ca-91d0-32cfbfa3e5b1",
   "metadata": {},
   "outputs": [],
   "source": [
    "pdf_file = open('../data/0683-21.pdf', 'rb')\n",
    "### imported pyawk but haven't set it up yet\n",
    "\n",
    "### problems:\n",
    "### 0483-21.pdf has 2 empty pages before the entwurf starts :((((\n",
    "\n",
    "### Goal:\n",
    "# input: raw PDF of antwurf\n",
    "# output: list of (law title, change request text) pairs\n",
    "\n",
    "# next wishful steps:\n",
    "# Analyse entwurf patterns, common, less common etc.\n",
    "# API to grab law text using that damn title\n",
    "# API to grab entwurfs"
   ]
  },
  {
   "cell_type": "code",
   "execution_count": 65,
   "id": "b6afbf1d-eb73-4e41-9f19-915054e18b6f",
   "metadata": {},
   "outputs": [],
   "source": [
    "with pdfplumber.open(pdf_file) as pdf:\n",
    "    text_of_change = [page.extract_text() for page in pdf.pages]"
   ]
  },
  {
   "cell_type": "code",
   "execution_count": 77,
   "id": "44f17d17-760c-4f4d-a086-5a3097003e4a",
   "metadata": {},
   "outputs": [
    {
     "name": "stdout",
     "output_type": "stream",
     "text": [
      "4 5\n"
     ]
    }
   ],
   "source": [
    "#quirky mehtod to find the first page where the Entwurf starts in the PDF\n",
    "#it picks the first page after an empty page, which is identrified as a None in the list, or as a string of length 1 :(((\n",
    "for pagenum, page in enumerate(text_of_change):\n",
    "    if page is None or len(page)==1:\n",
    "        first_page=pagenum+1\n",
    "        break\n",
    "\n",
    "last_page=len(text_of_change)\n",
    "\n",
    "#quirky mehtod to find the last page where the Entwurf ends in the PDF\n",
    "#it picks the last page before a page that has the word \"Begründung\" in it\n",
    "for page in range(first_page,last_page):\n",
    "    if len(text_of_change[page].split('Begründung')) > 1:\n",
    "        last_page=page-1\n",
    "        break\n",
    "\n",
    "# uncomment next line to manually check if the fist and last page were identified correctly\n",
    "print(first_page,last_page)"
   ]
  },
  {
   "cell_type": "code",
   "execution_count": 78,
   "id": "ec855c66-1abe-42ce-841e-52164d67002d",
   "metadata": {},
   "outputs": [],
   "source": [
    "# goes over the entwurf pages, and makes a list of all the 2 lines of text after the patten \"Artikel [number] \\n\", \n",
    "# also in case there is more than one change in a page\n",
    "\n",
    "title_change_of_this_law = []\n",
    "for page in range(first_page,last_page+1):\n",
    "    has_artikel = len(re.split('Artikel [0-9]+ +\\n',text_of_change[page]))  # the len() of the split is 1 is there are no artikles, 2, if there is 1, and \n",
    "                                                                            # increases by 2 (odds) for every additional artikel\n",
    "    #print(page,has_artikel) # used for debugging only, can be removed\n",
    "    if has_artikel >= 2:\n",
    "        for artikel in range(1,has_artikel,2): \n",
    "            title_change_of_this_law.extend(re.search('.+\\n.+\\n',re.split('Artikel [0-9]+ +\\n',text_of_change[page])[artikel]).captures())\n",
    "\n",
    "# the logic for this funciton is as follows:\n",
    "# in each page, each time the pattern \"Artikel [number] \\n\" appears, \n",
    "# note that number regexed any number of digits, this could be limited in the future to only 1-2 or 3?! which is more reasonable,\n",
    "# we split the string and take the part that is after the split (if there is only one split that's 1, if there is more we loop on the odd numbers to \n",
    "# always take the part after the split), we then use re.search to take the first two scentences using a pattern that take any number of charcters \n",
    "# before a new line (twice). Since re.search() returns an object we use .capture to to grab the match of that pattern from the returned object.\n",
    "# since that that match is a list with one string in it, we use .extend() so that our final input is one flat list with all the strings we recovered.\n",
    "# huzzah."
   ]
  },
  {
   "cell_type": "code",
   "execution_count": 79,
   "id": "d18639ab-edc4-429e-956b-5f503f681260",
   "metadata": {},
   "outputs": [
    {
     "data": {
      "text/plain": [
       "['Änderung des Bürgerlichen Gesetzbuchs\\nDas Bürgerliche Gesetzbuch in der Fassung der Bekanntmachung vom 2. Januar 2002 (BGBl. \\n',\n",
       " 'Änderung des Einführungsgesetzes zum Bürgerlichen Gesetzbuche\\nDem Artikel 229 des Einführungsgesetzes zum Bürgerlichen Gesetzbuche in der Fassung der \\n']"
      ]
     },
     "execution_count": 79,
     "metadata": {},
     "output_type": "execute_result"
    }
   ],
   "source": [
    "title_change_of_this_law"
   ]
  },
  {
   "cell_type": "code",
   "execution_count": 81,
   "id": "e7a46679-0609-4df2-ace2-4549fb8779eb",
   "metadata": {},
   "outputs": [
    {
     "data": {
      "text/plain": [
       "['Änderung des Bürgerlichen Gesetzbuchs\\nDas Bürgerliche Gesetzbuch in der Fassung der Bekanntmachung vom 2. Januar 2002 (BGBl.',\n",
       " 'Änderung des Einführungsgesetzes zum Bürgerlichen Gesetzbuche\\nDem Artikel 229 des Einführungsgesetzes zum Bürgerlichen Gesetzbuche in der Fassung der']"
      ]
     },
     "execution_count": 81,
     "metadata": {},
     "output_type": "execute_result"
    }
   ],
   "source": [
    "# this is an unfinished code chunk\n",
    "# the following 2 lines only remove the last line break from teh end of the 2nd scentence\n",
    "[change_title.rstrip() for change_title in title_change_of_this_law]\n",
    "\n",
    "# the goal is to add a simple logic that capture a second line when it is relevant, e.g. if it start with \"und \" or if it is no longer than 3 words.\n",
    "# this won't catch all cases, but it's a start\n",
    "# more logic to consider: don't take a 2nd line that starts with \"§\" or \"In\"\n",
    "\n",
    "# strip the begining from \"Änderung des\" or \"Weitere Änderung des\""
   ]
  },
  {
   "cell_type": "code",
   "execution_count": 63,
   "id": "674c9f59-caff-49b9-b033-1fc9e3d6e1fa",
   "metadata": {},
   "outputs": [
    {
     "data": {
      "text/plain": [
       "['Drucksache 145/21\\nEntwurf eines Gesetzes zum Ausbau des elektronischen Rechtsver-\\nkehrs mit den Gerichten und zur Änderung weiterer prozessrechtlicher \\nVorschriften1)  \\nVom ... \\nDer Bundestag hat das folgende Gesetz beschlossen: \\nArtikel 1 \\nÄnderung der Zivilprozessordnung \\nDie Zivilprozessordnung in der Fassung der Bekanntmachung vom 5. Dezember 2005 \\n(BGBl. I S. 3202; 2006 I S. 431; 2007 I S. 1781), die zuletzt durch Artikel 8 des Gesetzes \\nvom 22. Dezember 2020 (BGBl. I S. 3320) geändert worden ist, wird wie folgt geändert: \\n1. Die Inhaltsübersicht wird wie folgt geändert:\\na) Der Angabe zu § 130a werden ein Semikolon und das Wort „Verordnungsermäch-\\ntigung“ angefügt.\\nb) Die Angaben zu den §§ 173 bis 176 werden wie folgt gefasst:\\n„§ 173 Zustellung elektronischer Dokumente\\n§174 Zustellung durch Aushändigung an der Amtsstelle\\n§175 Zustellung eines Schriftstücks gegen Empfangsbekenntnis\\n§176 Zustellung durch Einschreiben mit Rückschein; Zustellungsauftrag“.\\n2. § 130a wird wie folgt geändert:\\na) Der Überschrift werden ein Semikolon und das Wort „Verordnungsermächtigung“\\nangefügt.\\nb) Absatz 2 Satz 2 wird wie folgt gefasst:\\n„Die Bundesregierung bestimmt durch Rechtsverordnung mit Zustimmung des\\nBundesrates technische Rahmenbedingungen für die Übermittlung und Eignung\\nzur Bearbeitung durch das Gericht.“\\nc) Absatz 4 wird wie folgt geändert:\\naa) In Nummer 3 werden nach dem Wort „Gerichts“ das Semikolon und die Wörter\\n„das Nähere regelt die Verordnung nach Absatz 2 Satz 2“ gestrichen. \\nbb) Nach Nummer 3 werden die folgenden Nummern 4 und 5 eingefügt: \\n1) Notifiziert gemäß der Richtlinie (EU) 2015/1535 des Europäischen Parlaments und des Rates vom\\n9.September 2015 über ein Informationsverfahren auf dem Gebiet der technischen Vorschriften und\\nder Vorschriften für die Dienste der Informationsgesellschaft (ABl. L 241 vom 17.9.2015, S. 1).']"
      ]
     },
     "execution_count": 63,
     "metadata": {},
     "output_type": "execute_result"
    }
   ],
   "source": [
    "#re.search('.+\\n.+\\n',re.split('Artikel [0-9]+  \\n',text_of_change[6])[1]).captures()\n",
    "#re.split('Artikel [0-9]+ \\n',text_of_change[6])[1]\n",
    "re.split('Artikel [0-9]+  \\n',text_of_change[6])"
   ]
  },
  {
   "cell_type": "code",
   "execution_count": 269,
   "id": "2a8b7486-6364-4fdc-abd5-92af6267ff93",
   "metadata": {},
   "outputs": [
    {
     "data": {
      "text/plain": [
       "[['Änderung der Zivilprozessordnung',\n",
       "  'Die Zivilprozessordnung in der Fassung der Bekanntmachung vom 5. Dezember 2005'],\n",
       " ['Änderung des Gesetzes über das Verfahren in Familiensachen',\n",
       "  'und in Angelegenheiten der freiwilligen Gerichtsbarkeit'],\n",
       " ['Änderung der Elektronischer-Rechtsverkehr-Verordnung',\n",
       "  'Die  Elektronischer-Rechtsverkehr-Verordnung  vom  24.  November  2017  (BGBl. I'],\n",
       " ['Änderung des Arbeitsgerichtsgesetzes',\n",
       "  'Das Arbeitsgerichtsgesetz in der Fassung der Bekanntmachung vom 2. Juli 1979'],\n",
       " ['Weitere Änderung des Arbeitsgerichtsgesetzes',\n",
       "  'Das Arbeitsgerichtsgesetz, das zuletzt durch '],\n",
       " ['Weitere Änderung des Arbeitsgerichtsgesetzes zum 1. Januar', '2022'],\n",
       " ['Weitere Änderung des Arbeitsgerichtsgesetzes zum 1. Januar', '2026'],\n",
       " ['Änderung des Sozialgerichtsgesetzes',\n",
       "  'Das Sozialgerichtsgesetz in der Fassung der Bekanntmachung vom 23. September'],\n",
       " ['Weitere Änderung des Sozialgerichtsgesetzes zum 1. Januar 2022',\n",
       "  'In § 65d Satz 2 des Sozialgerichtsgesetzes, das zuletzt durch '],\n",
       " ['Weitere Änderung des Sozialgerichtsgesetzes zum 1. Januar 2026',\n",
       "  '§ 65d des Sozialgerichtsgesetzes, das zuletzt durch '],\n",
       " ['Änderung der Verwaltungsgerichtsordnung',\n",
       "  '§ 55a der Verwaltungsgerichtsordnung in der Fassung der Bekanntmachung vom 19.\\nMärz 1991 (BGBl. I S. 686), die zuletzt durch '],\n",
       " ['Weitere Änderung der Verwaltungsgerichtsordnung zum 1. Ja-\\nnuar 2022',\n",
       "  'In § 55d Satz 2 der Verwaltungsgerichtsordnung, die zuletzt durch '],\n",
       " ['Weitere Änderung der Verwaltungsgerichtsordnung zum 1. Ja-\\nnuar 2026',\n",
       "  '§ 55d der Verwaltungsgerichtsordnung, die zuletzt durch '],\n",
       " ['Änderung der Finanzgerichtsordnung',\n",
       "  '§ 52a der Finanzgerichtsordnung in der Fassung der Bekanntmachung vom 28. März\\n2001 (BGBl. I S. 442, 2262; 2002 I S. 679), die zuletzt durch '],\n",
       " ['Weitere Änderung der Finanzgerichtsordnung zum 1. Januar 2022',\n",
       "  'In § 52d Satz 2 der Finanzgerichtsordnung, die zuletzt durch '],\n",
       " ['Weitere Änderung der Finanzgerichtsordnung zum 1. Januar 2026',\n",
       "  '§ 52d der Finanzgerichtsordnung, die zuletzt durch '],\n",
       " ['Änderung der Bundesrechtsanwaltsordnung',\n",
       "  'In § 30 Absatz 2 der Bundesrechtsanwaltsordnung in der im Bundesgesetzblatt Teil III,'],\n",
       " ['Änderung des Beurkundungsgesetzes',\n",
       "  'In § 67 Absatz 2 des Beurkundungsgesetzes vom 28. August 1969 (BGBl. I S. 1513),'],\n",
       " ['Änderung des Gesetzes über die Tätigkeit europäischer Rechts-\\nanwälte in Deutschland',\n",
       "  'In § 31 Absatz 1 Satz 4 des Gesetzes über die Tätigkeit europäischer Rechtsanwälte'],\n",
       " ['Änderung der Verordnung zur Einführung von Vordrucken für',\n",
       "  'das Mahnverfahren'],\n",
       " ['Änderung der Zustellungsvordruckverordnung',\n",
       "  'In § 1 Nummer 2 der Zustellungsvordruckverordnung vom 12. Februar 2002 (BGBl. I'],\n",
       " ['Änderung des Strafvollzugsgesetzes',\n",
       "  'In § 120 Absatz 1 Satz 2 des Strafvollzugsgesetzes vom 16. März 1976 (BGBl. I'],\n",
       " ['Änderung der Grundbuchordnung',\n",
       "  'In § 140 Absatz 2 Satz 1 der Grundbuchordnung in der Fassung der Bekanntmachung'],\n",
       " ['Änderung des Gesetzes über die internationale Rechtshilfe in',\n",
       "  'Strafsachen'],\n",
       " ['Änderung der Patentanwaltsordnung',\n",
       "  'In § 28 Absatz 2 der Patentanwaltsordnung vom 7. September 1966 (BGBl. I S. 557),'],\n",
       " ['Änderung des Gesetzes über Ordnungswidrigkeiten',\n",
       "  'In § 110c Satz 1 des Gesetzes über Ordnungswidrigkeiten in der Fassung der Bekannt-\\nmachung vom 19. Februar 1987 (BGBl. I S. 602), das zuletzt durch '],\n",
       " ['Änderung des Achten Buches Sozialgesetzbuch',\n",
       "  'In § 60 Satz 2 des Achten Buches Sozialgesetzbuch – Kinder- und Jugendhilfe – in der'],\n",
       " ['Inkrafttreten',\n",
       "  'Dieses Gesetz tritt vorbehaltlich der Sätze 2 bis 4 am … [einsetzen: Datum des ersten'],\n",
       " ['Die ']]"
      ]
     },
     "execution_count": 269,
     "metadata": {},
     "output_type": "execute_result"
    }
   ],
   "source": [
    "title_change_of_this_law = []\n",
    "for page in range(first_page,last_page+1):\n",
    "    has_artikel = len(text_of_change[page].split('Artikel '))\n",
    "    if has_artikel >= 2:\n",
    "        for artikel in range(1,has_artikel-1,2): # consider using re.split('Artikel [0-9]+ \\n') instead\n",
    "            title_change_of_this_law.append(text_of_change[page].split('Artikel ')[artikel].split(' \\n')[1:3])\n",
    "title_change_of_this_law"
   ]
  },
  {
   "cell_type": "code",
   "execution_count": 17,
   "id": "c66d2502-8d3d-4943-985f-58ff9d48813a",
   "metadata": {},
   "outputs": [
    {
     "name": "stdout",
     "output_type": "stream",
     "text": [
      "Änderung der Zivilprozessordnung \n"
     ]
    }
   ],
   "source": [
    "with pdfplumber.open(pdfFileObj) as pdf:\n",
    "    for pageNum in pdf.pages()\n",
    "\tname_of_law_to_change = pdf.pages[6].extract_text().split('Artikel 1')[1].split('\\n')[1]\n",
    "    print(name_of_law_to_change)"
   ]
  },
  {
   "cell_type": "code",
   "execution_count": 179,
   "id": "8b5cd231-acb0-4fb0-a369-096a481b4409",
   "metadata": {},
   "outputs": [
    {
     "data": {
      "text/plain": [
       "'Inkrafttreten '"
      ]
     },
     "execution_count": 179,
     "metadata": {},
     "output_type": "execute_result"
    }
   ],
   "source": [
    "text_of_change[24].split('Artikel ')[1].split('\\n')[1]"
   ]
  },
  {
   "cell_type": "code",
   "execution_count": 167,
   "id": "ccb6b9b8-a087-48ae-b3c5-335282097a83",
   "metadata": {},
   "outputs": [
    {
     "data": {
      "text/plain": [
       "3"
      ]
     },
     "execution_count": 167,
     "metadata": {},
     "output_type": "execute_result"
    }
   ],
   "source": [
    "len(text_of_change[6].split('Artikel '))\n",
    "    \n",
    "    "
   ]
  },
  {
   "cell_type": "code",
   "execution_count": 188,
   "id": "3e12e5b5-a975-4fda-8b03-6f33239728a9",
   "metadata": {},
   "outputs": [
    {
     "data": {
      "text/plain": [
       "2"
      ]
     },
     "execution_count": 188,
     "metadata": {},
     "output_type": "execute_result"
    }
   ],
   "source": [
    "len(title_change_of_this_law[3])\n"
   ]
  },
  {
   "cell_type": "code",
   "execution_count": 73,
   "id": "0343961e-0bb0-48da-a352-0677266fcc41",
   "metadata": {},
   "outputs": [
    {
     "data": {
      "text/plain": [
       "'Bundesrat  Drucksache   145/21  \\n  \\n  \\n \\n  12.02.21 \\n  R - AIS - Fz - In \\n \\nB\\nGesetzentwurf  R\\nFu\\nder Bundesregierung \\nss \\nEntwurf  eines  Gesetzes  zum  Ausbau  des  elektronischen \\nRechtsverkehrs  mit  den  Gerichten  und  zur  Änderung  weiterer \\nprozessrechtlicher Vorschriften \\nBundesrepublik Deutschland             Berlin, 12. Februar 2021 \\n      Die Bundeskanzlerin \\n \\nAn den \\nPräsidenten des Bundesrates \\nHerrn Ministerpräsidenten \\nDr. Reiner Haseloff \\n \\nSehr geehrter Herr Präsident, \\n \\nhiermit übersende ich gemäß Artikel 76 Absatz 2 des Grundgesetzes den von der \\nBundesregierung beschlossenen \\n \\nEntwurf eines Gesetzes zum Ausbau des elektronischen \\nRechtsverkehrs mit den Gerichten und zur Änderung \\nweiterer prozessrechtlicher Vorschriften  \\n \\nmit Begründung und Vorblatt. \\n \\nFederführend ist das Bundesministerium der Justiz und für Verbraucherschutz. \\n \\nDie  Stellungnahme  des  Nationalen  Normenkontrollrates  gemäß  § 6  Absatz 1 \\nNKRG ist als Anlage beigefügt. \\n \\nMit freundlichen Grüßen \\nDr. Angela Merkel \\n                                              \\nFristablauf: 26.03.21 \\n '"
      ]
     },
     "execution_count": 73,
     "metadata": {},
     "output_type": "execute_result"
    }
   ],
   "source": [
    "text_of_change[4]"
   ]
  },
  {
   "cell_type": "code",
   "execution_count": 89,
   "id": "0acb9f3a-f6bf-48b4-a661-eb5700c213b0",
   "metadata": {},
   "outputs": [
    {
     "data": {
      "text/plain": [
       "True"
      ]
     },
     "execution_count": 89,
     "metadata": {},
     "output_type": "execute_result"
    }
   ],
   "source": [
    "text_of_change[5] is None"
   ]
  },
  {
   "cell_type": "code",
   "execution_count": null,
   "id": "9ee0d932-645d-4d59-9719-1ad521146937",
   "metadata": {},
   "outputs": [],
   "source": []
  }
 ],
 "metadata": {
  "kernelspec": {
   "display_name": "Python 3 (ipykernel)",
   "language": "python",
   "name": "python3"
  },
  "language_info": {
   "codemirror_mode": {
    "name": "ipython",
    "version": 3
   },
   "file_extension": ".py",
   "mimetype": "text/x-python",
   "name": "python",
   "nbconvert_exporter": "python",
   "pygments_lexer": "ipython3",
   "version": "3.9.5"
  }
 },
 "nbformat": 4,
 "nbformat_minor": 5
}
