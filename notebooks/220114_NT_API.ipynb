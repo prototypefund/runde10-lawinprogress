{
 "cells": [
  {
   "cell_type": "code",
   "execution_count": 1,
   "id": "eb97caaf-6635-4bce-a396-f17ca621f092",
   "metadata": {},
   "outputs": [],
   "source": [
    "import requests\n",
    "import json\n",
    "import time\n",
    "import pandas as pd\n",
    "\n",
    "from typing import List, Tuple"
   ]
  },
  {
   "cell_type": "code",
   "execution_count": 2,
   "id": "69cc1a23-4d8a-45cf-9037-bae28f3a6474",
   "metadata": {},
   "outputs": [],
   "source": [
    "def jprint(obj):\n",
    "    # create a formatted string of the Python JSON object\n",
    "    text = json.dumps(obj, indent=4)\n",
    "    print(text)"
   ]
  },
  {
   "cell_type": "code",
   "execution_count": 3,
   "id": "d5cdfda2-200a-436e-a9b0-541b4f8f348b",
   "metadata": {},
   "outputs": [],
   "source": [
    "\n",
    "### Goal:\n",
    "# connect to new API of laws\n",
    "#  Rechtsinformationen API v1 \n",
    "# https://api.rechtsinformationsportal.de/v1/docs#operations-top"
   ]
  },
  {
   "cell_type": "code",
   "execution_count": 5,
   "id": "5388b780-925f-433e-986b-4af494ead236",
   "metadata": {},
   "outputs": [],
   "source": [
    "\n",
    "x = 0\n",
    "Ri_response = []\n",
    "Ri_response.append(requests.get(\"https://api.rechtsinformationsportal.de/v1/laws?include=all_fields\"))\n",
    "next_page = Ri_response[-1].json()[\"links\"][\"next\"]\n",
    "while next_page != None:\n",
    "    Ri_response.append(requests.get(next_page))\n",
    "    next_page = Ri_response[-1].json()[\"links\"][\"next\"]\n",
    "    x += 1\n",
    "    # print(\n",
    "    #     next_page, x\n",
    "    # )  # added for testing today because there's an API malefunction. remove when things get back to normal\n",
    "    # #if x % 15 == 0:\n",
    "     #   time.sleep(.5)\n",
    "\n",
    "#include=all_fields"
   ]
  },
  {
   "cell_type": "code",
   "execution_count": 8,
   "id": "30223ef3-fba3-4ac0-836d-e7c001348e3f",
   "metadata": {},
   "outputs": [],
   "source": [
    "rechtsinformationsportal_list = [\n",
    "    (Ri_response[page].json()[\"data\"])\n",
    "    for page in range(0, x + 1)\n",
    "]"
   ]
  },
  {
   "cell_type": "code",
   "execution_count": 9,
   "id": "0acba40b-802d-47d2-937d-bccb24fe0fa3",
   "metadata": {},
   "outputs": [],
   "source": [
    "with open(\"../data/source_laws/rechtsinformationsportalAPI.json\", \"w\") as file:\n",
    "\tjson.dump(rechtsinformationsportal_list, file)"
   ]
  },
  {
   "cell_type": "code",
   "execution_count": 13,
   "id": "3bdddcb4-c919-4e6d-b07d-7faf8d79f887",
   "metadata": {},
   "outputs": [],
   "source": [
    "rechtsinformationsportal_df_list = [\n",
    "    pd.DataFrame.from_dict(Ri_response[page].json()[\"data\"])\n",
    "    for page in range(0, x + 1)\n",
    "]"
   ]
  },
  {
   "cell_type": "code",
   "execution_count": 14,
   "id": "909af2ee-2091-4f90-9563-ea1c312457ff",
   "metadata": {},
   "outputs": [],
   "source": [
    "rechtsinformationsportal_df = pd.concat(rechtsinformationsportal_df_list, ignore_index=True)"
   ]
  },
  {
   "cell_type": "code",
   "execution_count": 15,
   "id": "acfa426f-baff-4c84-bdcf-3ea9cc1ad6c7",
   "metadata": {},
   "outputs": [],
   "source": [
    "rechtsinformationsportal_df.to_csv(\n",
    "    index=False, path_or_buf=\"../data/source_laws/rechtsinformationsportalAPI.csv\"\n",
    ")"
   ]
  },
  {
   "cell_type": "code",
   "execution_count": 28,
   "id": "0195f757-d017-40cf-ae0e-ad4103dd4eab",
   "metadata": {},
   "outputs": [
    {
     "data": {
      "text/plain": [
       "type                  6871\n",
       "id                    6871\n",
       "url                   6871\n",
       "firstPublished        6871\n",
       "sourceTimestamp       6871\n",
       "titleShort            2476\n",
       "titleLong             6871\n",
       "abbreviation          6871\n",
       "slug                  6871\n",
       "extraAbbreviations    6871\n",
       "publicationInfo       6871\n",
       "statusInfo            6871\n",
       "notes                 6871\n",
       "attachments           6871\n",
       "dtype: int64"
      ]
     },
     "execution_count": 28,
     "metadata": {},
     "output_type": "execute_result"
    }
   ],
   "source": [
    "rechtsinformationsportal_df.count()\n",
    "\n",
    "## note that short title is 2476 while title (and the rest) is 6871\n",
    "## I wanted ot check year rnage but there are som elaws with year 0000 \n",
    "##    and that blocked converting the column as a whole.. so ther eare def data issues.. "
   ]
  },
  {
   "cell_type": "code",
   "execution_count": null,
   "id": "b91c4e34-5286-4536-8475-b59ed2b6301f",
   "metadata": {},
   "outputs": [],
   "source": []
  }
 ],
 "metadata": {
  "kernelspec": {
   "display_name": "Python 3 (ipykernel)",
   "language": "python",
   "name": "python3"
  },
  "language_info": {
   "codemirror_mode": {
    "name": "ipython",
    "version": 3
   },
   "file_extension": ".py",
   "mimetype": "text/x-python",
   "name": "python",
   "nbconvert_exporter": "python",
   "pygments_lexer": "ipython3",
   "version": "3.9.5"
  }
 },
 "nbformat": 4,
 "nbformat_minor": 5
}
