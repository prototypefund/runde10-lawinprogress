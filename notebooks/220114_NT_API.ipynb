{
 "cells": [
  {
   "cell_type": "code",
   "execution_count": 1,
   "id": "eb97caaf-6635-4bce-a396-f17ca621f092",
   "metadata": {},
   "outputs": [],
   "source": [
    "import requests\n",
    "import json\n",
    "import time\n",
    "import pandas as pd\n",
    "\n",
    "from typing import List, Tuple"
   ]
  },
  {
   "cell_type": "code",
   "execution_count": 2,
   "id": "69cc1a23-4d8a-45cf-9037-bae28f3a6474",
   "metadata": {},
   "outputs": [],
   "source": [
    "def jprint(obj):\n",
    "    # create a formatted string of the Python JSON object\n",
    "    text = json.dumps(obj, indent=4)\n",
    "    print(text)"
   ]
  },
  {
   "cell_type": "code",
   "execution_count": 3,
   "id": "d5cdfda2-200a-436e-a9b0-541b4f8f348b",
   "metadata": {},
   "outputs": [],
   "source": [
    "### Goal:\n",
    "# connect to new API of laws\n",
    "#  Rechtsinformationen API v1\n",
    "# https://api.rechtsinformationsportal.de/v1/docs#operations-top"
   ]
  },
  {
   "cell_type": "code",
   "execution_count": 5,
   "id": "5388b780-925f-433e-986b-4af494ead236",
   "metadata": {},
   "outputs": [],
   "source": [
    "x = 0\n",
    "Ri_response = []\n",
    "Ri_response.append(\n",
    "    requests.get(\"https://api.rechtsinformationsportal.de/v1/laws?include=all_fields\")\n",
    ")\n",
    "next_page = Ri_response[-1].json()[\"links\"][\"next\"]\n",
    "while next_page != None:\n",
    "    Ri_response.append(requests.get(next_page))\n",
    "    next_page = Ri_response[-1].json()[\"links\"][\"next\"]\n",
    "    x += 1"
   ]
  },
  {
   "cell_type": "code",
   "execution_count": 8,
   "id": "30223ef3-fba3-4ac0-836d-e7c001348e3f",
   "metadata": {},
   "outputs": [],
   "source": [
    "rechtsinformationsportal_list = [\n",
    "    (Ri_response[page].json()[\"data\"]) for page in range(0, x + 1)\n",
    "]"
   ]
  },
  {
   "cell_type": "code",
   "execution_count": 9,
   "id": "0acba40b-802d-47d2-937d-bccb24fe0fa3",
   "metadata": {},
   "outputs": [],
   "source": [
    "with open(\"../data/source_laws/rechtsinformationsportalAPI.json\", \"w\") as file:\n",
    "    json.dump(rechtsinformationsportal_list, file)"
   ]
  },
  {
   "cell_type": "code",
   "execution_count": 13,
   "id": "3bdddcb4-c919-4e6d-b07d-7faf8d79f887",
   "metadata": {},
   "outputs": [],
   "source": [
    "rechtsinformationsportal_df_list = [\n",
    "    pd.DataFrame.from_dict(Ri_response[page].json()[\"data\"]) for page in range(0, x + 1)\n",
    "]"
   ]
  },
  {
   "cell_type": "code",
   "execution_count": 14,
   "id": "909af2ee-2091-4f90-9563-ea1c312457ff",
   "metadata": {},
   "outputs": [],
   "source": [
    "rechtsinformationsportal_df = pd.concat(\n",
    "    rechtsinformationsportal_df_list, ignore_index=True\n",
    ")"
   ]
  },
  {
   "cell_type": "code",
   "execution_count": 30,
   "id": "4abcbe3b-4b0b-48bf-b576-c8e8201a5b4d",
   "metadata": {},
   "outputs": [
    {
     "data": {
      "text/html": [
       "<div>\n",
       "<style scoped>\n",
       "    .dataframe tbody tr th:only-of-type {\n",
       "        vertical-align: middle;\n",
       "    }\n",
       "\n",
       "    .dataframe tbody tr th {\n",
       "        vertical-align: top;\n",
       "    }\n",
       "\n",
       "    .dataframe thead th {\n",
       "        text-align: right;\n",
       "    }\n",
       "</style>\n",
       "<table border=\"1\" class=\"dataframe\">\n",
       "  <thead>\n",
       "    <tr style=\"text-align: right;\">\n",
       "      <th></th>\n",
       "      <th>type</th>\n",
       "      <th>id</th>\n",
       "      <th>url</th>\n",
       "      <th>firstPublished</th>\n",
       "      <th>sourceTimestamp</th>\n",
       "      <th>titleShort</th>\n",
       "      <th>titleLong</th>\n",
       "      <th>abbreviation</th>\n",
       "      <th>slug</th>\n",
       "      <th>extraAbbreviations</th>\n",
       "      <th>publicationInfo</th>\n",
       "      <th>statusInfo</th>\n",
       "      <th>notes</th>\n",
       "      <th>attachments</th>\n",
       "    </tr>\n",
       "  </thead>\n",
       "  <tbody>\n",
       "    <tr>\n",
       "      <th>0</th>\n",
       "      <td>law</td>\n",
       "      <td>BJNR172200996</td>\n",
       "      <td>https://api.rechtsinformationsportal.de/v1/law...</td>\n",
       "      <td>1996-11-08</td>\n",
       "      <td>20170822221017</td>\n",
       "      <td>Verordnung zur Begrenzung von Emissionen aus d...</td>\n",
       "      <td>Fünfundzwanzigste Verordnung zur Durchführung\\...</td>\n",
       "      <td>25. BImSchV</td>\n",
       "      <td>25_bimschv</td>\n",
       "      <td>[BImSchV 25]</td>\n",
       "      <td>[{'reference': '1996, 1722', 'periodical': 'BG...</td>\n",
       "      <td>[{'comment': 'Neugefasst durch Bek. v. 30.7.20...</td>\n",
       "      <td>{'body': None, 'footnotes': None, 'documentary...</td>\n",
       "      <td>{}</td>\n",
       "    </tr>\n",
       "    <tr>\n",
       "      <th>1</th>\n",
       "      <td>law</td>\n",
       "      <td>BJNR239600014</td>\n",
       "      <td>https://api.rechtsinformationsportal.de/v1/law...</td>\n",
       "      <td>2014-12-22</td>\n",
       "      <td>20150129221520</td>\n",
       "      <td>Beitragssatzverordnung 2015</td>\n",
       "      <td>Verordnung zur Bestimmung der Beitragssätze in...</td>\n",
       "      <td>BSV 2015</td>\n",
       "      <td>bsv_2015</td>\n",
       "      <td>[]</td>\n",
       "      <td>[{'reference': '2014, 2396', 'periodical': 'BG...</td>\n",
       "      <td>[]</td>\n",
       "      <td>{'body': None, 'footnotes': None, 'documentary...</td>\n",
       "      <td>{}</td>\n",
       "    </tr>\n",
       "    <tr>\n",
       "      <th>2</th>\n",
       "      <td>law</td>\n",
       "      <td>BJNR097000016</td>\n",
       "      <td>https://api.rechtsinformationsportal.de/v1/law...</td>\n",
       "      <td>2016-04-25</td>\n",
       "      <td>20160609215501</td>\n",
       "      <td>None</td>\n",
       "      <td>Zweite Verordnung zur Durchführung des Finanza...</td>\n",
       "      <td>FinAusglG2011DV 2</td>\n",
       "      <td>finausglg2011dv_2</td>\n",
       "      <td>[]</td>\n",
       "      <td>[{'reference': '2016, 970', 'periodical': 'BGB...</td>\n",
       "      <td>[]</td>\n",
       "      <td>{'body': None, 'footnotes': None, 'documentary...</td>\n",
       "      <td>{}</td>\n",
       "    </tr>\n",
       "    <tr>\n",
       "      <th>3</th>\n",
       "      <td>law</td>\n",
       "      <td>BJNR005090911</td>\n",
       "      <td>https://api.rechtsinformationsportal.de/v1/law...</td>\n",
       "      <td>1911-07-19</td>\n",
       "      <td>20180814214502</td>\n",
       "      <td>None</td>\n",
       "      <td>Reichsversicherungsordnung</td>\n",
       "      <td>RVO</td>\n",
       "      <td>rvo</td>\n",
       "      <td>[]</td>\n",
       "      <td>[{'reference': '1911, 509', 'periodical': 'RGB...</td>\n",
       "      <td>[{'comment': 'Zuletzt geändert durch Art. 7 G ...</td>\n",
       "      <td>{'body': None, 'footnotes': None, 'documentary...</td>\n",
       "      <td>{}</td>\n",
       "    </tr>\n",
       "    <tr>\n",
       "      <th>4</th>\n",
       "      <td>law</td>\n",
       "      <td>BJNR078700993</td>\n",
       "      <td>https://api.rechtsinformationsportal.de/v1/law...</td>\n",
       "      <td>1993-06-02</td>\n",
       "      <td>20130405130737</td>\n",
       "      <td>None</td>\n",
       "      <td>Bekanntmachung der Dienstbezüge und Anwärterbe...</td>\n",
       "      <td>BesÜV2Bek 1993-06-02</td>\n",
       "      <td>besuev2bek_1993_06_02</td>\n",
       "      <td>[]</td>\n",
       "      <td>[{'reference': '1993, 787', 'periodical': 'BGB...</td>\n",
       "      <td>[]</td>\n",
       "      <td>{'body': None, 'footnotes': None, 'documentary...</td>\n",
       "      <td>{}</td>\n",
       "    </tr>\n",
       "  </tbody>\n",
       "</table>\n",
       "</div>"
      ],
      "text/plain": [
       "  type             id                                                url  \\\n",
       "0  law  BJNR172200996  https://api.rechtsinformationsportal.de/v1/law...   \n",
       "1  law  BJNR239600014  https://api.rechtsinformationsportal.de/v1/law...   \n",
       "2  law  BJNR097000016  https://api.rechtsinformationsportal.de/v1/law...   \n",
       "3  law  BJNR005090911  https://api.rechtsinformationsportal.de/v1/law...   \n",
       "4  law  BJNR078700993  https://api.rechtsinformationsportal.de/v1/law...   \n",
       "\n",
       "  firstPublished sourceTimestamp  \\\n",
       "0     1996-11-08  20170822221017   \n",
       "1     2014-12-22  20150129221520   \n",
       "2     2016-04-25  20160609215501   \n",
       "3     1911-07-19  20180814214502   \n",
       "4     1993-06-02  20130405130737   \n",
       "\n",
       "                                          titleShort  \\\n",
       "0  Verordnung zur Begrenzung von Emissionen aus d...   \n",
       "1                        Beitragssatzverordnung 2015   \n",
       "2                                               None   \n",
       "3                                               None   \n",
       "4                                               None   \n",
       "\n",
       "                                           titleLong          abbreviation  \\\n",
       "0  Fünfundzwanzigste Verordnung zur Durchführung\\...           25. BImSchV   \n",
       "1  Verordnung zur Bestimmung der Beitragssätze in...              BSV 2015   \n",
       "2  Zweite Verordnung zur Durchführung des Finanza...     FinAusglG2011DV 2   \n",
       "3                         Reichsversicherungsordnung                   RVO   \n",
       "4  Bekanntmachung der Dienstbezüge und Anwärterbe...  BesÜV2Bek 1993-06-02   \n",
       "\n",
       "                    slug extraAbbreviations  \\\n",
       "0             25_bimschv       [BImSchV 25]   \n",
       "1               bsv_2015                 []   \n",
       "2      finausglg2011dv_2                 []   \n",
       "3                    rvo                 []   \n",
       "4  besuev2bek_1993_06_02                 []   \n",
       "\n",
       "                                     publicationInfo  \\\n",
       "0  [{'reference': '1996, 1722', 'periodical': 'BG...   \n",
       "1  [{'reference': '2014, 2396', 'periodical': 'BG...   \n",
       "2  [{'reference': '2016, 970', 'periodical': 'BGB...   \n",
       "3  [{'reference': '1911, 509', 'periodical': 'RGB...   \n",
       "4  [{'reference': '1993, 787', 'periodical': 'BGB...   \n",
       "\n",
       "                                          statusInfo  \\\n",
       "0  [{'comment': 'Neugefasst durch Bek. v. 30.7.20...   \n",
       "1                                                 []   \n",
       "2                                                 []   \n",
       "3  [{'comment': 'Zuletzt geändert durch Art. 7 G ...   \n",
       "4                                                 []   \n",
       "\n",
       "                                               notes attachments  \n",
       "0  {'body': None, 'footnotes': None, 'documentary...          {}  \n",
       "1  {'body': None, 'footnotes': None, 'documentary...          {}  \n",
       "2  {'body': None, 'footnotes': None, 'documentary...          {}  \n",
       "3  {'body': None, 'footnotes': None, 'documentary...          {}  \n",
       "4  {'body': None, 'footnotes': None, 'documentary...          {}  "
      ]
     },
     "execution_count": 30,
     "metadata": {},
     "output_type": "execute_result"
    }
   ],
   "source": [
    "rechtsinformationsportal_df.head()"
   ]
  },
  {
   "cell_type": "code",
   "execution_count": 15,
   "id": "acfa426f-baff-4c84-bdcf-3ea9cc1ad6c7",
   "metadata": {},
   "outputs": [],
   "source": [
    "rechtsinformationsportal_df.to_csv(\n",
    "    index=False, path_or_buf=\"../data/source_laws/rechtsinformationsportalAPI.csv\"\n",
    ")"
   ]
  },
  {
   "cell_type": "code",
   "execution_count": 28,
   "id": "0195f757-d017-40cf-ae0e-ad4103dd4eab",
   "metadata": {},
   "outputs": [
    {
     "data": {
      "text/plain": [
       "type                  6871\n",
       "id                    6871\n",
       "url                   6871\n",
       "firstPublished        6871\n",
       "sourceTimestamp       6871\n",
       "titleShort            2476\n",
       "titleLong             6871\n",
       "abbreviation          6871\n",
       "slug                  6871\n",
       "extraAbbreviations    6871\n",
       "publicationInfo       6871\n",
       "statusInfo            6871\n",
       "notes                 6871\n",
       "attachments           6871\n",
       "dtype: int64"
      ]
     },
     "execution_count": 28,
     "metadata": {},
     "output_type": "execute_result"
    }
   ],
   "source": [
    "rechtsinformationsportal_df.count()\n",
    "\n",
    "## note that short title is 2476 while title (and the rest) is 6871\n",
    "## I wanted ot check year rnage but there are som elaws with year 0000\n",
    "##    and that blocked converting the column as a whole.. so ther eare def data issues.."
   ]
  },
  {
   "cell_type": "code",
   "execution_count": null,
   "id": "f23658a8-cd17-4786-9bb7-67c6e6c05665",
   "metadata": {},
   "outputs": [],
   "source": []
  },
  {
   "cell_type": "code",
   "execution_count": null,
   "id": "967ddb33-014c-4c2c-8064-6db6d899c284",
   "metadata": {},
   "outputs": [],
   "source": []
  },
  {
   "cell_type": "markdown",
   "id": "a07e7f59-c78f-40c2-b1f7-ca31b8df0166",
   "metadata": {},
   "source": [
    "to request a specific law you need to keep track of the slug so you can use it in the API call"
   ]
  },
  {
   "cell_type": "code",
   "execution_count": 37,
   "id": "b91c4e34-5286-4536-8475-b59ed2b6301f",
   "metadata": {},
   "outputs": [],
   "source": [
    "slug = \"25_bimschv\""
   ]
  },
  {
   "cell_type": "code",
   "execution_count": 38,
   "id": "085d22a0-964c-4ddc-93e7-cb0a712a0e1f",
   "metadata": {},
   "outputs": [],
   "source": [
    "law = requests.get(\n",
    "    \"https://api.rechtsinformationsportal.de/v1/laws/\" + slug + \"?include=contents\"\n",
    ")"
   ]
  },
  {
   "cell_type": "code",
   "execution_count": 42,
   "id": "861e3d48-f383-4a9c-b7f4-67d7a311fd86",
   "metadata": {},
   "outputs": [
    {
     "data": {
      "text/plain": [
       "6871"
      ]
     },
     "execution_count": 42,
     "metadata": {},
     "output_type": "execute_result"
    }
   ],
   "source": [
    "rechtsinformationsportal_df.slug.count()"
   ]
  },
  {
   "cell_type": "code",
   "execution_count": 43,
   "id": "7d2d516e-c4f6-4890-a140-ccdcd54b46ce",
   "metadata": {},
   "outputs": [
    {
     "ename": "ConnectionError",
     "evalue": "HTTPSConnectionPool(host='api.rechtsinformationsportal.de', port=443): Max retries exceeded with url: /v1/laws/promechg?include=contents (Caused by NewConnectionError('<urllib3.connection.HTTPSConnection object at 0x12567f0a0>: Failed to establish a new connection: [Errno 61] Connection refused'))",
     "output_type": "error",
     "traceback": [
      "\u001b[0;31m---------------------------------------------------------------------------\u001b[0m",
      "\u001b[0;31mConnectionRefusedError\u001b[0m                    Traceback (most recent call last)",
      "File \u001b[0;32m~/Library/Caches/pypoetry/virtualenvs/lawinprogress-XEGUYkFo-py3.9/lib/python3.9/site-packages/urllib3/connection.py:174\u001b[0m, in \u001b[0;36mHTTPConnection._new_conn\u001b[0;34m(self)\u001b[0m\n\u001b[1;32m    173\u001b[0m \u001b[38;5;28;01mtry\u001b[39;00m:\n\u001b[0;32m--> 174\u001b[0m     conn \u001b[38;5;241m=\u001b[39m \u001b[43mconnection\u001b[49m\u001b[38;5;241;43m.\u001b[39;49m\u001b[43mcreate_connection\u001b[49m\u001b[43m(\u001b[49m\n\u001b[1;32m    175\u001b[0m \u001b[43m        \u001b[49m\u001b[43m(\u001b[49m\u001b[38;5;28;43mself\u001b[39;49m\u001b[38;5;241;43m.\u001b[39;49m\u001b[43m_dns_host\u001b[49m\u001b[43m,\u001b[49m\u001b[43m \u001b[49m\u001b[38;5;28;43mself\u001b[39;49m\u001b[38;5;241;43m.\u001b[39;49m\u001b[43mport\u001b[49m\u001b[43m)\u001b[49m\u001b[43m,\u001b[49m\u001b[43m \u001b[49m\u001b[38;5;28;43mself\u001b[39;49m\u001b[38;5;241;43m.\u001b[39;49m\u001b[43mtimeout\u001b[49m\u001b[43m,\u001b[49m\u001b[43m \u001b[49m\u001b[38;5;241;43m*\u001b[39;49m\u001b[38;5;241;43m*\u001b[39;49m\u001b[43mextra_kw\u001b[49m\n\u001b[1;32m    176\u001b[0m \u001b[43m    \u001b[49m\u001b[43m)\u001b[49m\n\u001b[1;32m    178\u001b[0m \u001b[38;5;28;01mexcept\u001b[39;00m SocketTimeout:\n",
      "File \u001b[0;32m~/Library/Caches/pypoetry/virtualenvs/lawinprogress-XEGUYkFo-py3.9/lib/python3.9/site-packages/urllib3/util/connection.py:95\u001b[0m, in \u001b[0;36mcreate_connection\u001b[0;34m(address, timeout, source_address, socket_options)\u001b[0m\n\u001b[1;32m     94\u001b[0m \u001b[38;5;28;01mif\u001b[39;00m err \u001b[38;5;129;01mis\u001b[39;00m \u001b[38;5;129;01mnot\u001b[39;00m \u001b[38;5;28;01mNone\u001b[39;00m:\n\u001b[0;32m---> 95\u001b[0m     \u001b[38;5;28;01mraise\u001b[39;00m err\n\u001b[1;32m     97\u001b[0m \u001b[38;5;28;01mraise\u001b[39;00m socket\u001b[38;5;241m.\u001b[39merror(\u001b[38;5;124m\"\u001b[39m\u001b[38;5;124mgetaddrinfo returns an empty list\u001b[39m\u001b[38;5;124m\"\u001b[39m)\n",
      "File \u001b[0;32m~/Library/Caches/pypoetry/virtualenvs/lawinprogress-XEGUYkFo-py3.9/lib/python3.9/site-packages/urllib3/util/connection.py:85\u001b[0m, in \u001b[0;36mcreate_connection\u001b[0;34m(address, timeout, source_address, socket_options)\u001b[0m\n\u001b[1;32m     84\u001b[0m     sock\u001b[38;5;241m.\u001b[39mbind(source_address)\n\u001b[0;32m---> 85\u001b[0m \u001b[43msock\u001b[49m\u001b[38;5;241;43m.\u001b[39;49m\u001b[43mconnect\u001b[49m\u001b[43m(\u001b[49m\u001b[43msa\u001b[49m\u001b[43m)\u001b[49m\n\u001b[1;32m     86\u001b[0m \u001b[38;5;28;01mreturn\u001b[39;00m sock\n",
      "\u001b[0;31mConnectionRefusedError\u001b[0m: [Errno 61] Connection refused",
      "\nDuring handling of the above exception, another exception occurred:\n",
      "\u001b[0;31mNewConnectionError\u001b[0m                        Traceback (most recent call last)",
      "File \u001b[0;32m~/Library/Caches/pypoetry/virtualenvs/lawinprogress-XEGUYkFo-py3.9/lib/python3.9/site-packages/urllib3/connectionpool.py:703\u001b[0m, in \u001b[0;36mHTTPConnectionPool.urlopen\u001b[0;34m(self, method, url, body, headers, retries, redirect, assert_same_host, timeout, pool_timeout, release_conn, chunked, body_pos, **response_kw)\u001b[0m\n\u001b[1;32m    702\u001b[0m \u001b[38;5;66;03m# Make the request on the httplib connection object.\u001b[39;00m\n\u001b[0;32m--> 703\u001b[0m httplib_response \u001b[38;5;241m=\u001b[39m \u001b[38;5;28;43mself\u001b[39;49m\u001b[38;5;241;43m.\u001b[39;49m\u001b[43m_make_request\u001b[49m\u001b[43m(\u001b[49m\n\u001b[1;32m    704\u001b[0m \u001b[43m    \u001b[49m\u001b[43mconn\u001b[49m\u001b[43m,\u001b[49m\n\u001b[1;32m    705\u001b[0m \u001b[43m    \u001b[49m\u001b[43mmethod\u001b[49m\u001b[43m,\u001b[49m\n\u001b[1;32m    706\u001b[0m \u001b[43m    \u001b[49m\u001b[43murl\u001b[49m\u001b[43m,\u001b[49m\n\u001b[1;32m    707\u001b[0m \u001b[43m    \u001b[49m\u001b[43mtimeout\u001b[49m\u001b[38;5;241;43m=\u001b[39;49m\u001b[43mtimeout_obj\u001b[49m\u001b[43m,\u001b[49m\n\u001b[1;32m    708\u001b[0m \u001b[43m    \u001b[49m\u001b[43mbody\u001b[49m\u001b[38;5;241;43m=\u001b[39;49m\u001b[43mbody\u001b[49m\u001b[43m,\u001b[49m\n\u001b[1;32m    709\u001b[0m \u001b[43m    \u001b[49m\u001b[43mheaders\u001b[49m\u001b[38;5;241;43m=\u001b[39;49m\u001b[43mheaders\u001b[49m\u001b[43m,\u001b[49m\n\u001b[1;32m    710\u001b[0m \u001b[43m    \u001b[49m\u001b[43mchunked\u001b[49m\u001b[38;5;241;43m=\u001b[39;49m\u001b[43mchunked\u001b[49m\u001b[43m,\u001b[49m\n\u001b[1;32m    711\u001b[0m \u001b[43m\u001b[49m\u001b[43m)\u001b[49m\n\u001b[1;32m    713\u001b[0m \u001b[38;5;66;03m# If we're going to release the connection in ``finally:``, then\u001b[39;00m\n\u001b[1;32m    714\u001b[0m \u001b[38;5;66;03m# the response doesn't need to know about the connection. Otherwise\u001b[39;00m\n\u001b[1;32m    715\u001b[0m \u001b[38;5;66;03m# it will also try to release it and we'll have a double-release\u001b[39;00m\n\u001b[1;32m    716\u001b[0m \u001b[38;5;66;03m# mess.\u001b[39;00m\n",
      "File \u001b[0;32m~/Library/Caches/pypoetry/virtualenvs/lawinprogress-XEGUYkFo-py3.9/lib/python3.9/site-packages/urllib3/connectionpool.py:386\u001b[0m, in \u001b[0;36mHTTPConnectionPool._make_request\u001b[0;34m(self, conn, method, url, timeout, chunked, **httplib_request_kw)\u001b[0m\n\u001b[1;32m    385\u001b[0m \u001b[38;5;28;01mtry\u001b[39;00m:\n\u001b[0;32m--> 386\u001b[0m     \u001b[38;5;28;43mself\u001b[39;49m\u001b[38;5;241;43m.\u001b[39;49m\u001b[43m_validate_conn\u001b[49m\u001b[43m(\u001b[49m\u001b[43mconn\u001b[49m\u001b[43m)\u001b[49m\n\u001b[1;32m    387\u001b[0m \u001b[38;5;28;01mexcept\u001b[39;00m (SocketTimeout, BaseSSLError) \u001b[38;5;28;01mas\u001b[39;00m e:\n\u001b[1;32m    388\u001b[0m     \u001b[38;5;66;03m# Py2 raises this as a BaseSSLError, Py3 raises it as socket timeout.\u001b[39;00m\n",
      "File \u001b[0;32m~/Library/Caches/pypoetry/virtualenvs/lawinprogress-XEGUYkFo-py3.9/lib/python3.9/site-packages/urllib3/connectionpool.py:1040\u001b[0m, in \u001b[0;36mHTTPSConnectionPool._validate_conn\u001b[0;34m(self, conn)\u001b[0m\n\u001b[1;32m   1039\u001b[0m \u001b[38;5;28;01mif\u001b[39;00m \u001b[38;5;129;01mnot\u001b[39;00m \u001b[38;5;28mgetattr\u001b[39m(conn, \u001b[38;5;124m\"\u001b[39m\u001b[38;5;124msock\u001b[39m\u001b[38;5;124m\"\u001b[39m, \u001b[38;5;28;01mNone\u001b[39;00m):  \u001b[38;5;66;03m# AppEngine might not have  `.sock`\u001b[39;00m\n\u001b[0;32m-> 1040\u001b[0m     \u001b[43mconn\u001b[49m\u001b[38;5;241;43m.\u001b[39;49m\u001b[43mconnect\u001b[49m\u001b[43m(\u001b[49m\u001b[43m)\u001b[49m\n\u001b[1;32m   1042\u001b[0m \u001b[38;5;28;01mif\u001b[39;00m \u001b[38;5;129;01mnot\u001b[39;00m conn\u001b[38;5;241m.\u001b[39mis_verified:\n",
      "File \u001b[0;32m~/Library/Caches/pypoetry/virtualenvs/lawinprogress-XEGUYkFo-py3.9/lib/python3.9/site-packages/urllib3/connection.py:358\u001b[0m, in \u001b[0;36mHTTPSConnection.connect\u001b[0;34m(self)\u001b[0m\n\u001b[1;32m    356\u001b[0m \u001b[38;5;28;01mdef\u001b[39;00m \u001b[38;5;21mconnect\u001b[39m(\u001b[38;5;28mself\u001b[39m):\n\u001b[1;32m    357\u001b[0m     \u001b[38;5;66;03m# Add certificate verification\u001b[39;00m\n\u001b[0;32m--> 358\u001b[0m     conn \u001b[38;5;241m=\u001b[39m \u001b[38;5;28;43mself\u001b[39;49m\u001b[38;5;241;43m.\u001b[39;49m\u001b[43m_new_conn\u001b[49m\u001b[43m(\u001b[49m\u001b[43m)\u001b[49m\n\u001b[1;32m    359\u001b[0m     hostname \u001b[38;5;241m=\u001b[39m \u001b[38;5;28mself\u001b[39m\u001b[38;5;241m.\u001b[39mhost\n",
      "File \u001b[0;32m~/Library/Caches/pypoetry/virtualenvs/lawinprogress-XEGUYkFo-py3.9/lib/python3.9/site-packages/urllib3/connection.py:186\u001b[0m, in \u001b[0;36mHTTPConnection._new_conn\u001b[0;34m(self)\u001b[0m\n\u001b[1;32m    185\u001b[0m \u001b[38;5;28;01mexcept\u001b[39;00m SocketError \u001b[38;5;28;01mas\u001b[39;00m e:\n\u001b[0;32m--> 186\u001b[0m     \u001b[38;5;28;01mraise\u001b[39;00m NewConnectionError(\n\u001b[1;32m    187\u001b[0m         \u001b[38;5;28mself\u001b[39m, \u001b[38;5;124m\"\u001b[39m\u001b[38;5;124mFailed to establish a new connection: \u001b[39m\u001b[38;5;132;01m%s\u001b[39;00m\u001b[38;5;124m\"\u001b[39m \u001b[38;5;241m%\u001b[39m e\n\u001b[1;32m    188\u001b[0m     )\n\u001b[1;32m    190\u001b[0m \u001b[38;5;28;01mreturn\u001b[39;00m conn\n",
      "\u001b[0;31mNewConnectionError\u001b[0m: <urllib3.connection.HTTPSConnection object at 0x12567f0a0>: Failed to establish a new connection: [Errno 61] Connection refused",
      "\nDuring handling of the above exception, another exception occurred:\n",
      "\u001b[0;31mMaxRetryError\u001b[0m                             Traceback (most recent call last)",
      "File \u001b[0;32m~/Library/Caches/pypoetry/virtualenvs/lawinprogress-XEGUYkFo-py3.9/lib/python3.9/site-packages/requests/adapters.py:440\u001b[0m, in \u001b[0;36mHTTPAdapter.send\u001b[0;34m(self, request, stream, timeout, verify, cert, proxies)\u001b[0m\n\u001b[1;32m    439\u001b[0m \u001b[38;5;28;01mif\u001b[39;00m \u001b[38;5;129;01mnot\u001b[39;00m chunked:\n\u001b[0;32m--> 440\u001b[0m     resp \u001b[38;5;241m=\u001b[39m \u001b[43mconn\u001b[49m\u001b[38;5;241;43m.\u001b[39;49m\u001b[43murlopen\u001b[49m\u001b[43m(\u001b[49m\n\u001b[1;32m    441\u001b[0m \u001b[43m        \u001b[49m\u001b[43mmethod\u001b[49m\u001b[38;5;241;43m=\u001b[39;49m\u001b[43mrequest\u001b[49m\u001b[38;5;241;43m.\u001b[39;49m\u001b[43mmethod\u001b[49m\u001b[43m,\u001b[49m\n\u001b[1;32m    442\u001b[0m \u001b[43m        \u001b[49m\u001b[43murl\u001b[49m\u001b[38;5;241;43m=\u001b[39;49m\u001b[43murl\u001b[49m\u001b[43m,\u001b[49m\n\u001b[1;32m    443\u001b[0m \u001b[43m        \u001b[49m\u001b[43mbody\u001b[49m\u001b[38;5;241;43m=\u001b[39;49m\u001b[43mrequest\u001b[49m\u001b[38;5;241;43m.\u001b[39;49m\u001b[43mbody\u001b[49m\u001b[43m,\u001b[49m\n\u001b[1;32m    444\u001b[0m \u001b[43m        \u001b[49m\u001b[43mheaders\u001b[49m\u001b[38;5;241;43m=\u001b[39;49m\u001b[43mrequest\u001b[49m\u001b[38;5;241;43m.\u001b[39;49m\u001b[43mheaders\u001b[49m\u001b[43m,\u001b[49m\n\u001b[1;32m    445\u001b[0m \u001b[43m        \u001b[49m\u001b[43mredirect\u001b[49m\u001b[38;5;241;43m=\u001b[39;49m\u001b[38;5;28;43;01mFalse\u001b[39;49;00m\u001b[43m,\u001b[49m\n\u001b[1;32m    446\u001b[0m \u001b[43m        \u001b[49m\u001b[43massert_same_host\u001b[49m\u001b[38;5;241;43m=\u001b[39;49m\u001b[38;5;28;43;01mFalse\u001b[39;49;00m\u001b[43m,\u001b[49m\n\u001b[1;32m    447\u001b[0m \u001b[43m        \u001b[49m\u001b[43mpreload_content\u001b[49m\u001b[38;5;241;43m=\u001b[39;49m\u001b[38;5;28;43;01mFalse\u001b[39;49;00m\u001b[43m,\u001b[49m\n\u001b[1;32m    448\u001b[0m \u001b[43m        \u001b[49m\u001b[43mdecode_content\u001b[49m\u001b[38;5;241;43m=\u001b[39;49m\u001b[38;5;28;43;01mFalse\u001b[39;49;00m\u001b[43m,\u001b[49m\n\u001b[1;32m    449\u001b[0m \u001b[43m        \u001b[49m\u001b[43mretries\u001b[49m\u001b[38;5;241;43m=\u001b[39;49m\u001b[38;5;28;43mself\u001b[39;49m\u001b[38;5;241;43m.\u001b[39;49m\u001b[43mmax_retries\u001b[49m\u001b[43m,\u001b[49m\n\u001b[1;32m    450\u001b[0m \u001b[43m        \u001b[49m\u001b[43mtimeout\u001b[49m\u001b[38;5;241;43m=\u001b[39;49m\u001b[43mtimeout\u001b[49m\n\u001b[1;32m    451\u001b[0m \u001b[43m    \u001b[49m\u001b[43m)\u001b[49m\n\u001b[1;32m    453\u001b[0m \u001b[38;5;66;03m# Send the request.\u001b[39;00m\n\u001b[1;32m    454\u001b[0m \u001b[38;5;28;01melse\u001b[39;00m:\n",
      "File \u001b[0;32m~/Library/Caches/pypoetry/virtualenvs/lawinprogress-XEGUYkFo-py3.9/lib/python3.9/site-packages/urllib3/connectionpool.py:785\u001b[0m, in \u001b[0;36mHTTPConnectionPool.urlopen\u001b[0;34m(self, method, url, body, headers, retries, redirect, assert_same_host, timeout, pool_timeout, release_conn, chunked, body_pos, **response_kw)\u001b[0m\n\u001b[1;32m    783\u001b[0m     e \u001b[38;5;241m=\u001b[39m ProtocolError(\u001b[38;5;124m\"\u001b[39m\u001b[38;5;124mConnection aborted.\u001b[39m\u001b[38;5;124m\"\u001b[39m, e)\n\u001b[0;32m--> 785\u001b[0m retries \u001b[38;5;241m=\u001b[39m \u001b[43mretries\u001b[49m\u001b[38;5;241;43m.\u001b[39;49m\u001b[43mincrement\u001b[49m\u001b[43m(\u001b[49m\n\u001b[1;32m    786\u001b[0m \u001b[43m    \u001b[49m\u001b[43mmethod\u001b[49m\u001b[43m,\u001b[49m\u001b[43m \u001b[49m\u001b[43murl\u001b[49m\u001b[43m,\u001b[49m\u001b[43m \u001b[49m\u001b[43merror\u001b[49m\u001b[38;5;241;43m=\u001b[39;49m\u001b[43me\u001b[49m\u001b[43m,\u001b[49m\u001b[43m \u001b[49m\u001b[43m_pool\u001b[49m\u001b[38;5;241;43m=\u001b[39;49m\u001b[38;5;28;43mself\u001b[39;49m\u001b[43m,\u001b[49m\u001b[43m \u001b[49m\u001b[43m_stacktrace\u001b[49m\u001b[38;5;241;43m=\u001b[39;49m\u001b[43msys\u001b[49m\u001b[38;5;241;43m.\u001b[39;49m\u001b[43mexc_info\u001b[49m\u001b[43m(\u001b[49m\u001b[43m)\u001b[49m\u001b[43m[\u001b[49m\u001b[38;5;241;43m2\u001b[39;49m\u001b[43m]\u001b[49m\n\u001b[1;32m    787\u001b[0m \u001b[43m\u001b[49m\u001b[43m)\u001b[49m\n\u001b[1;32m    788\u001b[0m retries\u001b[38;5;241m.\u001b[39msleep()\n",
      "File \u001b[0;32m~/Library/Caches/pypoetry/virtualenvs/lawinprogress-XEGUYkFo-py3.9/lib/python3.9/site-packages/urllib3/util/retry.py:592\u001b[0m, in \u001b[0;36mRetry.increment\u001b[0;34m(self, method, url, response, error, _pool, _stacktrace)\u001b[0m\n\u001b[1;32m    591\u001b[0m \u001b[38;5;28;01mif\u001b[39;00m new_retry\u001b[38;5;241m.\u001b[39mis_exhausted():\n\u001b[0;32m--> 592\u001b[0m     \u001b[38;5;28;01mraise\u001b[39;00m MaxRetryError(_pool, url, error \u001b[38;5;129;01mor\u001b[39;00m ResponseError(cause))\n\u001b[1;32m    594\u001b[0m log\u001b[38;5;241m.\u001b[39mdebug(\u001b[38;5;124m\"\u001b[39m\u001b[38;5;124mIncremented Retry for (url=\u001b[39m\u001b[38;5;124m'\u001b[39m\u001b[38;5;132;01m%s\u001b[39;00m\u001b[38;5;124m'\u001b[39m\u001b[38;5;124m): \u001b[39m\u001b[38;5;132;01m%r\u001b[39;00m\u001b[38;5;124m\"\u001b[39m, url, new_retry)\n",
      "\u001b[0;31mMaxRetryError\u001b[0m: HTTPSConnectionPool(host='api.rechtsinformationsportal.de', port=443): Max retries exceeded with url: /v1/laws/promechg?include=contents (Caused by NewConnectionError('<urllib3.connection.HTTPSConnection object at 0x12567f0a0>: Failed to establish a new connection: [Errno 61] Connection refused'))",
      "\nDuring handling of the above exception, another exception occurred:\n",
      "\u001b[0;31mConnectionError\u001b[0m                           Traceback (most recent call last)",
      "Input \u001b[0;32mIn [43]\u001b[0m, in \u001b[0;36m<module>\u001b[0;34m\u001b[0m\n\u001b[1;32m      2\u001b[0m slug \u001b[38;5;241m=\u001b[39m rechtsinformationsportal_df\u001b[38;5;241m.\u001b[39mslug[\u001b[38;5;241m0\u001b[39m]\n\u001b[1;32m      3\u001b[0m \u001b[38;5;28;01mfor\u001b[39;00m slug \u001b[38;5;129;01min\u001b[39;00m rechtsinformationsportal_df\u001b[38;5;241m.\u001b[39mslug:\n\u001b[0;32m----> 4\u001b[0m     Ri_slugs_response\u001b[38;5;241m.\u001b[39mappend(\u001b[43mrequests\u001b[49m\u001b[38;5;241;43m.\u001b[39;49m\u001b[43mget\u001b[49m\u001b[43m(\u001b[49m\u001b[38;5;124;43m\"\u001b[39;49m\u001b[38;5;124;43mhttps://api.rechtsinformationsportal.de/v1/laws/\u001b[39;49m\u001b[38;5;124;43m\"\u001b[39;49m\u001b[38;5;241;43m+\u001b[39;49m\u001b[43mslug\u001b[49m\u001b[38;5;241;43m+\u001b[39;49m\u001b[38;5;124;43m\"\u001b[39;49m\u001b[38;5;124;43m?include=contents\u001b[39;49m\u001b[38;5;124;43m\"\u001b[39;49m\u001b[43m)\u001b[49m)\n",
      "File \u001b[0;32m~/Library/Caches/pypoetry/virtualenvs/lawinprogress-XEGUYkFo-py3.9/lib/python3.9/site-packages/requests/api.py:75\u001b[0m, in \u001b[0;36mget\u001b[0;34m(url, params, **kwargs)\u001b[0m\n\u001b[1;32m     64\u001b[0m \u001b[38;5;28;01mdef\u001b[39;00m \u001b[38;5;21mget\u001b[39m(url, params\u001b[38;5;241m=\u001b[39m\u001b[38;5;28;01mNone\u001b[39;00m, \u001b[38;5;241m*\u001b[39m\u001b[38;5;241m*\u001b[39mkwargs):\n\u001b[1;32m     65\u001b[0m     \u001b[38;5;124mr\u001b[39m\u001b[38;5;124;03m\"\"\"Sends a GET request.\u001b[39;00m\n\u001b[1;32m     66\u001b[0m \n\u001b[1;32m     67\u001b[0m \u001b[38;5;124;03m    :param url: URL for the new :class:`Request` object.\u001b[39;00m\n\u001b[0;32m   (...)\u001b[0m\n\u001b[1;32m     72\u001b[0m \u001b[38;5;124;03m    :rtype: requests.Response\u001b[39;00m\n\u001b[1;32m     73\u001b[0m \u001b[38;5;124;03m    \"\"\"\u001b[39;00m\n\u001b[0;32m---> 75\u001b[0m     \u001b[38;5;28;01mreturn\u001b[39;00m \u001b[43mrequest\u001b[49m\u001b[43m(\u001b[49m\u001b[38;5;124;43m'\u001b[39;49m\u001b[38;5;124;43mget\u001b[39;49m\u001b[38;5;124;43m'\u001b[39;49m\u001b[43m,\u001b[49m\u001b[43m \u001b[49m\u001b[43murl\u001b[49m\u001b[43m,\u001b[49m\u001b[43m \u001b[49m\u001b[43mparams\u001b[49m\u001b[38;5;241;43m=\u001b[39;49m\u001b[43mparams\u001b[49m\u001b[43m,\u001b[49m\u001b[43m \u001b[49m\u001b[38;5;241;43m*\u001b[39;49m\u001b[38;5;241;43m*\u001b[39;49m\u001b[43mkwargs\u001b[49m\u001b[43m)\u001b[49m\n",
      "File \u001b[0;32m~/Library/Caches/pypoetry/virtualenvs/lawinprogress-XEGUYkFo-py3.9/lib/python3.9/site-packages/requests/api.py:61\u001b[0m, in \u001b[0;36mrequest\u001b[0;34m(method, url, **kwargs)\u001b[0m\n\u001b[1;32m     57\u001b[0m \u001b[38;5;66;03m# By using the 'with' statement we are sure the session is closed, thus we\u001b[39;00m\n\u001b[1;32m     58\u001b[0m \u001b[38;5;66;03m# avoid leaving sockets open which can trigger a ResourceWarning in some\u001b[39;00m\n\u001b[1;32m     59\u001b[0m \u001b[38;5;66;03m# cases, and look like a memory leak in others.\u001b[39;00m\n\u001b[1;32m     60\u001b[0m \u001b[38;5;28;01mwith\u001b[39;00m sessions\u001b[38;5;241m.\u001b[39mSession() \u001b[38;5;28;01mas\u001b[39;00m session:\n\u001b[0;32m---> 61\u001b[0m     \u001b[38;5;28;01mreturn\u001b[39;00m \u001b[43msession\u001b[49m\u001b[38;5;241;43m.\u001b[39;49m\u001b[43mrequest\u001b[49m\u001b[43m(\u001b[49m\u001b[43mmethod\u001b[49m\u001b[38;5;241;43m=\u001b[39;49m\u001b[43mmethod\u001b[49m\u001b[43m,\u001b[49m\u001b[43m \u001b[49m\u001b[43murl\u001b[49m\u001b[38;5;241;43m=\u001b[39;49m\u001b[43murl\u001b[49m\u001b[43m,\u001b[49m\u001b[43m \u001b[49m\u001b[38;5;241;43m*\u001b[39;49m\u001b[38;5;241;43m*\u001b[39;49m\u001b[43mkwargs\u001b[49m\u001b[43m)\u001b[49m\n",
      "File \u001b[0;32m~/Library/Caches/pypoetry/virtualenvs/lawinprogress-XEGUYkFo-py3.9/lib/python3.9/site-packages/requests/sessions.py:529\u001b[0m, in \u001b[0;36mSession.request\u001b[0;34m(self, method, url, params, data, headers, cookies, files, auth, timeout, allow_redirects, proxies, hooks, stream, verify, cert, json)\u001b[0m\n\u001b[1;32m    524\u001b[0m send_kwargs \u001b[38;5;241m=\u001b[39m {\n\u001b[1;32m    525\u001b[0m     \u001b[38;5;124m'\u001b[39m\u001b[38;5;124mtimeout\u001b[39m\u001b[38;5;124m'\u001b[39m: timeout,\n\u001b[1;32m    526\u001b[0m     \u001b[38;5;124m'\u001b[39m\u001b[38;5;124mallow_redirects\u001b[39m\u001b[38;5;124m'\u001b[39m: allow_redirects,\n\u001b[1;32m    527\u001b[0m }\n\u001b[1;32m    528\u001b[0m send_kwargs\u001b[38;5;241m.\u001b[39mupdate(settings)\n\u001b[0;32m--> 529\u001b[0m resp \u001b[38;5;241m=\u001b[39m \u001b[38;5;28;43mself\u001b[39;49m\u001b[38;5;241;43m.\u001b[39;49m\u001b[43msend\u001b[49m\u001b[43m(\u001b[49m\u001b[43mprep\u001b[49m\u001b[43m,\u001b[49m\u001b[43m \u001b[49m\u001b[38;5;241;43m*\u001b[39;49m\u001b[38;5;241;43m*\u001b[39;49m\u001b[43msend_kwargs\u001b[49m\u001b[43m)\u001b[49m\n\u001b[1;32m    531\u001b[0m \u001b[38;5;28;01mreturn\u001b[39;00m resp\n",
      "File \u001b[0;32m~/Library/Caches/pypoetry/virtualenvs/lawinprogress-XEGUYkFo-py3.9/lib/python3.9/site-packages/requests/sessions.py:645\u001b[0m, in \u001b[0;36mSession.send\u001b[0;34m(self, request, **kwargs)\u001b[0m\n\u001b[1;32m    642\u001b[0m start \u001b[38;5;241m=\u001b[39m preferred_clock()\n\u001b[1;32m    644\u001b[0m \u001b[38;5;66;03m# Send the request\u001b[39;00m\n\u001b[0;32m--> 645\u001b[0m r \u001b[38;5;241m=\u001b[39m \u001b[43madapter\u001b[49m\u001b[38;5;241;43m.\u001b[39;49m\u001b[43msend\u001b[49m\u001b[43m(\u001b[49m\u001b[43mrequest\u001b[49m\u001b[43m,\u001b[49m\u001b[43m \u001b[49m\u001b[38;5;241;43m*\u001b[39;49m\u001b[38;5;241;43m*\u001b[39;49m\u001b[43mkwargs\u001b[49m\u001b[43m)\u001b[49m\n\u001b[1;32m    647\u001b[0m \u001b[38;5;66;03m# Total elapsed time of the request (approximately)\u001b[39;00m\n\u001b[1;32m    648\u001b[0m elapsed \u001b[38;5;241m=\u001b[39m preferred_clock() \u001b[38;5;241m-\u001b[39m start\n",
      "File \u001b[0;32m~/Library/Caches/pypoetry/virtualenvs/lawinprogress-XEGUYkFo-py3.9/lib/python3.9/site-packages/requests/adapters.py:519\u001b[0m, in \u001b[0;36mHTTPAdapter.send\u001b[0;34m(self, request, stream, timeout, verify, cert, proxies)\u001b[0m\n\u001b[1;32m    515\u001b[0m     \u001b[38;5;28;01mif\u001b[39;00m \u001b[38;5;28misinstance\u001b[39m(e\u001b[38;5;241m.\u001b[39mreason, _SSLError):\n\u001b[1;32m    516\u001b[0m         \u001b[38;5;66;03m# This branch is for urllib3 v1.22 and later.\u001b[39;00m\n\u001b[1;32m    517\u001b[0m         \u001b[38;5;28;01mraise\u001b[39;00m SSLError(e, request\u001b[38;5;241m=\u001b[39mrequest)\n\u001b[0;32m--> 519\u001b[0m     \u001b[38;5;28;01mraise\u001b[39;00m \u001b[38;5;167;01mConnectionError\u001b[39;00m(e, request\u001b[38;5;241m=\u001b[39mrequest)\n\u001b[1;32m    521\u001b[0m \u001b[38;5;28;01mexcept\u001b[39;00m ClosedPoolError \u001b[38;5;28;01mas\u001b[39;00m e:\n\u001b[1;32m    522\u001b[0m     \u001b[38;5;28;01mraise\u001b[39;00m \u001b[38;5;167;01mConnectionError\u001b[39;00m(e, request\u001b[38;5;241m=\u001b[39mrequest)\n",
      "\u001b[0;31mConnectionError\u001b[0m: HTTPSConnectionPool(host='api.rechtsinformationsportal.de', port=443): Max retries exceeded with url: /v1/laws/promechg?include=contents (Caused by NewConnectionError('<urllib3.connection.HTTPSConnection object at 0x12567f0a0>: Failed to establish a new connection: [Errno 61] Connection refused'))"
     ]
    }
   ],
   "source": [
    "Ri_slugs_response = []\n",
    "slug = rechtsinformationsportal_df.slug[0]\n",
    "for slug in rechtsinformationsportal_df.slug:\n",
    "    Ri_slugs_response.append(\n",
    "        requests.get(\n",
    "            \"https://api.rechtsinformationsportal.de/v1/laws/\"\n",
    "            + slug\n",
    "            + \"?include=contents\"\n",
    "        )\n",
    "    )"
   ]
  },
  {
   "cell_type": "code",
   "execution_count": 51,
   "id": "3b521bca-0099-40bf-92d3-774873803ba2",
   "metadata": {},
   "outputs": [
    {
     "name": "stdout",
     "output_type": "stream",
     "text": [
      "{\n",
      "    \"data\": {\n",
      "        \"type\": \"law\",\n",
      "        \"id\": \"BJNR431500013\",\n",
      "        \"url\": \"https://api.rechtsinformationsportal.de/v1/laws/albeitrbek_2014\",\n",
      "        \"firstPublished\": \"2013-12-19\",\n",
      "        \"sourceTimestamp\": \"20140102220010\",\n",
      "        \"titleShort\": null,\n",
      "        \"titleLong\": \"Bekanntmachung der Beitr\\u00e4ge und der Beitragszusch\\u00fcsse in der Alterssicherung der Landwirte f\\u00fcr das Jahr 2014\",\n",
      "        \"abbreviation\": \"ALBeitrBek 2014\",\n",
      "        \"slug\": \"albeitrbek_2014\",\n",
      "        \"extraAbbreviations\": [],\n",
      "        \"publicationInfo\": [\n",
      "            {\n",
      "                \"reference\": \"2013, 4315\",\n",
      "                \"periodical\": \"BGBl I\"\n",
      "            }\n",
      "        ],\n",
      "        \"statusInfo\": [],\n",
      "        \"notes\": {\n",
      "            \"body\": null,\n",
      "            \"footnotes\": null,\n",
      "            \"documentaryFootnotes\": \"<P><BR/> <pre xml:space=\\\"preserve\\\">(+++ Textnachweis ab: 20.12.2013 +++) <BR/><BR/></pre></P>\"\n",
      "        },\n",
      "        \"attachments\": {},\n",
      "        \"contents\": [\n",
      "            {\n",
      "                \"type\": \"article\",\n",
      "                \"id\": \"BJNR431500013BJNE000100000\",\n",
      "                \"url\": \"https://api.rechtsinformationsportal.de/v1/laws/albeitrbek_2014/articles/BJNR431500013BJNE000100000\",\n",
      "                \"name\": \"(XXXX)\",\n",
      "                \"title\": null,\n",
      "                \"parent\": null,\n",
      "                \"body\": \"<P>Auf Grund des \\u00a7 33 Absatz 1 und der \\u00a7\\u00a7 68, 114 und 120 des Gesetzes \\u00fcber die Alterssicherung der Landwirte, von denen \\u00a7 33 Absatz 1 und \\u00a7 68 zuletzt durch Artikel 17 Nummer 13 und 23 ge\\u00e4ndert und die \\u00a7\\u00a7 114 und 120 durch Artikel 17 Nummer 36 und 38 des Gesetzes vom 20. April 2007 (BGBl. I S. 554) neu gefasst worden sind, wird bekannt gemacht:</P><P><DL Font=\\\"normal\\\" Type=\\\"arabic\\\"><DT>1.</DT><DD Font=\\\"normal\\\"><LA Size=\\\"normal\\\">Der Beitrag in der Alterssicherung der Landwirte betr\\u00e4gt f\\u00fcr das Kalenderjahr 2014 monatlich 227 Euro.</LA></DD><DT>2.</DT><DD Font=\\\"normal\\\"><LA Size=\\\"normal\\\">Der Beitrag in der Alterssicherung der Landwirte betr\\u00e4gt f\\u00fcr das Beitrittsgebiet f\\u00fcr das Kalenderjahr 2014 monatlich 192 Euro.</LA></DD><DT>3.</DT><DD Font=\\\"normal\\\"><LA Size=\\\"normal\\\">Der monatliche Zuschussbetrag f\\u00fcr das Kalenderjahr 2014 wird wie folgt festgesetzt: <table frame=\\\"top\\\" pgwide=\\\"0\\\" tocentry=\\\"%yes;\\\"><tgroup align=\\\"center\\\" char=\\\"\\\" charoff=\\\"50\\\" cols=\\\"2\\\"><colspec align=\\\"center\\\" colname=\\\"col1\\\" colnum=\\\"1\\\" colwidth=\\\"4*\\\"/><colspec align=\\\"center\\\" colname=\\\"col2\\\" colnum=\\\"2\\\" colwidth=\\\"2*\\\"/><thead valign=\\\"bottom\\\"><row><entry VJ=\\\"1\\\" colname=\\\"col1\\\" colsep=\\\"1\\\" rowsep=\\\"1\\\" valign=\\\"middle\\\">Einkommensklasse</entry><entry VJ=\\\"1\\\" align=\\\"center\\\" colname=\\\"col2\\\" rowsep=\\\"1\\\" valign=\\\"middle\\\">monatlicher<BR/> Zuschussbetrag</entry></row></thead><tbody valign=\\\"top\\\"><row><entry VJ=\\\"1\\\" align=\\\"center\\\" colname=\\\"col1\\\" colsep=\\\"0\\\" rowsep=\\\"0\\\">bis \\u00a0\\u00a0\\u00a0\\u00a0\\u00a0\\u00a08\\u00a0220 Euro</entry><entry VJ=\\\"1\\\" colname=\\\"col2\\\" rowsep=\\\"0\\\">136 Euro,</entry></row><row><entry VJ=\\\"1\\\" colname=\\\"col1\\\" colsep=\\\"0\\\" rowsep=\\\"0\\\">\\u00a08\\u00a0221 bis \\u00a08\\u00a0740 Euro</entry><entry VJ=\\\"1\\\" colname=\\\"col2\\\" rowsep=\\\"0\\\">127 Euro,</entry></row><row><entry VJ=\\\"1\\\" colname=\\\"col1\\\" colsep=\\\"0\\\" rowsep=\\\"0\\\">\\u00a08\\u00a0741 bis \\u00a09\\u00a0260 Euro</entry><entry VJ=\\\"1\\\" colname=\\\"col2\\\" rowsep=\\\"0\\\">118 Euro,</entry></row><row><entry VJ=\\\"1\\\" colname=\\\"col1\\\" colsep=\\\"0\\\" rowsep=\\\"0\\\">\\u00a09\\u00a0261 bis \\u00a09\\u00a0780 Euro</entry><entry VJ=\\\"1\\\" colname=\\\"col2\\\" rowsep=\\\"0\\\">109 Euro,</entry></row><row><entry VJ=\\\"1\\\" colname=\\\"col1\\\" colsep=\\\"0\\\" rowsep=\\\"0\\\">\\u00a09\\u00a0781 bis 10\\u00a0300 Euro</entry><entry VJ=\\\"1\\\" colname=\\\"col2\\\" rowsep=\\\"0\\\">100 Euro,</entry></row><row><entry VJ=\\\"1\\\" colname=\\\"col1\\\" colsep=\\\"0\\\" rowsep=\\\"0\\\">10\\u00a0301 bis 10\\u00a0820 Euro</entry><entry VJ=\\\"1\\\" colname=\\\"col2\\\" rowsep=\\\"0\\\">\\u00a091 Euro,</entry></row><row><entry VJ=\\\"1\\\" colname=\\\"col1\\\" colsep=\\\"0\\\" rowsep=\\\"0\\\">10\\u00a0821 bis 11\\u00a0340 Euro</entry><entry VJ=\\\"1\\\" colname=\\\"col2\\\" rowsep=\\\"0\\\">\\u00a082 Euro,</entry></row><row><entry VJ=\\\"1\\\" colname=\\\"col1\\\" colsep=\\\"0\\\" rowsep=\\\"0\\\">11\\u00a0341 bis 11\\u00a0860 Euro</entry><entry VJ=\\\"1\\\" colname=\\\"col2\\\" rowsep=\\\"0\\\">\\u00a073 Euro,</entry></row><row><entry VJ=\\\"1\\\" colname=\\\"col1\\\" colsep=\\\"0\\\" rowsep=\\\"0\\\">11\\u00a0861 bis 12\\u00a0380 Euro</entry><entry VJ=\\\"1\\\" colname=\\\"col2\\\" rowsep=\\\"0\\\">\\u00a064 Euro,</entry></row><row><entry VJ=\\\"1\\\" colname=\\\"col1\\\" colsep=\\\"0\\\" rowsep=\\\"0\\\">12\\u00a0381 bis 12\\u00a0900 Euro</entry><entry VJ=\\\"1\\\" colname=\\\"col2\\\" rowsep=\\\"0\\\">\\u00a054 Euro,</entry></row><row><entry VJ=\\\"1\\\" colname=\\\"col1\\\" colsep=\\\"0\\\" rowsep=\\\"0\\\">12\\u00a0901 bis 13\\u00a0420 Euro</entry><entry VJ=\\\"1\\\" colname=\\\"col2\\\" rowsep=\\\"0\\\">\\u00a045 Euro,</entry></row><row><entry VJ=\\\"1\\\" colname=\\\"col1\\\" colsep=\\\"0\\\" rowsep=\\\"0\\\">13\\u00a0421 bis 13\\u00a0940 Euro</entry><entry VJ=\\\"1\\\" colname=\\\"col2\\\" rowsep=\\\"0\\\">\\u00a036 Euro,</entry></row><row><entry VJ=\\\"1\\\" colname=\\\"col1\\\" colsep=\\\"0\\\" rowsep=\\\"0\\\">13\\u00a0941 bis 14\\u00a0460 Euro</entry><entry VJ=\\\"1\\\" colname=\\\"col2\\\" rowsep=\\\"0\\\">\\u00a027 Euro,</entry></row><row><entry VJ=\\\"1\\\" colname=\\\"col1\\\" colsep=\\\"0\\\" rowsep=\\\"0\\\">14\\u00a0461 bis 14\\u00a0980 Euro</entry><entry VJ=\\\"1\\\" colname=\\\"col2\\\" rowsep=\\\"0\\\">\\u00a018 Euro,</entry></row><row><entry VJ=\\\"1\\\" colname=\\\"col1\\\" colsep=\\\"0\\\">14\\u00a0981 bis 15\\u00a0500 Euro</entry><entry VJ=\\\"1\\\" colname=\\\"col2\\\">\\u00a0\\u00a09 Euro.</entry></row></tbody></tgroup></table></LA></DD><DT>4.</DT><DD Font=\\\"normal\\\"><LA Size=\\\"normal\\\">Der monatliche Zuschussbetrag f\\u00fcr das Beitrittsgebiet f\\u00fcr das Kalenderjahr 2014 wird wie folgt festgesetzt: <table frame=\\\"top\\\" pgwide=\\\"0\\\" tocentry=\\\"%yes;\\\"><tgroup align=\\\"center\\\" char=\\\"\\\" charoff=\\\"50\\\" cols=\\\"2\\\"><colspec align=\\\"center\\\" colname=\\\"col1\\\" colnum=\\\"1\\\" colwidth=\\\"3.97*\\\"/><colspec align=\\\"center\\\" colname=\\\"col2\\\" colnum=\\\"2\\\" colwidth=\\\"2.03*\\\"/><thead valign=\\\"bottom\\\"><row><entry VJ=\\\"1\\\" colname=\\\"col1\\\" colsep=\\\"1\\\" rowsep=\\\"1\\\" valign=\\\"middle\\\">Einkommensklasse</entry><entry VJ=\\\"1\\\" align=\\\"center\\\" colname=\\\"col2\\\" rowsep=\\\"1\\\" valign=\\\"middle\\\">monatlicher<BR/> Zuschussbetrag<BR/> (Ost)</entry></row></thead><tbody valign=\\\"top\\\"><row><entry VJ=\\\"1\\\" align=\\\"center\\\" colname=\\\"col1\\\" colsep=\\\"0\\\" rowsep=\\\"0\\\">bis \\u00a0\\u00a0\\u00a0\\u00a0\\u00a0\\u00a08\\u00a0220 Euro</entry><entry VJ=\\\"1\\\" colname=\\\"col2\\\" rowsep=\\\"0\\\">115 Euro,</entry></row><row><entry VJ=\\\"1\\\" colname=\\\"col1\\\" colsep=\\\"0\\\" rowsep=\\\"0\\\">\\u00a08\\u00a0221 bis \\u00a08\\u00a0740 Euro</entry><entry VJ=\\\"1\\\" colname=\\\"col2\\\" rowsep=\\\"0\\\">108 Euro,</entry></row><row><entry VJ=\\\"1\\\" colname=\\\"col1\\\" colsep=\\\"0\\\" rowsep=\\\"0\\\">\\u00a08\\u00a0741 bis \\u00a09\\u00a0260 Euro</entry><entry VJ=\\\"1\\\" colname=\\\"col2\\\" rowsep=\\\"0\\\">100 Euro,</entry></row><row><entry VJ=\\\"1\\\" colname=\\\"col1\\\" colsep=\\\"0\\\" rowsep=\\\"0\\\">\\u00a09\\u00a0261 bis \\u00a09\\u00a0780 Euro</entry><entry VJ=\\\"1\\\" colname=\\\"col2\\\" rowsep=\\\"0\\\">\\u00a092 Euro,</entry></row><row><entry VJ=\\\"1\\\" colname=\\\"col1\\\" colsep=\\\"0\\\" rowsep=\\\"0\\\">\\u00a09\\u00a0781 bis 10\\u00a0300 Euro</entry><entry VJ=\\\"1\\\" colname=\\\"col2\\\" rowsep=\\\"0\\\">\\u00a084 Euro,</entry></row><row><entry VJ=\\\"1\\\" colname=\\\"col1\\\" colsep=\\\"0\\\" rowsep=\\\"0\\\">10\\u00a0301 bis 10\\u00a0820 Euro</entry><entry VJ=\\\"1\\\" colname=\\\"col2\\\" rowsep=\\\"0\\\">\\u00a077 Euro,</entry></row><row><entry VJ=\\\"1\\\" colname=\\\"col1\\\" colsep=\\\"0\\\" rowsep=\\\"0\\\">10\\u00a0821 bis 11\\u00a0340 Euro</entry><entry VJ=\\\"1\\\" colname=\\\"col2\\\" rowsep=\\\"0\\\">\\u00a069 Euro,</entry></row><row><entry VJ=\\\"1\\\" colname=\\\"col1\\\" colsep=\\\"0\\\" rowsep=\\\"0\\\">11\\u00a0341 bis 11\\u00a0860 Euro</entry><entry VJ=\\\"1\\\" colname=\\\"col2\\\" rowsep=\\\"0\\\">\\u00a061 Euro,</entry></row><row><entry VJ=\\\"1\\\" colname=\\\"col1\\\" colsep=\\\"0\\\" rowsep=\\\"0\\\">11\\u00a0861 bis 12\\u00a0380 Euro</entry><entry VJ=\\\"1\\\" colname=\\\"col2\\\" rowsep=\\\"0\\\">\\u00a054 Euro,</entry></row><row><entry VJ=\\\"1\\\" colname=\\\"col1\\\" colsep=\\\"0\\\" rowsep=\\\"0\\\">12\\u00a0381 bis 12\\u00a0900 Euro</entry><entry VJ=\\\"1\\\" colname=\\\"col2\\\" rowsep=\\\"0\\\">\\u00a046 Euro,</entry></row><row><entry VJ=\\\"1\\\" colname=\\\"col1\\\" colsep=\\\"0\\\" rowsep=\\\"0\\\">12\\u00a0901 bis 13\\u00a0420 Euro</entry><entry VJ=\\\"1\\\" colname=\\\"col2\\\" rowsep=\\\"0\\\">\\u00a038 Euro,</entry></row><row><entry VJ=\\\"1\\\" colname=\\\"col1\\\" colsep=\\\"0\\\" rowsep=\\\"0\\\">13\\u00a0421 bis 13\\u00a0940 Euro</entry><entry VJ=\\\"1\\\" colname=\\\"col2\\\" rowsep=\\\"0\\\">\\u00a031 Euro,</entry></row><row><entry VJ=\\\"1\\\" colname=\\\"col1\\\" colsep=\\\"0\\\" rowsep=\\\"0\\\">13\\u00a0941 bis 14\\u00a0460 Euro</entry><entry VJ=\\\"1\\\" colname=\\\"col2\\\" rowsep=\\\"0\\\">\\u00a023 Euro,</entry></row><row><entry VJ=\\\"1\\\" colname=\\\"col1\\\" colsep=\\\"0\\\" rowsep=\\\"0\\\">14\\u00a0461 bis 14\\u00a0980 Euro</entry><entry VJ=\\\"1\\\" colname=\\\"col2\\\" rowsep=\\\"0\\\">\\u00a015 Euro,</entry></row><row><entry VJ=\\\"1\\\" colname=\\\"col1\\\" colsep=\\\"0\\\">14\\u00a0981 bis 15\\u00a0500 Euro</entry><entry VJ=\\\"1\\\" colname=\\\"col2\\\">\\u00a0\\u00a08 Euro.</entry></row></tbody></tgroup></table></LA></DD></DL></P>\",\n",
      "                \"footnotes\": null,\n",
      "                \"documentaryFootnotes\": null\n",
      "            },\n",
      "            {\n",
      "                \"type\": \"article\",\n",
      "                \"id\": \"BJNR431500013BJNE000200000\",\n",
      "                \"url\": \"https://api.rechtsinformationsportal.de/v1/laws/albeitrbek_2014/articles/BJNR431500013BJNE000200000\",\n",
      "                \"name\": \"Schlussformel\",\n",
      "                \"title\": null,\n",
      "                \"parent\": null,\n",
      "                \"body\": \"<P><SP>Bundesministerium f\\u00fcr Arbeit und Soziales</SP></P>\",\n",
      "                \"footnotes\": null,\n",
      "                \"documentaryFootnotes\": null\n",
      "            }\n",
      "        ]\n",
      "    }\n",
      "}\n"
     ]
    }
   ],
   "source": [
    "jprint(Ri_slugs_response[-3].json())"
   ]
  },
  {
   "cell_type": "code",
   "execution_count": 52,
   "id": "7bac3456-452f-46a3-a77c-ec76a53926d9",
   "metadata": {},
   "outputs": [],
   "source": [
    "Ri_slugs_response = [\n",
    "    (Ri_slugs_response[page].json()[\"data\"]) for page in range(0, x + 1)\n",
    "]"
   ]
  },
  {
   "cell_type": "code",
   "execution_count": 53,
   "id": "cd562bcd-75f1-4ee2-b90f-87b5b6e8c392",
   "metadata": {},
   "outputs": [],
   "source": [
    "with open(\"../data/source_laws/rechtsinformationsportalAPI_laws.json\", \"w\") as file:\n",
    "    json.dump(Ri_slugs_response, file)"
   ]
  },
  {
   "cell_type": "code",
   "execution_count": 54,
   "id": "3397876f-8609-4afd-8726-56465fe8c560",
   "metadata": {},
   "outputs": [
    {
     "data": {
      "text/plain": [
       "688"
      ]
     },
     "execution_count": 54,
     "metadata": {},
     "output_type": "execute_result"
    }
   ],
   "source": [
    "len(Ri_slugs_response)"
   ]
  },
  {
   "cell_type": "code",
   "execution_count": 66,
   "id": "6712d16a-6420-4e14-aecf-8f7213425d27",
   "metadata": {},
   "outputs": [
    {
     "data": {
      "text/plain": [
       "{'type': 'article',\n",
       " 'id': 'BJNR172200996BJNE000202116',\n",
       " 'url': 'https://api.rechtsinformationsportal.de/v1/laws/25_bimschv/articles/BJNR172200996BJNE000202116',\n",
       " 'name': '§ 1',\n",
       " 'title': 'Anwendungsbereich',\n",
       " 'parent': None,\n",
       " 'body': '<P>Diese Verordnung gilt für die Errichtung, die Beschaffenheit und den Betrieb von <DL Font=\"normal\" Type=\"arabic\"><DT>1.</DT><DD Font=\"normal\"><LA Size=\"normal\">Anlagen zur fabrikmäßigen Herstellung von Titandioxid nach dem Sulfat- und Chloridverfahren,</LA></DD><DT>2.</DT><DD Font=\"normal\"><LA Size=\"normal\">Anlagen zum fabrikmäßigen Aufkonzentrieren von Abfallsäuren.</LA></DD></DL></P>',\n",
       " 'footnotes': None,\n",
       " 'documentaryFootnotes': None}"
      ]
     },
     "execution_count": 67,
     "metadata": {},
     "output_type": "execute_result"
    }
   ],
   "source": [
    "Ri_slugs_response[0][\"contents\"][0][\"body\"]"
   ]
  },
  {
   "cell_type": "code",
   "execution_count": 68,
   "id": "41d183e2-fe7d-4f42-a6d2-175fb9c1b0ee",
   "metadata": {},
   "outputs": [],
   "source": [
    "import random"
   ]
  },
  {
   "cell_type": "code",
   "execution_count": 155,
   "id": "5b800600-ac70-483b-80e5-30f85339a930",
   "metadata": {},
   "outputs": [],
   "source": [
    "slugs = []\n",
    "for _ in range(30):\n",
    "    slugs.append(random.choice(rechtsinformationsportal_df.slug))"
   ]
  },
  {
   "cell_type": "code",
   "execution_count": 156,
   "id": "bbc322c1-eaaa-40bb-9a53-26e7e17bdf7f",
   "metadata": {},
   "outputs": [],
   "source": [
    "# assuming the existence of a matching function,\n",
    "# which can match the title of the law, and return a slug using the above json or table\n",
    "\n",
    "\n",
    "def get_source_law_rechtsinformationsportal(slug: str) -> List[dict]:\n",
    "    try:\n",
    "        ri_law_api = requests.get(\n",
    "            \"https://api.rechtsinformationsportal.de/v1/laws/\"\n",
    "            + slug\n",
    "            + \"?include=contents\"\n",
    "        )\n",
    "    except requests.exceptions.RequestException as e:\n",
    "        raise SystemExit(e)\n",
    "\n",
    "    contents = ri_law_api.json()[\"data\"][\"contents\"]\n",
    "\n",
    "    keys = {\n",
    "        \"type\",\n",
    "        \"id\",\n",
    "        \"name\",\n",
    "        \"title\",\n",
    "        \"parent\",\n",
    "        \"body\",\n",
    "        \"footnotes\",\n",
    "    }\n",
    "    source_law = []\n",
    "    for item in contents:\n",
    "        source_law.append({key: item[key] for key in keys if key in item})\n",
    "\n",
    "    return source_law"
   ]
  },
  {
   "cell_type": "code",
   "execution_count": 165,
   "id": "4fc504a7-8b4e-4232-9984-619eb6c97081",
   "metadata": {},
   "outputs": [],
   "source": [
    "law = get_source_law_rechtsinformationsportal(\"besuev2bek_1993_06_02\")"
   ]
  },
  {
   "cell_type": "code",
   "execution_count": 169,
   "id": "a4e4f422-3ca5-4755-af36-219fcd948c1a",
   "metadata": {},
   "outputs": [
    {
     "data": {
      "text/plain": [
       "{'type': 'article',\n",
       " 'id': 'BJNR078700993BJNE001400307',\n",
       " 'parent': None,\n",
       " 'name': 'Anlage IV D',\n",
       " 'body': '<P><kommentar typ=\"Fundstelle\">(Fundstelle des Originaltextes: BGBl. I 1993, 808 - 810)</kommentar><BR/><table frame=\"all\" tocentry=\"%yes;\"><tgroup align=\"left\" char=\"\" charoff=\"50\" cols=\"4\" colsep=\"0\" rowsep=\"0\"><colspec colname=\"col1\" colnum=\"1\" colwidth=\"100\"/><colspec colname=\"col2\" colnum=\"2\" colwidth=\"280\"/><colspec colname=\"col3\" colnum=\"3\" colwidth=\"100\"/><colspec align=\"right\" colname=\"col4\" colnum=\"4\" colwidth=\"150\"/><tbody valign=\"top\"><row rowsep=\"1\"><entry VJ=\"1\" colsep=\"1\" nameend=\"col2\" namest=\"col1\">Dem Grunde nach geregelt in</entry><entry VJ=\"1\" nameend=\"col4\" namest=\"col3\">Betrag in Deutscher Mark,<BR/>Vomhundert, Bruchteil</entry></row><row><entry VJ=\"1\" nameend=\"col4\" namest=\"col1\">Bundesbesoldungsgesetz</entry></row><row><entry VJ=\"1\">§ 44</entry><entry VJ=\"1\">\\xa0</entry><entry VJ=\"1\">bis zu</entry><entry VJ=\"1\">148,00</entry></row><row><entry VJ=\"1\">§ 48 Abs. 2</entry><entry VJ=\"1\">\\xa0</entry><entry VJ=\"1\">bis zu</entry><entry VJ=\"1\">74,00</entry></row><row><entry VJ=\"1\">§ 78</entry><entry VJ=\"1\">\\xa0</entry><entry VJ=\"1\">bis zu</entry><entry VJ=\"1\">111,00</entry></row><row><entry VJ=\"1\">§ 80a</entry><entry VJ=\"1\">\\xa0</entry><entry VJ=\"1\">\\xa0</entry><entry VJ=\"1\">\\xa0</entry></row><row><entry VJ=\"1\" nameend=\"col4\" namest=\"col1\">Abs. 1 und 2</entry></row><row><entry VJ=\"1\">\\xa0</entry><entry VJ=\"1\" nameend=\"col3\" namest=\"col2\">Die Zulage beträgt für die Beamten</entry><entry VJ=\"1\">\\xa0</entry></row><row><entry VJ=\"1\">\\xa0</entry><entry VJ=\"1\">des einfachen Dienstes</entry><entry VJ=\"1\">\\xa0</entry><entry VJ=\"1\">88,80</entry></row><row><entry VJ=\"1\">\\xa0</entry><entry VJ=\"1\">des mittleren Dienstes</entry><entry VJ=\"1\">\\xa0</entry><entry VJ=\"1\">133,20</entry></row><row><entry VJ=\"1\">\\xa0</entry><entry VJ=\"1\">des gehobenen Dienstes</entry><entry VJ=\"1\">\\xa0</entry><entry VJ=\"1\">222,00</entry></row><row><entry VJ=\"1\">\\xa0</entry><entry VJ=\"1\">des höheren Dienstes</entry><entry VJ=\"1\">\\xa0</entry><entry VJ=\"1\">318,20</entry></row><row><entry VJ=\"1\" nameend=\"col4\" namest=\"col1\">Abs. 3</entry></row><row><entry VJ=\"1\" align=\"right\">Buchstabe a</entry><entry VJ=\"1\">Nr. 1</entry><entry VJ=\"1\">\\xa0</entry><entry VJ=\"1\">370,00</entry></row><row><entry VJ=\"1\">\\xa0</entry><entry VJ=\"1\">Nr. 2</entry><entry VJ=\"1\">\\xa0</entry><entry VJ=\"1\">125,80</entry></row><row><entry VJ=\"1\" align=\"right\">Buchstabe b</entry><entry VJ=\"1\">Nr. 1</entry><entry VJ=\"1\">\\xa0</entry><entry VJ=\"1\">148,00</entry></row><row><entry VJ=\"1\">\\xa0</entry><entry VJ=\"1\">Nr. 2</entry><entry VJ=\"1\">\\xa0</entry><entry VJ=\"1\">88,80</entry></row><row><entry VJ=\"1\" nameend=\"col4\" namest=\"col1\">Bundesbesoldungsordnungen A und B</entry></row><row><entry VJ=\"1\" nameend=\"col4\" namest=\"col1\">Vorbemerkungen</entry></row><row><entry VJ=\"1\">Nummer 2 Abs. 2</entry><entry VJ=\"1\">\\xa0</entry><entry VJ=\"1\">\\xa0</entry><entry VJ=\"1\">185,00</entry></row><row><entry VJ=\"1\">Nummer 4</entry><entry VJ=\"1\">\\xa0</entry><entry VJ=\"1\">\\xa0</entry><entry VJ=\"1\">74,00</entry></row><row><entry VJ=\"1\">Nummer 4a</entry><entry VJ=\"1\">\\xa0</entry><entry VJ=\"1\">\\xa0</entry><entry VJ=\"1\">111,00</entry></row><row><entry VJ=\"1\" nameend=\"col4\" namest=\"col1\">Nummer 5</entry></row><row><entry VJ=\"1\">\\xa0</entry><entry VJ=\"1\">Die Zulage beträgt für Mannschaften,<BR/>Unteroffiziere/Beamte<BR/>der Besoldungsgruppen A 5 und A 6</entry><entry VJ=\"1\">\\xa0</entry><entry VJ=\"1\" valign=\"bottom\">51,80</entry></row><row><entry VJ=\"1\">\\xa0</entry><entry VJ=\"1\">Unteroffiziere/Beamte<BR/>der Besoldungsgruppen A 7 bis A 9</entry><entry VJ=\"1\">\\xa0</entry><entry VJ=\"1\" valign=\"bottom\">74,00</entry></row><row><entry VJ=\"1\">\\xa0</entry><entry VJ=\"1\">Offiziere/Beamte des gehobenen<BR/>und höheren Dienstes</entry><entry VJ=\"1\">\\xa0</entry><entry VJ=\"1\" valign=\"bottom\">111,00</entry></row><row><entry VJ=\"1\" nameend=\"col4\" namest=\"col1\">Nummer 5a</entry></row><row><entry VJ=\"1\" nameend=\"col4\" namest=\"col1\">Abs. 1</entry></row><row><entry VJ=\"1\">\\xa0</entry><entry VJ=\"1\">Buchstabe a</entry><entry VJ=\"1\">\\xa0</entry><entry VJ=\"1\">133,20</entry></row><row><entry VJ=\"1\">\\xa0</entry><entry VJ=\"1\">Buchstabe b</entry><entry VJ=\"1\">\\xa0</entry><entry VJ=\"1\">222,00</entry></row><row><entry VJ=\"1\">\\xa0</entry><entry VJ=\"1\">Buchstabe c</entry><entry VJ=\"1\">\\xa0</entry><entry VJ=\"1\">318,20</entry></row><row><entry VJ=\"1\" nameend=\"col4\" namest=\"col1\">Abs. 2</entry></row><row><entry VJ=\"1\" align=\"right\">Nr. 1</entry><entry VJ=\"1\">Buchstabe a</entry><entry VJ=\"1\">\\xa0</entry><entry VJ=\"1\">199,80</entry></row><row><entry VJ=\"1\">\\xa0</entry><entry VJ=\"1\">Buchstabe b</entry><entry VJ=\"1\">\\xa0</entry><entry VJ=\"1\">148,00</entry></row><row><entry VJ=\"1\" align=\"right\">Nr. 2</entry><entry VJ=\"1\">Buchstabe a</entry><entry VJ=\"1\">\\xa0</entry><entry VJ=\"1\">148,00</entry></row><row><entry VJ=\"1\">\\xa0</entry><entry VJ=\"1\">Buchstabe b</entry><entry VJ=\"1\">\\xa0</entry><entry VJ=\"1\">59,20</entry></row><row><entry VJ=\"1\" align=\"right\">Nr. 3</entry><entry VJ=\"1\">\\xa0</entry><entry VJ=\"1\">\\xa0</entry><entry VJ=\"1\">96,20</entry></row><row><entry VJ=\"1\" align=\"right\">Nr. 4 und 5</entry><entry VJ=\"1\">\\xa0</entry><entry VJ=\"1\">\\xa0</entry><entry VJ=\"1\">88,80</entry></row><row><entry VJ=\"1\" align=\"right\">Nr. 6</entry><entry VJ=\"1\">Buchstabe a</entry><entry VJ=\"1\">\\xa0</entry><entry VJ=\"1\">199,80</entry></row><row><entry VJ=\"1\">\\xa0</entry><entry VJ=\"1\">Buchstabe b</entry><entry VJ=\"1\">\\xa0</entry><entry VJ=\"1\">148,00</entry></row><row><entry VJ=\"1\" align=\"right\">Nr. 7</entry><entry VJ=\"1\">Buchstabe a</entry><entry VJ=\"1\">\\xa0</entry><entry VJ=\"1\">148,00</entry></row><row><entry VJ=\"1\">\\xa0</entry><entry VJ=\"1\">Buchstabe b</entry><entry VJ=\"1\">\\xa0</entry><entry VJ=\"1\">59,20</entry></row><row><entry VJ=\"1\" align=\"right\">Nr. 8</entry><entry VJ=\"1\">Buchstabe a</entry><entry VJ=\"1\">\\xa0</entry><entry VJ=\"1\">185,00</entry></row><row><entry VJ=\"1\">\\xa0</entry><entry VJ=\"1\">Buchstabe b</entry><entry VJ=\"1\">\\xa0</entry><entry VJ=\"1\">96,20</entry></row><row><entry VJ=\"1\" align=\"right\">Nr. 9</entry><entry VJ=\"1\">\\xa0</entry><entry VJ=\"1\">\\xa0</entry><entry VJ=\"1\">88,80</entry></row><row><entry VJ=\"1\" nameend=\"col4\" namest=\"col1\">Nummer 6</entry></row><row><entry VJ=\"1\" nameend=\"col4\" namest=\"col1\">Abs. 1</entry></row><row><entry VJ=\"1\">\\xa0</entry><entry VJ=\"1\">Buchstabe a</entry><entry VJ=\"1\">\\xa0</entry><entry VJ=\"1\">666,00</entry></row><row><entry VJ=\"1\">\\xa0</entry><entry VJ=\"1\">Buchstabe b</entry><entry VJ=\"1\">\\xa0</entry><entry VJ=\"1\">532,80</entry></row><row><entry VJ=\"1\">\\xa0</entry><entry VJ=\"1\">Buchstabe c</entry><entry VJ=\"1\">\\xa0</entry><entry VJ=\"1\">426,24</entry></row><row><entry VJ=\"1\">Nummer 6a</entry><entry VJ=\"1\">\\xa0</entry><entry VJ=\"1\">\\xa0</entry><entry VJ=\"1\">148,00</entry></row><row><entry VJ=\"1\" nameend=\"col4\" namest=\"col1\">Nummer 7</entry></row><row><entry VJ=\"1\">\\xa0</entry><entry VJ=\"1\">Die Zulage beträgt für die Beamten und Soldaten der Besoldungsgruppen</entry><entry VJ=\"1\" align=\"left\" nameend=\"col4\" namest=\"col3\">12,5 v.H. des<BR/> Endgrundgehalts<BR/> oder, bei festen<BR/> Gehältern, des<BR/> Grundgehalts der<BR/> Besoldungsgruppe*)</entry></row><row><entry VJ=\"1\">\\xa0</entry><entry VJ=\"1\">A 1 bis A 5</entry><entry VJ=\"1\" align=\"left\">A 5</entry><entry VJ=\"1\">\\xa0</entry></row><row><entry VJ=\"1\">\\xa0</entry><entry VJ=\"1\">A 6 bis A 9</entry><entry VJ=\"1\" align=\"left\">A 9</entry><entry VJ=\"1\">\\xa0</entry></row><row><entry VJ=\"1\">\\xa0</entry><entry VJ=\"1\">A 10 bis A 13</entry><entry VJ=\"1\" align=\"left\">A 13</entry><entry VJ=\"1\">\\xa0</entry></row><row><entry VJ=\"1\">\\xa0</entry><entry VJ=\"1\">A 14, A 15, B 1</entry><entry VJ=\"1\" align=\"left\">A 15</entry><entry VJ=\"1\">\\xa0</entry></row><row><entry VJ=\"1\">\\xa0</entry><entry VJ=\"1\">A 16, B 2 bis B 4</entry><entry VJ=\"1\" align=\"left\">B 3</entry><entry VJ=\"1\">\\xa0</entry></row><row><entry VJ=\"1\">\\xa0</entry><entry VJ=\"1\">B 5 bis B 7</entry><entry VJ=\"1\" align=\"left\">B 6</entry><entry VJ=\"1\">\\xa0</entry></row><row><entry VJ=\"1\">\\xa0</entry><entry VJ=\"1\">B 8 bis B 10</entry><entry VJ=\"1\" align=\"left\">B 9</entry><entry VJ=\"1\">\\xa0</entry></row><row><entry VJ=\"1\">\\xa0</entry><entry VJ=\"1\">B 11</entry><entry VJ=\"1\" align=\"left\">B 11</entry><entry VJ=\"1\">\\xa0</entry></row><row><entry VJ=\"1\" nameend=\"col4\" namest=\"col1\">Nummer 8 Abs. 1</entry></row><row><entry VJ=\"1\">\\xa0</entry><entry VJ=\"1\" nameend=\"col3\" namest=\"col2\">Die Zulage beträgt für die Beamten der Besoldungsgruppen</entry><entry VJ=\"1\">\\xa0</entry></row><row><entry VJ=\"1\">\\xa0</entry><entry VJ=\"1\">A 1 bis A 5</entry><entry VJ=\"1\">\\xa0</entry><entry VJ=\"1\">165,36</entry></row><row><entry VJ=\"1\">\\xa0</entry><entry VJ=\"1\">A 6 bis A 9</entry><entry VJ=\"1\">\\xa0</entry><entry VJ=\"1\">227,37</entry></row><row><entry VJ=\"1\">\\xa0</entry><entry VJ=\"1\">A 10 bis A 13</entry><entry VJ=\"1\">\\xa0</entry><entry VJ=\"1\">289,37</entry></row><row><entry VJ=\"1\">\\xa0</entry><entry VJ=\"1\">A 14 und höher</entry><entry VJ=\"1\">\\xa0</entry><entry VJ=\"1\">351,38</entry></row><row><entry VJ=\"1\">\\xa0</entry><entry VJ=\"1\" nameend=\"col3\" namest=\"col2\">für Anwärter der Laufbahngruppe</entry><entry VJ=\"1\">\\xa0</entry></row><row><entry VJ=\"1\">\\xa0</entry><entry VJ=\"1\">des mittleren Dienstes</entry><entry VJ=\"1\">\\xa0</entry><entry VJ=\"1\">124,02</entry></row><row><entry VJ=\"1\">\\xa0</entry><entry VJ=\"1\">des gehobenen Dienstes</entry><entry VJ=\"1\">\\xa0</entry><entry VJ=\"1\">165,36</entry></row><row><entry VJ=\"1\">\\xa0</entry><entry VJ=\"1\">des höheren Dienstes</entry><entry VJ=\"1\">\\xa0</entry><entry VJ=\"1\">206,69</entry></row><row><entry VJ=\"1\" nameend=\"col4\" namest=\"col1\">Nummer 8a</entry></row><row><entry VJ=\"1\">\\xa0</entry><entry VJ=\"1\" nameend=\"col3\" namest=\"col2\">Die Zulage beträgt für die Beamten der Besoldungsgruppen</entry><entry VJ=\"1\">\\xa0</entry></row><row><entry VJ=\"1\">\\xa0</entry><entry VJ=\"1\">A 1 bis A 5</entry><entry VJ=\"1\">\\xa0</entry><entry VJ=\"1\">90,95</entry></row><row><entry VJ=\"1\">\\xa0</entry><entry VJ=\"1\">A 6 bis A 9</entry><entry VJ=\"1\">\\xa0</entry><entry VJ=\"1\">124,02</entry></row><row><entry VJ=\"1\">\\xa0</entry><entry VJ=\"1\">A 10 bis A 13</entry><entry VJ=\"1\">\\xa0</entry><entry VJ=\"1\">152,96</entry></row><row><entry VJ=\"1\">\\xa0</entry><entry VJ=\"1\">A 14 und höher</entry><entry VJ=\"1\">\\xa0</entry><entry VJ=\"1\">181,90</entry></row><row><entry VJ=\"1\">\\xa0</entry><entry VJ=\"1\" nameend=\"col3\" namest=\"col2\">für Anwärter der Laufbahngruppe</entry><entry VJ=\"1\">\\xa0</entry></row><row><entry VJ=\"1\">\\xa0</entry><entry VJ=\"1\">des mittleren Dienstes</entry><entry VJ=\"1\">\\xa0</entry><entry VJ=\"1\">66,15</entry></row><row><entry VJ=\"1\">\\xa0</entry><entry VJ=\"1\">des gehobenen Dienstes</entry><entry VJ=\"1\">\\xa0</entry><entry VJ=\"1\">86,82</entry></row><row><entry VJ=\"1\">\\xa0</entry><entry VJ=\"1\">des höheren Dienstes</entry><entry VJ=\"1\">\\xa0</entry><entry VJ=\"1\">107,49</entry></row><row><entry VJ=\"1\" nameend=\"col4\" namest=\"col1\">-------<small><DL Font=\"normal\" Type=\"arabic\"><DT>*)</DT><DD Font=\"normal\"><LA Size=\"normal\">Nach Maßgabe des Artikels 1 § 5 des Haushaltsstrukturgesetzes vom 18. Dezember 1975 (BGBl. I S. 3091) in Verbindung mit § 2 Abs. 1 der Zweiten Besoldungs-Übergangsverordnung vom 21. Juni 1991 (BGBl. I S. 1345)</LA></DD></DL></small></entry></row><row><entry VJ=\"1\" nameend=\"col4\" namest=\"col1\">Nummer 8b</entry></row><row><entry VJ=\"1\">\\xa0</entry><entry VJ=\"1\" nameend=\"col3\" namest=\"col2\">Die Zulage beträgt für die Beamten der Besoldungsgruppen</entry><entry VJ=\"1\">\\xa0</entry></row><row><entry VJ=\"1\">\\xa0</entry><entry VJ=\"1\">A 1 bis A 5</entry><entry VJ=\"1\">\\xa0</entry><entry VJ=\"1\">148,83</entry></row><row><entry VJ=\"1\">\\xa0</entry><entry VJ=\"1\">A 6 bis A 9</entry><entry VJ=\"1\">\\xa0</entry><entry VJ=\"1\">190,16</entry></row><row><entry VJ=\"1\">\\xa0</entry><entry VJ=\"1\">A 10 bis A 13</entry><entry VJ=\"1\">\\xa0</entry><entry VJ=\"1\">248,04</entry></row><row><entry VJ=\"1\">\\xa0</entry><entry VJ=\"1\">A 14 und höher</entry><entry VJ=\"1\">\\xa0</entry><entry VJ=\"1\">305,91</entry></row><row><entry VJ=\"1\">\\xa0</entry><entry VJ=\"1\" nameend=\"col3\" namest=\"col2\">für Anwärter der Laufbahngruppe</entry><entry VJ=\"1\">\\xa0</entry></row><row><entry VJ=\"1\">\\xa0</entry><entry VJ=\"1\">des mittleren Dienstes</entry><entry VJ=\"1\">\\xa0</entry><entry VJ=\"1\">111,62</entry></row><row><entry VJ=\"1\">\\xa0</entry><entry VJ=\"1\">des gehobenen Dienstes</entry><entry VJ=\"1\">\\xa0</entry><entry VJ=\"1\">148,83</entry></row><row><entry VJ=\"1\">\\xa0</entry><entry VJ=\"1\">des höheren Dienstes</entry><entry VJ=\"1\">\\xa0</entry><entry VJ=\"1\">186,03</entry></row><row><entry VJ=\"1\" nameend=\"col4\" namest=\"col1\">Nummer 8c</entry></row><row><entry VJ=\"1\">\\xa0</entry><entry VJ=\"1\" nameend=\"col3\" namest=\"col2\">Die Zulage beträgt für die Beamten</entry><entry VJ=\"1\">\\xa0</entry></row><row><entry VJ=\"1\">\\xa0</entry><entry VJ=\"1\">des einfachen Dienstes</entry><entry VJ=\"1\">\\xa0</entry><entry VJ=\"1\">74,00</entry></row><row><entry VJ=\"1\">\\xa0</entry><entry VJ=\"1\">des mittleren Dienstes</entry><entry VJ=\"1\">\\xa0</entry><entry VJ=\"1\">111,00</entry></row><row><entry VJ=\"1\">\\xa0</entry><entry VJ=\"1\">des gehobenen Dienstes</entry><entry VJ=\"1\">\\xa0</entry><entry VJ=\"1\">162,80</entry></row><row><entry VJ=\"1\">\\xa0</entry><entry VJ=\"1\">des höheren Dienstes</entry><entry VJ=\"1\">\\xa0</entry><entry VJ=\"1\">222,00</entry></row><row><entry VJ=\"1\" nameend=\"col4\" namest=\"col1\">Nummer 8d</entry></row><row><entry VJ=\"1\">\\xa0</entry><entry VJ=\"1\" nameend=\"col3\" namest=\"col2\">Die Zulage beträgt für die Beamten</entry><entry VJ=\"1\">\\xa0</entry></row><row><entry VJ=\"1\">\\xa0</entry><entry VJ=\"1\">des einfachen Dienstes</entry><entry VJ=\"1\">\\xa0</entry><entry VJ=\"1\">111,00</entry></row><row><entry VJ=\"1\">\\xa0</entry><entry VJ=\"1\">des mittleren Dienstes</entry><entry VJ=\"1\">\\xa0</entry><entry VJ=\"1\">148,00</entry></row><row><entry VJ=\"1\">\\xa0</entry><entry VJ=\"1\">des gehobenen Dienstes</entry><entry VJ=\"1\">\\xa0</entry><entry VJ=\"1\">162,80</entry></row><row><entry VJ=\"1\">\\xa0</entry><entry VJ=\"1\">des höheren Dienstes</entry><entry VJ=\"1\">\\xa0</entry><entry VJ=\"1\">185,00</entry></row><row><entry VJ=\"1\" nameend=\"col4\" namest=\"col1\">Nummer 9</entry></row><row><entry VJ=\"1\">\\xa0</entry><entry VJ=\"1\" nameend=\"col3\" namest=\"col2\">Die Zulage beträgt nach einer Dienstzeit</entry><entry VJ=\"1\">\\xa0</entry></row><row><entry VJ=\"1\">\\xa0</entry><entry VJ=\"1\">von einem Jahr</entry><entry VJ=\"1\">\\xa0</entry><entry VJ=\"1\">82,69</entry></row><row><entry VJ=\"1\">\\xa0</entry><entry VJ=\"1\">von zwei Jahren</entry><entry VJ=\"1\">\\xa0</entry><entry VJ=\"1\">165,36</entry></row><row><entry VJ=\"1\" nameend=\"col4\" namest=\"col1\">Nummer 9a</entry></row><row><entry VJ=\"1\" nameend=\"col4\" namest=\"col1\">Abs. 1</entry></row><row><entry VJ=\"1\">\\xa0</entry><entry VJ=\"1\">Buchstabe a</entry><entry VJ=\"1\">\\xa0</entry><entry VJ=\"1\">148,00</entry></row><row><entry VJ=\"1\">\\xa0</entry><entry VJ=\"1\">Buchstabe b</entry><entry VJ=\"1\">\\xa0</entry><entry VJ=\"1\">296,00</entry></row><row><entry VJ=\"1\">\\xa0</entry><entry VJ=\"1\">Buchstabe c</entry><entry VJ=\"1\">\\xa0</entry><entry VJ=\"1\">222,00</entry></row><row><entry VJ=\"1\" nameend=\"col4\" namest=\"col1\">Abs. 2</entry></row><row><entry VJ=\"1\">\\xa0</entry><entry VJ=\"1\">Buchstabe a</entry><entry VJ=\"1\">\\xa0</entry><entry VJ=\"1\">59,20</entry></row><row><entry VJ=\"1\">\\xa0</entry><entry VJ=\"1\">Buchstabe b</entry><entry VJ=\"1\">\\xa0</entry><entry VJ=\"1\">74,00</entry></row><row><entry VJ=\"1\" nameend=\"col4\" namest=\"col1\">Nummer 10 Abs. 1</entry></row><row><entry VJ=\"1\">\\xa0</entry><entry VJ=\"1\" nameend=\"col3\" namest=\"col2\">Die Zulage beträgt nach einer Dienstzeit</entry><entry VJ=\"1\">\\xa0</entry></row><row><entry VJ=\"1\">\\xa0</entry><entry VJ=\"1\">von einem Jahr</entry><entry VJ=\"1\">\\xa0</entry><entry VJ=\"1\">82,69</entry></row><row><entry VJ=\"1\">\\xa0</entry><entry VJ=\"1\">von zwei Jahren</entry><entry VJ=\"1\">\\xa0</entry><entry VJ=\"1\">165,36</entry></row><row><entry VJ=\"1\">Nummer 11</entry><entry VJ=\"1\">\\xa0</entry><entry VJ=\"1\" align=\"left\" nameend=\"col4\" namest=\"col3\">1/12 des Grundgehalts und des Ortszuschlags*)</entry></row><row><entry VJ=\"1\">Nummer 12</entry><entry VJ=\"1\">\\xa0</entry><entry VJ=\"1\">\\xa0</entry><entry VJ=\"1\">124,02</entry></row><row><entry VJ=\"1\">Nummer 13a</entry><entry VJ=\"1\">\\xa0</entry><entry VJ=\"1\">bis zu</entry><entry VJ=\"1\">111,00</entry></row><row><entry VJ=\"1\">Nummer 19 Satz 1</entry><entry VJ=\"1\">\\xa0</entry><entry VJ=\"1\">\\xa0</entry><entry VJ=\"1\">245,60</entry></row><row><entry VJ=\"1\">Nummer 21</entry><entry VJ=\"1\">\\xa0</entry><entry VJ=\"1\">\\xa0</entry><entry VJ=\"1\">206,04</entry></row><row><entry VJ=\"1\" nameend=\"col4\" namest=\"col1\">-------<small><DL Font=\"normal\" Type=\"arabic\"><DT>*)</DT><DD Font=\"normal\"><LA Size=\"normal\">Nach Maßgabe des Artikels 1 § 5 des Haushaltsstrukturgesetzes vom 18. Dezember 1975 (BGBl. I S. 3091) in Verbindung mit § 2 Abs. 1 der Zweiten Besoldungs-Übergangsverordnung vom 21. Juni 1991 (BGBl. I S. 1345)</LA></DD></DL></small></entry></row><row><entry VJ=\"1\" nameend=\"col4\" namest=\"col1\">Nummer 23</entry></row><row><entry VJ=\"1\">Abs. 1</entry><entry VJ=\"1\">\\xa0</entry><entry VJ=\"1\">\\xa0</entry><entry VJ=\"1\">14,80</entry></row><row><entry VJ=\"1\">Abs. 2</entry><entry VJ=\"1\">\\xa0</entry><entry VJ=\"1\">\\xa0</entry><entry VJ=\"1\">33,30</entry></row><row><entry VJ=\"1\" nameend=\"col4\" namest=\"col1\">Nummer 24</entry></row><row><entry VJ=\"1\">\\xa0</entry><entry VJ=\"1\">Die Zulage beträgt für Beamte des mittleren Dienstes/<BR/>für Unteroffiziere</entry><entry VJ=\"1\">\\xa0</entry><entry VJ=\"1\" valign=\"bottom\">14,80</entry></row><row><entry VJ=\"1\">\\xa0</entry><entry VJ=\"1\">des gehobenen Dienstes/<BR/>für Offiziere bis zur Besoldungsgruppe A 12</entry><entry VJ=\"1\">\\xa0</entry><entry VJ=\"1\" valign=\"bottom\">33,30</entry></row><row><entry VJ=\"1\">Nummer 25</entry><entry VJ=\"1\">\\xa0</entry><entry VJ=\"1\">\\xa0</entry><entry VJ=\"1\">55,50</entry></row><row><entry VJ=\"1\" nameend=\"col4\" namest=\"col1\">Nummer 26 Abs. 1</entry></row><row><entry VJ=\"1\">\\xa0</entry><entry VJ=\"1\" nameend=\"col3\" namest=\"col2\">Die Zulage beträgt für Beamte</entry><entry VJ=\"1\">\\xa0</entry></row><row><entry VJ=\"1\">\\xa0</entry><entry VJ=\"1\">des mittleren Dienstes</entry><entry VJ=\"1\">\\xa0</entry><entry VJ=\"1\">24,68</entry></row><row><entry VJ=\"1\">\\xa0</entry><entry VJ=\"1\">des gehobenen Dienstes</entry><entry VJ=\"1\">\\xa0</entry><entry VJ=\"1\">55,50</entry></row><row><entry VJ=\"1\" nameend=\"col4\" namest=\"col1\">Nummer 27</entry></row><row><entry VJ=\"1\" nameend=\"col4\" namest=\"col1\">Abs. 1</entry></row><row><entry VJ=\"1\">\\xa0</entry><entry VJ=\"1\">Buchstabe a</entry><entry VJ=\"1\">\\xa0</entry><entry VJ=\"1\">49,61</entry></row><row><entry VJ=\"1\">\\xa0</entry><entry VJ=\"1\">Buchstabe b</entry><entry VJ=\"1\">\\xa0</entry><entry VJ=\"1\">\\xa0</entry></row><row><entry VJ=\"1\">\\xa0</entry><entry VJ=\"1\" align=\"right\">Doppelbuchstabe aa</entry><entry VJ=\"1\">\\xa0</entry><entry VJ=\"1\">68,63</entry></row><row><entry VJ=\"1\">\\xa0</entry><entry VJ=\"1\" align=\"right\">Doppelbuchstabe bb</entry><entry VJ=\"1\">\\xa0</entry><entry VJ=\"1\">124,02</entry></row><row><entry VJ=\"1\">\\xa0</entry><entry VJ=\"1\">Buchstabe c</entry><entry VJ=\"1\">\\xa0</entry><entry VJ=\"1\">132,29</entry></row><row><entry VJ=\"1\">\\xa0</entry><entry VJ=\"1\">Buchstabe d</entry><entry VJ=\"1\">\\xa0</entry><entry VJ=\"1\">132,29</entry></row><row><entry VJ=\"1\">\\xa0</entry><entry VJ=\"1\">Buchstabe e</entry><entry VJ=\"1\">\\xa0</entry><entry VJ=\"1\">49,61</entry></row><row><entry VJ=\"1\" nameend=\"col4\" namest=\"col1\">Abs. 2</entry></row><row><entry VJ=\"1\">\\xa0</entry><entry VJ=\"1\">Buchstabe b</entry><entry VJ=\"1\">\\xa0</entry><entry VJ=\"1\">\\xa0</entry></row><row><entry VJ=\"1\">\\xa0</entry><entry VJ=\"1\" align=\"right\">Doppelbuchstabe bb</entry><entry VJ=\"1\">\\xa0</entry><entry VJ=\"1\">55,40</entry></row><row><entry VJ=\"1\">\\xa0</entry><entry VJ=\"1\">Buchstabe c und d</entry><entry VJ=\"1\">\\xa0</entry><entry VJ=\"1\">82,69</entry></row><row><entry VJ=\"1\">Nummer 30</entry><entry VJ=\"1\">\\xa0</entry><entry VJ=\"1\">\\xa0</entry><entry VJ=\"1\">33,30</entry></row><row><entry VJ=\"1\">Besoldungsgruppen</entry><entry VJ=\"1\">\\xa0</entry><entry VJ=\"1\">Fußnote</entry><entry VJ=\"1\">\\xa0</entry></row><row><entry VJ=\"1\">A 2</entry><entry VJ=\"1\">\\xa0</entry><entry VJ=\"1\">1</entry><entry VJ=\"1\">35,52</entry></row><row><entry VJ=\"1\">\\xa0</entry><entry VJ=\"1\">\\xa0</entry><entry VJ=\"1\">2</entry><entry VJ=\"1\">25,66</entry></row><row><entry VJ=\"1\">\\xa0</entry><entry VJ=\"1\">\\xa0</entry><entry VJ=\"1\">3</entry><entry VJ=\"1\">65,49</entry></row><row><entry VJ=\"1\">\\xa0</entry><entry VJ=\"1\">\\xa0</entry><entry VJ=\"1\">6</entry><entry VJ=\"1\">33,08</entry></row><row><entry VJ=\"1\">A 3</entry><entry VJ=\"1\">\\xa0</entry><entry VJ=\"1\">1, 5</entry><entry VJ=\"1\">65,49</entry></row><row><entry VJ=\"1\">\\xa0</entry><entry VJ=\"1\">\\xa0</entry><entry VJ=\"1\">2</entry><entry VJ=\"1\">35,52</entry></row><row><entry VJ=\"1\">A 4</entry><entry VJ=\"1\">\\xa0</entry><entry VJ=\"1\">1, 4</entry><entry VJ=\"1\">65,49</entry></row><row><entry VJ=\"1\">\\xa0</entry><entry VJ=\"1\">\\xa0</entry><entry VJ=\"1\">2</entry><entry VJ=\"1\">35,52</entry></row><row><entry VJ=\"1\">A 5</entry><entry VJ=\"1\">\\xa0</entry><entry VJ=\"1\">3</entry><entry VJ=\"1\">35,52</entry></row><row><entry VJ=\"1\">\\xa0</entry><entry VJ=\"1\">\\xa0</entry><entry VJ=\"1\">4, 6</entry><entry VJ=\"1\">65,49</entry></row><row><entry VJ=\"1\">A 6</entry><entry VJ=\"1\">\\xa0</entry><entry VJ=\"1\">6</entry><entry VJ=\"1\">35,52</entry></row><row><entry VJ=\"1\">A 7</entry><entry VJ=\"1\">\\xa0</entry><entry VJ=\"1\">2</entry><entry VJ=\"1\">44,09</entry></row><row><entry VJ=\"1\">\\xa0</entry><entry VJ=\"1\">\\xa0</entry><entry VJ=\"1\">5</entry><entry VJ=\"1\" align=\"left\">50 v.H. des jeweiligen Unterschiedsbetrages zum Grundgehalt der Besoldungsgruppe A 8</entry></row><row><entry VJ=\"1\">A 8</entry><entry VJ=\"1\">\\xa0</entry><entry VJ=\"1\">2</entry><entry VJ=\"1\">56,83</entry></row><row><entry VJ=\"1\">A 9</entry><entry VJ=\"1\">\\xa0</entry><entry VJ=\"1\">2, 3, 4</entry><entry VJ=\"1\">264,41</entry></row><row><entry VJ=\"1\">\\xa0</entry><entry VJ=\"1\">\\xa0</entry><entry VJ=\"1\">7</entry><entry VJ=\"1\" align=\"left\">15 v.H. des Anfangsgrundgehalts der Besoldungsgruppe A 9</entry></row><row><entry VJ=\"1\">A 12</entry><entry VJ=\"1\">\\xa0</entry><entry VJ=\"1\">7, 8</entry><entry VJ=\"1\">153,56</entry></row><row><entry VJ=\"1\">A 13</entry><entry VJ=\"1\">\\xa0</entry><entry VJ=\"1\">6</entry><entry VJ=\"1\">122,82</entry></row><row><entry VJ=\"1\">\\xa0</entry><entry VJ=\"1\">\\xa0</entry><entry VJ=\"1\">7</entry><entry VJ=\"1\">184,22</entry></row><row><entry VJ=\"1\">\\xa0</entry><entry VJ=\"1\">\\xa0</entry><entry VJ=\"1\">11, 12, 13</entry><entry VJ=\"1\">268,71</entry></row><row><entry VJ=\"1\">A 14</entry><entry VJ=\"1\">\\xa0</entry><entry VJ=\"1\">5</entry><entry VJ=\"1\">184,22</entry></row><row><entry VJ=\"1\">A 15</entry><entry VJ=\"1\">\\xa0</entry><entry VJ=\"1\">7</entry><entry VJ=\"1\">184,22</entry></row><row><entry VJ=\"1\">B 10</entry><entry VJ=\"1\">\\xa0</entry><entry VJ=\"1\">1, 2</entry><entry VJ=\"1\">425,71</entry></row><row><entry VJ=\"1\" nameend=\"col4\" namest=\"col1\">Bundesbesoldungsordnung C</entry></row><row><entry VJ=\"1\" nameend=\"col4\" namest=\"col1\">Vormerkungen</entry></row><row><entry VJ=\"1\" nameend=\"col4\" namest=\"col1\">Nummer 2b</entry></row><row><entry VJ=\"1\">\\xa0</entry><entry VJ=\"1\">Buchstabe a</entry><entry VJ=\"1\">\\xa0</entry><entry VJ=\"1\">132,29</entry></row><row><entry VJ=\"1\">\\xa0</entry><entry VJ=\"1\">Buchstabe b</entry><entry VJ=\"1\">\\xa0</entry><entry VJ=\"1\">49,61</entry></row><row><entry VJ=\"1\" nameend=\"col4\" namest=\"col1\">Nummer 3</entry></row><row><entry VJ=\"1\">\\xa0</entry><entry VJ=\"1\">Die Zulage beträgt</entry><entry VJ=\"1\" align=\"left\" nameend=\"col4\" namest=\"col3\">12,5 v.H. des Endgrundgehalts oder, bei festen Gehältern, des Grundgehalts der Besoldungsgruppe*)</entry></row><row><entry VJ=\"1\">\\xa0</entry><entry VJ=\"1\">für Beamte der Besoldungsgruppe C 1</entry><entry VJ=\"1\" align=\"left\">A 13</entry><entry VJ=\"1\">\\xa0</entry></row><row><entry VJ=\"1\">\\xa0</entry><entry VJ=\"1\">für Beamte der Besoldungsgruppe C 2</entry><entry VJ=\"1\" align=\"left\">A 15</entry><entry VJ=\"1\">\\xa0</entry></row><row><entry VJ=\"1\">\\xa0</entry><entry VJ=\"1\">für Beamte der Besoldungsgruppen C 3 und C 4</entry><entry VJ=\"1\" align=\"left\">B 3</entry><entry VJ=\"1\">\\xa0</entry></row><row><entry VJ=\"1\" nameend=\"col4\" namest=\"col1\">Nummer 5</entry></row><row><entry VJ=\"1\">\\xa0</entry><entry VJ=\"1\" nameend=\"col3\" namest=\"col2\">wenn ein Amt ausgeübt wird</entry><entry VJ=\"1\">\\xa0</entry></row><row><entry VJ=\"1\">\\xa0</entry><entry VJ=\"1\">der Besoldungsgruppe R 1</entry><entry VJ=\"1\">\\xa0</entry><entry VJ=\"1\">297,48</entry></row><row><entry VJ=\"1\">\\xa0</entry><entry VJ=\"1\">der Besoldungsgruppe R 2</entry><entry VJ=\"1\">\\xa0</entry><entry VJ=\"1\">333,00</entry></row><row><entry VJ=\"1\">Besoldungsgruppe</entry><entry VJ=\"1\">\\xa0</entry><entry VJ=\"1\">Fußnote</entry><entry VJ=\"1\">\\xa0</entry></row><row><entry VJ=\"1\">C 2</entry><entry VJ=\"1\">\\xa0</entry><entry VJ=\"1\">1</entry><entry VJ=\"1\">150,99</entry></row><row><entry VJ=\"1\" nameend=\"col4\" namest=\"col1\">Bundesbesoldungsordnung R</entry></row><row><entry VJ=\"1\" nameend=\"col4\" namest=\"col1\">Vorbemerkungen</entry></row><row><entry VJ=\"1\">Nummer 1a</entry><entry VJ=\"1\">\\xa0</entry><entry VJ=\"1\">\\xa0</entry><entry VJ=\"1\">49,61</entry></row><row><entry VJ=\"1\" nameend=\"col4\" namest=\"col1\">Nummer 2</entry></row><row><entry VJ=\"1\">\\xa0</entry><entry VJ=\"1\">Die Zulage beträgt</entry><entry VJ=\"1\" align=\"left\" nameend=\"col4\" namest=\"col3\">12,5 v.H. des Endgrundgehalts oder, bei festen Gehältern, des Grundgehalts der Besoldungsgruppe*)</entry></row><row><entry VJ=\"1\">\\xa0</entry><entry VJ=\"1\"><DL Font=\"normal\" Type=\"arabic\"><DT>a)</DT><DD Font=\"normal\"><LA Size=\"normal\">bei Verwendung bei obersten Gerichtshöfen des Bundes für die Richter und Staatsanwälte der Besoldungsgruppe(n)</LA></DD></DL></entry><entry VJ=\"1\">\\xa0</entry><entry VJ=\"1\">\\xa0</entry></row><row><entry VJ=\"1\">\\xa0</entry><entry VJ=\"1\">R 1</entry><entry VJ=\"1\" align=\"left\">R 1</entry><entry VJ=\"1\">\\xa0</entry></row><row><entry VJ=\"1\">\\xa0</entry><entry VJ=\"1\">R 2 bis R 4</entry><entry VJ=\"1\" align=\"left\">R 3</entry><entry VJ=\"1\">\\xa0</entry></row><row><entry VJ=\"1\">\\xa0</entry><entry VJ=\"1\">R 5 bis R 7</entry><entry VJ=\"1\" align=\"left\">R 6</entry><entry VJ=\"1\">\\xa0</entry></row><row><entry VJ=\"1\">\\xa0</entry><entry VJ=\"1\">R 8 bis R 10</entry><entry VJ=\"1\" align=\"left\">R 9</entry><entry VJ=\"1\">\\xa0</entry></row><row><entry VJ=\"1\">\\xa0</entry><entry VJ=\"1\"><DL Font=\"normal\" Type=\"arabic\"><DT>b)</DT><DD Font=\"normal\"><LA Size=\"normal\">bei Verwendung bei obersten Bundesbehörden, der Hauptverwaltung der Deutschen Bundesbahn oder bei obersten Gerichtshöfen des Bundes, wenn ihnen kein Richteramt übertragen ist, für die Richter und Staatsanwälte der Besoldungsgruppe(n)</LA></DD></DL></entry><entry VJ=\"1\">\\xa0</entry><entry VJ=\"1\">\\xa0</entry></row><row><entry VJ=\"1\">\\xa0</entry><entry VJ=\"1\">R 1</entry><entry VJ=\"1\" align=\"left\">A 15</entry><entry VJ=\"1\">\\xa0</entry></row><row><entry VJ=\"1\">\\xa0</entry><entry VJ=\"1\">R 2 bis R 4</entry><entry VJ=\"1\" align=\"left\">B 3</entry><entry VJ=\"1\">\\xa0</entry></row><row><entry VJ=\"1\">\\xa0</entry><entry VJ=\"1\">R 5 bis R 7</entry><entry VJ=\"1\" align=\"left\">B 6</entry><entry VJ=\"1\">\\xa0</entry></row><row><entry VJ=\"1\">\\xa0</entry><entry VJ=\"1\">R 8 bis R 10</entry><entry VJ=\"1\" align=\"left\">B 9</entry><entry VJ=\"1\">\\xa0</entry></row><row><entry VJ=\"1\">Nummer 4</entry><entry VJ=\"1\">\\xa0</entry><entry VJ=\"1\">\\xa0</entry><entry VJ=\"1\">55,50</entry></row><row><entry VJ=\"1\">Besoldungsgruppen</entry><entry VJ=\"1\">\\xa0</entry><entry VJ=\"1\">Fußnote</entry><entry VJ=\"1\">\\xa0</entry></row><row><entry VJ=\"1\">R 1</entry><entry VJ=\"1\">\\xa0</entry><entry VJ=\"1\">1, 2</entry><entry VJ=\"1\">203,69</entry></row><row><entry VJ=\"1\">R 2</entry><entry VJ=\"1\">\\xa0</entry><entry VJ=\"1\">3 bis 8, 10</entry><entry VJ=\"1\">203,69</entry></row><row><entry VJ=\"1\">R 3</entry><entry VJ=\"1\">\\xa0</entry><entry VJ=\"1\">3</entry><entry VJ=\"1\">203,69</entry></row><row><entry VJ=\"1\">R 8</entry><entry VJ=\"1\">\\xa0</entry><entry VJ=\"1\">2</entry><entry VJ=\"1\">407,29</entry></row><row><entry VJ=\"1\" nameend=\"col4\" namest=\"col1\">-----<small><DL Font=\"normal\" Type=\"arabic\"><DT>*)</DT><DD Font=\"normal\"><LA Size=\"normal\">Nach Maßgabe des Artikels 1 § 5 des Haushaltsstrukturgesetzes vom 18. Dezember 1975 (BGBl. I S. 3091) in Verbindung mit § 2 Abs. 1 des Zweiten Besoldungs-Übergangsverordnung vom 21. Juni 1991 der Zweiten Besoldungs-Übergangsverordnung vom 21. Juni 1991 (BGBl. I S. 1345)</LA></DD></DL></small></entry></row></tbody></tgroup></table></P>',\n",
       " 'title': '(Anlage IX des BBesG)\\n<BR/>\\nGültig ab 1. Dezember 1992\\n<BR/>\\nAmtszulagen, Stellenzulagen, Zulagen, Vergütungen\\n<BR/>\\n(Monatsbeträge)\\n<BR/>\\n- in der Reihenfolge der Gesetzesstellen -',\n",
       " 'footnotes': None}"
      ]
     },
     "execution_count": 169,
     "metadata": {},
     "output_type": "execute_result"
    }
   ],
   "source": [
    "law[-1]"
   ]
  },
  {
   "cell_type": "code",
   "execution_count": 157,
   "id": "8b46814f-16af-412d-b890-fd10a2283aeb",
   "metadata": {},
   "outputs": [],
   "source": [
    "source_laws = []\n",
    "for slug in slugs:\n",
    "    source_laws = get_source_law_rechtsinformationsportal(slug)"
   ]
  },
  {
   "cell_type": "code",
   "execution_count": 162,
   "id": "e941c5c3-4d81-4d77-a2c0-3f575c8f15e0",
   "metadata": {},
   "outputs": [
    {
     "data": {
      "text/plain": [
       "{'type': 'article',\n",
       " 'id': 'BJNR393300021BJNE000100000',\n",
       " 'parent': None,\n",
       " 'name': 'Inhaltsübersicht',\n",
       " 'body': '<TOC><Ident Class=\"S2\">Kapitel 1</Ident><P/><Title Align=\"auto\" Class=\"S2\">Allgemeine Vorschriften</Title><P/><table colsep=\"0\" frame=\"none\" pgwide=\"1\" rowsep=\"0\" tocentry=\"%yes;\"><tgroup align=\"left\" char=\"\" charoff=\"50\" cols=\"2\"><colspec colname=\"col1\" colwidth=\"10*\"/><colspec colname=\"col2\" colwidth=\"70*\"/><tbody valign=\"top\"><row><entry VJ=\"1\" colname=\"col1\">§ \\xa01</entry><entry VJ=\"1\" colname=\"col2\">(zukünftig in Kraft)</entry></row><row><entry VJ=\"1\" colname=\"col1\">§ \\xa02</entry><entry VJ=\"1\" colname=\"col2\">(zukünftig in Kraft)</entry></row><row><entry VJ=\"1\" colname=\"col1\">§ \\xa03</entry><entry VJ=\"1\" colname=\"col2\">(zukünftig in Kraft)</entry></row><row><entry VJ=\"1\" colname=\"col1\">§ \\xa04</entry><entry VJ=\"1\" colname=\"col2\">(zukünftig in Kraft)</entry></row><row><entry VJ=\"1\" colname=\"col1\">§ \\xa05</entry><entry VJ=\"1\" colname=\"col2\">(zukünftig in Kraft)</entry></row><row><entry VJ=\"1\" colname=\"col1\">§ \\xa06</entry><entry VJ=\"1\" colname=\"col2\">Grad der Schädigungsfolgen</entry></row><row><entry VJ=\"1\" colname=\"col1\">§ \\xa07</entry><entry VJ=\"1\" colname=\"col2\">(zukünftig in Kraft)</entry></row><row><entry VJ=\"1\" colname=\"col1\">§ \\xa08</entry><entry VJ=\"1\" colname=\"col2\">(zukünftig in Kraft)</entry></row><row><entry VJ=\"1\" colname=\"col1\">§ \\xa09</entry><entry VJ=\"1\" colname=\"col2\">(zukünftig in Kraft)</entry></row><row><entry VJ=\"1\" colname=\"col1\">§ 10</entry><entry VJ=\"1\" colname=\"col2\">(zukünftig in Kraft)</entry></row></tbody></tgroup></table><P/><Ident Class=\"S2\">Kapitel 2</Ident><P/><Title Align=\"auto\" Class=\"S2\">(zukünftig in Kraft)</Title><P/><table colsep=\"0\" frame=\"none\" pgwide=\"1\" rowsep=\"0\" tocentry=\"%yes;\"><tgroup align=\"left\" char=\"\" charoff=\"50\" cols=\"2\"><colspec colname=\"col1\" colwidth=\"10*\"/><colspec colname=\"col2\" colwidth=\"70*\"/><tbody valign=\"top\"><row><entry VJ=\"1\" colname=\"col1\">§ 11</entry><entry VJ=\"1\" colname=\"col2\">(zukünftig in Kraft)</entry></row><row><entry VJ=\"1\" colname=\"col1\">§ 12</entry><entry VJ=\"1\" colname=\"col2\">(zukünftig in Kraft)</entry></row><row><entry VJ=\"1\" colname=\"col1\">§ 13</entry><entry VJ=\"1\" colname=\"col2\">(zukünftig in Kraft)</entry></row></tbody></tgroup></table><P/><Ident Class=\"S2\">Kapitel 3</Ident><P/><Title Align=\"auto\" Class=\"S2\">Leistungen der medizinischen Versorgung</Title><P/><Ident Class=\"S1\">Abschnitt 1</Ident><P/><Title Align=\"auto\" Class=\"S1\">(zukünftig in Kraft)</Title><P/><table colsep=\"0\" frame=\"none\" pgwide=\"1\" rowsep=\"0\" tocentry=\"%yes;\"><tgroup align=\"left\" char=\"\" charoff=\"50\" cols=\"2\"><colspec colname=\"col1\" colwidth=\"10*\"/><colspec colname=\"col2\" colwidth=\"70*\"/><tbody valign=\"top\"><row><entry VJ=\"1\" colname=\"col1\">§ 14</entry><entry VJ=\"1\" colname=\"col2\">(zukünftig in Kraft)</entry></row></tbody></tgroup></table><P/><Ident Class=\"S1\">Abschnitt 2</Ident><P/><Title Align=\"auto\" Class=\"S1\">Medizinische Versorgung<BR/> außerhalb des Wehrdienstverhältnisses</Title><P/><Ident Class=\"S0\">Unterabschnitt 1</Ident><P/><Title Align=\"auto\" Class=\"S0\">Grundsatz und Leistungen</Title><P/><table colsep=\"0\" frame=\"none\" pgwide=\"1\" rowsep=\"0\" tocentry=\"%yes;\"><tgroup align=\"left\" char=\"\" charoff=\"50\" cols=\"2\"><colspec colname=\"col1\" colwidth=\"10*\"/><colspec colname=\"col2\" colwidth=\"70*\"/><tbody valign=\"top\"><row><entry VJ=\"1\" colname=\"col1\">§ 15</entry><entry VJ=\"1\" colname=\"col2\">(zukünftig in Kraft)</entry></row><row><entry VJ=\"1\" colname=\"col1\">§ 16</entry><entry VJ=\"1\" colname=\"col2\">(zukünftig in Kraft)</entry></row><row><entry VJ=\"1\" colname=\"col1\">§ 17</entry><entry VJ=\"1\" colname=\"col2\">(zukünftig in Kraft)</entry></row><row><entry VJ=\"1\" colname=\"col1\">§ 18</entry><entry VJ=\"1\" colname=\"col2\">Leistungen zur Mobilität</entry></row></tbody></tgroup></table><P/><Ident Class=\"S0\">Unterabschnitt 2</Ident><P/><Title Align=\"auto\" Class=\"S0\">(zukünftig in Kraft)</Title><P/><table colsep=\"0\" frame=\"none\" pgwide=\"1\" rowsep=\"0\" tocentry=\"%yes;\"><tgroup align=\"left\" char=\"\" charoff=\"50\" cols=\"2\"><colspec colname=\"col1\" colwidth=\"10*\"/><colspec colname=\"col2\" colwidth=\"70*\"/><tbody valign=\"top\"><row><entry VJ=\"1\" colname=\"col1\">§ 19</entry><entry VJ=\"1\" colname=\"col2\">(zukünftig in Kraft)</entry></row><row><entry VJ=\"1\" colname=\"col1\">§ 20</entry><entry VJ=\"1\" colname=\"col2\">(zukünftig in Kraft)</entry></row><row><entry VJ=\"1\" colname=\"col1\">§ 21</entry><entry VJ=\"1\" colname=\"col2\">(zukünftig in Kraft)</entry></row><row><entry VJ=\"1\" colname=\"col1\">§ 22</entry><entry VJ=\"1\" colname=\"col2\">(zukünftig in Kraft)</entry></row><row><entry VJ=\"1\" colname=\"col1\">§ 23</entry><entry VJ=\"1\" colname=\"col2\">(zukünftig in Kraft)</entry></row><row><entry VJ=\"1\" colname=\"col1\">§ 24</entry><entry VJ=\"1\" colname=\"col2\">(zukünftig in Kraft)</entry></row><row><entry VJ=\"1\" colname=\"col1\">§ 25</entry><entry VJ=\"1\" colname=\"col2\">(zukünftig in Kraft)</entry></row></tbody></tgroup></table><P/><Ident Class=\"S0\">Unterabschnitt 3</Ident><P/><Title Align=\"auto\" Class=\"S0\">(zukünftig in Kraft)</Title><P/><table colsep=\"0\" frame=\"none\" pgwide=\"1\" rowsep=\"0\" tocentry=\"%yes;\"><tgroup align=\"left\" char=\"\" charoff=\"50\" cols=\"2\"><colspec colname=\"col1\" colwidth=\"10*\"/><colspec colname=\"col2\" colwidth=\"70*\"/><tbody valign=\"top\"><row><entry VJ=\"1\" colname=\"col1\">§ 26</entry><entry VJ=\"1\" colname=\"col2\">(zukünftig in Kraft)</entry></row><row><entry VJ=\"1\" colname=\"col1\">§ 27</entry><entry VJ=\"1\" colname=\"col2\">(zukünftig in Kraft)</entry></row></tbody></tgroup></table><P/><Ident Class=\"S2\">Kapitel 4</Ident><P/><Title Align=\"auto\" Class=\"S2\">(zukünftig in Kraft)</Title><P/><table colsep=\"0\" frame=\"none\" pgwide=\"1\" rowsep=\"0\" tocentry=\"%yes;\"><tgroup align=\"left\" char=\"\" charoff=\"50\" cols=\"2\"><colspec colname=\"col1\" colwidth=\"10*\"/><colspec colname=\"col2\" colwidth=\"70*\"/><tbody valign=\"top\"><row><entry VJ=\"1\" colname=\"col1\">§ 28</entry><entry VJ=\"1\" colname=\"col2\">(zukünftig in Kraft)</entry></row><row><entry VJ=\"1\" colname=\"col1\">§ 29</entry><entry VJ=\"1\" colname=\"col2\">(zukünftig in Kraft)</entry></row><row><entry VJ=\"1\" colname=\"col1\">§ 30</entry><entry VJ=\"1\" colname=\"col2\">(zukünftig in Kraft)</entry></row><row><entry VJ=\"1\" colname=\"col1\">§ 31</entry><entry VJ=\"1\" colname=\"col2\">(zukünftig in Kraft)</entry></row></tbody></tgroup><tgroup align=\"left\" char=\"\" charoff=\"50\" cols=\"2\"><colspec colname=\"col1\" colwidth=\"10*\"/><colspec colname=\"col2\" colwidth=\"70*\"/><tbody valign=\"top\"><row><entry VJ=\"1\" colname=\"col1\">§ 32</entry><entry VJ=\"1\" colname=\"col2\">(zukünftig in Kraft)</entry></row></tbody></tgroup></table><P/><Ident Class=\"S2\">Kapitel 5</Ident><P/><Title Align=\"auto\" Class=\"S2\">(zukünftig in Kraft)</Title><P/><table colsep=\"0\" frame=\"none\" pgwide=\"1\" rowsep=\"0\" tocentry=\"%yes;\"><tgroup align=\"left\" char=\"\" charoff=\"50\" cols=\"2\"><colspec colname=\"col1\" colwidth=\"10*\"/><colspec colname=\"col2\" colwidth=\"70*\"/><tbody valign=\"top\"><row><entry VJ=\"1\" colname=\"col1\">§ 33</entry><entry VJ=\"1\" colname=\"col2\">(zukünftig in Kraft)</entry></row><row><entry VJ=\"1\" colname=\"col1\">§ 34</entry><entry VJ=\"1\" colname=\"col2\">(zukünftig in Kraft)</entry></row><row><entry VJ=\"1\" colname=\"col1\">§ 35</entry><entry VJ=\"1\" colname=\"col2\">(zukünftig in Kraft)</entry></row><row><entry VJ=\"1\" colname=\"col1\">§ 36</entry><entry VJ=\"1\" colname=\"col2\">(zukünftig in Kraft)</entry></row></tbody></tgroup></table><P/><Ident Class=\"S2\">Kapitel 6</Ident><P/><Title Align=\"auto\" Class=\"S2\">(zukünftig in Kraft)</Title><P/><table colsep=\"0\" frame=\"none\" pgwide=\"1\" rowsep=\"0\" tocentry=\"%yes;\"><tgroup align=\"left\" char=\"\" charoff=\"50\" cols=\"2\"><colspec colname=\"col1\" colwidth=\"10*\"/><colspec colname=\"col2\" colwidth=\"70*\"/><tbody valign=\"top\"><row><entry VJ=\"1\" colname=\"col1\">§ 37</entry><entry VJ=\"1\" colname=\"col2\">(zukünftig in Kraft)</entry></row><row><entry VJ=\"1\" colname=\"col1\">§ 38</entry><entry VJ=\"1\" colname=\"col2\">(zukünftig in Kraft)</entry></row><row><entry VJ=\"1\" colname=\"col1\">§ 39</entry><entry VJ=\"1\" colname=\"col2\">(zukünftig in Kraft)</entry></row><row><entry VJ=\"1\" colname=\"col1\">§ 40</entry><entry VJ=\"1\" colname=\"col2\">(zukünftig in Kraft)</entry></row><row><entry VJ=\"1\" colname=\"col1\">§ 41</entry><entry VJ=\"1\" colname=\"col2\">(zukünftig in Kraft)</entry></row></tbody></tgroup></table><P/><Ident Class=\"S2\">Kapitel 7</Ident><P/><Title Align=\"auto\" Class=\"S2\">(zukünftig in Kraft)</Title><P/><table colsep=\"0\" frame=\"none\" pgwide=\"1\" rowsep=\"0\" tocentry=\"%yes;\"><tgroup align=\"left\" char=\"\" charoff=\"50\" cols=\"2\"><colspec colname=\"col1\" colwidth=\"10*\"/><colspec colname=\"col2\" colwidth=\"70*\"/><tbody valign=\"top\"><row><entry VJ=\"1\" colname=\"col1\">§ 42</entry><entry VJ=\"1\" colname=\"col2\">(zukünftig in Kraft)</entry></row><row><entry VJ=\"1\" colname=\"col1\">§ 43</entry><entry VJ=\"1\" colname=\"col2\">(zukünftig in Kraft)</entry></row><row><entry VJ=\"1\" colname=\"col1\">§ 44</entry><entry VJ=\"1\" colname=\"col2\">(zukünftig in Kraft)</entry></row><row><entry VJ=\"1\" colname=\"col1\">§ 45</entry><entry VJ=\"1\" colname=\"col2\">(zukünftig in Kraft)</entry></row><row><entry VJ=\"1\" colname=\"col1\">§ 46</entry><entry VJ=\"1\" colname=\"col2\">(zukünftig in Kraft)</entry></row></tbody></tgroup></table><P/><Ident Class=\"S2\">Kapitel 8</Ident><P/><Title Align=\"auto\" Class=\"S2\">(zukünftig in Kraft)</Title><P/><table colsep=\"0\" frame=\"none\" pgwide=\"1\" rowsep=\"0\" tocentry=\"%yes;\"><tgroup align=\"left\" char=\"\" charoff=\"50\" cols=\"2\"><colspec colname=\"col1\" colwidth=\"10*\"/><colspec colname=\"col2\" colwidth=\"70*\"/><tbody valign=\"top\"><row><entry VJ=\"1\" colname=\"col1\">§ 47</entry><entry VJ=\"1\" colname=\"col2\">(zukünftig in Kraft)</entry></row><row><entry VJ=\"1\" colname=\"col1\">§ 48</entry><entry VJ=\"1\" colname=\"col2\">(zukünftig in Kraft)</entry></row></tbody></tgroup></table><P/><Ident Class=\"S2\">Kapitel 9</Ident><P/><Title Align=\"auto\" Class=\"S2\">(zukünftig in Kraft)</Title><P/><table colsep=\"0\" frame=\"none\" pgwide=\"1\" rowsep=\"0\" tocentry=\"%yes;\"><tgroup align=\"left\" char=\"\" charoff=\"50\" cols=\"2\"><colspec colname=\"col1\" colwidth=\"10*\"/><colspec colname=\"col2\" colwidth=\"70*\"/><tbody valign=\"top\"><row><entry VJ=\"1\" colname=\"col1\">§ 49</entry><entry VJ=\"1\" colname=\"col2\">(zukünftig in Kraft)</entry></row></tbody></tgroup></table><P/><Ident Class=\"S2\">Kapitel 10</Ident><P/><Title Align=\"auto\" Class=\"S2\">(zukünftig in Kraft)</Title><P/><table colsep=\"0\" frame=\"none\" pgwide=\"1\" rowsep=\"0\" tocentry=\"%yes;\"><tgroup align=\"left\" char=\"\" charoff=\"50\" cols=\"2\"><colspec colname=\"col1\" colwidth=\"10*\"/><colspec colname=\"col2\" colwidth=\"70*\"/><tbody valign=\"top\"><row><entry VJ=\"1\" colname=\"col1\">§ 50</entry><entry VJ=\"1\" colname=\"col2\">(zukünftig in Kraft)</entry></row><row><entry VJ=\"1\" colname=\"col1\">§ 51</entry><entry VJ=\"1\" colname=\"col2\">(zukünftig in Kraft)</entry></row><row><entry VJ=\"1\" colname=\"col1\">§ 52</entry><entry VJ=\"1\" colname=\"col2\">(zukünftig in Kraft)</entry></row><row><entry VJ=\"1\" colname=\"col1\">§ 53</entry><entry VJ=\"1\" colname=\"col2\">(zukünftig in Kraft)</entry></row><row><entry VJ=\"1\" colname=\"col1\">§ 54</entry><entry VJ=\"1\" colname=\"col2\">(zukünftig in Kraft)</entry></row><row><entry VJ=\"1\" colname=\"col1\">§ 55</entry><entry VJ=\"1\" colname=\"col2\">(zukünftig in Kraft)</entry></row><row><entry VJ=\"1\" colname=\"col1\">§ 56</entry><entry VJ=\"1\" colname=\"col2\">(zukünftig in Kraft)</entry></row></tbody></tgroup></table><P/><Ident Class=\"S2\">Kapitel 11</Ident><P/><Title Align=\"auto\" Class=\"S2\">(zukünftig in Kraft)</Title><P/><table colsep=\"0\" frame=\"none\" pgwide=\"1\" rowsep=\"0\" tocentry=\"%yes;\"><tgroup align=\"left\" char=\"\" charoff=\"50\" cols=\"2\"><colspec colname=\"col1\" colwidth=\"10*\"/><colspec colname=\"col2\" colwidth=\"70*\"/><tbody valign=\"top\"><row><entry VJ=\"1\" colname=\"col1\">§ 57</entry><entry VJ=\"1\" colname=\"col2\">(zukünftig in Kraft)</entry></row></tbody></tgroup></table><P/><Ident Class=\"S2\">Kapitel 12</Ident><P/><Title Align=\"auto\" Class=\"S2\">(zukünftig in Kraft)</Title><P/><table colsep=\"0\" frame=\"none\" pgwide=\"1\" rowsep=\"0\" tocentry=\"%yes;\"><tgroup align=\"left\" char=\"\" charoff=\"50\" cols=\"2\"><colspec colname=\"col1\" colwidth=\"10*\"/><colspec colname=\"col2\" colwidth=\"70*\"/><tbody valign=\"top\"><row><entry VJ=\"1\" colname=\"col1\">§ 58</entry><entry VJ=\"1\" colname=\"col2\">(zukünftig in Kraft)</entry></row><row><entry VJ=\"1\" colname=\"col1\">§ 59</entry><entry VJ=\"1\" colname=\"col2\">(zukünftig in Kraft)</entry></row><row><entry VJ=\"1\" colname=\"col1\">§ 60</entry><entry VJ=\"1\" colname=\"col2\">(zukünftig in Kraft)</entry></row><row><entry VJ=\"1\" colname=\"col1\">§ 61</entry><entry VJ=\"1\" colname=\"col2\">(zukünftig in Kraft)</entry></row><row><entry VJ=\"1\" colname=\"col1\">§ 62</entry><entry VJ=\"1\" colname=\"col2\">(zukünftig in Kraft)</entry></row><row><entry VJ=\"1\" colname=\"col1\">§ 63</entry><entry VJ=\"1\" colname=\"col2\">(zukünftig in Kraft)</entry></row><row><entry VJ=\"1\" colname=\"col1\">§ 64</entry><entry VJ=\"1\" colname=\"col2\">(zukünftig in Kraft)</entry></row><row><entry VJ=\"1\" colname=\"col1\">§ 65</entry><entry VJ=\"1\" colname=\"col2\">(zukünftig in Kraft)</entry></row><row><entry VJ=\"1\" colname=\"col1\">§ 66</entry><entry VJ=\"1\" colname=\"col2\">(zukünftig in Kraft)</entry></row><row><entry VJ=\"1\" colname=\"col1\">§ 67</entry><entry VJ=\"1\" colname=\"col2\">(zukünftig in Kraft)</entry></row><row><entry VJ=\"1\" colname=\"col1\">§ 68</entry><entry VJ=\"1\" colname=\"col2\">(zukünftig in Kraft)</entry></row><row><entry VJ=\"1\" colname=\"col1\">§ 69</entry><entry VJ=\"1\" colname=\"col2\">(zukünftig in Kraft)</entry></row><row><entry VJ=\"1\" colname=\"col1\">§ 70</entry><entry VJ=\"1\" colname=\"col2\">(zukünftig in Kraft)</entry></row></tbody></tgroup><tgroup align=\"left\" char=\"\" charoff=\"50\" cols=\"2\"><colspec colname=\"col1\" colwidth=\"10*\"/><colspec colname=\"col2\" colwidth=\"70*\"/><tbody valign=\"top\"><row><entry VJ=\"1\" colname=\"col1\">§ 71</entry><entry VJ=\"1\" colname=\"col2\">(zukünftig in Kraft)</entry></row><row><entry VJ=\"1\" colname=\"col1\">§ 72</entry><entry VJ=\"1\" colname=\"col2\">(zukünftig in Kraft)</entry></row></tbody></tgroup></table><P/><Ident Class=\"S2\">Kapitel 13</Ident><P/><Title Align=\"auto\" Class=\"S2\">(zukünftig in Kraft)</Title><P/><table colsep=\"0\" frame=\"none\" pgwide=\"1\" rowsep=\"0\" tocentry=\"%yes;\"><tgroup align=\"left\" char=\"\" charoff=\"50\" cols=\"2\"><colspec colname=\"col1\" colwidth=\"10*\"/><colspec colname=\"col2\" colwidth=\"70*\"/><tbody valign=\"top\"><row><entry VJ=\"1\" colname=\"col1\">§ 73</entry><entry VJ=\"1\" colname=\"col2\">(zukünftig in Kraft)</entry></row><row><entry VJ=\"1\" colname=\"col1\">§ 74</entry><entry VJ=\"1\" colname=\"col2\">(zukünftig in Kraft)</entry></row><row><entry VJ=\"1\" colname=\"col1\">§ 75</entry><entry VJ=\"1\" colname=\"col2\">(zukünftig in Kraft)</entry></row><row><entry VJ=\"1\" colname=\"col1\">§ 76</entry><entry VJ=\"1\" colname=\"col2\">(zukünftig in Kraft)</entry></row><row><entry VJ=\"1\" colname=\"col1\">§ 77</entry><entry VJ=\"1\" colname=\"col2\">(zukünftig in Kraft)</entry></row><row><entry VJ=\"1\" colname=\"col1\">§ 78</entry><entry VJ=\"1\" colname=\"col2\">(zukünftig in Kraft)</entry></row></tbody></tgroup></table><P/><Ident Class=\"S2\">Kapitel 14</Ident><P/><Title Align=\"auto\" Class=\"S2\">(zukünftig in Kraft)</Title><P/><table colsep=\"0\" frame=\"none\" pgwide=\"1\" rowsep=\"0\" tocentry=\"%yes;\"><tgroup align=\"left\" char=\"\" charoff=\"50\" cols=\"2\"><colspec colname=\"col1\" colwidth=\"10*\"/><colspec colname=\"col2\" colwidth=\"70*\"/><tbody valign=\"top\"><row><entry VJ=\"1\" colname=\"col1\">§ 79</entry><entry VJ=\"1\" colname=\"col2\">(zukünftig in Kraft)</entry></row></tbody></tgroup></table><P/><Ident Class=\"S2\">Kapitel 15</Ident><P/><Title Align=\"auto\" Class=\"S2\">(zukünftig in Kraft)</Title><P/><table colsep=\"0\" frame=\"none\" pgwide=\"1\" rowsep=\"0\" tocentry=\"%yes;\"><tgroup align=\"left\" char=\"\" charoff=\"50\" cols=\"2\"><colspec colname=\"col1\" colnum=\"1\" colwidth=\"10*\"/><colspec colname=\"col2\" colnum=\"2\" colwidth=\"70*\"/><tbody valign=\"top\"><row><entry VJ=\"1\" colname=\"col1\">§ 80</entry><entry VJ=\"1\" colname=\"col2\">(zukünftig in Kraft)</entry></row><row><entry VJ=\"1\" colname=\"col1\">§ 81</entry><entry VJ=\"1\" colname=\"col2\">(zukünftig in Kraft)</entry></row><row><entry VJ=\"1\" colname=\"col1\">§ 82</entry><entry VJ=\"1\" colname=\"col2\">(zukünftig in Kraft)</entry></row><row><entry VJ=\"1\" colname=\"col1\">§ 83</entry><entry VJ=\"1\" colname=\"col2\">(zukünftig in Kraft)</entry></row><row><entry VJ=\"1\" colname=\"col1\">§ 84</entry><entry VJ=\"1\" colname=\"col2\">(zukünftig in Kraft)</entry></row><row><entry VJ=\"1\" colname=\"col1\">§ 85</entry><entry VJ=\"1\" colname=\"col2\">(zukünftig in Kraft)</entry></row><row><entry VJ=\"1\" colname=\"col1\">§ 86</entry><entry VJ=\"1\" colname=\"col2\">(zukünftig in Kraft)</entry></row><row><entry VJ=\"1\" colname=\"col1\">§ 87</entry><entry VJ=\"1\" colname=\"col2\">(zukünftig in Kraft)</entry></row></tbody></tgroup></table></TOC>',\n",
       " 'title': None,\n",
       " 'footnotes': None}"
      ]
     },
     "execution_count": 162,
     "metadata": {},
     "output_type": "execute_result"
    }
   ],
   "source": [
    "source_laws[0]"
   ]
  },
  {
   "cell_type": "code",
   "execution_count": null,
   "id": "da7eee66-9183-4867-9a92-7aef69cc62e5",
   "metadata": {},
   "outputs": [],
   "source": []
  }
 ],
 "metadata": {
  "kernelspec": {
   "display_name": "Python 3 (ipykernel)",
   "language": "python",
   "name": "python3"
  },
  "language_info": {
   "codemirror_mode": {
    "name": "ipython",
    "version": 3
   },
   "file_extension": ".py",
   "mimetype": "text/x-python",
   "name": "python",
   "nbconvert_exporter": "python",
   "pygments_lexer": "ipython3",
   "version": "3.9.5"
  }
 },
 "nbformat": 4,
 "nbformat_minor": 5
}
